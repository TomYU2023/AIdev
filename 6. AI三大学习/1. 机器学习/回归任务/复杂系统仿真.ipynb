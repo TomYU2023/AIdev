{
 "cells": [
  {
   "cell_type": "markdown",
   "id": "2469e321",
   "metadata": {},
   "source": [
    "# 1. 求解一阶微分方程"
   ]
  },
  {
   "cell_type": "code",
   "execution_count": 165,
   "id": "8431e446",
   "metadata": {},
   "outputs": [],
   "source": [
    "import numpy as np # numpy库用于数组计算\n",
    "from scipy.integrate import odeint # scipy库用于数学运算\n",
    "import matplotlib.pyplot as plt # 画图"
   ]
  },
  {
   "cell_type": "code",
   "execution_count": 166,
   "id": "749a76b5",
   "metadata": {},
   "outputs": [
    {
     "name": "stdout",
     "output_type": "stream",
     "text": [
      "2\n"
     ]
    }
   ],
   "source": [
    "def diff_equation(x, y): # 定义一个二元函数\n",
    "    return np.array(y) # 直接返回数组y\n",
    "\n",
    "print(diff_equation(1, 2))"
   ]
  },
  {
   "cell_type": "markdown",
   "id": "9818c200",
   "metadata": {},
   "source": [
    "#### 单变量情况\n",
    "若 `y` 是一个标量，那么函数 `diff_equation` 对应的一阶常微分方程是：\n",
    "$\\frac{dy}{dx}=y$\n",
    "这是一个非常典型的一阶线性常微分方程，它的通解为 $y = Ce^x$，其中 $C$ 是由初始条件决定的常数。\n",
    "\n",
    "#### 多变量情况\n",
    "若 `y` 是一个数组，例如 `y = [y1, y2, ..., yn]`，那么对应的就是一个一阶常微分方程组，其形式为：\n",
    "$\\begin{cases}\n",
    "\\frac{dy_1}{dx}=y_1\\\\\n",
    "\\frac{dy_2}{dx}=y_2\\\\\n",
    "\\cdots\\\\\n",
    "\\frac{dy_n}{dx}=y_n\n",
    "\\end{cases}$\n",
    "这个方程组中每个方程都是独立的一阶线性常微分方程，每个方程的通解分别为 $y_i = C_ie^x$，其中 $i = 1,2,\\cdots,n$，$C_i$ 是由初始条件决定的常数。\n"
   ]
  },
  {
   "cell_type": "code",
   "execution_count": 167,
   "id": "50d0c236",
   "metadata": {},
   "outputs": [
    {
     "data": {
      "text/plain": [
       "array([0.        , 0.01010101, 0.02020202, 0.03030303, 0.04040404,\n",
       "       0.05050505, 0.06060606, 0.07070707, 0.08080808, 0.09090909,\n",
       "       0.1010101 , 0.11111111, 0.12121212, 0.13131313, 0.14141414,\n",
       "       0.15151515, 0.16161616, 0.17171717, 0.18181818, 0.19191919,\n",
       "       0.2020202 , 0.21212121, 0.22222222, 0.23232323, 0.24242424,\n",
       "       0.25252525, 0.26262626, 0.27272727, 0.28282828, 0.29292929,\n",
       "       0.3030303 , 0.31313131, 0.32323232, 0.33333333, 0.34343434,\n",
       "       0.35353535, 0.36363636, 0.37373737, 0.38383838, 0.39393939,\n",
       "       0.4040404 , 0.41414141, 0.42424242, 0.43434343, 0.44444444,\n",
       "       0.45454545, 0.46464646, 0.47474747, 0.48484848, 0.49494949,\n",
       "       0.50505051, 0.51515152, 0.52525253, 0.53535354, 0.54545455,\n",
       "       0.55555556, 0.56565657, 0.57575758, 0.58585859, 0.5959596 ,\n",
       "       0.60606061, 0.61616162, 0.62626263, 0.63636364, 0.64646465,\n",
       "       0.65656566, 0.66666667, 0.67676768, 0.68686869, 0.6969697 ,\n",
       "       0.70707071, 0.71717172, 0.72727273, 0.73737374, 0.74747475,\n",
       "       0.75757576, 0.76767677, 0.77777778, 0.78787879, 0.7979798 ,\n",
       "       0.80808081, 0.81818182, 0.82828283, 0.83838384, 0.84848485,\n",
       "       0.85858586, 0.86868687, 0.87878788, 0.88888889, 0.8989899 ,\n",
       "       0.90909091, 0.91919192, 0.92929293, 0.93939394, 0.94949495,\n",
       "       0.95959596, 0.96969697, 0.97979798, 0.98989899, 1.        ])"
      ]
     },
     "execution_count": 167,
     "metadata": {},
     "output_type": "execute_result"
    }
   ],
   "source": [
    "x = np.linspace(0, 1, num = 100) # 从0开始到1为止，生成比例相等的100个数的行向量\n",
    "x"
   ]
  },
  {
   "cell_type": "code",
   "execution_count": 168,
   "id": "9b9a30b0",
   "metadata": {},
   "outputs": [
    {
     "name": "stdout",
     "output_type": "stream",
     "text": [
      "[[1.        ]\n",
      " [1.00005102]\n",
      " [1.00020406]\n",
      " [1.00045914]\n",
      " [1.00081624]\n",
      " [1.00127538]\n",
      " [1.00183655]\n",
      " [1.00249974]\n",
      " [1.00326497]\n",
      " [1.00413223]\n",
      " [1.00510152]\n",
      " [1.00617284]\n",
      " [1.00734619]\n",
      " [1.00862157]\n",
      " [1.00999898]\n",
      " [1.01147842]\n",
      " [1.01305989]\n",
      " [1.01474339]\n",
      " [1.01652893]\n",
      " [1.01841649]\n",
      " [1.02040608]\n",
      " [1.0224977 ]\n",
      " [1.02469136]\n",
      " [1.02698704]\n",
      " [1.02938476]\n",
      " [1.0318845 ]\n",
      " [1.03448628]\n",
      " [1.03719008]\n",
      " [1.03999592]\n",
      " [1.04290379]\n",
      " [1.04591368]\n",
      " [1.04902561]\n",
      " [1.05223957]\n",
      " [1.05555556]\n",
      " [1.05897357]\n",
      " [1.06249362]\n",
      " [1.0661157 ]\n",
      " [1.06983981]\n",
      " [1.07366595]\n",
      " [1.07759412]\n",
      " [1.08162432]\n",
      " [1.08575656]\n",
      " [1.08999082]\n",
      " [1.09432711]\n",
      " [1.09876543]\n",
      " [1.10330579]\n",
      " [1.10794817]\n",
      " [1.11269258]\n",
      " [1.11753903]\n",
      " [1.1224875 ]\n",
      " [1.12753801]\n",
      " [1.13269054]\n",
      " [1.13794511]\n",
      " [1.1433017 ]\n",
      " [1.14876033]\n",
      " [1.15432099]\n",
      " [1.15998368]\n",
      " [1.16574839]\n",
      " [1.17161514]\n",
      " [1.17758392]\n",
      " [1.18365473]\n",
      " [1.18982757]\n",
      " [1.19610244]\n",
      " [1.20247934]\n",
      " [1.20895827]\n",
      " [1.21553923]\n",
      " [1.22222222]\n",
      " [1.22900724]\n",
      " [1.2358943 ]\n",
      " [1.24288338]\n",
      " [1.24997449]\n",
      " [1.25716764]\n",
      " [1.26446281]\n",
      " [1.27186001]\n",
      " [1.27935925]\n",
      " [1.28696051]\n",
      " [1.29466381]\n",
      " [1.30246914]\n",
      " [1.31037649]\n",
      " [1.31838588]\n",
      " [1.3264973 ]\n",
      " [1.33471074]\n",
      " [1.34302622]\n",
      " [1.35144373]\n",
      " [1.35996327]\n",
      " [1.36858484]\n",
      " [1.37730844]\n",
      " [1.38613407]\n",
      " [1.39506173]\n",
      " [1.40409142]\n",
      " [1.41322314]\n",
      " [1.42245689]\n",
      " [1.43179267]\n",
      " [1.44123049]\n",
      " [1.45077033]\n",
      " [1.4604122 ]\n",
      " [1.47015611]\n",
      " [1.48000204]\n",
      " [1.48995001]\n",
      " [1.5       ]]\n",
      "100\n"
     ]
    }
   ],
   "source": [
    "result = odeint(diff_equation, 1, x) # 求解常微分方程组中的100个导数，求解方程，因变量，自变量\n",
    "print(result) # 得到列向量\n",
    "print(len(result)) # 查看有多少个结果"
   ]
  },
  {
   "cell_type": "code",
   "execution_count": 169,
   "id": "bf01c125",
   "metadata": {},
   "outputs": [
    {
     "data": {
      "image/png": "[encoded data removed]",
      "text/plain": [
       "<Figure size 640x480 with 1 Axes>"
      ]
     },
     "metadata": {},
     "output_type": "display_data"
    }
   ],
   "source": [
    "plt.plot(x, result[:, 0]) # 自动分割x为x轴长度，y轴为result的值，不写[:, 0]其实也行\n",
    "plt.grid() # 画网格\n",
    "plt.show() # 打印图"
   ]
  },
  {
   "cell_type": "markdown",
   "id": "dd830082",
   "metadata": {},
   "source": [
    "---"
   ]
  },
  {
   "cell_type": "markdown",
   "id": "e555f782",
   "metadata": {},
   "source": [
    "# 2. 求解二阶微分方程"
   ]
  },
  {
   "cell_type": "code",
   "execution_count": 170,
   "id": "44d7ea63",
   "metadata": {},
   "outputs": [],
   "source": [
    "import numpy as np # 数组\n",
    "from scipy.integrate import odeint # 求微分方程\n",
    "import matplotlib.pyplot as plt # 画图\n"
   ]
  },
  {
   "cell_type": "code",
   "execution_count": 171,
   "id": "2f371412",
   "metadata": {},
   "outputs": [
    {
     "name": "stdout",
     "output_type": "stream",
     "text": [
      "[ 2 -1]\n"
     ]
    }
   ],
   "source": [
    "def diff_equation(y_lsit, x): # 定义方程参数\n",
    "    y, z = y_lsit # 定义函数体\n",
    "    return np.array([z, -y]) # 返回结果是一个数组\n",
    "\n",
    "print(diff_equation([1, 2], 2))"
   ]
  },
  {
   "cell_type": "markdown",
   "id": "42bb2962",
   "metadata": {},
   "source": [
    "### 对应的数学表达式\n",
    "在使用 `scipy.integrate.odeint` 这类工具求解常微分方程时，函数 `diff_equation` 通常是用来描述一个常微分方程组。\n",
    "\n",
    "设 $y$ 和 $z$ 是关于自变量 $x$ 的函数，即 $y = y(x)$，$z = z(x)$。根据代码中函数的返回值，可以得到如下的一阶常微分方程组：\n",
    "\n",
    "$$\n",
    "\\begin{cases}\n",
    "\\frac{dy}{dx}=z \\\\\n",
    "\\frac{dz}{dx}=-y\n",
    "\\end{cases}\n",
    "$$\n",
    "\n",
    "这个方程组可以进一步转化为一个二阶常微分方程。对第一个方程 $\\frac{dy}{dx}=z$ 两边关于 $x$ 求导，根据复合函数求导法则可得：\n",
    "\n",
    "$\\frac{d^2y}{dx^2}=\\frac{dz}{dx}$\n",
    "\n",
    "再把第二个方程 $\\frac{dz}{dx}=-y$ 代入上式，就得到二阶常微分方程：\n",
    "\n",
    "$\\frac{d^2y}{dx^2}+y = 0$\n",
    "\n",
    "这个二阶常微分方程是一个常见的简谐振动方程，其通解为 $y(x)=C_1\\cos x + C_2\\sin x$，其中 $C_1$ 和 $C_2$ 是由初始条件确定的常数。\n",
    "\n",
    "综上所述，`diff_equation` 函数对应的数学表达式既可以表示为一阶常微分方程组 $\\begin{cases}\\frac{dy}{dx}=z \\\\ \\frac{dz}{dx}=-y\\end{cases}$，也可以表示为二阶常微分方程 $\\frac{d^2y}{dx^2}+y = 0$。 "
   ]
  },
  {
   "cell_type": "code",
   "execution_count": 172,
   "id": "562f93da",
   "metadata": {},
   "outputs": [
    {
     "data": {
      "text/plain": [
       "array([0.        , 0.06346652, 0.12693304, 0.19039955, 0.25386607,\n",
       "       0.31733259, 0.38079911, 0.44426563, 0.50773215, 0.57119866,\n",
       "       0.63466518, 0.6981317 , 0.76159822, 0.82506474, 0.88853126,\n",
       "       0.95199777, 1.01546429, 1.07893081, 1.14239733, 1.20586385,\n",
       "       1.26933037, 1.33279688, 1.3962634 , 1.45972992, 1.52319644,\n",
       "       1.58666296, 1.65012947, 1.71359599, 1.77706251, 1.84052903,\n",
       "       1.90399555, 1.96746207, 2.03092858, 2.0943951 , 2.15786162,\n",
       "       2.22132814, 2.28479466, 2.34826118, 2.41172769, 2.47519421,\n",
       "       2.53866073, 2.60212725, 2.66559377, 2.72906028, 2.7925268 ,\n",
       "       2.85599332, 2.91945984, 2.98292636, 3.04639288, 3.10985939,\n",
       "       3.17332591, 3.23679243, 3.30025895, 3.36372547, 3.42719199,\n",
       "       3.4906585 , 3.55412502, 3.61759154, 3.68105806, 3.74452458,\n",
       "       3.8079911 , 3.87145761, 3.93492413, 3.99839065, 4.06185717,\n",
       "       4.12532369, 4.1887902 , 4.25225672, 4.31572324, 4.37918976,\n",
       "       4.44265628, 4.5061228 , 4.56958931, 4.63305583, 4.69652235,\n",
       "       4.75998887, 4.82345539, 4.88692191, 4.95038842, 5.01385494,\n",
       "       5.07732146, 5.14078798, 5.2042545 , 5.26772102, 5.33118753,\n",
       "       5.39465405, 5.45812057, 5.52158709, 5.58505361, 5.64852012,\n",
       "       5.71198664, 5.77545316, 5.83891968, 5.9023862 , 5.96585272,\n",
       "       6.02931923, 6.09278575, 6.15625227, 6.21971879, 6.28318531])"
      ]
     },
     "execution_count": 172,
     "metadata": {},
     "output_type": "execute_result"
    }
   ],
   "source": [
    "x = np.linspace(0, np.pi*2, num = 100) # 0开始pi乘2结束的100个等差数列\n",
    "x"
   ]
  },
  {
   "cell_type": "code",
   "execution_count": 173,
   "id": "71e1a047",
   "metadata": {},
   "outputs": [
    {
     "name": "stdout",
     "output_type": "stream",
     "text": [
      "[[ 1.          1.        ]\n",
      " [ 1.06141062  0.93456275]\n",
      " [ 1.11854729  0.86536234]\n",
      " [ 1.17117996  0.79267743]\n",
      " [ 1.21909671  0.71680069]\n",
      " [ 1.26210459  0.63803763]\n",
      " [ 1.3000304   0.55670545]\n",
      " [ 1.33272145  0.4731316 ]\n",
      " [ 1.36004611  0.38765261]\n",
      " [ 1.38189434  0.30061268]\n",
      " [ 1.39817818  0.2123623 ]\n",
      " [ 1.40883203  0.1232568 ]\n",
      " [ 1.41381301  0.03365499]\n",
      " [ 1.41310109 -0.05608232]\n",
      " [ 1.40669911 -0.14559382]\n",
      " [ 1.39463284 -0.23451906]\n",
      " [ 1.37695088 -0.32249997]\n",
      " [ 1.35372442 -0.4091823 ]\n",
      " [ 1.32504699 -0.49421699]\n",
      " [ 1.29103406 -0.57726164]\n",
      " [ 1.2518226  -0.65798186]\n",
      " [ 1.20757049 -0.73605263]\n",
      " [ 1.15845591 -0.81115957]\n",
      " [ 1.10467665 -0.88300025]\n",
      " [ 1.04644924 -0.95128541]\n",
      " [ 0.98400815 -1.01574008]\n",
      " [ 0.91760481 -1.07610471]\n",
      " [ 0.8475066  -1.13213626]\n",
      " [ 0.77399578 -1.18360909]\n",
      " [ 0.69736835 -1.23031595]\n",
      " [ 0.61793286 -1.27206876]\n",
      " [ 0.53600918 -1.30869939]\n",
      " [ 0.45192717 -1.34006036]\n",
      " [ 0.36602542 -1.36602538]\n",
      " [ 0.27864981 -1.38648989]\n",
      " [ 0.19015218 -1.4013715 ]\n",
      " [ 0.10088888 -1.41061028]\n",
      " [ 0.01121932 -1.41416903]\n",
      " [-0.07849541 -1.41203343]\n",
      " [-0.16789407 -1.40421207]\n",
      " [-0.25661669 -1.39073644]\n",
      " [-0.34430599 -1.3716608 ]\n",
      " [-0.4306089  -1.34706197]\n",
      " [-0.5151779  -1.317039  ]\n",
      " [-0.59767245 -1.28171277]\n",
      " [-0.67776039 -1.24122554]\n",
      " [-0.75511923 -1.19574033]\n",
      " [-0.82943747 -1.1454403 ]\n",
      " [-0.90041586 -1.09052798]\n",
      " [-0.96776859 -1.0312245 ]\n",
      " [-1.03122446 -0.96776863]\n",
      " [-1.09052795 -0.90041591]\n",
      " [-1.14544027 -0.82943752]\n",
      " [-1.19574031 -0.75511928]\n",
      " [-1.24122552 -0.67776045]\n",
      " [-1.28171276 -0.59767251]\n",
      " [-1.31703899 -0.51517795]\n",
      " [-1.34706197 -0.43060896]\n",
      " [-1.37166081 -0.34430605]\n",
      " [-1.39073645 -0.25661675]\n",
      " [-1.40421209 -0.16789414]\n",
      " [-1.41203346 -0.07849548]\n",
      " [-1.41416907  0.01121925]\n",
      " [-1.41061032  0.10088881]\n",
      " [-1.40137155  0.19015212]\n",
      " [-1.38648994  0.27864976]\n",
      " [-1.36602543  0.36602538]\n",
      " [-1.34006041  0.45192714]\n",
      " [-1.30869945  0.53600914]\n",
      " [-1.27206881  0.61793283]\n",
      " [-1.230316    0.69736832]\n",
      " [-1.18360915  0.77399576]\n",
      " [-1.13213631  0.84750659]\n",
      " [-1.07610477  0.9176048 ]\n",
      " [-1.01574013  0.98400815]\n",
      " [-0.95128546  1.04644924]\n",
      " [-0.88300031  1.10467665]\n",
      " [-0.81115962  1.15845592]\n",
      " [-0.73605268  1.20757049]\n",
      " [-0.65798192  1.25182261]\n",
      " [-0.57726169  1.29103407]\n",
      " [-0.49421704  1.325047  ]\n",
      " [-0.40918235  1.35372443]\n",
      " [-0.32250002  1.3769509 ]\n",
      " [-0.2345191   1.39463287]\n",
      " [-0.14559385  1.40669914]\n",
      " [-0.05608235  1.41310114]\n",
      " [ 0.03365498  1.41381307]\n",
      " [ 0.12325679  1.40883208]\n",
      " [ 0.21236228  1.39817822]\n",
      " [ 0.30061267  1.38189439]\n",
      " [ 0.3876526   1.36004615]\n",
      " [ 0.47313159  1.33272149]\n",
      " [ 0.55670544  1.30003043]\n",
      " [ 0.63803764  1.26210461]\n",
      " [ 0.71680069  1.21909674]\n",
      " [ 0.79267743  1.17118   ]\n",
      " [ 0.86536234  1.11854732]\n",
      " [ 0.93456274  1.06141065]\n",
      " [ 0.99999999  1.00000006]]\n"
     ]
    }
   ],
   "source": [
    "y0 = [1, 1] # 上面定义的公式表示因变量必须是一个列表\n",
    "result = odeint(diff_equation, y0, x) # 求解常微分方程组\n",
    "print(result)"
   ]
  },
  {
   "cell_type": "code",
   "execution_count": 174,
   "id": "1b5fb7f2",
   "metadata": {},
   "outputs": [
    {
     "data": {
      "image/png": "[encoded data removed]",
      "text/plain": [
       "<Figure size 640x480 with 1 Axes>"
      ]
     },
     "metadata": {},
     "output_type": "display_data"
    }
   ],
   "source": [
    "# 设置中文字体（任选一种）\n",
    "# plt.rcParams['font.sans-serif'] = ['SimHei']  # 黑体\n",
    "plt.rcParams['font.sans-serif'] = ['Microsoft YaHei']  # 微软雅黑\n",
    "# plt.rcParams['font.sans-serif'] = ['KaiTi']  # 楷体\n",
    "# plt.rcParams['font.sans-serif'] = ['FangSong']  # 仿宋\n",
    "\n",
    "# 解决负号显示问题\n",
    "plt.rcParams['axes.unicode_minus'] = False\n",
    "\n",
    "plt.plot(x, result[:, 0], label = 'y 值', c = \"red\")\n",
    "plt.plot(x, result[:, 1], label = 'x 值', linestyle = \"--\")\n",
    "plt.legend() # 标签\n",
    "plt.grid()\n",
    "plt.show()"
   ]
  },
  {
   "cell_type": "code",
   "execution_count": 175,
   "id": "880e3f15",
   "metadata": {},
   "outputs": [
    {
     "name": "stdout",
     "output_type": "stream",
     "text": [
      "{x: 46/11, y: 56/11, z: 74/11}\n"
     ]
    }
   ],
   "source": [
    "from sympy import *\n",
    "x = symbols(\"x\")\n",
    "y = symbols(\"y\")\n",
    "z = symbols(\"z\")\n",
    "\n",
    "f1 = 2*x - y + z - 10\n",
    "f2 = 3*x + 2*y - z -16\n",
    "f3 = x + 6*y - z -28\n",
    "\n",
    "print(solve([f1, f2, f3]))"
   ]
  },
  {
   "cell_type": "markdown",
   "id": "a1f0d26c",
   "metadata": {},
   "source": [
    "# 3. 元胞自动机"
   ]
  },
  {
   "cell_type": "markdown",
   "id": "fb0be3ba",
   "metadata": {},
   "source": [
    "## 3.1 简单元胞自动机"
   ]
  },
  {
   "cell_type": "code",
   "execution_count": 176,
   "id": "c2a8e66b",
   "metadata": {},
   "outputs": [],
   "source": [
    "import numpy as np # 数组\n",
    "import matplotlib.pyplot as plt # 画图"
   ]
  },
  {
   "cell_type": "code",
   "execution_count": 177,
   "id": "31bc5f26",
   "metadata": {},
   "outputs": [],
   "source": [
    "def gen_next(s, no):\n",
    "    # 把整数 no 转换为二进制字符串表示\n",
    "    # 例如，若 no 是 10，转换后 n 为 '0b1010'\n",
    "    n = bin(no)\n",
    "    # 去掉二进制字符串前面的 '0b' 前缀\n",
    "    # 然后使用 zfill 方法将字符串填充到 8 位长度\n",
    "    # 比如 n 原本是 '1010'，填充后变为 '00001010'\n",
    "    n = n[2:].zfill(8)\n",
    "    # 获取列表 s 的长度\n",
    "    n1 = len(s)\n",
    "    # 构建一个新的列表 k，它由三部分组成：\n",
    "    # s 的最后一个元素、s 本身以及 s 的第一个元素\n",
    "    # 例如 s 是 [1, 2, 3]，则 k 是 [3, 1, 2, 3, 1]\n",
    "    k = s[(n1 - 1):] + s + s[0:1]\n",
    "    # 初始化一个空列表 r，用于存储最终结果\n",
    "    r = []\n",
    "    # 遍历从 1 到 s 的长度这个范围\n",
    "    for i in range(1, n1 + 1):\n",
    "        # 从 k 中取出长度为 3 的子列表，并将其元素转换为字符串后拼接起来\n",
    "        # 再在前面加上 '0b' 表示这是一个二进制数，最后使用 eval 函数将其转换为整数\n",
    "        # 例如 k 是 [3, 1, 2, 3, 1]，当 i 为 1 时，取出 [3, 1, 2]，转换为二进制数对应的整数\n",
    "        t = eval(\"0b\" + \"\".join(map(str, k[i -1: i + 2])))\n",
    "        # 从二进制字符串 n 中取出索引为 7 - t 的字符\n",
    "        # 并将其添加到列表 r 中\n",
    "        r.append(n[7 - t])\n",
    "    # 将列表 r 中的每个元素转换为整数类型\n",
    "    # 并返回这个新的列表\n",
    "    return list(map(eval, r))"
   ]
  },
  {
   "cell_type": "code",
   "execution_count": 178,
   "id": "f68b286c",
   "metadata": {},
   "outputs": [],
   "source": [
    "# 生成一个形状为 (300, 300) 的二维 NumPy 数组 ar，数据类型为布尔型\n",
    "# 这里的形状 (300, 300) 表示数组有 300 行和 300 列，布尔型意味着数组元素只能是 True 或 False\n",
    "ar = np.ndarray(shape=(300, 300), dtype=\"bool\")\n",
    "\n",
    "# 定义一个整数 no，其值为 90\n",
    "# 这个整数会在后续调用 gen_next 函数时用到\n",
    "no = 90\n",
    "\n",
    "# 生成一个一维 NumPy 数组 row，其长度等于数组 ar 的列数\n",
    "# 数据类型为整数型，用于存储每一行的状态信息\n",
    "row = np.ndarray(shape=ar.shape[1], dtype=\"int\")\n",
    "\n",
    "# 将数组 row 中的所有元素初始化为 0\n",
    "row[:] = 0\n",
    "\n",
    "# 将数组 row 中间位置的元素设置为 1\n",
    "# len(row) // 2 计算的是数组 row 长度的一半，使用整除运算符 // 确保结果为整数\n",
    "row[len(row) // 2] = 1\n",
    "\n",
    "# 使用 for 循环遍历数组 ar 的每一行\n",
    "for i in range(ar.shape[0]):\n",
    "    # 将当前的 row 数组赋值给数组 ar 的第 i 行\n",
    "    # 这样就把每一行的状态信息存储到了二维数组 ar 中\n",
    "    ar[i, :] = row\n",
    "    \n",
    "    # 调用 gen_next 函数，根据当前的 row 数组和整数 no 生成下一行的状态信息\n",
    "    # 并将生成的新行更新为 row 数组，以便下一次循环使用\n",
    "    row = gen_next(row, no)"
   ]
  },
  {
   "cell_type": "code",
   "execution_count": 179,
   "id": "5a81ecc7",
   "metadata": {},
   "outputs": [
    {
     "data": {
      "image/png": "[encoded data removed]",
      "text/plain": [
       "<Figure size 640x480 with 1 Axes>"
      ]
     },
     "metadata": {},
     "output_type": "display_data"
    }
   ],
   "source": [
    "# 创建一个新的图形窗口，编号为 1\n",
    "# 若你有多个图形需要绘制，可使用不同编号来区分不同的图形窗口\n",
    "plt.figure(1)\n",
    "\n",
    "# 使用 imshow 函数将数组 ar 显示为图像\n",
    "# 这里的 ar 是之前代码中生成的二维布尔型数组，imshow 函数会根据数组元素的值来显示不同颜色\n",
    "# 布尔型数组中 True 和 False 通常会被映射为不同的颜色，借此直观展示数组的数据分布\n",
    "plt.imshow(ar)\n",
    "\n",
    "# 显示当前所有的图形窗口\n",
    "# 调用此函数后，之前创建和绘制的图形才会在屏幕上显示出来\n",
    "plt.show()"
   ]
  },
  {
   "cell_type": "markdown",
   "id": "9eb03408",
   "metadata": {},
   "source": [
    "## 3.2 二维元胞自动机"
   ]
  },
  {
   "cell_type": "code",
   "execution_count": 180,
   "id": "9b1507b8",
   "metadata": {},
   "outputs": [],
   "source": [
    "# 引入sys模块，该模块提供了一些与Python解释器和系统环境相关的变量和函数\n",
    "# 这里虽然引入了，但代码中未实际使用，一般可用于处理命令行参数、退出程序等操作\n",
    "import sys\n",
    "# 引入argparse模块，用于解析命令行参数\n",
    "# 这样用户可以在运行程序时通过命令行输入一些参数来控制程序的行为\n",
    "import argparse\n",
    "# 引入numpy库，并将其重命名为np，numpy是用于科学计算的基础库\n",
    "# 提供了高效的多维数组对象和处理这些数组的工具，在本代码中用于创建和操作元胞网格\n",
    "import numpy as np\n",
    "# 引入matplotlib.pyplot模块，它是一个用于绘图的接口\n",
    "# 可以创建各种静态、动态、交互式的图表，本代码中用于绘制元胞网格的图形\n",
    "import matplotlib.pyplot as plt\n",
    "# 从matplotlib.colors模块中引入ListedColormap类\n",
    "# 该类用于创建自定义的颜色映射，我们可以指定不同的值对应不同的颜色\n",
    "from matplotlib.colors import ListedColormap\n",
    "# 引入ipywidgets库，它提供了创建交互式界面元素的功能\n",
    "# 例如按钮、滑块等，本代码中用于创建运行和停止动画的按钮\n",
    "import ipywidgets as widgets\n",
    "# 从IPython.display模块中引入display函数\n",
    "# 该函数用于在Jupyter Notebook等环境中显示各种对象，如文本、图像、小部件等\n",
    "from IPython.display import display\n",
    "# 引入time模块，用于处理与时间相关的操作\n",
    "# 本代码中使用它的sleep函数来控制动画更新的时间间隔\n",
    "import time\n",
    "# 引入threading模块，用于实现多线程编程\n",
    "# 多线程可以让程序同时执行多个任务，本代码中使用线程来运行动画更新，避免阻塞主线程\n",
    "import threading\n",
    "# 从io模块中引入BytesIO类，它是一个内存中的二进制流对象\n",
    "# 可以像操作文件一样操作内存中的数据，本代码中用于将图形保存为二进制数据，以便在Image组件中显示\n",
    "from io import BytesIO\n"
   ]
  },
  {
   "cell_type": "code",
   "execution_count": 181,
   "id": "2b1133e8",
   "metadata": {},
   "outputs": [
    {
     "data": {
      "image/png": "[encoded data removed]",
      "text/html": [
       "<div style=\"vertical-align: middle;\"><strong>from_list</strong> </div><div class=\"cmap\"><img alt=\"from_list colormap\" title=\"from_list\" style=\"border: 1px solid #555;\" src=\"data:image/png;base64,iVBORw0KGgoAAAANSUhEUgAAAgAAAABACAYAAABsv8+/AAAAGHRFWHRUaXRsZQBmcm9tX2xpc3QgY29sb3JtYXBDL89FAAAAHnRFWHREZXNjcmlwdGlvbgBmcm9tX2xpc3QgY29sb3JtYXABtCnOAAAAMXRFWHRBdXRob3IATWF0cGxvdGxpYiB2My4xMC4xLCBodHRwczovL21hdHBsb3RsaWIub3JnFhxeCAAAADN0RVh0U29mdHdhcmUATWF0cGxvdGxpYiB2My4xMC4xLCBodHRwczovL21hdHBsb3RsaWIub3JnszhN/AAAASxJREFUeJzt1rEBwDAMw7C0j9efp2d4IPCANPKZM/cASd+d7QvAkndrGADYIwAAIEgAAECQAACAIAEAAEECAACCBAAABAkAAAgSAAAQJAAAIEgAAECQAACAIAEAAEECAACCBAAABAkAAAgSAAAQJAAAIEgAAECQAACAIAEAAEECAACCBAAABAkAAAgSAAAQJAAAIEgAAECQAACAIAEAAEECAACCBAAABAkAAAgSAAAQJAAAIEgAAECQAACAIAEAAEECAACCBAAABAkAAAgSAAAQJAAAIEgAAECQAACAIAEAAEECAACCBAAABAkAAAgSAAAQJAAAIEgAAECQAACAIAEAAEECAACCBAAABAkAAAgSAAAQJAAAIEgAAECQAACAIAEAAEECAACCBAAABP2MYgR9iJLVBAAAAABJRU5ErkJggg==\"></div><div style=\"vertical-align: middle; max-width: 514px; display: flex; justify-content: space-between;\"><div style=\"float: left;\"><div title=\"#800080ff\" style=\"display: inline-block; width: 1em; height: 1em; margin: 0; vertical-align: middle; border: 1px solid #555; background-color: #800080ff;\"></div> under</div><div style=\"margin: 0 auto; display: inline-block;\">bad <div title=\"#00000000\" style=\"display: inline-block; width: 1em; height: 1em; margin: 0; vertical-align: middle; border: 1px solid #555; background-color: #00000000;\"></div></div><div style=\"float: right;\">over <div title=\"#ffff00ff\" style=\"display: inline-block; width: 1em; height: 1em; margin: 0; vertical-align: middle; border: 1px solid #555; background-color: #ffff00ff;\"></div></div></div>"
      ],
      "text/plain": [
       "<matplotlib.colors.ListedColormap at 0x1f167dafda0>"
      ]
     },
     "execution_count": 181,
     "metadata": {},
     "output_type": "execute_result"
    }
   ],
   "source": [
    "\n",
    "# 定义一个元组，包含两种颜色：紫色和黄色\n",
    "# 这两种颜色将用于表示元胞的不同状态\n",
    "yeah = (\"purple\", \"yellow\")\n",
    "# 使用ListedColormap类创建一个颜色映射对象\n",
    "# 该对象将元胞的不同状态值映射到对应的颜色，这里将0映射到紫色，255映射到黄色\n",
    "cmap = ListedColormap(yeah)\n",
    "cmap"
   ]
  },
  {
   "cell_type": "code",
   "execution_count": 182,
   "id": "d3913761",
   "metadata": {},
   "outputs": [
    {
     "data": {
      "text/plain": [
       "[255, 0]"
      ]
     },
     "execution_count": 182,
     "metadata": {},
     "output_type": "execute_result"
    }
   ],
   "source": [
    "\n",
    "# 定义常量ON，表示元胞的开启状态，值为255\n",
    "# 常量使用大写字母命名是一种编程规范，方便识别和区分\n",
    "ON = 255\n",
    "# 定义常量OFF，表示元胞的关闭状态，值为0\n",
    "OFF = 0\n",
    "# 定义一个列表，包含ON和OFF两个状态值\n",
    "# 后续创建随机网格时会从这个列表中随机选择状态值\n",
    "vals = [ON, OFF]\n",
    "vals"
   ]
  },
  {
   "cell_type": "code",
   "execution_count": 183,
   "id": "0afff0ea",
   "metadata": {},
   "outputs": [
    {
     "name": "stdout",
     "output_type": "stream",
     "text": [
      "[[  0   0   0   0   0   0   0   0 255   0]\n",
      " [  0   0   0   0   0   0   0 255   0   0]\n",
      " [  0   0 255   0   0   0 255   0 255   0]\n",
      " [255   0   0   0 255   0   0   0   0 255]\n",
      " [  0   0   0   0   0   0   0   0   0   0]\n",
      " [  0   0 255   0   0   0   0   0   0   0]\n",
      " [  0   0   0   0   0 255   0   0   0   0]\n",
      " [  0   0   0   0 255   0 255   0   0 255]\n",
      " [  0   0   0   0   0   0 255   0   0 255]\n",
      " [  0   0 255   0   0 255   0   0   0   0]]\n"
     ]
    }
   ],
   "source": [
    "\n",
    "# 定义一个函数，用于创建一个随机的N x N的元胞网格\n",
    "# 参数N表示网格的边长，即网格的行数和列数\n",
    "def randomGrid(N):\n",
    "    \"\"\"\n",
    "    np.random.choice 是 numpy 库中的一个函数，用于从给定的一维数组中随机抽取元素。\n",
    "    它的常用参数及含义如下：\n",
    "    - a: 输入的一维数组，也就是从哪个数组里进行随机抽取元素。\n",
    "    - size: 要抽取的元素数量，也可以指定返回数组的形状。\n",
    "    - p: 数组中每个元素被抽取的概率，所有概率值之和应该为 1。\n",
    "\n",
    "    在我们的代码里：\n",
    "    - vals 作为参数传入 a，这意味着我们要从 [ON, OFF] 这个列表里随机抽取元素。\n",
    "    - N * N 作为参数传入 size，这表明我们要抽取 N * N 个元素。因为要构建 N x N 的网格，所以总共需要 N * N 个元胞状态。\n",
    "    - p=[0.2, 0.8] 作为参数传入 p，这代表从 vals 里抽取元素时，抽到 ON（值为 255）的概率是 0.2，抽到 OFF（值为 0）的概率是 0.8。\n",
    "\n",
    "    调用 np.random.choice(vals, N * N, p=[0.2, 0.8]) 后，会得到一个包含 N * N 个元素的一维数组，\n",
    "    数组里的元素是从 vals 中随机抽取的，且抽取概率遵循 p 里设定的概率。\n",
    "\n",
    "    之后，reshape(N, N) 是 numpy 数组的一个方法，它的作用是把一维数组重新调整成二维数组。\n",
    "    这里将抽取得到的一维数组重新调整为 N 行 N 列的二维数组，以此来表示 N x N 的元胞网格。\n",
    "    \"\"\"\n",
    "    return np.random.choice(vals, N * N, p=[0.2, 0.8]).reshape(N, N)\n",
    "print(randomGrid(10))"
   ]
  },
  {
   "cell_type": "code",
   "execution_count": 184,
   "id": "9d632008",
   "metadata": {},
   "outputs": [
    {
     "name": "stdout",
     "output_type": "stream",
     "text": [
      "[[  0   0 255   0   0   0   0   0   0   0]\n",
      " [255   0 255   0 255   0   0 255   0 255]\n",
      " [  0 255 255   0 255   0   0   0   0 255]\n",
      " [  0   0   0 255   0 255   0   0   0   0]\n",
      " [  0   0   0   0 255   0   0   0   0   0]\n",
      " [  0 255   0   0 255   0   0   0   0   0]\n",
      " [  0   0   0   0 255   0   0   0   0   0]\n",
      " [  0   0   0   0   0   0   0   0   0   0]\n",
      " [255   0   0   0   0   0   0   0   0 255]\n",
      " [255   0   0 255   0   0   0   0 255   0]]\n"
     ]
    }
   ],
   "source": [
    "# 定义一个函数，用于在网格中添加一个滑翔机图案\n",
    "# 参数 i 和 j 表示滑翔机图案在网格中的起始位置，i 是行索引，j 是列索引\n",
    "# 参数 grid 表示要添加图案的网格，它是一个二维的 numpy 数组\n",
    "def addGlider(i, j, grid):\n",
    "    # 定义一个3 x 3的二维数组，表示滑翔机的图案\n",
    "    # 数组中的值为0或255，分别对应元胞的关闭和开启状态\n",
    "    # 在这个图案中，0 代表该位置的元胞处于关闭状态，255 代表该位置的元胞处于开启状态\n",
    "    glider = np.array([[0, 0, 255], [255, 0, 255], [0, 255, 255]])\n",
    "    # 将滑翔机图案复制到网格的指定位置\n",
    "    # grid[i:i + 3, j:j + 3] 表示从网格的第 i 行到第 i+3 行（不包括第 i+3 行），第 j 列到第 j+3 列（不包括第 j+3 列）的区域\n",
    "    # 这里使用切片操作，把 glider 数组的值赋给网格中对应位置的元素，从而添加滑翔机图案\n",
    "    # 前提是网格在该位置有足够的空间来放置这个 3x3 的滑翔机图案\n",
    "    grid[i:i + 3, j:j + 3] = glider\n",
    "\n",
    "\n",
    "# 调用上一个单元格中的randomGrid函数，创建一个大小为 10x10 的随机网格\n",
    "grid = randomGrid(10)\n",
    "\n",
    "# 调用 addGlider 函数添加滑翔机\n",
    "# 这里将滑翔机图案添加到网格的左上角位置（起始行索引为 0，起始列索引为 0）\n",
    "addGlider(0, 0, grid)\n",
    "\n",
    "# 打印添加滑翔机后的网格\n",
    "# 输出的是一个二维数组，展示了网格中每个位置的元胞状态（0 或 255）\n",
    "print(grid)"
   ]
  },
  {
   "cell_type": "code",
   "execution_count": 185,
   "id": "127e6919",
   "metadata": {},
   "outputs": [
    {
     "name": "stdout",
     "output_type": "stream",
     "text": [
      "0 的数量: 79\n",
      "255 的数量: 21\n"
     ]
    },
    {
     "data": {
      "text/plain": [
       "100"
      ]
     },
     "execution_count": 185,
     "metadata": {},
     "output_type": "execute_result"
    }
   ],
   "source": [
    "count_0 = np.count_nonzero(grid == 0)\n",
    "count_255 = np.count_nonzero(grid == 255)\n",
    "\n",
    "print(f\"0 的数量: {count_0}\")\n",
    "print(f\"255 的数量: {count_255}\")\n",
    "# 计算总数\n",
    "total = grid.size\n",
    "total\n"
   ]
  },
  {
   "cell_type": "code",
   "execution_count": 186,
   "id": "c33c55a4",
   "metadata": {},
   "outputs": [
    {
     "name": "stdout",
     "output_type": "stream",
     "text": [
      "0 的比例: 79.00%\n",
      "255 的比例: 21.00%\n"
     ]
    }
   ],
   "source": [
    "# 计算比例\n",
    "ratio_0 = count_0 / total\n",
    "ratio_255 = count_255 / total\n",
    "\n",
    "print(f\"0 的比例: {ratio_0:.2%}\")\n",
    "print(f\"255 的比例: {ratio_255:.2%}\")"
   ]
  },
  {
   "cell_type": "code",
   "execution_count": 187,
   "id": "c9d88fa4",
   "metadata": {},
   "outputs": [
    {
     "name": "stdout",
     "output_type": "stream",
     "text": [
      "[[  0   0 255   0   0   0   0   0   0   0]\n",
      " [255   0 255   0 255   0   0 255   0 255]\n",
      " [  0 255 255   0 255   0   0   0   0 255]\n",
      " [  0   0   0 255   0 255   0   0   0   0]\n",
      " [  0   0   0   0 255   0   0   0   0   0]\n",
      " [  0 255   0   0 255   0   0   0   0   0]\n",
      " [  0   0   0   0 255   0   0   0   0   0]\n",
      " [  0   0   0   0   0   0   0   0   0   0]\n",
      " [255   0   0   0   0   0   0   0   0 255]\n",
      " [255   0   0 255   0   0   0   0 255   0]]\n"
     ]
    }
   ],
   "source": [
    "# 定义一个函数，用于更新每一个时间步的元胞状态\n",
    "# 想象一下有一个由小格子组成的大网格，每个小格子就像是一个小生命，有开和关两种状态。\n",
    "# 这个函数的作用就是根据一定的规则，让每个小格子在下一个时间点变成合适的状态。\n",
    "# 参数 grid 表示当前的元胞网格，它就像是我们现在看到的这个大网格，里面记录了每个小格子的状态。\n",
    "# 参数 N 表示网格的边长，假如这个网格是正方形的，N 就告诉我们这个正方形每条边有多少个小格子。\n",
    "def update(grid, N):\n",
    "    # .copy()复制当前的网格状态，避免在更新过程中修改原始网格\n",
    "    # 先复印一份，在复印的画上修改，这样原画就不会被破坏啦。\n",
    "    # 这里的 newGrid 就是复印出来的画，我们会在 newGrid 上计算每个小格子新的状态。\n",
    "    newGrid = grid.copy()\n",
    "\n",
    "    # 使用两层嵌套的 for 循环遍历网格中的每一个元胞\n",
    "    # 我们要查看网格里的每一个小格子，看看它周围的情况，然后决定它下一个时间点的状态。\n",
    "    # 外层的 for 循环就像是我们从上到下一行一行地看这个大网格。\n",
    "    # 变量 i 表示当前看的是第几行，从第 0 行开始，一直看到第 N - 1 行。\n",
    "    for i in range(N):\n",
    "        # 内层的 for 循环就像是我们在每一行里从左到右一个一个小格子地看。\n",
    "        # 变量 j 表示当前看的是这一行的第几个小格子，从第 0 个开始，一直看到第 N - 1 个。\n",
    "        for j in range(N):\n",
    "            # 计算当前元胞周围 8 个元胞的状态总和\n",
    "            # 现在我们已经找到了一个小格子，我们要看看它周围的 8 个小格子有多少个是开启状态的。\n",
    "            # 但是网格是有边界的，为了让边界上的小格子也能正确地计算周围的情况，\n",
    "            # 我们使用取模运算符 % 来处理边界情况，让网格具有环形结构。\n",
    "            # 什么是环形结构呢？就好比我们把这个正方形网格卷成一个甜甜圈，这样边界上的小格子就和另一边连起来啦。\n",
    "            # 例如，对于一个在最左边的小格子，它左边的小格子就是最右边的那个小格子。\n",
    "            # 这里把周围 8 个小格子的状态值加起来，然后除以 255，是因为小格子的状态用 0 或 255 表示，\n",
    "            # 除以 255 后我们就能得到周围开启状态的小格子的实际数量。\n",
    "            total = int((grid[i, (j - 1) % N] + grid[i, (j + 1) % N] +\n",
    "                         grid[(i - 1) % N, j] + grid[(i + 1) % N, j] +\n",
    "                         grid[(i - 1) % N, (j - 1) % N] + grid[(i - 1) % N, (j + 1) % N] +\n",
    "                         grid[(i + 1) % N, (j - 1) % N] + grid[(i + 1) % N, (j + 1) % N]) / 255)\n",
    "\n",
    "    # 如果当前元胞处于开启状态\n",
    "    # 现在我们已经知道了这个小格子周围有多少个开启状态的小格子，我们来看看这个小格子自己的状态。\n",
    "    # 如果这个小格子现在是开启状态（就像一盏灯是亮着的）\n",
    "    if grid[i, j] == ON:\n",
    "        # 如果周围元胞的数量小于 2 或者大于 3\n",
    "        # 这就好比这个小生命周围太孤单了（周围开启的小格子少于 2 个），或者太拥挤了（周围开启的小格子多于 3 个）\n",
    "        # 根据康威生命游戏的规则，这个小生命就会“死亡”，也就是它的状态会变成关闭。\n",
    "        if (total < 2) or (total > 3):\n",
    "            # 将该元胞的状态更新为关闭状态\n",
    "            # 我们在复印的画上把这个小格子的状态改成关闭（就像把灯关掉）\n",
    "            newGrid[i, j] = OFF\n",
    "    # 如果当前元胞处于关闭状态\n",
    "    # 如果这个小格子现在是关闭状态（灯是灭的）\n",
    "    else:\n",
    "        # 如果周围元胞的数量等于 3\n",
    "        # 这就好比这个地方有足够的“活力”（周围刚好有 3 个开启的小格子）\n",
    "        # 根据康威生命游戏的规则，这个小生命会“复活”，也就是它的状态会变成开启。\n",
    "        if total == 3:\n",
    "            # 将该元胞的状态更新为开启状态\n",
    "            # 我们在复印的画上把这个小格子的状态改成开启（把灯点亮）\n",
    "            newGrid[i, j] = ON\n",
    "\n",
    "    # 将更新后的网格状态赋值给原始网格\n",
    "    # 现在我们已经在复印的画上把所有小格子的状态都修改好了，\n",
    "    # 我们要把复印画上的内容放回原画上去，这样原画就变成了更新后的样子。\n",
    "    # 使用切片操作 [:] 可以确保是原地更新，而不是创建一个新的对象。\n",
    "    grid[:] = newGrid[:]\n",
    "\n",
    "    # 返回更新后的网格\n",
    "    # 最后，我们把更新后的大网格返回出去，这样别人就可以看到更新后的样子啦。\n",
    "    return grid\n",
    "\n",
    "# 这里假设已经有一个网格对象 grid 和网格边长 N 被定义\n",
    "# 例如：\n",
    "# import numpy as np\n",
    "# N = 10\n",
    "# grid = np.random.choice([0, 255], N * N).reshape(N, N)\n",
    "# 然后调用 update 函数更新网格状态\n",
    "# grid = update(grid, N)\n",
    "# 打印更新后的网格\n",
    "print(grid)"
   ]
  },
  {
   "cell_type": "code",
   "execution_count": 188,
   "id": "49ebe013",
   "metadata": {},
   "outputs": [
    {
     "data": {
      "application/vnd.jupyter.widget-view+json": {
       "model_id": "72747094b69a46c1b27162f83988f02e",
       "version_major": 2,
       "version_minor": 0
      },
      "text/plain": [
       "HBox(children=(Button(description='Run', style=ButtonStyle()), Button(description='Stop', style=ButtonStyle())…"
      ]
     },
     "metadata": {},
     "output_type": "display_data"
    },
    {
     "data": {
      "application/vnd.jupyter.widget-view+json": {
       "model_id": "8197944531bd465192ab1d3465d86d95",
       "version_major": 2,
       "version_minor": 0
      },
      "text/plain": [
       "Image(value=b'')"
      ]
     },
     "metadata": {},
     "output_type": "display_data"
    },
    {
     "data": {
      "image/png": "[encoded data removed]",
      "text/plain": [
       "<Figure size 640x480 with 1 Axes>"
      ]
     },
     "metadata": {},
     "output_type": "display_data"
    }
   ],
   "source": [
    "\n",
    "# 定义主函数，作为程序的入口点\n",
    "# 程序从这里开始执行\n",
    "def main():\n",
    "    # 创建一个命令行参数解析器对象\n",
    "    # description参数用于提供关于程序功能的描述信息\n",
    "    parser = argparse.ArgumentParser(description=\"Runs Conway's Game of Life simulation.\")\n",
    "    # 添加一个命令行参数 --grid-size\n",
    "    # dest参数指定该参数在解析结果中的名称为N\n",
    "    # required=False表示该参数不是必需的\n",
    "    # 用户可以在命令行输入 --grid-size 后面跟一个数字，来指定网格的大小\n",
    "    parser.add_argument('--grid-size', dest='N', required=False)\n",
    "    # 添加一个命令行参数 --interval\n",
    "    # dest参数指定该参数在解析结果中的名称为interval\n",
    "    # required=False表示该参数不是必需的\n",
    "    # 用户可以在命令行输入 --interval 后面跟一个数字，来指定动画更新的时间间隔\n",
    "    parser.add_argument('--interval', dest='interval', required=False)\n",
    "    # 添加一个命令行参数 --glider\n",
    "    # action='store_true'表示如果该参数在命令行中出现，则将其对应的值设为True\n",
    "    # required=False表示该参数不是必需的\n",
    "    # 用户在命令行输入 --glider 时，程序会在网格中添加滑翔机图案\n",
    "    parser.add_argument('--glider', action='store_true', required=False)\n",
    "    # 添加一个命令行参数 --gosper\n",
    "    # action='store_true'表示如果该参数在命令行中出现，则将其对应的值设为True\n",
    "    # required=False表示该参数不是必需的\n",
    "    # 不过在当前代码中，添加了这个参数但没有对其进行使用，后续可以根据需求添加相应功能\n",
    "    parser.add_argument('--gosper', action='store_true', required=False)\n",
    "    # 解析命令行参数，返回一个包含解析结果的对象\n",
    "    # 这里传入空列表 [] 是因为在 Jupyter Notebook 环境中运行，不会从命令行获取实际参数\n",
    "    args = parser.parse_args([])\n",
    "\n",
    "    # 定义网格的默认边长为100\n",
    "    N = 100\n",
    "    # 如果用户在命令行中指定了网格大小，并且该大小大于8\n",
    "    if args.N and int(args.N) > 8:\n",
    "        # 使用用户指定的网格大小\n",
    "        N = int(args.N)\n",
    "\n",
    "    # 定义每次更新的默认时间间隔为50毫秒\n",
    "    updateInterval = 50\n",
    "    # 如果用户在命令行中指定了时间间隔\n",
    "    if args.interval:\n",
    "        # 使用用户指定的时间间隔\n",
    "        updateInterval = int(args.interval)\n",
    "\n",
    "    # 初始化一个空的数组，用于存储元胞网格\n",
    "    grid = np.array([])\n",
    "\n",
    "    # 如果用户在命令行中指定了添加滑翔机图案\n",
    "    if args.glider:\n",
    "        # 创建一个全为0的N x N的网格\n",
    "        grid = np.zeros(N * N).reshape(N, N)\n",
    "        # 在网格的(1, 1)位置添加滑翔机图案\n",
    "        addGlider(1, 1, grid)\n",
    "    else:\n",
    "        # 否则，创建一个随机的N x N的网格\n",
    "        grid = randomGrid(N)\n",
    "\n",
    "    # 创建一个图形窗口，设置背景颜色为粉色\n",
    "    # fig表示整个图形对象，ax表示图形中的坐标轴对象\n",
    "    fig, ax = plt.subplots(facecolor='pink')\n",
    "    # 在坐标轴上显示元胞网格\n",
    "    # cmap参数指定使用之前定义的颜色映射\n",
    "    # interpolation='nearest'表示使用最近邻插值方法进行图像显示\n",
    "    # 这样可以让图像显示得更加清晰，不会出现模糊的情况\n",
    "    img = ax.imshow(grid, cmap=cmap, interpolation='nearest')\n",
    "    # 关闭坐标轴的显示，使图形更加简洁\n",
    "    plt.axis('off')\n",
    "\n",
    "    # 创建一个Image组件，用于显示动画\n",
    "    image_widget = widgets.Image()\n",
    "\n",
    "    # 定义一个函数，用于更新Image组件显示的图像\n",
    "    def update_image():\n",
    "        # 创建一个BytesIO对象，用于在内存中存储图像数据\n",
    "        buffer = BytesIO()\n",
    "        # 将当前的图形保存为PNG格式的图像，并存储到BytesIO对象中\n",
    "        # 这样可以避免将图像保存到磁盘，直接在内存中处理\n",
    "        fig.savefig(buffer, format='png')\n",
    "        # 将BytesIO对象的指针移动到文件开头，以便后续读取数据\n",
    "        buffer.seek(0)\n",
    "        # 将BytesIO对象中的图像数据赋值给Image组件的value属性\n",
    "        # 这样Image组件就可以显示更新后的图像\n",
    "        image_widget.value = buffer.read()\n",
    "\n",
    "    # 定义一个布尔变量，用于控制动画的运行状态\n",
    "    # 初始值为False，表示动画停止\n",
    "    is_running = False\n",
    "    # 定义一个变量，用于存储线程对象\n",
    "    # 初始值为None，表示还没有创建线程\n",
    "    simulation_thread = None\n",
    "\n",
    "    # 定义一个函数，用于运行动画\n",
    "    def run_simulation():\n",
    "        # 使用nonlocal关键字声明要修改外部函数中的变量\n",
    "        nonlocal is_running, grid\n",
    "        # 将动画运行状态设置为True\n",
    "        is_running = True\n",
    "        # 当动画处于运行状态时，持续更新网格状态和显示图像\n",
    "        while is_running:\n",
    "            # 更新网格状态\n",
    "            grid = update(grid, N)\n",
    "            # 更新图像数据\n",
    "            img.set_data(grid)\n",
    "            # 更新Image组件显示的图像\n",
    "            update_image()\n",
    "            # 暂停一段时间，时间长度为更新时间间隔\n",
    "            # 这里将更新时间间隔从毫秒转换为秒\n",
    "            time.sleep(updateInterval / 1000)\n",
    "\n",
    "    # 定义一个函数，用于开始动画\n",
    "    def start_simulation(_):\n",
    "        # 使用nonlocal关键字声明要修改外部函数中的变量\n",
    "        nonlocal simulation_thread\n",
    "        # 如果动画当前处于停止状态\n",
    "        if not is_running:\n",
    "            # 创建一个新的线程，目标函数为run_simulation\n",
    "            # 多线程可以让动画更新在后台运行，不会阻塞主线程\n",
    "            # 这样在动画运行的同时，用户还可以进行其他操作\n",
    "            simulation_thread = threading.Thread(target=run_simulation)\n",
    "            # 启动线程，开始运行动画\n",
    "            simulation_thread.start()\n",
    "\n",
    "    # 定义一个函数，用于停止动画\n",
    "    def stop_simulation(_):\n",
    "        # 使用nonlocal关键字声明要修改外部函数中的变量\n",
    "        nonlocal is_running\n",
    "        # 将动画运行状态设置为False\n",
    "        is_running = False\n",
    "        # 如果线程已经创建\n",
    "        if simulation_thread:\n",
    "            # 等待线程结束\n",
    "            # 确保线程在停止动画后完全结束，避免出现资源泄漏\n",
    "            simulation_thread.join()\n",
    "\n",
    "    # 创建一个运行按钮，按钮上显示的文本为\"Run\"\n",
    "    run_button = widgets.Button(description=\"Run\")\n",
    "    # 创建一个停止按钮，按钮上显示的文本为\"Stop\"\n",
    "    stop_button = widgets.Button(description=\"Stop\")\n",
    "\n",
    "    # 为运行按钮的点击事件绑定start_simulation函数\n",
    "    # 当点击运行按钮时，会调用start_simulation函数开始动画\n",
    "    run_button.on_click(start_simulation)\n",
    "    # 为停止按钮的点击事件绑定stop_simulation函数\n",
    "    # 当点击停止按钮时，会调用stop_simulation函数停止动画\n",
    "    stop_button.on_click(stop_simulation)\n",
    "\n",
    "    # 将运行按钮和停止按钮水平排列在一个容器中\n",
    "    button_box = widgets.HBox([run_button, stop_button])\n",
    "    # 显示按钮容器\n",
    "    display(button_box)\n",
    "    # 显示Image组件\n",
    "    display(image_widget)\n",
    "    # 初始化显示一次图像\n",
    "    # 避免在动画开始前图像为空\n",
    "    update_image()\n",
    "\n",
    "# 调用主函数，启动程序\n",
    "main()"
   ]
  }
 ],
 "metadata": {
  "kernelspec": {
   "display_name": "DL",
   "language": "python",
   "name": "python3"
  },
  "language_info": {
   "codemirror_mode": {
    "name": "ipython",
    "version": 3
   },
   "file_extension": ".py",
   "mimetype": "text/x-python",
   "name": "python",
   "nbconvert_exporter": "python",
   "pygments_lexer": "ipython3",
   "version": "3.12.9"
  }
 },
 "nbformat": 4,
 "nbformat_minor": 5
}
