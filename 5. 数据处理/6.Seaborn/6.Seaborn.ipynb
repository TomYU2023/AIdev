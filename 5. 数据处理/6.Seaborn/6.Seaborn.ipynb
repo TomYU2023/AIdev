{
 "cells": [
  {
   "cell_type": "markdown",
   "metadata": {},
   "source": [
    "## Seaborn"
   ]
  },
  {
   "cell_type": "markdown",
   "metadata": {},
   "source": [
    "### 01.Seaborn简介"
   ]
  },
  {
   "cell_type": "markdown",
   "metadata": {},
   "source": [
    "https://seaborn.pydata.org/#"
   ]
  },
  {
   "cell_type": "markdown",
   "metadata": {},
   "source": [
    "#### 1.安装"
   ]
  },
  {
   "cell_type": "code",
   "execution_count": null,
   "metadata": {},
   "outputs": [],
   "source": [
    "pip install seaborn"
   ]
  },
  {
   "cell_type": "markdown",
   "metadata": {},
   "source": [
    "| 特点           | Matplotlib                                      | Seaborn                                      |\n",
    "|----------------|------------------------------------------------|---------------------------------------------|\n",
    "| **易用性**     | 需要更多的代码和配置，灵活性高                 | 简单易用，自动生成漂亮的图表                |\n",
    "| **默认样式**   | 默认样式简洁，需要手动调整                     | 默认样式美观，适合展示                      |\n",
    "| **图表类型**   | 支持基础图表（折线图、柱状图、散点图等）       | 专注于统计图表（箱线图、热力图、成对关系图等） |\n",
    "| **定制化程度** | 高度可定制，控制图表的每个细节                 | 提供少量定制选项，主要用于快速绘图          |\n",
    "| **数据支持**   | 与 NumPy、Pandas 等库良好配合                  | 特别适合与 Pandas 配合，自动处理标签和索引   |\n",
    "| **学习曲线**   | 较陡峭，需要掌握更多细节                       | 更容易上手，适合快速绘图                    |\n",
    "| **美观性**     | 默认图表比较朴素，需要手动美化                 | 图表更美观，适合快速生成美观的统计图        |"
   ]
  },
  {
   "cell_type": "markdown",
   "metadata": {},
   "source": [
    "### 02.基础绘图"
   ]
  },
  {
   "cell_type": "markdown",
   "metadata": {},
   "source": [
    "| 功能               | 语法                                      | 描述                                                                 | 常用参数                                                                 |\n",
    "|--------------------|------------------------------------------|---------------------------------------------------------------------|--------------------------------------------------------------------------|\n",
    "| **散点图**         | `sns.scatterplot(x='col1', y='col2', data=df)` | 展示两个数值变量之间的关系                                         | `x`, `y`: 数据列<br>`hue`: 分类变量<br>`style`: 点样式                   |\n",
    "| **折线图**         | `sns.lineplot(x='col1', y='col2', data=df)` | 展示数据随时间变化的趋势                                           | `x`, `y`: 数据列<br>`hue`: 分组<br>`style`: 线条样式                    |\n",
    "| **直方图**         | `sns.histplot(data, bins=10, kde=True)` | 展示数据分布频率                                                   | `data`: 数据源<br>`bins`: 分箱数<br>`kde`: 是否添加核密度估计            |\n",
    "| **核密度估计图**   | `sns.kdeplot(data)`                     | 展示数据概率密度分布                                               | `shade`: 填充曲线<br>`bw_adjust`: 带宽调整                              |\n",
    "| **箱线图**         | `sns.boxplot(x='category', y='value', data=df)` | 展示数据分布（四分位数/中位数/离群点）                            | `x`, `y`: 分类和数值变量<br>`hue`: 分组<br>`orient`: 轴方向             |\n",
    "| **条形图**         | `sns.barplot(x='category', y='value', data=df)` | 展示分类数据统计量                                                 | `x`, `y`: 分类和数值变量<br>`hue`: 分组<br>`ci`: 置信区间               |\n",
    "| **小提琴图**       | `sns.violinplot(x='category', y='value', data=df)` | 结合箱线图和核密度估计展示分布形态                                 | `x`, `y`: 分类和数值变量<br>`hue`: 分组<br>`split`: 是否分开            |\n",
    "| **分类散点图**     | `sns.stripplot(x='category', y='value', data=df, jitter=True)` | 展示分类变量与数值变量的分布                                       | `x`, `y`: 分类和数值变量<br>`jitter`: 点偏移控制                        |\n",
    "| **回归图**         | `sns.regplot(x='col1', y='col2', data=df)` | 展示数据点与回归线                                                 | `x`, `y`: 数据列<br>`line_kws`: 回归线样式<br>`scatter_kws`: 散点样式   |\n",
    "| **条形分布图**     | `sns.countplot(x='column', data=df)`     | 展示分类数据频数分布                                               | `x`: 分类变量<br>`hue`: 分组<br>`orient`: 轴方向                        |"
   ]
  },
  {
   "cell_type": "markdown",
   "metadata": {},
   "source": [
    "#### 散点图"
   ]
  },
  {
   "cell_type": "code",
   "execution_count": null,
   "metadata": {},
   "outputs": [],
   "source": [
    "import seaborn as sns\n",
    "import matplotlib.pyplot as plt\n",
    "\n",
    "# 加载示例数据集\n",
    "tips = sns.load_dataset(\"tips\")\n",
    "\n",
    "# 绘制基础散点图\n",
    "sns.scatterplot(x=\"total_bill\", y=\"tip\", data=tips)\n",
    "plt.title(\"账单金额与小费关系\")\n",
    "plt.show()\n",
    "\n",
    "# 添加分类变量\n",
    "sns.scatterplot(x=\"total_bill\", y=\"tip\", hue=\"time\", \n",
    "                style=\"sex\", data=tips)\n",
    "plt.title(\"按用餐时间和性别分类的散点图\")\n",
    "plt.show()"
   ]
  },
  {
   "cell_type": "markdown",
   "metadata": {},
   "source": [
    "#### 折线图"
   ]
  },
  {
   "cell_type": "code",
   "execution_count": null,
   "metadata": {},
   "outputs": [],
   "source": [
    "# 加载时间序列数据\n",
    "flights = sns.load_dataset(\"flights\")\n",
    "may_flights = flights.query(\"month == 'May'\")\n",
    "\n",
    "# 绘制折线图\n",
    "sns.lineplot(x=\"year\", y=\"passengers\", \n",
    "             hue=\"month\", style=\"month\",\n",
    "             data=flights)\n",
    "plt.title(\"1949-1960年每月航班乘客量\")\n",
    "plt.show()"
   ]
  },
  {
   "cell_type": "markdown",
   "metadata": {},
   "source": [
    "#### 直方图"
   ]
  },
  {
   "cell_type": "code",
   "execution_count": null,
   "metadata": {},
   "outputs": [],
   "source": [
    "# 绘制带KDE的直方图\n",
    "sns.histplot(tips[\"total_bill\"], bins=20, kde=True)\n",
    "plt.title(\"账单金额分布\")\n",
    "plt.xlabel(\"账单金额($)\")\n",
    "plt.show()\n",
    "\n",
    "# 分组直方图\n",
    "sns.histplot(data=tips, x=\"total_bill\", hue=\"time\", \n",
    "             element=\"step\", kde=True)\n",
    "plt.title(\"午餐和晚餐账单分布对比\")\n",
    "plt.show()"
   ]
  },
  {
   "cell_type": "markdown",
   "metadata": {},
   "source": [
    "#### 核密度估计图(KDE)"
   ]
  },
  {
   "cell_type": "code",
   "execution_count": null,
   "metadata": {},
   "outputs": [],
   "source": [
    "# 绘制基础KDE图\n",
    "sns.kdeplot(data=tips, x=\"total_bill\", shade=True)\n",
    "plt.title(\"账单金额密度分布\")\n",
    "plt.show()\n",
    "\n",
    "# 多变量KDE\n",
    "sns.kdeplot(data=tips, x=\"total_bill\", y=\"tip\", \n",
    "            hue=\"time\", fill=True)\n",
    "plt.title(\"账单与小费的联合分布\")\n",
    "plt.show()"
   ]
  },
  {
   "cell_type": "markdown",
   "metadata": {},
   "source": [
    "#### 箱线图"
   ]
  },
  {
   "cell_type": "code",
   "execution_count": null,
   "metadata": {},
   "outputs": [],
   "source": [
    "# 基础箱线图\n",
    "sns.boxplot(x=\"day\", y=\"total_bill\", data=tips)\n",
    "plt.title(\"每日账单分布\")\n",
    "plt.show()\n",
    "\n",
    "# 分组箱线图\n",
    "sns.boxplot(x=\"day\", y=\"total_bill\", hue=\"sex\",\n",
    "            data=tips)\n",
    "plt.title(\"按性别分组的每日账单分布\")\n",
    "plt.show()"
   ]
  },
  {
   "cell_type": "markdown",
   "metadata": {},
   "source": [
    "#### 条形图"
   ]
  },
  {
   "cell_type": "code",
   "execution_count": null,
   "metadata": {},
   "outputs": [],
   "source": [
    "# 基础条形图\n",
    "sns.barplot(x=\"day\", y=\"total_bill\", data=tips)\n",
    "plt.title(\"每日平均账单金额\")\n",
    "plt.show()\n",
    "\n",
    "# 分组条形图\n",
    "sns.barplot(x=\"day\", y=\"total_bill\", hue=\"sex\",\n",
    "            data=tips, ci=\"sd\")  # 使用标准差代替置信区间\n",
    "plt.title(\"按性别分组的每日平均账单\")\n",
    "plt.show()"
   ]
  },
  {
   "cell_type": "markdown",
   "metadata": {},
   "source": [
    "#### 小提琴图"
   ]
  },
  {
   "cell_type": "code",
   "execution_count": null,
   "metadata": {},
   "outputs": [],
   "source": [
    "# 基础小提琴图\n",
    "sns.violinplot(x=\"day\", y=\"total_bill\", data=tips)\n",
    "plt.title(\"每日账单分布形态\")\n",
    "plt.show()\n",
    "\n",
    "# 分组小提琴图\n",
    "sns.violinplot(x=\"day\", y=\"total_bill\", hue=\"sex\",\n",
    "               data=tips, split=True)\n",
    "plt.title(\"按性别分组的每日账单分布\")\n",
    "plt.show()"
   ]
  },
  {
   "cell_type": "markdown",
   "metadata": {},
   "source": [
    "#### 分类散点图"
   ]
  },
  {
   "cell_type": "code",
   "execution_count": null,
   "metadata": {},
   "outputs": [],
   "source": [
    "# 基础分类散点图\n",
    "sns.stripplot(x=\"day\", y=\"total_bill\", data=tips)\n",
    "plt.title(\"每日账单金额分布\")\n",
    "plt.show()\n",
    "\n",
    "# 添加抖动效果\n",
    "sns.stripplot(x=\"day\", y=\"total_bill\", data=tips,\n",
    "              jitter=0.2, hue=\"sex\", dodge=True)\n",
    "plt.title(\"按性别分组的每日账单分布\")\n",
    "plt.show()"
   ]
  },
  {
   "cell_type": "markdown",
   "metadata": {},
   "source": [
    "#### 回归图"
   ]
  },
  {
   "cell_type": "code",
   "execution_count": null,
   "metadata": {},
   "outputs": [],
   "source": [
    "# 基础回归图\n",
    "sns.regplot(x=\"total_bill\", y=\"tip\", data=tips)\n",
    "plt.title(\"账单金额与小费的线性关系\")\n",
    "plt.show()\n",
    "\n",
    "# 自定义回归线样式\n",
    "sns.regplot(x=\"total_bill\", y=\"tip\", data=tips,\n",
    "            line_kws={\"color\":\"red\", \"linestyle\":\"--\"},\n",
    "            scatter_kws={\"alpha\":0.3})\n",
    "plt.title(\"自定义样式的回归图\")\n",
    "plt.show()"
   ]
  },
  {
   "cell_type": "markdown",
   "metadata": {},
   "source": [
    "#### 条形分布图"
   ]
  },
  {
   "cell_type": "code",
   "execution_count": null,
   "metadata": {},
   "outputs": [],
   "source": [
    "# 基础计数图\n",
    "sns.countplot(x=\"day\", data=tips)\n",
    "plt.title(\"每日用餐次数统计\")\n",
    "plt.show()\n",
    "\n",
    "# 分组计数图\n",
    "sns.countplot(x=\"day\", hue=\"sex\", data=tips)\n",
    "plt.title(\"按性别分组的每日用餐次数\")\n",
    "plt.show()"
   ]
  },
  {
   "cell_type": "markdown",
   "metadata": {},
   "source": [
    "#### 高级技巧：多图组合"
   ]
  },
  {
   "cell_type": "code",
   "execution_count": null,
   "metadata": {},
   "outputs": [],
   "source": [
    "# 创建组合图形\n",
    "fig, axes = plt.subplots(2, 2, figsize=(12, 10))\n",
    "\n",
    "sns.scatterplot(x=\"total_bill\", y=\"tip\", data=tips, ax=axes[0,0])\n",
    "sns.boxplot(x=\"day\", y=\"total_bill\", data=tips, ax=axes[0,1])\n",
    "sns.barplot(x=\"day\", y=\"tip\", hue=\"sex\", data=tips, ax=axes[1,0])\n",
    "sns.violinplot(x=\"day\", y=\"total_bill\", hue=\"sex\", \n",
    "               data=tips, split=True, ax=axes[1,1])\n",
    "\n",
    "plt.tight_layout()\n",
    "plt.show()"
   ]
  },
  {
   "cell_type": "markdown",
   "metadata": {},
   "source": [
    "#### 样式设置"
   ]
  },
  {
   "cell_type": "code",
   "execution_count": null,
   "metadata": {},
   "outputs": [],
   "source": [
    "# 设置Seaborn样式\n",
    "sns.set_style(\"whitegrid\")\n",
    "sns.set_palette(\"husl\")\n",
    "\n",
    "# 绘制带有样式的图形\n",
    "sns.barplot(x=\"day\", y=\"total_bill\", hue=\"sex\",\n",
    "            data=tips)\n",
    "plt.title(\"自定义样式的条形图\")\n",
    "plt.show()"
   ]
  },
  {
   "cell_type": "markdown",
   "metadata": {},
   "source": [
    "### 03.分类-连续数据绘图"
   ]
  },
  {
   "cell_type": "markdown",
   "metadata": {},
   "source": [
    "#### 分类数据可视化"
   ]
  },
  {
   "cell_type": "markdown",
   "metadata": {},
   "source": [
    "##### 1. 条形图（展示分类变量的统计量）"
   ]
  },
  {
   "cell_type": "code",
   "execution_count": null,
   "metadata": {},
   "outputs": [],
   "source": [
    "import seaborn as sns\n",
    "import matplotlib.pyplot as plt\n",
    "\n",
    "# 加载示例数据\n",
    "tips = sns.load_dataset(\"tips\")\n",
    "\n",
    "# 基础条形图（展示每天平均账单金额）\n",
    "plt.figure(figsize=(8,5))\n",
    "sns.barplot(x=\"day\", y=\"total_bill\", data=tips, \n",
    "            ci=95,  # 95%置信区间\n",
    "            palette=\"Blues_d\")\n",
    "plt.title(\"每日平均账单金额（含95%置信区间）\")\n",
    "plt.show()\n",
    "\n",
    "# 分组条形图（按性别分组）\n",
    "plt.figure(figsize=(10,5))\n",
    "sns.barplot(x=\"day\", y=\"total_bill\", hue=\"sex\",\n",
    "            data=tips, palette=[\"#3498db\", \"#e74c3c\"],\n",
    "            estimator=sum)  # 改为显示总和\n",
    "plt.title(\"按性别分组的每日账单总金额\")\n",
    "plt.legend(title=\"性别\")\n",
    "plt.show()"
   ]
  },
  {
   "cell_type": "markdown",
   "metadata": {},
   "source": [
    "##### 2.条形分布图（展示类别频数）"
   ]
  },
  {
   "cell_type": "code",
   "execution_count": null,
   "metadata": {},
   "outputs": [],
   "source": [
    "# 基础计数图\n",
    "plt.figure(figsize=(8,5))\n",
    "sns.countplot(x=\"day\", data=tips, \n",
    "              palette=\"viridis\")\n",
    "plt.title(\"每日用餐次数统计\")\n",
    "plt.show()\n",
    "\n",
    "# 水平计数图（改变方向）\n",
    "plt.figure(figsize=(8,4))\n",
    "sns.countplot(y=\"day\", hue=\"time\",\n",
    "              data=tips, palette=\"Set2\")\n",
    "plt.title(\"按用餐时间分组的每日用餐次数\")\n",
    "plt.show()"
   ]
  },
  {
   "cell_type": "markdown",
   "metadata": {},
   "source": [
    "##### 3.箱线图（展示数据分布）"
   ]
  },
  {
   "cell_type": "code",
   "execution_count": null,
   "metadata": {},
   "outputs": [],
   "source": [
    "# 基础箱线图\n",
    "plt.figure(figsize=(8,5))\n",
    "sns.boxplot(x=\"day\", y=\"total_bill\", data=tips,\n",
    "            whis=1.5)  # 调整异常值检测范围\n",
    "plt.title(\"每日账单金额分布\")\n",
    "plt.show()\n",
    "\n",
    "# 分组箱线图（添加缺口显示）\n",
    "plt.figure(figsize=(10,5))\n",
    "sns.boxplot(x=\"day\", y=\"total_bill\", hue=\"sex\",\n",
    "            data=tips, notch=True)  # 显示中位数置信区间缺口\n",
    "plt.title(\"按性别分组的每日账单分布\")\n",
    "plt.show()"
   ]
  },
  {
   "cell_type": "markdown",
   "metadata": {},
   "source": [
    "##### 4.小提琴图（展示分布密度）"
   ]
  },
  {
   "cell_type": "code",
   "execution_count": null,
   "metadata": {},
   "outputs": [],
   "source": [
    "# 基础小提琴图\n",
    "plt.figure(figsize=(8,5))\n",
    "sns.violinplot(x=\"day\", y=\"total_bill\", data=tips,\n",
    "               inner=\"quartile\")  # 显示四分位数线\n",
    "plt.title(\"每日账单金额分布形态\")\n",
    "plt.show()\n",
    "\n",
    "# 分组小提琴图（拆分显示）\n",
    "plt.figure(figsize=(10,5))\n",
    "sns.violinplot(x=\"day\", y=\"total_bill\", hue=\"sex\",\n",
    "               data=tips, split=True,\n",
    "               palette=\"pastel\")\n",
    "plt.title(\"按性别分组的每日账单分布（拆分视图）\")\n",
    "plt.show()"
   ]
  },
  {
   "cell_type": "markdown",
   "metadata": {},
   "source": [
    "#### 连续数据可视化"
   ]
  },
  {
   "cell_type": "markdown",
   "metadata": {},
   "source": [
    "##### 1.散点图（展示双变量关系）"
   ]
  },
  {
   "cell_type": "code",
   "execution_count": null,
   "metadata": {},
   "outputs": [],
   "source": [
    "# 基础散点图\n",
    "plt.figure(figsize=(8,5))\n",
    "sns.scatterplot(x=\"total_bill\", y=\"tip\", \n",
    "                data=tips, alpha=0.7)\n",
    "plt.title(\"账单金额与小费关系\")\n",
    "plt.show()\n",
    "\n",
    "# 高级散点图（多维度展示）\n",
    "plt.figure(figsize=(10,6))\n",
    "sns.scatterplot(x=\"total_bill\", y=\"tip\", \n",
    "                hue=\"time\", style=\"sex\",\n",
    "                size=\"size\",  # 点的大小表示用餐人数\n",
    "                data=tips, sizes=(20, 200))\n",
    "plt.title(\"多维度散点图（时间/性别/人数）\")\n",
    "plt.legend(bbox_to_anchor=(1.05, 1))\n",
    "plt.show()"
   ]
  },
  {
   "cell_type": "markdown",
   "metadata": {},
   "source": [
    "##### 2.折线图（展示时间趋势）"
   ]
  },
  {
   "cell_type": "code",
   "execution_count": null,
   "metadata": {},
   "outputs": [],
   "source": [
    "# 加载时间序列数据\n",
    "flights = sns.load_dataset(\"flights\")\n",
    "\n",
    "# 基础折线图\n",
    "plt.figure(figsize=(12,5))\n",
    "sns.lineplot(x=\"year\", y=\"passengers\", \n",
    "             data=flights, ci=\"sd\")  # 显示标准差\n",
    "plt.title(\"1949-1960年航班乘客量变化\")\n",
    "plt.show()\n",
    "\n",
    "# 多系列折线图\n",
    "plt.figure(figsize=(12,6))\n",
    "sns.lineplot(x=\"year\", y=\"passengers\", \n",
    "             hue=\"month\", style=\"month\",\n",
    "             markers=True, dashes=False,\n",
    "             data=flights)\n",
    "plt.title(\"各月份乘客量年度变化\")\n",
    "plt.show()"
   ]
  },
  {
   "cell_type": "markdown",
   "metadata": {},
   "source": [
    "##### 3.直方图与KDE（展示数据分布）"
   ]
  },
  {
   "cell_type": "code",
   "execution_count": null,
   "metadata": {},
   "outputs": [],
   "source": [
    "# 直方图与KDE组合\n",
    "plt.figure(figsize=(10,5))\n",
    "sns.histplot(data=tips, x=\"total_bill\", bins=20,\n",
    "             kde=True, stat=\"density\",  # 显示密度而非计数\n",
    "             color=\"#3498db\")\n",
    "plt.title(\"账单金额分布（带KDE曲线）\")\n",
    "plt.show()\n",
    "\n",
    "# 分组KDE比较\n",
    "plt.figure(figsize=(10,5))\n",
    "sns.kdeplot(data=tips, x=\"total_bill\", hue=\"time\",\n",
    "            fill=True, alpha=0.3,\n",
    "            palette=[\"#e74c3c\", \"#2ecc71\"])\n",
    "plt.title(\"午餐与晚餐账单金额分布比较\")\n",
    "plt.show()"
   ]
  },
  {
   "cell_type": "markdown",
   "metadata": {},
   "source": [
    "##### 4.成对图（多变量关系）"
   ]
  },
  {
   "cell_type": "code",
   "execution_count": null,
   "metadata": {},
   "outputs": [],
   "source": [
    "# 基础成对图\n",
    "iris = sns.load_dataset(\"iris\")\n",
    "sns.pairplot(iris, hue=\"species\",\n",
    "             palette=\"husl\",\n",
    "             corner=True)  # 只显示下三角\n",
    "plt.suptitle(\"鸢尾花特征成对关系\")\n",
    "plt.show()\n",
    "\n",
    "# 自定义成对图\n",
    "g = sns.PairGrid(iris, hue=\"species\")\n",
    "g.map_upper(sns.scatterplot)  # 上三角散点图\n",
    "g.map_lower(sns.kdeplot)      # 下三角KDE图\n",
    "g.map_diag(sns.histplot)      # 对角线直方图\n",
    "g.add_legend()\n",
    "plt.suptitle(\"自定义成对关系图\")\n",
    "plt.show()"
   ]
  },
  {
   "cell_type": "markdown",
   "metadata": {},
   "source": [
    "##### 5.热力图（展示矩阵数据）"
   ]
  },
  {
   "cell_type": "code",
   "execution_count": null,
   "metadata": {},
   "outputs": [],
   "source": [
    "# 相关性热力图\n",
    "plt.figure(figsize=(8,6))\n",
    "corr = tips.corr()\n",
    "sns.heatmap(corr, annot=True, fmt=\".2f\",\n",
    "            cmap=\"coolwarm\", center=0)\n",
    "plt.title(\"数值变量相关性热力图\")\n",
    "plt.show()\n",
    "\n",
    "# 分面热力图示例\n",
    "flights_pivot = flights.pivot(\"month\", \"year\", \"passengers\")\n",
    "plt.figure(figsize=(10,6))\n",
    "sns.heatmap(flights_pivot, annot=True, fmt=\"d\",\n",
    "            cmap=\"YlGnBu\", linewidths=.5)\n",
    "plt.title(\"1949-1960年各月份乘客量热力图\")\n",
    "plt.show()"
   ]
  },
  {
   "cell_type": "markdown",
   "metadata": {},
   "source": [
    "##### 高级组合图表"
   ]
  },
  {
   "cell_type": "markdown",
   "metadata": {},
   "source": [
    "##### 1.分面图（FacetGrid）"
   ]
  },
  {
   "cell_type": "code",
   "execution_count": null,
   "metadata": {},
   "outputs": [],
   "source": [
    "# 散点图分面\n",
    "g = sns.FacetGrid(tips, col=\"time\", row=\"sex\",\n",
    "                  margin_titles=True)\n",
    "g.map(sns.scatterplot, \"total_bill\", \"tip\")\n",
    "g.set_axis_labels(\"账单金额\", \"小费金额\")\n",
    "plt.suptitle(\"按时间和性别分组的散点图\", y=1.02)\n",
    "plt.show()\n",
    "\n",
    "# 直方图分面\n",
    "g = sns.FacetGrid(tips, col=\"day\", hue=\"sex\",\n",
    "                  palette=\"Set1\", col_wrap=2)\n",
    "g.map(sns.histplot, \"total_bill\", alpha=0.7)\n",
    "g.add_legend()\n",
    "plt.suptitle(\"按天分组的账单金额分布\", y=1.02)\n",
    "plt.show()"
   ]
  },
  {
   "cell_type": "markdown",
   "metadata": {},
   "source": [
    "##### 2.组合图表（JointGrid）"
   ]
  },
  {
   "cell_type": "code",
   "execution_count": null,
   "metadata": {},
   "outputs": [],
   "source": [
    "# 散点图+直方图组合\n",
    "g = sns.JointGrid(data=tips, x=\"total_bill\", y=\"tip\")\n",
    "g.plot_joint(sns.scatterplot, hue=tips[\"sex\"], alpha=0.7)\n",
    "g.plot_marginals(sns.histplot, kde=True)\n",
    "plt.suptitle(\"账单与小费关系的联合分布\", y=1.02)\n",
    "plt.show()\n",
    "\n",
    "# 回归图+KDE组合\n",
    "g = sns.JointGrid(data=tips, x=\"total_bill\", y=\"tip\")\n",
    "g.plot_joint(sns.regplot, scatter_kws={\"alpha\":0.3})\n",
    "g.plot_marginals(sns.kdeplot, fill=True)\n",
    "plt.suptitle(\"账单与小费的回归关系\", y=1.02)\n",
    "plt.show()"
   ]
  },
  {
   "cell_type": "markdown",
   "metadata": {},
   "source": [
    "##### 样式设置技巧"
   ]
  },
  {
   "cell_type": "code",
   "execution_count": null,
   "metadata": {},
   "outputs": [],
   "source": [
    "# 设置全局样式\n",
    "sns.set_style(\"whitegrid\")\n",
    "sns.set_palette(\"husl\")\n",
    "sns.set_context(\"notebook\", font_scale=1.2)\n",
    "\n",
    "# 应用样式的图表\n",
    "plt.figure(figsize=(8,5))\n",
    "sns.barplot(x=\"day\", y=\"total_bill\", hue=\"sex\",\n",
    "            data=tips, errwidth=1.5, capsize=0.1)\n",
    "plt.title(\"自定义样式示例\", pad=20)\n",
    "plt.xlabel(\"星期\", labelpad=10)\n",
    "plt.ylabel(\"账单金额\", labelpad=10)\n",
    "plt.legend(title=\"性别\", framealpha=0.5)\n",
    "sns.despine(left=True)  # 移除左边框\n",
    "plt.show()"
   ]
  },
  {
   "cell_type": "markdown",
   "metadata": {},
   "source": [
    "### 04.多变量绘图"
   ]
  },
  {
   "cell_type": "markdown",
   "metadata": {},
   "source": [
    "| 功能                  | 语法                                      | 描述                                                                 | 常用参数                                                                 |\n",
    "|-----------------------|------------------------------------------|---------------------------------------------------------------------|--------------------------------------------------------------------------|\n",
    "| **配对图 (Pairplot)** | `sns.pairplot(df, hue='category')`       | 展示多变量两两关系，探索相关性和分布                                | `hue`: 分组<br>`kind`: 图形类型<br>`corner`: 是否显示下半矩阵            |\n",
    "| **联合图 (Jointplot)** | `sns.jointplot(x='col1', y='col2', data=df, kind='scatter')` | 展示双变量关系及分布                                      | `kind`: 图形类型<br>`hue`: 分组<br>`height`: 图形大小                   |\n",
    "| **分面网格 (FacetGrid)** | `sns.FacetGrid(df, col='category').map(sns.scatterplot, 'x', 'y')` | 按分类变量分面绘制子图                                | `col/row`: 分面变量<br>`map()`: 绘图函数<br>`hue`: 分组                  |\n",
    "| **热力图 (Heatmap)**  | `sns.heatmap(df.corr())`                | 可视化相关性矩阵                                                    | `annot`: 显示数值<br>`cmap`: 色板<br>`linewidths`: 网格线宽             |\n",
    "| **散点图矩阵 (PairGrid)** | `sns.PairGrid(df).map_lower(sns.kdeplot).map_diag(sns.histplot)` | 定制化多变量关系矩阵                                  | `map_lower()`: 下半区函数<br>`map_diag()`: 对角线函数                   |\n",
    "| **成对关系图**        | `sns.pairplot(df)`                      | 多变量散点图矩阵                                                    | `hue`: 分组<br>`corner`: 半矩阵显示<br>`plot_kws`: 绘图参数             |\n",
    "| **分类分面图**        | `sns.FacetGrid(df, col='category').map(sns.boxplot, 'x', 'y')` | 分类变量分面比较                                    | `col/row`: 分类变量<br>`map()`: 箱线图函数                             |\n",
    "| **雷达图**           | `sns.lineplot(data=df, polar=True)`     | 多维度比较                                                        | `polar=True`: 极坐标<br>`hue`: 分组<br>`style`: 线型                   |\n",
    "| **堆积条形图**        | `sns.barplot(x='category', y='value', hue='sub_category', data=df)` | 展示多级分类占比                                  | `hue`: 子分类<br>`stack`: 堆积<br>`ci`: 误差范围                       |\n",
    "| **三维散点图**        | `from mpl_toolkits.mplot3d import Axes3D`<br>`ax.scatter(xs, ys, zs)` | 三维空间数据分布                                  | `x/y/z`: 三维坐标<br>`c`: 颜色映射<br>`s`: 点大小                       |"
   ]
  },
  {
   "cell_type": "markdown",
   "metadata": {},
   "source": [
    "##### 配对图（Pairplot）"
   ]
  },
  {
   "cell_type": "code",
   "execution_count": null,
   "metadata": {},
   "outputs": [],
   "source": [
    "import seaborn as sns\n",
    "import matplotlib.pyplot as plt\n",
    "\n",
    "# 加载鸢尾花数据集\n",
    "iris = sns.load_dataset('iris')\n",
    "\n",
    "# 基础配对图\n",
    "sns.pairplot(iris)\n",
    "plt.suptitle('鸢尾花特征配对图', y=1.02)\n",
    "plt.show()\n",
    "\n",
    "# 按类别分组的配对图\n",
    "sns.pairplot(iris, hue='species', \n",
    "            palette='husl',\n",
    "            markers=['o', 's', 'D'],\n",
    "            plot_kws={'alpha':0.7})\n",
    "plt.suptitle('按品种分组的特征关系', y=1.02)\n",
    "plt.show()"
   ]
  },
  {
   "cell_type": "markdown",
   "metadata": {},
   "source": [
    "参数说明："
   ]
  },
  {
   "cell_type": "markdown",
   "metadata": {},
   "source": [
    "● `hue`：按品种分组着色<br>\n",
    "● `palette`：设置调色板<br>\n",
    "● `markers`：不同品种使用不同标记<br>\n",
    "● `plot_kws`：传递给底层绘图函数的参数<br>"
   ]
  },
  {
   "cell_type": "markdown",
   "metadata": {},
   "source": [
    "##### 联合图（Jointplot）"
   ]
  },
  {
   "cell_type": "code",
   "execution_count": null,
   "metadata": {},
   "outputs": [],
   "source": [
    "# 基础联合图（散点图+直方图）\n",
    "sns.jointplot(x='sepal_length', y='petal_length', \n",
    "              data=iris, kind='scatter')\n",
    "plt.suptitle('花萼长度与花瓣长度关系', y=1.02)\n",
    "plt.show()\n",
    "\n",
    "# 带回归线的联合图\n",
    "sns.jointplot(x='sepal_length', y='petal_length',\n",
    "              data=iris, kind='reg',\n",
    "              scatter_kws={'alpha':0.4})\n",
    "plt.suptitle('带回归线的联合分布', y=1.02)\n",
    "plt.show()\n",
    "\n",
    "# KDE联合图\n",
    "sns.jointplot(x='sepal_length', y='petal_length',\n",
    "              data=iris, kind='kde',\n",
    "              shade=True, cmap='Blues')\n",
    "plt.suptitle('密度估计联合图', y=1.02)\n",
    "plt.show()"
   ]
  },
  {
   "cell_type": "markdown",
   "metadata": {},
   "source": [
    "##### 分面网格（FacetGrid）"
   ]
  },
  {
   "cell_type": "code",
   "execution_count": null,
   "metadata": {},
   "outputs": [],
   "source": [
    "# 创建分面网格\n",
    "g = sns.FacetGrid(iris, col='species', \n",
    "                  height=4, aspect=0.8)\n",
    "g.map(sns.scatterplot, 'sepal_length', 'petal_length')\n",
    "g.set_axis_labels('花萼长度', '花瓣长度')\n",
    "plt.suptitle('按品种分组的散点图', y=1.05)\n",
    "plt.show()\n",
    "\n",
    "# 多维度分面\n",
    "tips = sns.load_dataset('tips')\n",
    "g = sns.FacetGrid(tips, row='sex', col='time',\n",
    "                  margin_titles=True)\n",
    "g.map(sns.histplot, 'total_bill', bins=15)\n",
    "g.set_axis_labels('账单金额', '频数')\n",
    "plt.suptitle('按性别和时间分组的小费分布', y=1.05)\n",
    "plt.show()"
   ]
  },
  {
   "cell_type": "markdown",
   "metadata": {},
   "source": [
    "##### 热力图（Heatmap）"
   ]
  },
  {
   "cell_type": "code",
   "execution_count": null,
   "metadata": {},
   "outputs": [],
   "source": [
    "# 相关性热力图\n",
    "corr = iris.corr()\n",
    "plt.figure(figsize=(8,6))\n",
    "sns.heatmap(corr, annot=True, fmt='.2f',\n",
    "            cmap='coolwarm', center=0,\n",
    "            linewidths=0.5)\n",
    "plt.title('鸢尾花特征相关性热力图')\n",
    "plt.show()\n",
    "\n",
    "# 航班数据热力图\n",
    "flights = sns.load_dataset('flights')\n",
    "flights_pivot = flights.pivot('month', 'year', 'passengers')\n",
    "plt.figure(figsize=(10,6))\n",
    "sns.heatmap(flights_pivot, annot=True, fmt='d',\n",
    "            cmap='YlGnBu', linewidths=0.5)\n",
    "plt.title('1949-1960年各月份乘客量')\n",
    "plt.show()"
   ]
  },
  {
   "cell_type": "markdown",
   "metadata": {},
   "source": [
    "##### 散点图矩阵（PairGrid）"
   ]
  },
  {
   "cell_type": "code",
   "execution_count": null,
   "metadata": {},
   "outputs": [],
   "source": [
    "# 自定义散点图矩阵\n",
    "g = sns.PairGrid(iris, hue='species')\n",
    "g.map_upper(sns.scatterplot, alpha=0.7)  # 上三角散点图\n",
    "g.map_lower(sns.kdeplot)                # 下三角密度图\n",
    "g.map_diag(sns.histplot, kde=True)      # 对角线直方图\n",
    "g.add_legend()\n",
    "plt.suptitle('自定义散点图矩阵', y=1.02)\n",
    "plt.show()"
   ]
  },
  {
   "cell_type": "markdown",
   "metadata": {},
   "source": [
    "##### 分类分面图"
   ]
  },
  {
   "cell_type": "code",
   "execution_count": null,
   "metadata": {},
   "outputs": [],
   "source": [
    "# 箱线图分面\n",
    "plt.figure(figsize=(10,6))\n",
    "g = sns.FacetGrid(tips, col='day', height=4, aspect=0.7)\n",
    "g.map(sns.boxplot, 'sex', 'total_bill', order=['Male','Female'])\n",
    "g.set_axis_labels('性别', '账单金额')\n",
    "plt.suptitle('每日账单金额的性别差异', y=1.05)\n",
    "plt.show()"
   ]
  },
  {
   "cell_type": "markdown",
   "metadata": {},
   "source": [
    "##### 雷达图"
   ]
  },
  {
   "cell_type": "code",
   "execution_count": null,
   "metadata": {},
   "outputs": [],
   "source": [
    "import numpy as np\n",
    "\n",
    "# 准备雷达图数据\n",
    "categories = iris.columns[:-1]\n",
    "N = len(categories)\n",
    "angles = np.linspace(0, 2*np.pi, N, endpoint=False).tolist()\n",
    "\n",
    "fig = plt.figure(figsize=(8,8))\n",
    "ax = fig.add_subplot(111, polar=True)\n",
    "for species, group in iris.groupby('species'):\n",
    "    values = group.mean()[:-1].tolist()\n",
    "    values += values[:1]  # 闭合图形\n",
    "    ax.plot(angles+angles[:1], values, \n",
    "            label=species, linewidth=2)\n",
    "    ax.fill(angles+angles[:1], values, alpha=0.25)\n",
    "\n",
    "ax.set_thetagrids(np.degrees(angles), categories)\n",
    "plt.title('鸢尾花品种特征雷达图')\n",
    "plt.legend(loc='upper right')\n",
    "plt.show()"
   ]
  },
  {
   "cell_type": "markdown",
   "metadata": {},
   "source": [
    "##### 堆积条形图"
   ]
  },
  {
   "cell_type": "code",
   "execution_count": null,
   "metadata": {},
   "outputs": [],
   "source": [
    "# 准备数据\n",
    "df = tips.groupby(['day', 'sex'])['total_bill'].mean().unstack()\n",
    "\n",
    "# 绘制堆积条形图\n",
    "df.plot(kind='bar', stacked=True, \n",
    "        color=['#3498db', '#e74c3c'],\n",
    "        figsize=(8,5))\n",
    "plt.title('每日平均账单金额（按性别堆积）')\n",
    "plt.ylabel('平均账单金额')\n",
    "plt.xlabel('星期')\n",
    "plt.legend(title='性别')\n",
    "plt.show()"
   ]
  },
  {
   "cell_type": "markdown",
   "metadata": {},
   "source": [
    "##### 三维散点图"
   ]
  },
  {
   "cell_type": "code",
   "execution_count": null,
   "metadata": {},
   "outputs": [],
   "source": [
    "from mpl_toolkits.mplot3d import Axes3D\n",
    "\n",
    "# 创建3D图形\n",
    "fig = plt.figure(figsize=(10,8))\n",
    "ax = fig.add_subplot(111, projection='3d')\n",
    "\n",
    "# 按品种着色\n",
    "colors = {'setosa':'r', 'versicolor':'g', 'virginica':'b'}\n",
    "for species, group in iris.groupby('species'):\n",
    "    ax.scatter(group['sepal_length'], \n",
    "               group['sepal_width'],\n",
    "               group['petal_length'],\n",
    "               c=colors[species],\n",
    "               label=species,\n",
    "               s=50, alpha=0.7)\n",
    "\n",
    "ax.set_xlabel('花萼长度')\n",
    "ax.set_ylabel('花萼宽度')\n",
    "ax.set_zlabel('花瓣长度')\n",
    "plt.title('鸢尾花特征三维散点图')\n",
    "plt.legend()\n",
    "plt.show()"
   ]
  },
  {
   "cell_type": "markdown",
   "metadata": {},
   "source": [
    "##### 高级技巧：组合图表"
   ]
  },
  {
   "cell_type": "code",
   "execution_count": null,
   "metadata": {},
   "outputs": [],
   "source": [
    "# 创建组合图表\n",
    "plt.figure(figsize=(12,10))\n",
    "\n",
    "# 热力图\n",
    "plt.subplot(221)\n",
    "sns.heatmap(iris.corr(), annot=True, cmap='coolwarm')\n",
    "\n",
    "# 联合图\n",
    "plt.subplot(222)\n",
    "sns.jointplot(x='sepal_length', y='petal_length', \n",
    "              data=iris, kind='kde')\n",
    "\n",
    "# 分面图\n",
    "plt.subplot(223)\n",
    "g = sns.FacetGrid(iris, col='species')\n",
    "g.map(sns.boxplot, 'sepal_length')\n",
    "\n",
    "# 配对图\n",
    "plt.subplot(224)\n",
    "sns.pairplot(iris, hue='species')\n",
    "\n",
    "plt.tight_layout()\n",
    "plt.show()"
   ]
  },
  {
   "cell_type": "markdown",
   "metadata": {},
   "source": [
    "### 05.高级绘图"
   ]
  },
  {
   "cell_type": "markdown",
   "metadata": {},
   "source": [
    "| 章节               | 知识点                     | 常用函数/方法                     | 描述/用途                                                                 |\n",
    "|--------------------|---------------------------|-----------------------------------|--------------------------------------------------------------------------|\n",
    "| **回归分析**       | 回归图                    | `sns.regplot()`                  | 绘制散点图并添加回归线，展示数据的线性关系                                |\n",
    "|                    | 回归类型（线性回归、岭回归等） | `sns.regplot()`                 | 在回归图上进行不同类型的回归分析，拟合趋势线                            |\n",
    "|                    | 残差图                    | `sns.residplot()`               | 展示回归模型的残差，评估回归模型拟合效果                                |\n",
    "|                    | 回归回调                  | `sns.lmplot()`                  | 结合回归模型与分类数据的分组展示                                        |\n",
    "| **统计图表进阶**   | 条形分布图                | `sns.countplot()`               | 显示分类数据的频数分布                                                  |\n",
    "|                    | 分布图（直方图与KDE）     | `sns.histplot()`, `sns.kdeplot()` | 展示数据分布情况，分别用于直方图和核密度估计                            |\n",
    "|                    | 成对关系图                | `sns.pairplot()`                | 展示多变量间的成对关系（散点图+分布图）                                 |\n",
    "|                    | 联合图                    | `sns.jointplot()`               | 同时显示双变量的散点图、分布图及其关系                                  |\n",
    "| **高级绘图技巧**   | 分面网格                  | `sns.FacetGrid()`               | 按类别变量绘制多个子图                                                  |\n",
    "|                    | 图形定制                  | `plt.title()`, `plt.xlabel()`, `plt.ylabel()`, `plt.legend()` | 定制图表标题、坐标轴标签和图例                                          |\n",
    "|                    | 图形标注与注释            | `plt.text()`, `sns.annotate()`   | 添加文字标注和数据点注释                                                |\n",
    "|                    | 图形保存                  | `plt.savefig()`                 | 将图形保存为图像文件（PNG/PDF/SVG）                                     |\n",
    "|                    | 控制轴范围与比例          | `plt.xlim()`, `plt.ylim()`      | 自定义坐标轴显示范围                                                    |\n",
    "|                    | 绘制多子图                | `plt.subplots()`                | 在一个画布上创建多个子图                                                |\n",
    "|                    | 颜色映射与色条            | `sns.heatmap()`, `sns.color_palette()` | 创建热力图和控制颜色渐变                                                |\n",
    "|                    | 自定义坐标轴              | `plt.gca()`, `ax.set_*()`       | 通过gca获取当前坐标轴，定制坐标轴属性                                   |"
   ]
  },
  {
   "cell_type": "markdown",
   "metadata": {},
   "source": [
    "#### 回归分析可视化"
   ]
  },
  {
   "cell_type": "markdown",
   "metadata": {},
   "source": [
    "##### 1.基础回归图"
   ]
  },
  {
   "cell_type": "code",
   "execution_count": null,
   "metadata": {},
   "outputs": [],
   "source": [
    "import seaborn as sns\n",
    "import matplotlib.pyplot as plt\n",
    "\n",
    "# 加载示例数据\n",
    "tips = sns.load_dataset(\"tips\")\n",
    "\n",
    "# 绘制基础回归图\n",
    "plt.figure(figsize=(8,5))\n",
    "sns.regplot(x=\"total_bill\", y=\"tip\", data=tips,\n",
    "            scatter_kws={\"alpha\":0.4, \"color\":\"#3498db\"},\n",
    "            line_kws={\"color\":\"#e74c3c\", \"linewidth\":2})\n",
    "plt.title(\"账单金额与小费的线性关系\", pad=15)\n",
    "plt.xlabel(\"账单金额($)\")\n",
    "plt.ylabel(\"小费金额($)\")\n",
    "plt.grid(True, alpha=0.3)\n",
    "plt.show()"
   ]
  },
  {
   "cell_type": "markdown",
   "metadata": {},
   "source": [
    "##### 2.带置信区间的回归图"
   ]
  },
  {
   "cell_type": "code",
   "execution_count": null,
   "metadata": {},
   "outputs": [],
   "source": [
    "plt.figure(figsize=(8,5))\n",
    "sns.regplot(x=\"total_bill\", y=\"tip\", data=tips,\n",
    "            ci=99,  # 99%置信区间\n",
    "            marker=\"+\",\n",
    "            scatter_kws={\"alpha\":0.5})\n",
    "plt.title(\"带99%置信区间的回归图\", pad=15)\n",
    "plt.show()"
   ]
  },
  {
   "cell_type": "markdown",
   "metadata": {},
   "source": [
    "##### 3.残差分析图"
   ]
  },
  {
   "cell_type": "code",
   "execution_count": null,
   "metadata": {},
   "outputs": [],
   "source": [
    "plt.figure(figsize=(8,5))\n",
    "sns.residplot(x=\"total_bill\", y=\"tip\", data=tips,\n",
    "               lowess=True,  # 显示局部加权回归线\n",
    "               line_kws={\"color\": \"red\", \"lw\": 1})\n",
    "plt.title(\"回归残差图\", pad=15)\n",
    "plt.xlabel(\"账单金额($)\")\n",
    "plt.ylabel(\"残差\")\n",
    "plt.axhline(y=0, color='gray', linestyle='--')\n",
    "plt.show()"
   ]
  },
  {
   "cell_type": "markdown",
   "metadata": {},
   "source": [
    "##### 4.分组回归图"
   ]
  },
  {
   "cell_type": "code",
   "execution_count": null,
   "metadata": {},
   "outputs": [],
   "source": [
    "plt.figure(figsize=(10,6))\n",
    "sns.lmplot(x=\"total_bill\", y=\"tip\", hue=\"time\",\n",
    "           data=tips, palette=[\"#3498db\", \"#e74c3c\"],\n",
    "           height=5, aspect=1.5,\n",
    "           markers=[\"o\", \"x\"])\n",
    "plt.suptitle(\"午餐与晚餐时段的回归关系\", y=1.02)\n",
    "plt.xlabel(\"账单金额($)\")\n",
    "plt.ylabel(\"小费金额($)\")\n",
    "plt.show()"
   ]
  },
  {
   "cell_type": "markdown",
   "metadata": {},
   "source": [
    "#### 4.统计图表进阶"
   ]
  },
  {
   "cell_type": "markdown",
   "metadata": {},
   "source": [
    "##### 1.条形分布图（Countplot）"
   ]
  },
  {
   "cell_type": "code",
   "execution_count": null,
   "metadata": {},
   "outputs": [],
   "source": [
    "plt.figure(figsize=(8,5))\n",
    "ax = sns.countplot(x=\"day\", data=tips,\n",
    "                   palette=\"viridis\",\n",
    "                   order=[\"Thur\", \"Fri\", \"Sat\", \"Sun\"])  # 自定义顺序\n",
    "plt.title(\"每日用餐次数统计\", pad=15)\n",
    "\n",
    "# 添加数值标签\n",
    "for p in ax.patches:\n",
    "    ax.annotate(f'{p.get_height():.0f}', \n",
    "                (p.get_x() + p.get_width() / 2., p.get_height()),\n",
    "                ha='center', va='center', \n",
    "                xytext=(0, 5), \n",
    "                textcoords='offset points')\n",
    "\n",
    "plt.show()"
   ]
  },
  {
   "cell_type": "markdown",
   "metadata": {},
   "source": [
    "##### 2.布图组合（直方图+KDE）"
   ]
  },
  {
   "cell_type": "code",
   "execution_count": null,
   "metadata": {},
   "outputs": [],
   "source": [
    "plt.figure(figsize=(10,5))\n",
    "sns.histplot(data=tips, x=\"total_bill\", bins=20,\n",
    "             kde=True,  # 同时显示KDE曲线\n",
    "             stat=\"density\",  # 显示密度而非计数\n",
    "             color=\"#3498db\",\n",
    "             edgecolor=\"white\")\n",
    "plt.title(\"账单金额分布（带核密度估计）\", pad=15)\n",
    "plt.xlabel(\"账单金额($)\")\n",
    "plt.grid(True, alpha=0.3)\n",
    "plt.show()"
   ]
  },
  {
   "cell_type": "markdown",
   "metadata": {},
   "source": [
    "##### 3.成对关系图（Pairplot）"
   ]
  },
  {
   "cell_type": "code",
   "execution_count": null,
   "metadata": {},
   "outputs": [],
   "source": [
    "# 自定义对角线和非对角线图形\n",
    "iris = sns.load_dataset(\"iris\")\n",
    "g = sns.pairplot(iris, hue=\"species\",\n",
    "                 diag_kind=\"hist\",  # 对角线显示直方图\n",
    "                 plot_kws={\"alpha\":0.7, \"s\":15},\n",
    "                 corner=True)  # 只显示下三角\n",
    "g.fig.suptitle(\"鸢尾花特征成对关系\", y=1.02)\n",
    "plt.show()"
   ]
  },
  {
   "cell_type": "markdown",
   "metadata": {},
   "source": [
    "##### 4.高级联合图（Jointplot）"
   ]
  },
  {
   "cell_type": "code",
   "execution_count": null,
   "metadata": {},
   "outputs": [],
   "source": [
    "# 六边形分箱图+边际KDE\n",
    "plt.figure(figsize=(8,6))\n",
    "sns.jointplot(x=\"total_bill\", y=\"tip\", data=tips,\n",
    "              kind=\"hex\",  # 六边形分箱\n",
    "              marginal_kws={\"bins\":15, \"kde\":True},\n",
    "              height=7)\n",
    "plt.suptitle(\"账单与小费的联合分布（六边形分箱）\", y=1.02)\n",
    "plt.show()"
   ]
  },
  {
   "cell_type": "markdown",
   "metadata": {},
   "source": [
    "#### 高级绘图技巧"
   ]
  },
  {
   "cell_type": "markdown",
   "metadata": {},
   "source": [
    "##### 1.分面网格（FacetGrid）"
   ]
  },
  {
   "cell_type": "markdown",
   "metadata": {},
   "source": [
    "# 创建分面网格\n",
    "g = sns.FacetGrid(tips, col=\"day\", row=\"sex\",\n",
    "                  margin_titles=True,\n",
    "                  height=3.5, aspect=1.2)\n",
    "\n",
    "# 映射散点图\n",
    "g.map(sns.scatterplot, \"total_bill\", \"tip\", alpha=0.7)\n",
    "\n",
    "# 添加回归线\n",
    "g.map(sns.regplot, \"total_bill\", \"tip\", scatter=False, color=\"red\")\n",
    "\n",
    "# 设置标签\n",
    "g.set_axis_labels(\"账单金额($)\", \"小费金额($)\")\n",
    "g.fig.suptitle(\"按性别和日期分组的小费分析\", y=1.05)\n",
    "plt.show()"
   ]
  },
  {
   "cell_type": "markdown",
   "metadata": {},
   "source": [
    "##### 2.图形标注与注释"
   ]
  },
  {
   "cell_type": "code",
   "execution_count": null,
   "metadata": {},
   "outputs": [],
   "source": [
    "plt.figure(figsize=(10,6))\n",
    "ax = sns.scatterplot(x=\"total_bill\", y=\"tip\", data=tips)\n",
    "\n",
    "# 标注离群点\n",
    "outlier = tips.nlargest(1, \"tip\")\n",
    "ax.annotate(f\"异常高小费: ${outlier['tip'].values[0]:.2f}\",\n",
    "            xy=(outlier[\"total_bill\"], outlier[\"tip\"]),\n",
    "            xytext=(15, 15), textcoords=\"offset points\",\n",
    "            arrowprops=dict(arrowstyle=\"->\"))\n",
    "\n",
    "plt.title(\"账单与小费关系（带异常值标注）\", pad=15)\n",
    "plt.show()"
   ]
  },
  {
   "cell_type": "markdown",
   "metadata": {},
   "source": [
    "##### 3.多子图组合"
   ]
  },
  {
   "cell_type": "code",
   "execution_count": null,
   "metadata": {},
   "outputs": [],
   "source": [
    "fig, axes = plt.subplots(2, 2, figsize=(12,10))\n",
    "\n",
    "# 子图1: 回归图\n",
    "sns.regplot(x=\"total_bill\", y=\"tip\", data=tips, ax=axes[0,0])\n",
    "axes[0,0].set_title(\"回归分析\")\n",
    "\n",
    "# 子图2: 箱线图\n",
    "sns.boxplot(x=\"day\", y=\"total_bill\", data=tips, ax=axes[0,1])\n",
    "axes[0,1].set_title(\"每日账单分布\")\n",
    "\n",
    "# 子图3: KDE图\n",
    "sns.kdeplot(data=tips, x=\"total_bill\", ax=axes[1,0])\n",
    "axes[1,0].set_title(\"账单金额密度\")\n",
    "\n",
    "# 子图4: 计数图\n",
    "sns.countplot(x=\"size\", data=tips, ax=axes[1,1])\n",
    "axes[1,1].set_title(\"用餐人数统计\")\n",
    "\n",
    "plt.suptitle(\"多维度数据分析\", y=1.02)\n",
    "plt.tight_layout()\n",
    "plt.show()"
   ]
  },
  {
   "cell_type": "markdown",
   "metadata": {},
   "source": [
    "##### 4.自定义颜色与样式"
   ]
  },
  {
   "cell_type": "code",
   "execution_count": null,
   "metadata": {},
   "outputs": [],
   "source": [
    "# 设置全局样式\n",
    "sns.set_style(\"whitegrid\")\n",
    "sns.set_palette(\"husl\")\n",
    "\n",
    "plt.figure(figsize=(10,6))\n",
    "sns.barplot(x=\"day\", y=\"total_bill\", hue=\"sex\",\n",
    "            data=tips, errwidth=1, capsize=0.1,\n",
    "            saturation=0.8)\n",
    "\n",
    "# 自定义图例\n",
    "plt.legend(title=\"性别\", frameon=True, shadow=True)\n",
    "\n",
    "# 坐标轴美化\n",
    "plt.gca().spines['top'].set_visible(False)\n",
    "plt.gca().spines['right'].set_visible(False)\n",
    "\n",
    "plt.title(\"自定义样式的条形图\", pad=20)\n",
    "plt.show()"
   ]
  }
 ],
 "metadata": {
  "language_info": {
   "name": "python"
  }
 },
 "nbformat": 4,
 "nbformat_minor": 2
}
