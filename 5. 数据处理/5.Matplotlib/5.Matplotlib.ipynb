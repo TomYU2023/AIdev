{
 "cells": [
  {
   "cell_type": "code",
   "execution_count": null,
   "metadata": {},
   "outputs": [],
   "source": []
  },
  {
   "cell_type": "markdown",
   "metadata": {},
   "source": [
    "## Matplotlib"
   ]
  },
  {
   "cell_type": "markdown",
   "metadata": {},
   "source": [
    "### 01.Matplotlib简介"
   ]
  },
  {
   "cell_type": "markdown",
   "metadata": {},
   "source": [
    "https://matplotlib.org/"
   ]
  },
  {
   "cell_type": "markdown",
   "metadata": {},
   "source": [
    "#### 1.使用手册"
   ]
  },
  {
   "cell_type": "markdown",
   "metadata": {},
   "source": [
    "https://matplotlib.org/stable/users/explain/quick_start.html"
   ]
  },
  {
   "cell_type": "markdown",
   "metadata": {},
   "source": [
    "#### 2.安装"
   ]
  },
  {
   "cell_type": "code",
   "execution_count": null,
   "metadata": {},
   "outputs": [],
   "source": [
    "pip install matplotlib"
   ]
  },
  {
   "cell_type": "markdown",
   "metadata": {},
   "source": [
    "| 特点           | Matplotlib                                      | Seaborn                                      |\n",
    "|----------------|------------------------------------------------|---------------------------------------------|\n",
    "| **易用性**     | 需要更多的代码和配置，灵活性高。               | 简单易用，自动生成漂亮的图表。               |\n",
    "| **默认样式**   | 默认样式简洁，需要手动调整。                   | 默认样式美观，适合展示。                     |\n",
    "| **图表类型**   | 支持各种基础图表，如折线图、柱状图、散点图等。 | 专注于统计图表，如箱线图、热力图、成对关系图等。 |\n",
    "| **定制化程度** | 高度可定制，控制图表的每个细节。               | 提供少量定制选项，主要用于快速绘图。         |\n",
    "| **数据支持**   | 与 NumPy、Pandas 等库良好配合。                | 特别适合与 Pandas 配合使用，自动处理标签和索引。 |\n",
    "| **学习曲线**   | 较陡峭，需要掌握更多的细节。                   | 更容易上手，适合快速绘图。                   |\n",
    "| **美观性**     | 默认图表比较朴素，需要手动美化。               | 图表更美观，适合快速生成美观的统计图。       |"
   ]
  },
  {
   "cell_type": "markdown",
   "metadata": {},
   "source": [
    "### 02.绘制图形"
   ]
  },
  {
   "cell_type": "markdown",
   "metadata": {},
   "source": [
    "#### 1.总结"
   ]
  },
  {
   "cell_type": "markdown",
   "metadata": {},
   "source": [
    "| 知识点               | 描述                                                                 | 示例                                                                 |\n",
    "|----------------------|---------------------------------------------------------------------|---------------------------------------------------------------------|\n",
    "| **绘制简单图形**     | 使用pyplot接口绘制简单的线性图                                     | `plt.plot(x, y)`                                                   |\n",
    "| **设置标题与标签**   | 设置图形的标题和坐标轴标签                                         | `plt.title('Title')`, `plt.xlabel('X')`, `plt.ylabel('Y')`        |\n",
    "| **添加图例**         | 为图形添加图例                                                   | `plt.legend(['Label1', 'Label2'])`                                 |\n",
    "| **显示图形**         | 展示绘制的图形                                                   | `plt.show()`                                                       |\n",
    "| **折线图**           | 绘制折线图展示数据变化趋势                                       | `plt.plot(x, y)`                                                   |\n",
    "| **散点图**           | 绘制散点图展示变量关系                                           | `plt.scatter(x, y)`                                                |\n",
    "| **柱状图**           | 绘制柱状图比较类别数据                                           | `plt.bar(x, y)`                                                    |\n",
    "| **直方图**           | 绘制直方图展示数据分布                                           | `plt.hist(data, bins=10)`                                          |\n",
    "| **饼图**             | 绘制饼图展示占比                                                 | `plt.pie(sizes, labels=labels)`                                    |\n",
    "| **箱线图**           | 绘制箱线图展示数据统计特征                                       | `plt.boxplot(data)`                                                |\n",
    "| **误差条图**         | 绘制误差条图展示数据不确定性                                     | `plt.errorbar(x, y, yerr=0.1, fmt='o')`                            |\n",
    "| **双坐标轴图形**     | 创建双Y轴图形                                                   | `fig, ax1 = plt.subplots()`<br>`ax2 = ax1.twinx()`                 |\n",
    "| **极坐标图**         | 在极坐标系中绘图                                                 | `plt.subplot(projection='polar')`                                  |\n",
    "| **动态图形与动画**   | 创建动态更新的图形                                               | `FuncAnimation(fig, animate, frames=100, interval=200)`            |\n",
    "| **三维图形绘制**     | 绘制三维图形                                                     | `fig = plt.figure()`<br>`ax = fig.add_subplot(111, projection='3d')` |\n",
    "| **绘制热图**         | 用颜色强度表示矩阵数据                                           | `plt.imshow(data, cmap='hot', interpolation='nearest')`            |\n",
    "| **多子图绘制**       | 创建多个子图                                                     | `plt.subplot(2, 2, 1)`                                             |\n",
    "| **坐标轴范围与刻度** | 设置坐标轴范围和刻度                                             | `plt.xlim(0, 10)`, `plt.ylim(0, 10)`, `plt.xticks(range(0, 11))`  |\n",
    "| **线条样式与颜色**   | 设置线条样式和颜色                                               | `plt.plot(x, y, linestyle='--', color='r')`                        |\n",
    "| **文本与注释**       | 添加文本标注和注释                                               | `plt.text(x, y, 'label')`, `plt.annotate()`                        |\n",
    "| **图形保存**         | 将图形保存为图片                                                 | `plt.savefig('plot.png')`                                          |\n",
    "| **图形网格与样式**   | 启用网格线和应用预设样式                                         | `plt.grid(True)`, `plt.style.use('seaborn')`                       |"
   ]
  },
  {
   "cell_type": "markdown",
   "metadata": {},
   "source": [
    "#### 2.绘制简单图形"
   ]
  },
  {
   "cell_type": "code",
   "execution_count": null,
   "metadata": {},
   "outputs": [
    {
     "ename": "ModuleNotFoundError",
     "evalue": "No module named 'matplotlib'",
     "output_type": "error",
     "traceback": [
      "\u001b[31m---------------------------------------------------------------------------\u001b[39m\n",
      "\u001b[31mModuleNotFoundError\u001b[39m                       Traceback (most recent call last)\n",
      "\u001b[36mCell\u001b[39m\u001b[36m \u001b[39m\u001b[32mIn[4]\u001b[39m\u001b[32m, line 1\u001b[39m\n",
      "\u001b[32m----> \u001b[39m\u001b[32m1\u001b[39m \u001b[38;5;28;01mimport\u001b[39;00m\u001b[38;5;250m \u001b[39m\u001b[34;01mmatplotlib\u001b[39;00m\u001b[34;01m.\u001b[39;00m\u001b[34;01mpyplot\u001b[39;00m\u001b[38;5;250m \u001b[39m\u001b[38;5;28;01mas\u001b[39;00m\u001b[38;5;250m \u001b[39m\u001b[34;01mplt\u001b[39;00m\n",
      "\u001b[32m      2\u001b[39m \u001b[38;5;28;01mimport\u001b[39;00m\u001b[38;5;250m \u001b[39m\u001b[34;01mnumpy\u001b[39;00m\u001b[38;5;250m \u001b[39m\u001b[38;5;28;01mas\u001b[39;00m\u001b[38;5;250m \u001b[39m\u001b[34;01mnp\u001b[39;00m\n",
      "\u001b[32m      4\u001b[39m x = np.linspace(\u001b[32m0\u001b[39m, \u001b[32m10\u001b[39m, \u001b[32m100\u001b[39m)\n",
      "\n",
      "\u001b[31mModuleNotFoundError\u001b[39m: No module named 'matplotlib'"
     ]
    }
   ],
   "source": [
    "import matplotlib.pyplot as plt\n",
    "import numpy as np\n",
    "\n",
    "x = np.linspace(0, 10, 100)\n",
    "y = np.sin(x)\n",
    "plt.plot(x, y)\n",
    "plt.show()"
   ]
  },
  {
   "cell_type": "markdown",
   "metadata": {},
   "source": [
    "##### 2.1.设置标题与标签"
   ]
  },
  {
   "cell_type": "code",
   "execution_count": null,
   "metadata": {},
   "outputs": [],
   "source": [
    "plt.plot(x, y)\n",
    "plt.title('Sine Wave')\n",
    "plt.xlabel('X-axis')\n",
    "plt.ylabel('Y-axis')\n",
    "plt.show()"
   ]
  },
  {
   "cell_type": "markdown",
   "metadata": {},
   "source": [
    "##### 2.2.添加图例"
   ]
  },
  {
   "cell_type": "code",
   "execution_count": null,
   "metadata": {},
   "outputs": [],
   "source": [
    "plt.plot(x, np.sin(x), label='Sine')\n",
    "plt.plot(x, np.cos(x), label='Cosine')\n",
    "plt.legend()\n",
    "plt.show()"
   ]
  },
  {
   "cell_type": "markdown",
   "metadata": {},
   "source": [
    "#### 3.折线图"
   ]
  },
  {
   "cell_type": "code",
   "execution_count": null,
   "metadata": {},
   "outputs": [],
   "source": [
    "years = [2010, 2012, 2014, 2016, 2018]\n",
    "values = [100, 150, 135, 200, 175]\n",
    "plt.plot(years, values, marker='o')\n",
    "plt.show()"
   ]
  },
  {
   "cell_type": "markdown",
   "metadata": {},
   "source": [
    "#### 4.散点图 "
   ]
  },
  {
   "cell_type": "code",
   "execution_count": null,
   "metadata": {},
   "outputs": [],
   "source": [
    "x = np.random.rand(50)\n",
    "y = np.random.rand(50)\n",
    "plt.scatter(x, y, c='red', alpha=0.5)\n",
    "plt.show()"
   ]
  },
  {
   "cell_type": "markdown",
   "metadata": {},
   "source": [
    "#### 5.柱状图"
   ]
  },
  {
   "cell_type": "code",
   "execution_count": null,
   "metadata": {},
   "outputs": [],
   "source": [
    "categories = ['A', 'B', 'C', 'D']\n",
    "values = [15, 30, 45, 10]\n",
    "plt.bar(categories, values, color=['red', 'green', 'blue', 'yellow'])\n",
    "plt.show()"
   ]
  },
  {
   "cell_type": "markdown",
   "metadata": {},
   "source": [
    "#### 6.直方图"
   ]
  },
  {
   "cell_type": "code",
   "execution_count": null,
   "metadata": {},
   "outputs": [],
   "source": [
    "data = np.random.normal(0, 1, 1000)\n",
    "plt.hist(data, bins=30, edgecolor='black')\n",
    "plt.show()"
   ]
  },
  {
   "cell_type": "markdown",
   "metadata": {},
   "source": [
    "#### 7.饼图"
   ]
  },
  {
   "cell_type": "code",
   "execution_count": null,
   "metadata": {},
   "outputs": [],
   "source": [
    "sizes = [30, 20, 25, 15, 10]\n",
    "labels = ['A', 'B', 'C', 'D', 'E']\n",
    "plt.pie(sizes, labels=labels, autopct='%1.1f%%')\n",
    "plt.show()"
   ]
  },
  {
   "cell_type": "markdown",
   "metadata": {},
   "source": [
    "#### 8.箱线图"
   ]
  },
  {
   "cell_type": "code",
   "execution_count": null,
   "metadata": {},
   "outputs": [],
   "source": [
    "data = [np.random.normal(0, std, 100) for std in range(1, 4)]\n",
    "plt.boxplot(data, vert=True, patch_artist=True)\n",
    "plt.show()"
   ]
  },
  {
   "cell_type": "markdown",
   "metadata": {},
   "source": [
    "#### 9.误差条图"
   ]
  },
  {
   "cell_type": "code",
   "execution_count": null,
   "metadata": {},
   "outputs": [],
   "source": [
    "x = np.arange(5)\n",
    "y = [1, 3, 2, 4, 3]\n",
    "error = [0.1, 0.2, 0.3, 0.4, 0.5]\n",
    "plt.errorbar(x, y, yerr=error, fmt='o', capsize=5)\n",
    "plt.show()"
   ]
  },
  {
   "cell_type": "markdown",
   "metadata": {},
   "source": [
    "#### 10.双坐标轴图形"
   ]
  },
  {
   "cell_type": "code",
   "execution_count": null,
   "metadata": {},
   "outputs": [],
   "source": [
    "fig, ax1 = plt.subplots()\n",
    "ax1.plot(x, np.sin(x), 'g-')\n",
    "ax2 = ax1.twinx()\n",
    "ax2.plot(x, np.cos(x), 'b--')\n",
    "plt.show()"
   ]
  },
  {
   "cell_type": "markdown",
   "metadata": {},
   "source": [
    "#### 11.极坐标图"
   ]
  },
  {
   "cell_type": "code",
   "execution_count": null,
   "metadata": {},
   "outputs": [],
   "source": [
    "theta = np.linspace(0, 2*np.pi, 100)\n",
    "r = 1 + np.sin(5*theta)\n",
    "plt.subplot(projection='polar')\n",
    "plt.plot(theta, r)\n",
    "plt.show()"
   ]
  },
  {
   "cell_type": "markdown",
   "metadata": {},
   "source": [
    "##### 12.三维选型指南"
   ]
  },
  {
   "cell_type": "code",
   "execution_count": null,
   "metadata": {},
   "outputs": [],
   "source": [
    "fig = plt.figure()\n",
    "ax = fig.add_subplot(111, projection='3d')\n",
    "x = np.random.rand(50)\n",
    "y = np.random.rand(50)\n",
    "z = np.random.rand(50)\n",
    "ax.scatter(x, y, z)\n",
    "plt.show()"
   ]
  },
  {
   "cell_type": "markdown",
   "metadata": {},
   "source": [
    "##### 13.绘制热图"
   ]
  },
  {
   "cell_type": "code",
   "execution_count": null,
   "metadata": {},
   "outputs": [],
   "source": [
    "data = np.random.rand(10, 10)\n",
    "plt.imshow(data, cmap='hot', interpolation='nearest')\n",
    "plt.colorbar()\n",
    "plt.show()"
   ]
  },
  {
   "cell_type": "markdown",
   "metadata": {},
   "source": [
    "##### 14.多子图绘制"
   ]
  },
  {
   "cell_type": "code",
   "execution_count": null,
   "metadata": {},
   "outputs": [],
   "source": [
    "plt.subplot(2, 2, 1)\n",
    "plt.plot(x, y)\n",
    "plt.subplot(2, 2, 2)\n",
    "plt.scatter(x, y)\n",
    "plt.subplot(2, 2, 3)\n",
    "plt.bar(categories, values)\n",
    "plt.subplot(2, 2, 4)\n",
    "plt.hist(data, bins=30)\n",
    "plt.tight_layout()\n",
    "plt.show()"
   ]
  },
  {
   "cell_type": "markdown",
   "metadata": {},
   "source": [
    "##### 15.坐标轴范围与刻度设置"
   ]
  },
  {
   "cell_type": "code",
   "execution_count": null,
   "metadata": {},
   "outputs": [],
   "source": [
    "plt.plot(x, y)\n",
    "plt.xlim(0, 5)\n",
    "plt.ylim(-1, 1)\n",
    "plt.xticks([0, 1, 2, 3, 4, 5])\n",
    "plt.yticks([-1, -0.5, 0, 0.5, 1])\n",
    "plt.show()"
   ]
  },
  {
   "cell_type": "markdown",
   "metadata": {},
   "source": [
    "##### 15.1.线条样式与颜色"
   ]
  },
  {
   "cell_type": "code",
   "execution_count": null,
   "metadata": {},
   "outputs": [],
   "source": [
    "plt.plot(x, y, linestyle='--', color='red', linewidth=2)\n",
    "plt.show()"
   ]
  },
  {
   "cell_type": "markdown",
   "metadata": {},
   "source": [
    "##### 15.2.文本与注释"
   ]
  },
  {
   "cell_type": "code",
   "execution_count": null,
   "metadata": {},
   "outputs": [],
   "source": [
    "plt.plot(x, y)\n",
    "plt.text(2, 0.5, 'Important Point', fontsize=12)\n",
    "plt.annotate('Peak', xy=(np.pi/2, 1), xytext=(3, 1.2),\n",
    "             arrowprops=dict(facecolor='black', shrink=0.05))\n",
    "plt.show()"
   ]
  },
  {
   "cell_type": "markdown",
   "metadata": {},
   "source": [
    "##### 15.3.图形保存"
   ]
  },
  {
   "cell_type": "code",
   "execution_count": null,
   "metadata": {},
   "outputs": [],
   "source": [
    "plt.plot(x, y)\n",
    "plt.savefig('sine_wave.png', dpi=300, bbox_inches='tight')"
   ]
  },
  {
   "cell_type": "markdown",
   "metadata": {},
   "source": [
    "##### 15.4.图形网格与样式"
   ]
  },
  {
   "cell_type": "code",
   "execution_count": null,
   "metadata": {},
   "outputs": [],
   "source": [
    "plt.style.use('ggplot')\n",
    "plt.plot(x, y)\n",
    "plt.grid(True)\n",
    "plt.show()"
   ]
  },
  {
   "cell_type": "markdown",
   "metadata": {},
   "source": [
    "### 03.其他补充"
   ]
  },
  {
   "cell_type": "markdown",
   "metadata": {},
   "source": [
    "| 知识点                     | 描述                                                                 | 示例                                                                 | 应用场景                                                                 |\n",
    "|---------------------------|---------------------------------------------------------------------|---------------------------------------------------------------------|--------------------------------------------------------------------------|\n",
    "| **交互式绘图**            | 通过启用交互式模式实现图形动态更新和用户交互                          | `plt.ion()`, `plt.ioff()`                                           | 实时数据可视化，监控实时变化                                              |\n",
    "| **plt.ion()与plt.ioff()** | 开启/关闭交互模式，允许图形立即更新                                   | `plt.ion()`<br>`plt.plot(x, y)`<br>`plt.ioff()`                     | Jupyter Notebook或动态数据可视化环境                                       |\n",
    "| **动态绘图**              | 使用animation创建动画效果                                           | `FuncAnimation(fig, animate, frames=100, interval=200)`             | 实时展示股票行情、气象数据变化                                            |\n",
    "| **实时折线图**            | 绘制动态更新的折线图                                                | `plt.plot([], [], 'r')`<br>`plt.draw()`                             | 传感器数据监控、IoT数据流可视化                                           |\n",
    "| **Matplotlib与NumPy集成** | 使用NumPy数组作为数据源                                            | `x = np.linspace(0,10,100)`<br>`plt.plot(x, np.sin(x))`             | 科学计算、数学建模                                                        |\n",
    "| **Matplotlib与Pandas集成** | 直接使用DataFrame绘图，自动处理索引和标签                           | `df.plot(x='time', y='value')`                                      | 金融数据、销售数据可视化                                                  |\n",
    "| **Matplotlib与Seaborn集成** | 基于Matplotlib实现更美观的统计图表                                 | `sns.lineplot(x='time', y='value', data=df)`                        | 展示趋势、分布、相关性等统计特征                                          |\n",
    "| **Pandas高级绘图**        | 使用plot()方法快速生成图形                                          | `df['column'].plot(kind='line')`                                    | 快速数据分析和探索性分析                                                  |\n",
    "| **数据分析应用**          | 通过可视化呈现数据分布和趋势                                        | 折线图/散点图/直方图                                                | 市场分析、趋势预测                                                        |\n",
    "| **科学研究应用**          | 展示实验结果和数据分析                                              | 箱线图/热图                                                         | 物理、化学、生物学实验数据分析                                            |\n",
    "| **机器学习应用**          | 可视化模型训练过程和性能评估                                        | 学习曲线/ROC曲线                                                    | 分类、回归模型性能评估                                                    |\n",
    "| **财务分析应用**          | 展示金融数据波动                                                  | K线图/折线图                                                        | 股票、期货、基金分析                                                      |\n",
    "| **地理信息应用**          | 展示空间分布数据                                                  | 热力图/地理分布图                                                   | GIS、城市规划、人口分布分析                                               |\n",
    "| **图像处理应用**          | 展示图像处理效果                                                  | 像素值图/边缘检测结果                                                | 计算机视觉、图像特征分析                                                  |"
   ]
  },
  {
   "cell_type": "markdown",
   "metadata": {},
   "source": [
    "#### 1.交互式绘图"
   ]
  },
  {
   "cell_type": "code",
   "execution_count": null,
   "metadata": {},
   "outputs": [],
   "source": [
    "import matplotlib.pyplot as plt\n",
    "import numpy as np\n",
    "\n",
    "# 启用交互模式\n",
    "plt.ion()\n",
    "\n",
    "# 创建初始图形\n",
    "fig, ax = plt.subplots()\n",
    "x = np.linspace(0, 10, 100)\n",
    "line, = ax.plot(x, np.sin(x))\n",
    "\n",
    "# 动态更新图形\n",
    "for phase in np.linspace(0, 10*np.pi, 100):\n",
    "    line.set_ydata(np.sin(x + phase))\n",
    "    plt.draw()\n",
    "    plt.pause(0.1)\n",
    "\n",
    "# 关闭交互模式\n",
    "plt.ioff()\n",
    "plt.show()"
   ]
  },
  {
   "cell_type": "markdown",
   "metadata": {},
   "source": [
    "应用场景：实时监控传感器数据、动态展示算法迭代过程"
   ]
  },
  {
   "cell_type": "markdown",
   "metadata": {},
   "source": [
    "#### 2.动态绘图（动画）"
   ]
  },
  {
   "cell_type": "code",
   "execution_count": null,
   "metadata": {},
   "outputs": [],
   "source": [
    "from matplotlib.animation import FuncAnimation\n",
    "\n",
    "fig, ax = plt.subplots()\n",
    "x = np.linspace(0, 2*np.pi, 200)\n",
    "line, = ax.plot(x, np.sin(x))\n",
    "\n",
    "def animate(i):\n",
    "    line.set_ydata(np.sin(x + i/10.0))\n",
    "    return line,\n",
    "\n",
    "ani = FuncAnimation(fig, animate, frames=100, interval=50)\n",
    "plt.show()"
   ]
  },
  {
   "cell_type": "markdown",
   "metadata": {},
   "source": [
    "应用场景：展示物理过程模拟、算法收敛过程可视化"
   ]
  },
  {
   "cell_type": "markdown",
   "metadata": {},
   "source": [
    "#### 3.Matplotlib与NumPy集成"
   ]
  },
  {
   "cell_type": "code",
   "execution_count": null,
   "metadata": {},
   "outputs": [],
   "source": [
    "x = np.random.randn(1000)\n",
    "y = np.random.randn(1000)\n",
    "\n",
    "plt.scatter(x, y, alpha=0.5)\n",
    "plt.title('Random Point Distribution')\n",
    "plt.xlabel('X ~ N(0,1)')\n",
    "plt.ylabel('Y ~ N(0,1)')\n",
    "plt.grid(True)\n",
    "plt.show()"
   ]
  },
  {
   "cell_type": "markdown",
   "metadata": {},
   "source": [
    "应用场景：科学计算数据可视化、概率分布展示"
   ]
  },
  {
   "cell_type": "markdown",
   "metadata": {},
   "source": [
    "#### 4.Matplotlib与Pandas集成"
   ]
  },
  {
   "cell_type": "code",
   "execution_count": null,
   "metadata": {},
   "outputs": [],
   "source": [
    "import pandas as pd\n",
    "\n",
    "df = pd.DataFrame({\n",
    "    'Year': [2010, 2011, 2012, 2013, 2014],\n",
    "    'Sales': [100, 150, 200, 175, 225],\n",
    "    'Expenses': [80, 90, 110, 95, 100]\n",
    "})\n",
    "\n",
    "df.plot(x='Year', y=['Sales', 'Expenses'], kind='bar')\n",
    "plt.title('Company Performance')\n",
    "plt.ylabel('Amount ($)')\n",
    "plt.show()"
   ]
  },
  {
   "cell_type": "markdown",
   "metadata": {},
   "source": [
    "应用场景：商业报表生成、财务数据分析"
   ]
  },
  {
   "cell_type": "markdown",
   "metadata": {},
   "source": [
    "#### 5.Matplotlib与Seaborn集成"
   ]
  },
  {
   "cell_type": "code",
   "execution_count": null,
   "metadata": {},
   "outputs": [],
   "source": [
    "import seaborn as sns\n",
    "\n",
    "tips = sns.load_dataset('tips')\n",
    "sns.boxplot(x='day', y='total_bill', hue='sex', data=tips)\n",
    "plt.title('Daily Bill Distribution by Gender')\n",
    "plt.show()"
   ]
  },
  {
   "cell_type": "markdown",
   "metadata": {},
   "source": [
    "应用场景：统计数据分析、多变量关系展示"
   ]
  },
  {
   "cell_type": "markdown",
   "metadata": {},
   "source": [
    "#### 6.机器学习可视化"
   ]
  },
  {
   "cell_type": "code",
   "execution_count": null,
   "metadata": {},
   "outputs": [],
   "source": [
    "from sklearn.metrics import roc_curve, auc\n",
    "\n",
    "# 模拟分类结果\n",
    "y_true = np.random.randint(0, 2, 1000)\n",
    "y_score = np.random.rand(1000)\n",
    "\n",
    "fpr, tpr, _ = roc_curve(y_true, y_score)\n",
    "roc_auc = auc(fpr, tpr)\n",
    "\n",
    "plt.plot(fpr, tpr, label=f'AUC = {roc_auc:.2f}')\n",
    "plt.plot([0, 1], [0, 1], 'k--')\n",
    "plt.xlabel('False Positive Rate')\n",
    "plt.ylabel('True Positive Rate')\n",
    "plt.title('ROC Curve')\n",
    "plt.legend()\n",
    "plt.show()"
   ]
  },
  {
   "cell_type": "markdown",
   "metadata": {},
   "source": [
    "应用场景：模型性能评估、分类器比较"
   ]
  },
  {
   "cell_type": "markdown",
   "metadata": {},
   "source": [
    "#### 7.财务分析可视化"
   ]
  },
  {
   "cell_type": "code",
   "execution_count": null,
   "metadata": {},
   "outputs": [],
   "source": [
    "# 模拟股票数据\n",
    "dates = pd.date_range('2023-01-01', periods=100)\n",
    "prices = 100 + np.cumsum(np.random.randn(100))\n",
    "\n",
    "plt.figure(figsize=(10, 5))\n",
    "plt.plot(dates, prices, 'b-')\n",
    "plt.fill_between(dates, prices, 100, where=(prices > 100), \n",
    "                facecolor='g', alpha=0.3)\n",
    "plt.title('Stock Price Movement')\n",
    "plt.ylabel('Price ($)')\n",
    "plt.grid(True)\n",
    "plt.show()"
   ]
  },
  {
   "cell_type": "markdown",
   "metadata": {},
   "source": [
    "应用场景：股票走势分析、投资组合监控"
   ]
  },
  {
   "cell_type": "markdown",
   "metadata": {},
   "source": [
    "#### 8.地理信息可视化"
   ]
  },
  {
   "cell_type": "code",
   "execution_count": null,
   "metadata": {},
   "outputs": [],
   "source": [
    "from mpl_toolkits.basemap import Basemap\n",
    "\n",
    "plt.figure(figsize=(10, 8))\n",
    "m = Basemap(projection='mill', llcrnrlat=20, urcrnrlat=50,\n",
    "            llcrnrlon=-130, urcrnrlon=-60, resolution='c')\n",
    "m.drawcoastlines()\n",
    "m.drawcountries()\n",
    "m.drawstates()\n",
    "\n",
    "# 模拟城市数据\n",
    "lats = np.random.uniform(25, 45, 50)\n",
    "lons = np.random.uniform(-120, -75, 50)\n",
    "x, y = m(lons, lats)\n",
    "m.scatter(x, y, c='red', alpha=0.7)\n",
    "\n",
    "plt.title('US City Distribution')\n",
    "plt.show()"
   ]
  },
  {
   "cell_type": "markdown",
   "metadata": {},
   "source": [
    "应用场景：人口分布分析、区域经济研究"
   ]
  },
  {
   "cell_type": "markdown",
   "metadata": {},
   "source": [
    "#### 9.图像处理可视化"
   ]
  },
  {
   "cell_type": "code",
   "execution_count": null,
   "metadata": {},
   "outputs": [],
   "source": [
    "from skimage import data, filters\n",
    "\n",
    "image = data.camera()\n",
    "edges = filters.sobel(image)\n",
    "\n",
    "plt.figure(figsize=(10, 5))\n",
    "plt.subplot(121)\n",
    "plt.imshow(image, cmap='gray')\n",
    "plt.title('Original Image')\n",
    "\n",
    "plt.subplot(122)\n",
    "plt.imshow(edges, cmap='gray')\n",
    "plt.title('Edge Detection')\n",
    "plt.show()"
   ]
  },
  {
   "cell_type": "markdown",
   "metadata": {},
   "source": [
    "应用场景：计算机视觉研究、医学影像分析"
   ]
  },
  {
   "cell_type": "markdown",
   "metadata": {},
   "source": [
    "#### 10.科研数据可视化"
   ]
  },
  {
   "cell_type": "code",
   "execution_count": null,
   "metadata": {},
   "outputs": [],
   "source": [
    "# 模拟实验数据\n",
    "groups = ['Control', 'Treatment A', 'Treatment B']\n",
    "means = [5, 7, 9]\n",
    "std_devs = [1, 1.5, 2]\n",
    "\n",
    "plt.errorbar(groups, means, yerr=std_devs, fmt='o', capsize=5)\n",
    "plt.xlabel('Experimental Group')\n",
    "plt.ylabel('Measurement')\n",
    "plt.title('Experimental Results with Error Bars')\n",
    "plt.grid(True, alpha=0.3)\n",
    "plt.show()"
   ]
  },
  {
   "cell_type": "markdown",
   "metadata": {},
   "source": [
    "应用场景：实验结果展示、科研论文图表制作"
   ]
  }
 ],
 "metadata": {
  "kernelspec": {
   "display_name": "Python 3",
   "language": "python",
   "name": "python3"
  },
  "language_info": {
   "name": "python",
   "version": "3.12.3"
  }
 },
 "nbformat": 4,
 "nbformat_minor": 2
}
