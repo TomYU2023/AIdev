{
 "cells": [
  {
   "cell_type": "markdown",
   "metadata": {},
   "source": [
    "# 1.处理缺失值"
   ]
  },
  {
   "cell_type": "code",
   "execution_count": 3,
   "metadata": {},
   "outputs": [],
   "source": [
    "import pandas as pd\n",
    "import numpy as np\n",
    "\n",
    "# 创建示例 DataFrame\n",
    "data = {\n",
    "    'Name': ['Alice', 'Bob', 'Charlie', 'David', 'Eva'],\n",
    "    'Age': [25, 30, np.nan, 35, 40],\n",
    "    'Score': [88, np.nan, 85, 79, 90],\n",
    "    'Date': ['2021-01-01', '2022-02-15', '2023-03-30', '2021-12-01', '2022-05-20']\n",
    "}\n",
    "df = pd.DataFrame(data)\n"
   ]
  },
  {
   "cell_type": "code",
   "execution_count": 4,
   "metadata": {},
   "outputs": [
    {
     "name": "stdout",
     "output_type": "stream",
     "text": [
      "    Name    Age  Score   Date\n",
      "0  False  False  False  False\n",
      "1  False  False   True  False\n",
      "2  False   True  False  False\n",
      "3  False  False  False  False\n",
      "4  False  False  False  False\n",
      "===========检测缺失值示例代码===========\n"
     ]
    }
   ],
   "source": [
    "\n",
    "# 1. 处理缺失值\n",
    "# 检测缺失值\n",
    "print(df.isna())\n",
    "print('===========检测缺失值示例代码===========')\n"
   ]
  },
  {
   "cell_type": "code",
   "execution_count": 5,
   "metadata": {},
   "outputs": [
    {
     "name": "stdout",
     "output_type": "stream",
     "text": [
      "   Name    Age  Score  Date\n",
      "0  True   True   True  True\n",
      "1  True   True  False  True\n",
      "2  True  False   True  True\n",
      "3  True   True   True  True\n",
      "4  True   True   True  True\n",
      "===========检测非缺失值示例代码===========\n"
     ]
    }
   ],
   "source": [
    "\n",
    "# 检测非缺失值\n",
    "print(df.notna())\n",
    "print('===========检测非缺失值示例代码===========')\n"
   ]
  },
  {
   "cell_type": "code",
   "execution_count": 6,
   "metadata": {},
   "outputs": [
    {
     "name": "stdout",
     "output_type": "stream",
     "text": [
      "    Name   Age  Score        Date\n",
      "0  Alice  25.0   88.0  2021-01-01\n",
      "3  David  35.0   79.0  2021-12-01\n",
      "4    Eva  40.0   90.0  2022-05-20\n",
      "===========删除缺失值示例代码===========\n"
     ]
    }
   ],
   "source": [
    "\n",
    "# 删除包含缺失值的行\n",
    "df_no_na = df.dropna(axis=0, how='any')\n",
    "print(df_no_na)\n",
    "print('===========删除缺失值示例代码===========')\n"
   ]
  },
  {
   "cell_type": "code",
   "execution_count": 7,
   "metadata": {},
   "outputs": [
    {
     "name": "stdout",
     "output_type": "stream",
     "text": [
      "      Name   Age  Score        Date\n",
      "0    Alice  25.0   88.0  2021-01-01\n",
      "1      Bob  30.0   86.5  2022-02-15\n",
      "2  Charlie  32.5   85.0  2023-03-30\n",
      "3    David  35.0   79.0  2021-12-01\n",
      "4      Eva  40.0   90.0  2022-05-20\n",
      "===========填充缺失值示例代码===========\n"
     ]
    }
   ],
   "source": [
    "\n",
    "# 填充缺失值\n",
    "df_filled = df.fillna({'Age': df['Age'].mean(), 'Score': df['Score'].median()})\n",
    "print(df_filled)\n",
    "print('===========填充缺失值示例代码===========')\n"
   ]
  },
  {
   "cell_type": "code",
   "execution_count": 8,
   "metadata": {},
   "outputs": [
    {
     "name": "stdout",
     "output_type": "stream",
     "text": [
      "      Name   Age  Score        Date\n",
      "0    Alice  25.0   88.0  2021-01-01\n",
      "1      Bob  30.0   88.0  2022-02-15\n",
      "2  Charlie  30.0   85.0  2023-03-30\n",
      "3    David  35.0   79.0  2021-12-01\n",
      "4      Eva  40.0   90.0  2022-05-20\n",
      "===========前向填充示例代码===========\n"
     ]
    }
   ],
   "source": [
    "\n",
    "# 前向填充缺失值\n",
    "df_ffill = df.ffill()\n",
    "print(df_ffill)\n",
    "print('===========前向填充示例代码===========')\n"
   ]
  },
  {
   "cell_type": "code",
   "execution_count": 9,
   "metadata": {},
   "outputs": [
    {
     "name": "stdout",
     "output_type": "stream",
     "text": [
      "      Name   Age  Score        Date\n",
      "0    Alice  25.0   88.0  2021-01-01\n",
      "1      Bob  30.0   85.0  2022-02-15\n",
      "2  Charlie  35.0   85.0  2023-03-30\n",
      "3    David  35.0   79.0  2021-12-01\n",
      "4      Eva  40.0   90.0  2022-05-20\n",
      "===========后向填充示例代码===========\n"
     ]
    }
   ],
   "source": [
    "\n",
    "# 后向填充缺失值\n",
    "df_bfill = df.bfill()\n",
    "print(df_bfill)\n",
    "print('===========后向填充示例代码===========')\n"
   ]
  },
  {
   "cell_type": "code",
   "execution_count": 10,
   "metadata": {},
   "outputs": [
    {
     "name": "stdout",
     "output_type": "stream",
     "text": [
      "      Name   Age  Score        Date\n",
      "0    Alice  25.0   88.0  2021-01-01\n",
      "1      Bob  30.0    NaN  2022-02-15\n",
      "2  Charlie   NaN   85.0  2023-03-30\n",
      "3    David  35.0   79.0  2021-12-01\n",
      "4      Eva  40.0   90.0  2022-05-20\n",
      "===========插值法填充示例代码===========\n"
     ]
    }
   ],
   "source": [
    "\n",
    "# 插值法填充缺失值\n",
    "df_interpolated = df.infer_objects(copy=False)\n",
    "print(df_interpolated)\n",
    "print('===========插值法填充示例代码===========')"
   ]
  }
 ],
 "metadata": {
  "kernelspec": {
   "display_name": "AI",
   "language": "python",
   "name": "python3"
  },
  "language_info": {
   "codemirror_mode": {
    "name": "ipython",
    "version": 3
   },
   "file_extension": ".py",
   "mimetype": "text/x-python",
   "name": "python",
   "nbconvert_exporter": "python",
   "pygments_lexer": "ipython3",
   "version": "3.13.2"
  }
 },
 "nbformat": 4,
 "nbformat_minor": 2
}
