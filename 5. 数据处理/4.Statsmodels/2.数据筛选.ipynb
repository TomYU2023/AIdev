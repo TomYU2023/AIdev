{
 "cells": [
  {
   "cell_type": "markdown",
   "metadata": {},
   "source": [
    "# 1. 创建、重命名"
   ]
  },
  {
   "cell_type": "markdown",
   "metadata": {},
   "source": [
    "| 操作类型     | ​**Series**                            | ​**DataFrame**                         | 解释                                                                 |\n",
    "|--------------|---------------------------------------|---------------------------------------|----------------------------------------------------------------------|\n",
    "| ​**创建**     | `s = pd.Series(data, index=[])`       | `df = pd.DataFrame(data)`            | `Series`：一维数据（默认索引从 0 开始）<br>`DataFrame`：二维数据（默认行列索引从 0 开始） |\n",
    "| ​**重命名**   | `s.rename(index={'old': 'new'})`      | `df.rename(columns={'old_name': 'new_name'})` | `Series`：只能重命名索引<br>`DataFrame`：可以重命名行或列名 |\n",
    "| ​**设置索引** | 不支持设置索引（索引在创建时定义）     | `df.set_index('column_name')`         | `Series`：在创建时已定义，后续无法更改<br>`DataFrame`：支持后续修改 |\n",
    "| ​**重置索引** | 不支持                                | `df.reset_index()`                    | `Series`：不支持<br>`DataFrame`：可以重置为默认的整数索引 |"
   ]
  },
  {
   "cell_type": "code",
   "execution_count": 61,
   "metadata": {},
   "outputs": [
    {
     "name": "stdout",
     "output_type": "stream",
     "text": [
      "创建的 Series:\n"
     ]
    },
    {
     "data": {
      "text/plain": [
       "a    10\n",
       "b    20\n",
       "c    30\n",
       "d    40\n",
       "dtype: int64"
      ]
     },
     "execution_count": 61,
     "metadata": {},
     "output_type": "execute_result"
    }
   ],
   "source": [
    "import pandas as pd\n",
    "\n",
    "# 创建 Series 和 DataFrame 示例\n",
    "data = [10, 20, 30, 40] # 这是个列表\n",
    "s = pd.Series(data, index=['a', 'b', 'c', 'd']) # 创建索引\n",
    "print(\"创建的 Series:\")\n",
    "s\n"
   ]
  },
  {
   "cell_type": "code",
   "execution_count": 62,
   "metadata": {},
   "outputs": [
    {
     "name": "stdout",
     "output_type": "stream",
     "text": [
      "\n",
      "创建的 DataFrame:\n"
     ]
    },
    {
     "data": {
      "application/vnd.microsoft.datawrangler.viewer.v0+json": {
       "columns": [
        {
         "name": "index",
         "rawType": "int64",
         "type": "integer"
        },
        {
         "name": "Name",
         "rawType": "object",
         "type": "string"
        },
        {
         "name": "Age",
         "rawType": "int64",
         "type": "integer"
        },
        {
         "name": "City",
         "rawType": "object",
         "type": "string"
        }
       ],
       "conversionMethod": "pd.DataFrame",
       "ref": "89899695-5f8b-4232-8751-f8b3e36f38ac",
       "rows": [
        [
         "0",
         "Alice",
         "25",
         "New York"
        ],
        [
         "1",
         "Bob",
         "30",
         "Los Angeles"
        ],
        [
         "2",
         "Charlie",
         "35",
         "Chicago"
        ]
       ],
       "shape": {
        "columns": 3,
        "rows": 3
       }
      },
      "text/html": [
       "<div>\n",
       "<style scoped>\n",
       "    .dataframe tbody tr th:only-of-type {\n",
       "        vertical-align: middle;\n",
       "    }\n",
       "\n",
       "    .dataframe tbody tr th {\n",
       "        vertical-align: top;\n",
       "    }\n",
       "\n",
       "    .dataframe thead th {\n",
       "        text-align: right;\n",
       "    }\n",
       "</style>\n",
       "<table border=\"1\" class=\"dataframe\">\n",
       "  <thead>\n",
       "    <tr style=\"text-align: right;\">\n",
       "      <th></th>\n",
       "      <th>Name</th>\n",
       "      <th>Age</th>\n",
       "      <th>City</th>\n",
       "    </tr>\n",
       "  </thead>\n",
       "  <tbody>\n",
       "    <tr>\n",
       "      <th>0</th>\n",
       "      <td>Alice</td>\n",
       "      <td>25</td>\n",
       "      <td>New York</td>\n",
       "    </tr>\n",
       "    <tr>\n",
       "      <th>1</th>\n",
       "      <td>Bob</td>\n",
       "      <td>30</td>\n",
       "      <td>Los Angeles</td>\n",
       "    </tr>\n",
       "    <tr>\n",
       "      <th>2</th>\n",
       "      <td>Charlie</td>\n",
       "      <td>35</td>\n",
       "      <td>Chicago</td>\n",
       "    </tr>\n",
       "  </tbody>\n",
       "</table>\n",
       "</div>"
      ],
      "text/plain": [
       "      Name  Age         City\n",
       "0    Alice   25     New York\n",
       "1      Bob   30  Los Angeles\n",
       "2  Charlie   35      Chicago"
      ]
     },
     "execution_count": 62,
     "metadata": {},
     "output_type": "execute_result"
    }
   ],
   "source": [
    "# 这是个字典\n",
    "data_dict = {'Name': ['Alice', 'Bob', 'Charlie'], \n",
    "             'Age': [25, 30, 35], \n",
    "             'City': ['New York', 'Los Angeles', 'Chicago']}\n",
    "df = pd.DataFrame(data_dict) # 创建 DataFrame\n",
    "print(\"\\n创建的 DataFrame:\")\n",
    "df\n"
   ]
  },
  {
   "cell_type": "code",
   "execution_count": 63,
   "metadata": {},
   "outputs": [
    {
     "name": "stdout",
     "output_type": "stream",
     "text": [
      "\n",
      "重命名 Series 中索引 'a' 为 'A':\n"
     ]
    },
    {
     "data": {
      "text/plain": [
       "A    10\n",
       "b    20\n",
       "c    30\n",
       "d    40\n",
       "dtype: int64"
      ]
     },
     "execution_count": 63,
     "metadata": {},
     "output_type": "execute_result"
    }
   ],
   "source": [
    "\n",
    "# 重命名操作\n",
    "s_renamed = s.rename(index={'a': 'A'}) # 重命名索引\n",
    "print(\"\\n重命名 Series 中索引 'a' 为 'A':\")\n",
    "\n",
    "s_renamed"
   ]
  },
  {
   "cell_type": "code",
   "execution_count": 64,
   "metadata": {},
   "outputs": [
    {
     "name": "stdout",
     "output_type": "stream",
     "text": [
      "\n",
      "重命名 DataFrame 中 'Name' 列为 'Full Name':\n"
     ]
    },
    {
     "data": {
      "application/vnd.microsoft.datawrangler.viewer.v0+json": {
       "columns": [
        {
         "name": "index",
         "rawType": "int64",
         "type": "integer"
        },
        {
         "name": "Full Name",
         "rawType": "object",
         "type": "string"
        },
        {
         "name": "Age",
         "rawType": "int64",
         "type": "integer"
        },
        {
         "name": "City",
         "rawType": "object",
         "type": "string"
        }
       ],
       "conversionMethod": "pd.DataFrame",
       "ref": "f4d5e00f-64a5-4e58-b818-3350a5a81890",
       "rows": [
        [
         "0",
         "Alice",
         "25",
         "New York"
        ],
        [
         "1",
         "Bob",
         "30",
         "Los Angeles"
        ],
        [
         "2",
         "Charlie",
         "35",
         "Chicago"
        ]
       ],
       "shape": {
        "columns": 3,
        "rows": 3
       }
      },
      "text/html": [
       "<div>\n",
       "<style scoped>\n",
       "    .dataframe tbody tr th:only-of-type {\n",
       "        vertical-align: middle;\n",
       "    }\n",
       "\n",
       "    .dataframe tbody tr th {\n",
       "        vertical-align: top;\n",
       "    }\n",
       "\n",
       "    .dataframe thead th {\n",
       "        text-align: right;\n",
       "    }\n",
       "</style>\n",
       "<table border=\"1\" class=\"dataframe\">\n",
       "  <thead>\n",
       "    <tr style=\"text-align: right;\">\n",
       "      <th></th>\n",
       "      <th>Full Name</th>\n",
       "      <th>Age</th>\n",
       "      <th>City</th>\n",
       "    </tr>\n",
       "  </thead>\n",
       "  <tbody>\n",
       "    <tr>\n",
       "      <th>0</th>\n",
       "      <td>Alice</td>\n",
       "      <td>25</td>\n",
       "      <td>New York</td>\n",
       "    </tr>\n",
       "    <tr>\n",
       "      <th>1</th>\n",
       "      <td>Bob</td>\n",
       "      <td>30</td>\n",
       "      <td>Los Angeles</td>\n",
       "    </tr>\n",
       "    <tr>\n",
       "      <th>2</th>\n",
       "      <td>Charlie</td>\n",
       "      <td>35</td>\n",
       "      <td>Chicago</td>\n",
       "    </tr>\n",
       "  </tbody>\n",
       "</table>\n",
       "</div>"
      ],
      "text/plain": [
       "  Full Name  Age         City\n",
       "0     Alice   25     New York\n",
       "1       Bob   30  Los Angeles\n",
       "2   Charlie   35      Chicago"
      ]
     },
     "execution_count": 64,
     "metadata": {},
     "output_type": "execute_result"
    }
   ],
   "source": [
    "\n",
    "df_renamed = df.rename(columns={'Name': 'Full Name'}) # 重命名列\n",
    "print(\"\\n重命名 DataFrame 中 'Name' 列为 'Full Name':\")\n",
    "\n",
    "df_renamed"
   ]
  },
  {
   "cell_type": "code",
   "execution_count": 65,
   "metadata": {},
   "outputs": [
    {
     "name": "stdout",
     "output_type": "stream",
     "text": [
      "\n",
      "设置 DataFrame 中 'Name' 列为索引:\n"
     ]
    },
    {
     "data": {
      "application/vnd.microsoft.datawrangler.viewer.v0+json": {
       "columns": [
        {
         "name": "Name",
         "rawType": "object",
         "type": "string"
        },
        {
         "name": "Age",
         "rawType": "int64",
         "type": "integer"
        },
        {
         "name": "City",
         "rawType": "object",
         "type": "string"
        }
       ],
       "conversionMethod": "pd.DataFrame",
       "ref": "44bb069c-3826-49af-ad97-bb229a83485b",
       "rows": [
        [
         "Alice",
         "25",
         "New York"
        ],
        [
         "Bob",
         "30",
         "Los Angeles"
        ],
        [
         "Charlie",
         "35",
         "Chicago"
        ]
       ],
       "shape": {
        "columns": 2,
        "rows": 3
       }
      },
      "text/html": [
       "<div>\n",
       "<style scoped>\n",
       "    .dataframe tbody tr th:only-of-type {\n",
       "        vertical-align: middle;\n",
       "    }\n",
       "\n",
       "    .dataframe tbody tr th {\n",
       "        vertical-align: top;\n",
       "    }\n",
       "\n",
       "    .dataframe thead th {\n",
       "        text-align: right;\n",
       "    }\n",
       "</style>\n",
       "<table border=\"1\" class=\"dataframe\">\n",
       "  <thead>\n",
       "    <tr style=\"text-align: right;\">\n",
       "      <th></th>\n",
       "      <th>Age</th>\n",
       "      <th>City</th>\n",
       "    </tr>\n",
       "    <tr>\n",
       "      <th>Name</th>\n",
       "      <th></th>\n",
       "      <th></th>\n",
       "    </tr>\n",
       "  </thead>\n",
       "  <tbody>\n",
       "    <tr>\n",
       "      <th>Alice</th>\n",
       "      <td>25</td>\n",
       "      <td>New York</td>\n",
       "    </tr>\n",
       "    <tr>\n",
       "      <th>Bob</th>\n",
       "      <td>30</td>\n",
       "      <td>Los Angeles</td>\n",
       "    </tr>\n",
       "    <tr>\n",
       "      <th>Charlie</th>\n",
       "      <td>35</td>\n",
       "      <td>Chicago</td>\n",
       "    </tr>\n",
       "  </tbody>\n",
       "</table>\n",
       "</div>"
      ],
      "text/plain": [
       "         Age         City\n",
       "Name                     \n",
       "Alice     25     New York\n",
       "Bob       30  Los Angeles\n",
       "Charlie   35      Chicago"
      ]
     },
     "execution_count": 65,
     "metadata": {},
     "output_type": "execute_result"
    }
   ],
   "source": [
    "\n",
    "# 设置索引\n",
    "df_set_index = df.set_index('Name')\n",
    "print(\"\\n设置 DataFrame 中 'Name' 列为索引:\")\n",
    "df_set_index\n"
   ]
  },
  {
   "cell_type": "code",
   "execution_count": 66,
   "metadata": {},
   "outputs": [
    {
     "name": "stdout",
     "output_type": "stream",
     "text": [
      "\n",
      "重置 DataFrame 索引:\n"
     ]
    },
    {
     "data": {
      "application/vnd.microsoft.datawrangler.viewer.v0+json": {
       "columns": [
        {
         "name": "index",
         "rawType": "int64",
         "type": "integer"
        },
        {
         "name": "Name",
         "rawType": "object",
         "type": "string"
        },
        {
         "name": "Age",
         "rawType": "int64",
         "type": "integer"
        },
        {
         "name": "City",
         "rawType": "object",
         "type": "string"
        }
       ],
       "conversionMethod": "pd.DataFrame",
       "ref": "e1b4c9a9-6d2b-42fb-84f0-cb8a3d81f053",
       "rows": [
        [
         "0",
         "Alice",
         "25",
         "New York"
        ],
        [
         "1",
         "Bob",
         "30",
         "Los Angeles"
        ],
        [
         "2",
         "Charlie",
         "35",
         "Chicago"
        ]
       ],
       "shape": {
        "columns": 3,
        "rows": 3
       }
      },
      "text/html": [
       "<div>\n",
       "<style scoped>\n",
       "    .dataframe tbody tr th:only-of-type {\n",
       "        vertical-align: middle;\n",
       "    }\n",
       "\n",
       "    .dataframe tbody tr th {\n",
       "        vertical-align: top;\n",
       "    }\n",
       "\n",
       "    .dataframe thead th {\n",
       "        text-align: right;\n",
       "    }\n",
       "</style>\n",
       "<table border=\"1\" class=\"dataframe\">\n",
       "  <thead>\n",
       "    <tr style=\"text-align: right;\">\n",
       "      <th></th>\n",
       "      <th>Name</th>\n",
       "      <th>Age</th>\n",
       "      <th>City</th>\n",
       "    </tr>\n",
       "  </thead>\n",
       "  <tbody>\n",
       "    <tr>\n",
       "      <th>0</th>\n",
       "      <td>Alice</td>\n",
       "      <td>25</td>\n",
       "      <td>New York</td>\n",
       "    </tr>\n",
       "    <tr>\n",
       "      <th>1</th>\n",
       "      <td>Bob</td>\n",
       "      <td>30</td>\n",
       "      <td>Los Angeles</td>\n",
       "    </tr>\n",
       "    <tr>\n",
       "      <th>2</th>\n",
       "      <td>Charlie</td>\n",
       "      <td>35</td>\n",
       "      <td>Chicago</td>\n",
       "    </tr>\n",
       "  </tbody>\n",
       "</table>\n",
       "</div>"
      ],
      "text/plain": [
       "      Name  Age         City\n",
       "0    Alice   25     New York\n",
       "1      Bob   30  Los Angeles\n",
       "2  Charlie   35      Chicago"
      ]
     },
     "execution_count": 66,
     "metadata": {},
     "output_type": "execute_result"
    }
   ],
   "source": [
    "\n",
    "# 重置索引\n",
    "df_reset_index = df_set_index.reset_index()\n",
    "print(\"\\n重置 DataFrame 索引:\")\n",
    "\n",
    "df_reset_index"
   ]
  },
  {
   "cell_type": "markdown",
   "metadata": {},
   "source": [
    "# 2.增删改查相关操作"
   ]
  },
  {
   "cell_type": "code",
   "execution_count": 67,
   "metadata": {},
   "outputs": [
    {
     "name": "stdout",
     "output_type": "stream",
     "text": [
      "创建的 Series:\n",
      "a    10\n",
      "b    20\n",
      "c    30\n",
      "d    40\n",
      "dtype: int64\n"
     ]
    }
   ],
   "source": [
    "import pandas as pd\n",
    "import numpy as np\n",
    "\n",
    "# 创建 Series 和 DataFrame 示例\n",
    "data_series = [10, 20, 30, 40]\n",
    "s = pd.Series(data_series, index=['a', 'b', 'c', 'd'])\n",
    "print(\"创建的 Series:\")\n",
    "print(s)\n"
   ]
  },
  {
   "cell_type": "code",
   "execution_count": 68,
   "metadata": {},
   "outputs": [
    {
     "name": "stdout",
     "output_type": "stream",
     "text": [
      "\n",
      "创建的 DataFrame:\n",
      "      Name  Age         City\n",
      "0    Alice   25     New York\n",
      "1      Bob   30  Los Angeles\n",
      "2  Charlie   35      Chicago\n"
     ]
    }
   ],
   "source": [
    "data_dict = {'Name': ['Alice', 'Bob', 'Charlie'], 'Age': [25, 30, 35], 'City': ['New York', 'Los Angeles', 'Chicago']}\n",
    "df = pd.DataFrame(data_dict)\n",
    "print(\"\\n创建的 DataFrame:\")\n",
    "print(df)\n"
   ]
  },
  {
   "cell_type": "code",
   "execution_count": 69,
   "metadata": {},
   "outputs": [
    {
     "name": "stdout",
     "output_type": "stream",
     "text": [
      "\n",
      "添加数据:\n",
      "Series 添加新数据:\n",
      "a    10\n",
      "b    20\n",
      "c    30\n",
      "d    40\n",
      "e    50\n",
      "dtype: int64\n",
      "DataFrame 添加新列:\n",
      "      Name  Age           City Country\n",
      "0    Alice   25       New York     USA\n",
      "1      Bob   30    Los Angeles     USA\n",
      "2  Charlie   35  San Francisco     USA\n"
     ]
    }
   ],
   "source": [
    "# 添加数据\n",
    "s.loc['e'] = 50  # Series：通过新索引添加元素\n",
    "df['Country'] = ['USA', 'USA', 'USA']  # DataFrame：添加新列\n",
    "df.loc[2, 'City'] = 'San Francisco'\n",
    "print(\"\\n添加数据:\")\n",
    "print(\"Series 添加新数据:\")\n",
    "print(s)\n",
    "print(\"DataFrame 添加新列:\")\n",
    "print(df)\n"
   ]
  },
  {
   "cell_type": "code",
   "execution_count": 70,
   "metadata": {},
   "outputs": [
    {
     "name": "stdout",
     "output_type": "stream",
     "text": [
      "\n",
      "填充缺失值:\n",
      "Series 填充缺失值:\n",
      "a    10.0\n",
      "b    99.0\n",
      "c    30.0\n",
      "d    40.0\n",
      "e    50.0\n",
      "dtype: float64\n",
      "DataFrame 填充缺失值:\n"
     ]
    },
    {
     "name": "stdout",
     "output_type": "stream",
     "text": [
      "      Name   Age           City Country\n",
      "0    Alice  25.0       New York     USA\n",
      "1      Bob  40.0        Unknown     USA\n",
      "2  Charlie  35.0  San Francisco     USA\n"
     ]
    }
   ],
   "source": [
    "# 填充缺失值\n",
    "s_with_na = s.copy() # 创建副本\n",
    "s_with_na['b'] = np.nan # 添加缺失值Nan\n",
    "s_filled = s_with_na.fillna(99)  # Series：填充缺失值\n",
    "df_with_na = df.copy()\n",
    "df_with_na.loc[1, 'Age'] = pd.NA\n",
    "df_with_na.loc[1, 'City'] = np.nan\n",
    "df_filled = df_with_na.fillna({'Age': 40, 'City': 'Unknown'})  # DataFrame：填充缺失值\n",
    "print(\"\\n填充缺失值:\")\n",
    "print(\"Series 填充缺失值:\")\n",
    "print(s_filled)\n",
    "print(\"DataFrame 填充缺失值:\")\n",
    "print(df_filled)\n"
   ]
  },
  {
   "cell_type": "code",
   "execution_count": 71,
   "metadata": {},
   "outputs": [
    {
     "name": "stdout",
     "output_type": "stream",
     "text": [
      "\n",
      "删除 Series 中索引 'b' 的元素:\n",
      "a    10\n",
      "c    30\n",
      "d    40\n",
      "e    50\n",
      "dtype: int64\n"
     ]
    }
   ],
   "source": [
    "\n",
    "# 删除操作\n",
    "s_dropped = s.drop('b')\n",
    "print(\"\\n删除 Series 中索引 'b' 的元素:\")\n",
    "print(s_dropped)\n"
   ]
  },
  {
   "cell_type": "code",
   "execution_count": 72,
   "metadata": {},
   "outputs": [
    {
     "name": "stdout",
     "output_type": "stream",
     "text": [
      "\n",
      "删除 DataFrame 中索引为 1 的行:\n",
      "      Name  Age           City Country\n",
      "0    Alice   25       New York     USA\n",
      "2  Charlie   35  San Francisco     USA\n",
      "\n",
      "删除 DataFrame 中 'City' 列:\n",
      "      Name  Age Country\n",
      "0    Alice   25     USA\n",
      "1      Bob   30     USA\n",
      "2  Charlie   35     USA\n"
     ]
    }
   ],
   "source": [
    "\n",
    "df_dropped_row = df.drop(1, axis=0)  # 按索引删除行\n",
    "df_dropped_col = df.drop('City', axis=1)  # 按表头删除列\n",
    "print(\"\\n删除 DataFrame 中索引为 1 的行:\")\n",
    "print(df_dropped_row)\n",
    "print(\"\\n删除 DataFrame 中 'City' 列:\")\n",
    "print(df_dropped_col)\n"
   ]
  },
  {
   "cell_type": "code",
   "execution_count": 73,
   "metadata": {},
   "outputs": [
    {
     "name": "stdout",
     "output_type": "stream",
     "text": [
      "\n",
      "删除重复数据:\n",
      "Series 删除重复值:\n",
      "0    10\n",
      "1    20\n",
      "3    40\n",
      "dtype: int64\n",
      "DataFrame 删除重复行:\n",
      "      Name  Age\n",
      "0    Alice   25\n",
      "1      Bob   30\n",
      "3  Charlie   35\n"
     ]
    }
   ],
   "source": [
    "\n",
    "# 删除重复数据\n",
    "s_duplicate = pd.Series([10, 20, 20, 40, 40, 40])\n",
    "df_duplicate = pd.DataFrame({'Name': ['Alice', 'Bob', 'Bob', 'Charlie', 'Charlie', 'Charlie'], 'Age': [25, 30, 30, 35, 35, 35]})\n",
    "s_no_duplicates = s_duplicate.drop_duplicates()  # Series：删除重复值\n",
    "df_no_duplicates = df_duplicate.drop_duplicates()  # DataFrame：删除重复值\n",
    "print(\"\\n删除重复数据:\")\n",
    "print(\"Series 删除重复值:\")\n",
    "print(s_no_duplicates)\n",
    "print(\"DataFrame 删除重复行:\")\n",
    "print(df_no_duplicates)\n"
   ]
  },
  {
   "cell_type": "code",
   "execution_count": 74,
   "metadata": {},
   "outputs": [
    {
     "name": "stdout",
     "output_type": "stream",
     "text": [
      "\n",
      "删除缺失值:\n",
      "Series 删除缺失值:\n",
      "a    10.0\n",
      "b    20.0\n",
      "d    40.0\n",
      "e    50.0\n",
      "dtype: float64\n",
      "DataFrame 删除缺失值:\n",
      "      Name   Age           City Country\n",
      "1      Bob  30.0    Los Angeles     USA\n",
      "2  Charlie  35.0  San Francisco     USA\n"
     ]
    }
   ],
   "source": [
    "# 删除缺失值\n",
    "s_with_na_2 = s.copy()\n",
    "s_with_na_2['c'] = np.nan\n",
    "s_without_na = s_with_na_2.dropna()  # Series：删除缺失值\n",
    "df_with_na_2 = df.copy()\n",
    "df_with_na_2.loc[0, 'Age'] = np.nan\n",
    "df_without_na = df_with_na_2.dropna()  # DataFrame：删除包含缺失值的行\n",
    "print(\"\\n删除缺失值:\")\n",
    "print(\"Series 删除缺失值:\")\n",
    "print(s_without_na)\n",
    "print(\"DataFrame 删除缺失值:\")\n",
    "print(df_without_na)"
   ]
  },
  {
   "cell_type": "code",
   "execution_count": 75,
   "metadata": {},
   "outputs": [
    {
     "name": "stdout",
     "output_type": "stream",
     "text": [
      "\n",
      "修改数据:\n",
      "Series 修改数据:\n",
      "a    100\n",
      "b     20\n",
      "c     30\n",
      "d     40\n",
      "e     50\n",
      "dtype: int64\n",
      "DataFrame 修改数据:\n",
      "      Name  Age           City Country\n",
      "0    Alice   26       New York     USA\n",
      "1      Bob   31    Los Angeles     USA\n",
      "2  Charlie   36  San Francisco     USA\n"
     ]
    }
   ],
   "source": [
    "# 修改数据\n",
    "s['a'] = 100  # Series：修改单个元素\n",
    "df['Age'] = [26, 31, 36]  # DataFrame：修改指定列的值\n",
    "print(\"\\n修改数据:\")\n",
    "print(\"Series 修改数据:\")\n",
    "print(s)\n",
    "print(\"DataFrame 修改数据:\")\n",
    "print(df)\n"
   ]
  },
  {
   "cell_type": "code",
   "execution_count": 76,
   "metadata": {},
   "outputs": [
    {
     "name": "stdout",
     "output_type": "stream",
     "text": [
      "\n",
      "合并数据:\n",
      "Series 合并:\n",
      "a    100\n",
      "b     20\n",
      "c     30\n",
      "d     40\n",
      "e     50\n",
      "e     50\n",
      "f     60\n",
      "g     70\n",
      "dtype: int64\n",
      "DataFrame 按行合并:\n",
      "      Name  Age           City Country\n",
      "0    Alice   26       New York     USA\n",
      "1      Bob   31    Los Angeles     USA\n",
      "2  Charlie   36  San Francisco     USA\n",
      "0    David   40        Seattle     NaN\n",
      "1      Eva   45         Austin     NaN\n",
      "DataFrame 按列合并:\n",
      "      Name  Age           City Country   Name   Age     City\n",
      "0    Alice   26       New York     USA  David  40.0  Seattle\n",
      "1      Bob   31    Los Angeles     USA    Eva  45.0   Austin\n",
      "2  Charlie   36  San Francisco     USA    NaN   NaN      NaN\n"
     ]
    }
   ],
   "source": [
    "# 合并数据\n",
    "s2 = pd.Series([50, 60, 70], index=['e', 'f', 'g'])\n",
    "s_merged = pd.concat([s, s2], axis=0)  # Series：合并\n",
    "df2 = pd.DataFrame({'Name': ['David', 'Eva'], 'Age': [40, 45], 'City': ['Seattle', 'Austin']})\n",
    "df_merged = pd.concat([df, df2], axis=0)  # DataFrame：按行合并\n",
    "df_merged_columns = pd.concat([df, df2], axis=1)  # DataFrame：按列合并\n",
    "print(\"\\n合并数据:\")\n",
    "print(\"Series 合并:\")\n",
    "print(s_merged)\n",
    "print(\"DataFrame 按行合并:\")\n",
    "print(df_merged)\n",
    "print(\"DataFrame 按列合并:\")\n",
    "print(df_merged_columns)\n"
   ]
  },
  {
   "cell_type": "code",
   "execution_count": 77,
   "metadata": {},
   "outputs": [
    {
     "name": "stdout",
     "output_type": "stream",
     "text": [
      "\n",
      "查看前几项:\n",
      "Series 前 3 项:\n",
      "a    100\n",
      "b     20\n",
      "c     30\n",
      "dtype: int64\n",
      "DataFrame 前 2 行:\n",
      "    Name  Age         City Country\n",
      "0  Alice   26     New York     USA\n",
      "1    Bob   31  Los Angeles     USA\n"
     ]
    }
   ],
   "source": [
    "# 查看前几项\n",
    "print(\"\\n查看前几项:\")\n",
    "print(\"Series 前 3 项:\")\n",
    "print(s.head(3))  # 查看前 3 项\n",
    "print(\"DataFrame 前 2 行:\")\n",
    "print(df.head(2))  # 查看前 2 行\n"
   ]
  },
  {
   "cell_type": "code",
   "execution_count": 78,
   "metadata": {},
   "outputs": [
    {
     "name": "stdout",
     "output_type": "stream",
     "text": [
      "\n",
      "查看后几项:\n",
      "Series 后 2 项:\n",
      "d    40\n",
      "e    50\n",
      "dtype: int64\n",
      "DataFrame 后 1 行:\n",
      "      Name  Age           City Country\n",
      "2  Charlie   36  San Francisco     USA\n"
     ]
    }
   ],
   "source": [
    "# 查看后几项\n",
    "print(\"\\n查看后几项:\")\n",
    "print(\"Series 后 2 项:\")\n",
    "print(s.tail(2))  # 查看后 2 项\n",
    "print(\"DataFrame 后 1 行:\")\n",
    "print(df.tail(1))  # 查看后 1 行\n"
   ]
  },
  {
   "cell_type": "code",
   "execution_count": 79,
   "metadata": {},
   "outputs": [
    {
     "name": "stdout",
     "output_type": "stream",
     "text": [
      "\n",
      "查看数据:\n",
      "Series 的值:\n",
      "[100  20  30  40  50]\n",
      "DataFrame 的值:\n",
      "[['Alice' 26 'New York' 'USA']\n",
      " ['Bob' 31 'Los Angeles' 'USA']\n",
      " ['Charlie' 36 'San Francisco' 'USA']]\n"
     ]
    }
   ],
   "source": [
    "# 查看数据\n",
    "print(\"\\n查看数据:\")\n",
    "print(\"Series 的值:\")\n",
    "print(s.values)  # 获取 Series 的值\n",
    "print(\"DataFrame 的值:\")\n",
    "print(df.values)  # 获取 DataFrame 的值\n"
   ]
  },
  {
   "cell_type": "code",
   "execution_count": 80,
   "metadata": {},
   "outputs": [
    {
     "name": "stdout",
     "output_type": "stream",
     "text": [
      "\n",
      "查看索引:\n",
      "Series 的索引:\n",
      "Index(['a', 'b', 'c', 'd', 'e'], dtype='object')\n",
      "DataFrame 的索引:\n",
      "RangeIndex(start=0, stop=3, step=1)\n"
     ]
    }
   ],
   "source": [
    "# 查看索引\n",
    "print(\"\\n查看索引:\")\n",
    "print(\"Series 的索引:\")\n",
    "print(s.index)  # 获取 Series 的索引\n",
    "print(\"DataFrame 的索引:\")\n",
    "print(df.index)  # 获取 DataFrame 的索引\n"
   ]
  },
  {
   "cell_type": "code",
   "execution_count": 81,
   "metadata": {},
   "outputs": [
    {
     "name": "stdout",
     "output_type": "stream",
     "text": [
      "\n",
      "按位置选择数据:\n",
      "Series 按位置选择（第 2 个元素）:\n",
      "20\n",
      "DataFrame 按位置选择（第 2 行）:\n",
      "Name               Bob\n",
      "Age                 31\n",
      "City       Los Angeles\n",
      "Country            USA\n",
      "Name: 1, dtype: object\n"
     ]
    }
   ],
   "source": [
    "# 按位置选择数据\n",
    "print(\"\\n按位置选择数据:\")\n",
    "print(\"Series 按位置选择（第 2 个元素）:\")\n",
    "print(s.iloc[1])  # 根据位置选择\n",
    "print(\"DataFrame 按位置选择（第 2 行）:\")\n",
    "print(df.iloc[1])  # 根据位置选择\n"
   ]
  },
  {
   "cell_type": "code",
   "execution_count": 82,
   "metadata": {},
   "outputs": [
    {
     "name": "stdout",
     "output_type": "stream",
     "text": [
      "\n",
      "按标签选择数据:\n",
      "Series 按标签选择（索引 'a' 的元素）:\n",
      "100\n",
      "DataFrame 按标签选择（行标签为 'Bob'）:\n",
      "Name               Bob\n",
      "Age                 31\n",
      "City       Los Angeles\n",
      "Country            USA\n",
      "Name: 1, dtype: object\n",
      "DataFrame 按标签选择（列 'City' 的数据）:\n",
      "0         New York\n",
      "1      Los Angeles\n",
      "2    San Francisco\n",
      "Name: City, dtype: object\n"
     ]
    }
   ],
   "source": [
    "# 按标签选择数据\n",
    "print(\"\\n按标签选择数据:\")\n",
    "print(\"Series 按标签选择（索引 'a' 的元素）:\")\n",
    "print(s.loc['a'])  # 根据标签选择\n",
    "print(\"DataFrame 按标签选择（行标签为 'Bob'）:\")\n",
    "print(df.loc[1])  # 根据行标签选择\n",
    "print(\"DataFrame 按标签选择（列 'City' 的数据）:\")\n",
    "print(df['City'])  # 根据列标签选择\n"
   ]
  },
  {
   "cell_type": "code",
   "execution_count": 83,
   "metadata": {},
   "outputs": [
    {
     "name": "stdout",
     "output_type": "stream",
     "text": [
      "\n",
      "按条件选择数据:\n",
      "Series 按条件选择（大于 20 的元素）:\n",
      "a    100\n",
      "c     30\n",
      "d     40\n",
      "e     50\n",
      "dtype: int64\n",
      "DataFrame 按条件选择（Age 大于 30 的行）:\n",
      "      Name  Age           City Country\n",
      "1      Bob   31    Los Angeles     USA\n",
      "2  Charlie   36  San Francisco     USA\n"
     ]
    }
   ],
   "source": [
    "# 按条件选择数据\n",
    "print(\"\\n按条件选择数据:\")\n",
    "print(\"Series 按条件选择（大于 20 的元素）:\")\n",
    "print(s[s > 20])  # 条件筛选\n",
    "print(\"DataFrame 按条件选择（Age 大于 30 的行）:\")\n",
    "print(df[df['Age'] > 30])  # 条件筛选"
   ]
  }
 ],
 "metadata": {
  "kernelspec": {
   "display_name": "AI",
   "language": "python",
   "name": "python3"
  },
  "language_info": {
   "codemirror_mode": {
    "name": "ipython",
    "version": 3
   },
   "file_extension": ".py",
   "mimetype": "text/x-python",
   "name": "python",
   "nbconvert_exporter": "python",
   "pygments_lexer": "ipython3",
   "version": "3.13.2"
  }
 },
 "nbformat": 4,
 "nbformat_minor": 2
}
