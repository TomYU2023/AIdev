{
 "cells": [
  {
   "cell_type": "markdown",
   "metadata": {},
   "source": [
    "| 操作            | 示例                            | 说明                                                                 |\n",
    "|-----------------|---------------------------------|----------------------------------------------------------------------|\n",
    "| ​**矩阵加法**    | `np.add(arr1, arr2)`            | 对两个数组进行逐元素相加                                             |\n",
    "| ​**矩阵减法**    | `np.subtract(arr1, arr2)`       | 对两个数组进行逐元素相减                                             |\n",
    "| ​**矩阵乘法**    | `np.dot(arr1, arr2)`            | 进行矩阵乘法                                                         |\n",
    "| ​**矩阵除法**    | `np.divide(arr1, arr2)`         | 对两个数组进行逐元素除法                                             |\n",
    "| ​**元素乘法**    | `arr1 * arr2`                   | 对两个数组进行逐元素相乘                                             |\n",
    "| ​**元素除法**    | `arr1 / arr2`                   | 对两个数组进行逐元素除法                                             |\n",
    "| ​**转置**        | `np.transpose(arr)`             | 对矩阵进行转置操作                                                   |\n",
    "| ​**求和**        | `np.sum(arr)`                   | 计算数组的所有元素的和                                               |\n",
    "| ​**求列和**      | `np.sum(arr, axis=0)`           | 计算每列的和，`axis=0`                                               |\n",
    "| ​**求行和**      | `np.sum(arr, axis=1)`           | 计算每行的和，`axis=1`                                               |\n",
    "| ​**均值**        | `np.mean(arr)`                  | 计算数组的均值                                                       |\n",
    "| ​**行均值**      | `np.mean(arr, axis=1)`          | 计算每行的均值                                                       |\n",
    "| ​**列均值**      | `np.mean(arr, axis=0)`          | 计算每列的均值                                                       |\n",
    "| ​**中位数**      | `np.median(arr)`                | 计算数组的中位数                                                     |\n",
    "| ​**最大值**      | `np.max(arr)`                   | 计算数组的最大值                                                     |\n",
    "| ​**最小值**      | `np.min(arr)`                   | 计算数组的最小值                                                     |\n",
    "| ​**最大值索引**  | `np.argmax(arr)`                | 计算数组中最大值的位置索引                                           |\n",
    "| ​**最小值索引**  | `np.argmin(arr)`                | 计算数组中最小值的位置索引                                           |\n",
    "| ​**标准差**      | `np.std(arr)`                   | 计算数组的标准差                                                     |\n",
    "| ​**方差**        | `np.var(arr)`                   | 计算数组的方差                                                       |\n",
    "| ​**矩阵行列式**  | `np.linalg.det(arr)`            | 计算矩阵的行列式（仅适用于方阵）                                     |\n",
    "| ​**矩阵逆**      | `np.linalg.inv(arr)`            | 计算矩阵的逆（仅适用于非奇异方阵）                                   |\n",
    "| ​**分组计算**    | `np.groupby(arr, key)`          | 按照给定的分组键计算分组后，可以计算每组的统计量                     |\n",
    "| ​**应用函数**    | `np.apply_along_axis(func, axis, arr)` | 沿着指定轴应用函数                                           |\n",
    "| ​**广播**        | `arr1 + arr2`                   | 不同形状的数组也可以进行运算，前提是它们能够通过广播规则对齐         |"
   ]
  },
  {
   "cell_type": "code",
   "execution_count": 1,
   "metadata": {},
   "outputs": [
    {
     "name": "stdout",
     "output_type": "stream",
     "text": [
      "arr1:\n",
      " [[1 2]\n",
      " [3 4]]\n",
      "arr2:\n",
      " [[5 6]\n",
      " [7 8]]\n"
     ]
    }
   ],
   "source": [
    "import numpy as np\n",
    "\n",
    "# 创建示例数组\n",
    "arr1 = np.array([[1, 2], [3, 4]])\n",
    "arr2 = np.array([[5, 6], [7, 8]])\n",
    "print(\"arr1:\\n\", arr1)\n",
    "print(\"arr2:\\n\", arr2)"
   ]
  },
  {
   "cell_type": "code",
   "execution_count": 2,
   "metadata": {},
   "outputs": [
    {
     "name": "stdout",
     "output_type": "stream",
     "text": [
      "arr1:\n",
      " [[1 2]\n",
      " [3 4]]\n",
      "arr2:\n",
      " [[5 6]\n",
      " [7 8]]\n",
      "矩阵加法:\n",
      " [[ 6  8]\n",
      " [10 12]]\n"
     ]
    }
   ],
   "source": [
    "print(\"arr1:\\n\", arr1)\n",
    "print(\"arr2:\\n\", arr2)\n",
    "# 矩阵加法\n",
    "add_result = np.add(arr1, arr2)\n",
    "print(\"矩阵加法:\\n\", add_result)\n"
   ]
  },
  {
   "cell_type": "code",
   "execution_count": 3,
   "metadata": {},
   "outputs": [
    {
     "name": "stdout",
     "output_type": "stream",
     "text": [
      "arr1:\n",
      " [[1 2]\n",
      " [3 4]]\n",
      "arr2:\n",
      " [[5 6]\n",
      " [7 8]]\n",
      "矩阵减法:\n",
      " [[-4 -4]\n",
      " [-4 -4]]\n"
     ]
    }
   ],
   "source": [
    "print(\"arr1:\\n\", arr1)\n",
    "print(\"arr2:\\n\", arr2)\n",
    "# 矩阵减法\n",
    "subtract_result = np.subtract(arr1, arr2)\n",
    "print(\"矩阵减法:\\n\", subtract_result)\n"
   ]
  },
  {
   "cell_type": "code",
   "execution_count": 4,
   "metadata": {},
   "outputs": [
    {
     "name": "stdout",
     "output_type": "stream",
     "text": [
      "arr1:\n",
      " [[1 2]\n",
      " [3 4]]\n",
      "arr2:\n",
      " [[5 6]\n",
      " [7 8]]\n",
      "矩阵乘法:\n",
      " [[19 22]\n",
      " [43 50]]\n"
     ]
    }
   ],
   "source": [
    "print(\"arr1:\\n\", arr1)\n",
    "print(\"arr2:\\n\", arr2)\n",
    "# 矩阵乘法\n",
    "dot_result = np.dot(arr1, arr2) # 广播机制\n",
    "print(\"矩阵乘法:\\n\", dot_result)\n"
   ]
  },
  {
   "cell_type": "code",
   "execution_count": 5,
   "metadata": {},
   "outputs": [
    {
     "name": "stdout",
     "output_type": "stream",
     "text": [
      "arr1:\n",
      " [[1 2]\n",
      " [3 4]]\n",
      "arr2:\n",
      " [[5 6]\n",
      " [7 8]]\n",
      "元素乘法:\n",
      " [[ 5 12]\n",
      " [21 32]]\n"
     ]
    }
   ],
   "source": [
    "print(\"arr1:\\n\", arr1)\n",
    "print(\"arr2:\\n\", arr2)\n",
    "# 元素乘法\n",
    "elementwise_mul = arr1 * arr2 # 点乘\n",
    "print(\"元素乘法:\\n\", elementwise_mul)\n"
   ]
  },
  {
   "cell_type": "code",
   "execution_count": 6,
   "metadata": {},
   "outputs": [
    {
     "name": "stdout",
     "output_type": "stream",
     "text": [
      "arr1:\n",
      " [[1 2]\n",
      " [3 4]]\n",
      "arr2:\n",
      " [[5 6]\n",
      " [7 8]]\n",
      "矩阵除法:\n",
      " [[0.2        0.33333333]\n",
      " [0.42857143 0.5       ]]\n"
     ]
    }
   ],
   "source": [
    "print(\"arr1:\\n\", arr1)\n",
    "print(\"arr2:\\n\", arr2)\n",
    "# 矩阵除法\n",
    "divide_result = np.divide(arr1, arr2) # 点除\n",
    "print(\"矩阵除法:\\n\", divide_result)\n"
   ]
  },
  {
   "cell_type": "code",
   "execution_count": 7,
   "metadata": {},
   "outputs": [
    {
     "name": "stdout",
     "output_type": "stream",
     "text": [
      "arr1:\n",
      " [[1 2]\n",
      " [3 4]]\n",
      "arr2:\n",
      " [[5 6]\n",
      " [7 8]]\n",
      "元素除法:\n",
      " [[0.2        0.33333333]\n",
      " [0.42857143 0.5       ]]\n"
     ]
    }
   ],
   "source": [
    "print(\"arr1:\\n\", arr1)\n",
    "print(\"arr2:\\n\", arr2)\n",
    "# 元素除法\n",
    "elementwise_div = arr1 / arr2\n",
    "print(\"元素除法:\\n\", elementwise_div) # 点除\n"
   ]
  },
  {
   "cell_type": "code",
   "execution_count": 8,
   "metadata": {},
   "outputs": [
    {
     "name": "stdout",
     "output_type": "stream",
     "text": [
      "arr1:\n",
      " [[1 2]\n",
      " [3 4]]\n",
      "转置:\n",
      " [[1 3]\n",
      " [2 4]]\n"
     ]
    }
   ],
   "source": [
    "print(\"arr1:\\n\", arr1)\n",
    "# 转置\n",
    "transpose_result = np.transpose(arr1)\n",
    "print(\"转置:\\n\", transpose_result)\n"
   ]
  },
  {
   "cell_type": "code",
   "execution_count": 9,
   "metadata": {},
   "outputs": [
    {
     "name": "stdout",
     "output_type": "stream",
     "text": [
      "arr1:\n",
      " [[1 2]\n",
      " [3 4]]\n",
      "求和: 10\n"
     ]
    }
   ],
   "source": [
    "print(\"arr1:\\n\", arr1)\n",
    "# 求和\n",
    "sum_result = np.sum(arr1)\n",
    "print(\"求和:\", sum_result)\n"
   ]
  },
  {
   "cell_type": "code",
   "execution_count": 10,
   "metadata": {},
   "outputs": [
    {
     "name": "stdout",
     "output_type": "stream",
     "text": [
      "arr1:\n",
      " [[1 2]\n",
      " [3 4]]\n",
      "求列和: [4 6]\n"
     ]
    }
   ],
   "source": [
    "print(\"arr1:\\n\", arr1)\n",
    "# 求列和\n",
    "sum_col = np.sum(arr1, axis=0)\n",
    "print(\"求列和:\", sum_col)\n"
   ]
  },
  {
   "cell_type": "code",
   "execution_count": 11,
   "metadata": {},
   "outputs": [
    {
     "name": "stdout",
     "output_type": "stream",
     "text": [
      "arr1:\n",
      " [[1 2]\n",
      " [3 4]]\n",
      "求行和: [3 7]\n"
     ]
    }
   ],
   "source": [
    "print(\"arr1:\\n\", arr1)\n",
    "# 求行和\n",
    "sum_row = np.sum(arr1, axis=1)\n",
    "print(\"求行和:\", sum_row)\n"
   ]
  },
  {
   "cell_type": "code",
   "execution_count": 12,
   "metadata": {},
   "outputs": [
    {
     "name": "stdout",
     "output_type": "stream",
     "text": [
      "arr1:\n",
      " [[1 2]\n",
      " [3 4]]\n",
      "均值: 2.5\n"
     ]
    }
   ],
   "source": [
    "print(\"arr1:\\n\", arr1)\n",
    "# 均值\n",
    "mean_result = np.mean(arr1)\n",
    "print(\"均值:\", mean_result)\n"
   ]
  },
  {
   "cell_type": "code",
   "execution_count": 13,
   "metadata": {},
   "outputs": [
    {
     "name": "stdout",
     "output_type": "stream",
     "text": [
      "arr1:\n",
      " [[1 2]\n",
      " [3 4]]\n",
      "行均值: [1.5 3.5]\n"
     ]
    }
   ],
   "source": [
    "print(\"arr1:\\n\", arr1)\n",
    "# 行均值\n",
    "mean_row = np.mean(arr1, axis=1)\n",
    "print(\"行均值:\", mean_row)\n"
   ]
  },
  {
   "cell_type": "code",
   "execution_count": 14,
   "metadata": {},
   "outputs": [
    {
     "name": "stdout",
     "output_type": "stream",
     "text": [
      "arr1:\n",
      " [[1 2]\n",
      " [3 4]]\n",
      "列均值: [2. 3.]\n"
     ]
    }
   ],
   "source": [
    "print(\"arr1:\\n\", arr1)\n",
    "# 列均值\n",
    "mean_col = np.mean(arr1, axis=0)\n",
    "print(\"列均值:\", mean_col)\n"
   ]
  },
  {
   "cell_type": "code",
   "execution_count": 15,
   "metadata": {},
   "outputs": [
    {
     "name": "stdout",
     "output_type": "stream",
     "text": [
      "arr1:\n",
      " [[1 2]\n",
      " [3 4]]\n",
      "中位数: 2.5\n"
     ]
    }
   ],
   "source": [
    "print(\"arr1:\\n\", arr1)\n",
    "# 中位数\n",
    "median_result = np.median(arr1)\n",
    "print(\"中位数:\", median_result)\n"
   ]
  },
  {
   "cell_type": "code",
   "execution_count": 16,
   "metadata": {},
   "outputs": [
    {
     "name": "stdout",
     "output_type": "stream",
     "text": [
      "arr1:\n",
      " [[1 2]\n",
      " [3 4]]\n",
      "最大值: 4\n"
     ]
    }
   ],
   "source": [
    "print(\"arr1:\\n\", arr1)\n",
    "# 最大值\n",
    "max_result = np.max(arr1)\n",
    "print(\"最大值:\", max_result)\n"
   ]
  },
  {
   "cell_type": "code",
   "execution_count": 17,
   "metadata": {},
   "outputs": [
    {
     "name": "stdout",
     "output_type": "stream",
     "text": [
      "arr1:\n",
      " [[1 2]\n",
      " [3 4]]\n",
      "最小值: 1\n"
     ]
    }
   ],
   "source": [
    "print(\"arr1:\\n\", arr1)\n",
    "# 最小值\n",
    "min_result = np.min(arr1)\n",
    "print(\"最小值:\", min_result)\n"
   ]
  },
  {
   "cell_type": "code",
   "execution_count": 18,
   "metadata": {},
   "outputs": [
    {
     "name": "stdout",
     "output_type": "stream",
     "text": [
      "arr1:\n",
      " [[1 2]\n",
      " [3 4]]\n",
      "最大值索引: 3\n"
     ]
    }
   ],
   "source": [
    "print(\"arr1:\\n\", arr1)\n",
    "# 最大值索引\n",
    "argmax_result = np.argmax(arr1)\n",
    "print(\"最大值索引:\", argmax_result)\n"
   ]
  },
  {
   "cell_type": "code",
   "execution_count": 19,
   "metadata": {},
   "outputs": [
    {
     "name": "stdout",
     "output_type": "stream",
     "text": [
      "arr1:\n",
      " [[1 2]\n",
      " [3 4]]\n",
      "最小值索引: 0\n"
     ]
    }
   ],
   "source": [
    "print(\"arr1:\\n\", arr1)\n",
    "# 最小值索引\n",
    "argmin_result = np.argmin(arr1)\n",
    "print(\"最小值索引:\", argmin_result)\n"
   ]
  },
  {
   "cell_type": "code",
   "execution_count": 20,
   "metadata": {},
   "outputs": [
    {
     "name": "stdout",
     "output_type": "stream",
     "text": [
      "arr1:\n",
      " [[1 2]\n",
      " [3 4]]\n",
      "标准差: 1.118033988749895\n"
     ]
    }
   ],
   "source": [
    "print(\"arr1:\\n\", arr1)\n",
    "# 标准差\n",
    "std_result = np.std(arr1)\n",
    "print(\"标准差:\", std_result)\n"
   ]
  },
  {
   "cell_type": "code",
   "execution_count": 21,
   "metadata": {},
   "outputs": [
    {
     "name": "stdout",
     "output_type": "stream",
     "text": [
      "arr1:\n",
      " [[1 2]\n",
      " [3 4]]\n",
      "方差: 1.25\n"
     ]
    }
   ],
   "source": [
    "print(\"arr1:\\n\", arr1)\n",
    "# 方差\n",
    "var_result = np.var(arr1)\n",
    "print(\"方差:\", var_result)\n"
   ]
  },
  {
   "cell_type": "code",
   "execution_count": 22,
   "metadata": {},
   "outputs": [
    {
     "name": "stdout",
     "output_type": "stream",
     "text": [
      "arr1:\n",
      " [[1 2]\n",
      " [3 4]]\n",
      "矩阵行列式: -2.0000000000000004\n"
     ]
    }
   ],
   "source": [
    "print(\"arr1:\\n\", arr1)\n",
    "# 矩阵行列式\n",
    "det_result = np.linalg.det(arr1)\n",
    "print(\"矩阵行列式:\", det_result)\n"
   ]
  },
  {
   "cell_type": "code",
   "execution_count": 23,
   "metadata": {},
   "outputs": [
    {
     "name": "stdout",
     "output_type": "stream",
     "text": [
      "arr1:\n",
      " [[1 2]\n",
      " [3 4]]\n",
      "矩阵逆:\n",
      " [[-2.   1. ]\n",
      " [ 1.5 -0.5]]\n"
     ]
    }
   ],
   "source": [
    "print(\"arr1:\\n\", arr1)\n",
    "# 矩阵逆\n",
    "inv_result = np.linalg.inv(arr1)\n",
    "print(\"矩阵逆:\\n\", inv_result)\n"
   ]
  },
  {
   "cell_type": "code",
   "execution_count": 24,
   "metadata": {},
   "outputs": [
    {
     "name": "stdout",
     "output_type": "stream",
     "text": [
      "arr1:\n",
      " [[1 2]\n",
      " [3 4]]\n",
      "应用函数（平方）:\n",
      " [[ 1  4]\n",
      " [ 9 16]]\n"
     ]
    }
   ],
   "source": [
    "print(\"arr1:\\n\", arr1)\n",
    "# 应用函数\n",
    "def square(x):\n",
    "    return x ** 2\n",
    "\n",
    "apply_result = np.apply_along_axis(square, 0, arr1)\n",
    "print(\"应用函数（平方）:\\n\", apply_result)\n"
   ]
  },
  {
   "cell_type": "code",
   "execution_count": 25,
   "metadata": {},
   "outputs": [
    {
     "name": "stdout",
     "output_type": "stream",
     "text": [
      "arr1:\n",
      " [[1 2]\n",
      " [3 4]]\n",
      "广播:\n",
      " [[2 4]\n",
      " [4 6]]\n"
     ]
    }
   ],
   "source": [
    "print(\"arr1:\\n\", arr1)\n",
    "# 广播\n",
    "arr3 = np.array([1, 2])\n",
    "broadcast_result = arr1 + arr3\n",
    "print(\"广播:\\n\", broadcast_result)"
   ]
  }
 ],
 "metadata": {
  "kernelspec": {
   "display_name": "DL",
   "language": "python",
   "name": "python3"
  },
  "language_info": {
   "codemirror_mode": {
    "name": "ipython",
    "version": 3
   },
   "file_extension": ".py",
   "mimetype": "text/x-python",
   "name": "python",
   "nbconvert_exporter": "python",
   "pygments_lexer": "ipython3",
   "version": "3.12.9"
  }
 },
 "nbformat": 4,
 "nbformat_minor": 2
}
