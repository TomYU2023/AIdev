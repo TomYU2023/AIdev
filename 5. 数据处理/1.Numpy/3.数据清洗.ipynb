{
 "cells": [
  {
   "cell_type": "markdown",
   "metadata": {},
   "source": [
    "| 操作           | 示例                                                                 | 说明                                                                 |\n",
    "|----------------|----------------------------------------------------------------------|----------------------------------------------------------------------|\n",
    "| ​**缺失值检测** | `np.isnan(arr)`                                                     | 检测布尔值，返回一个布尔数组，表示是否为缺失值（NaN）                |\n",
    "| ​**删除缺失值** | `arr = arr[~np.isnan(arr)]`                                         | 用取反赋值实现删除缺失值                                             |\n",
    "| ​**填充缺失值** | `np.nan_to_num(arr, nan=0)`                                         | 指定填充缺失值，将 NaN 替换为指定值（如 0）                          |\n",
    "| ​**重复值检测** | `np.unique(arr, return_index=True)`                                | 用于检查和定位重复值，便于后续删除或合并数据                         |\n",
    "| ​**删除重复值** | `arr = np.unique(arr)`                                             | 数据去重，返回唯一值组成的数组                                       |\n",
    "| ​**异常值检测** | `Z-score：np.where(np.abs((arr - np.mean(arr)) / np.std(arr)) > 3)` | 检测极端值或异常值；`.where()` 条件定位，`.abs()` 绝对值             |\n",
    "| ​**异常值替换** | `arr[arr > 100] = np.median(arr)`                                  | 用中位数替换异常值                                                  |\n",
    "|                | `arr[arr > 100] = np.mean(arr)`                                    | 用均值替换异常值                                                    |\n",
    "|                | `arr[arr > 100] = np.mode(arr)`                                    | 用众数替换异常值                                                    |\n",
    "| ​**字符串处理** | `arr = np.char.strip(arr)`                                         | 处理文本数据中的杂项字符或格式                                      |\n",
    "| ​**数据类型转换** | `arr = arr.astype(float)`                                         | 将字符串转换为数值类型                                              |"
   ]
  },
  {
   "cell_type": "code",
   "execution_count": 1,
   "metadata": {},
   "outputs": [
    {
     "name": "stdout",
     "output_type": "stream",
     "text": [
      "原始数组：\n",
      " [[ 1.  2. nan]\n",
      " [ 4.  5. nan]\n",
      " [ 8.  9.  9.]]\n"
     ]
    }
   ],
   "source": [
    "import numpy as np\n",
    "# 创建一个示例数组\n",
    "arr = np.array([[1, 2, np.nan], \n",
    "                 [4, 5, np.nan], \n",
    "                 [8, 9, 9]])\n",
    "print(\"原始数组：\\n\", arr)"
   ]
  },
  {
   "cell_type": "code",
   "execution_count": 2,
   "metadata": {},
   "outputs": [
    {
     "name": "stdout",
     "output_type": "stream",
     "text": [
      "原数组:\n",
      " [[ 1.  2. nan]\n",
      " [ 4.  5. nan]\n",
      " [ 8.  9.  9.]]\n",
      "缺失值检测:\n",
      " [[False False  True]\n",
      " [False False  True]\n",
      " [False False False]]\n",
      "================缺失值检测================\n"
     ]
    }
   ],
   "source": [
    "# 检查数组中的缺失值（NaN）\n",
    "print('原数组:\\n', arr)\n",
    "print(\"缺失值检测:\\n\", np.isnan(arr))  # 返回布尔数组，True 表示缺失值\n",
    "print(\"================缺失值检测================\")\n"
   ]
  },
  {
   "cell_type": "code",
   "execution_count": 3,
   "metadata": {},
   "outputs": [
    {
     "name": "stdout",
     "output_type": "stream",
     "text": [
      "删除缺失值:\n",
      " [1. 2. 4. 5. 8. 9. 9.]\n",
      "================删除缺失值================\n"
     ]
    }
   ],
   "source": [
    "# 删除包含缺失值的元素\n",
    "arr_cleaned = arr[~np.isnan(arr)] # 通过取非赋值实现删除\n",
    "print(\"删除缺失值:\\n\", arr_cleaned)\n",
    "print(\"================删除缺失值================\")\n"
   ]
  },
  {
   "cell_type": "code",
   "execution_count": 4,
   "metadata": {},
   "outputs": [
    {
     "name": "stdout",
     "output_type": "stream",
     "text": [
      "填充缺失值:\n",
      " [[1. 2. 0.]\n",
      " [4. 5. 0.]\n",
      " [8. 9. 9.]]\n",
      "================用0填充缺失值================\n"
     ]
    }
   ],
   "source": [
    "\n",
    "# 使用 0 填充缺失值\n",
    "arr_filled = np.nan_to_num(arr, nan=0)\n",
    "print(\"填充缺失值:\\n\", arr_filled)\n",
    "print(\"================用0填充缺失值================\")\n"
   ]
  },
  {
   "cell_type": "code",
   "execution_count": 5,
   "metadata": {},
   "outputs": [
    {
     "name": "stdout",
     "output_type": "stream",
     "text": [
      "唯一值: [1 2 3 4]\n",
      "唯一值的索引位置: [0 1 3 6]\n",
      "================重复值检测================\n"
     ]
    }
   ],
   "source": [
    "\n",
    "# 检查数组中是否有重复值\n",
    "arr = np.array([1, 2, 2, 3, 3, 3, 4])\n",
    "unique_values, indices = np.unique(arr, return_index=True)\n",
    "print(\"唯一值:\", unique_values)  # 输出: 元素[1 2 3 4]\n",
    "print(\"唯一值的索引位置:\", indices)  # 输出: 索引[0 1 3 6]\n",
    "print(\"================重复值检测================\")\n"
   ]
  },
  {
   "cell_type": "code",
   "execution_count": 6,
   "metadata": {},
   "outputs": [
    {
     "name": "stdout",
     "output_type": "stream",
     "text": [
      "删除重复值:\n",
      " [1 2 3 4]\n",
      "================删除重复值================\n"
     ]
    }
   ],
   "source": [
    "\n",
    "# 删除重复值，仅保留唯一值\n",
    "arr_no_duplicates = np.unique(arr)\n",
    "print(\"删除重复值:\\n\", arr_no_duplicates)\n",
    "print(\"================删除重复值================\")\n"
   ]
  },
  {
   "cell_type": "markdown",
   "metadata": {},
   "source": [
    "### Z-Score（标准分数）\n",
    "\n",
    "$$\n",
    "Z = \\frac{X - \\mu}{\\sigma}\n",
    "$$\n",
    "- **$X$**：单个数据点的原始值  \n",
    "- **$\\mu$**：数据集的均值  \n",
    "- **$\\sigma$**：数据集的标准差  \n",
    "\n",
    "---\n",
    "\n",
    "### **计算步骤**\n",
    "1. **计算均值（$\\mu$）**：所有数据点的平均值。\n",
    "2. **计算标准差（$\\sigma$）**：数据分布的离散程度。\n",
    "3. **标准化每个数据点**：用公式将原始值转换为 Z-Score。\n",
    "\n",
    "**示例**：  \n",
    "假设某班级 5 名学生的数学成绩为：$$70, 80, 90, 95, 85$$  \n",
    "- **均值（$\\mu$）**：$ (70+80+90+95+85)/5 = 84 $  \n",
    "- **标准差（$\\sigma$）**：约 9.38  \n",
    "- **Z-Score 计算**：  \n",
    "  $$\n",
    "  Z_{70} = \\frac{70 - 84}{9.38} \\approx -1.49  \n",
    "  $$\n",
    "  其他成绩的 Z-Score 同理可得。\n",
    "\n",
    "---\n",
    "\n",
    "### **核心作用**\n",
    "1. **异常值检测**  \n",
    "   - **判断标准**：  \n",
    "     - $ |Z| > 3 $：极可能是异常值（覆盖约 99.7% 的正态数据）。  \n",
    "     - $ |Z| > 2 $：可能是潜在异常值（覆盖约 95% 的正态数据）。  \n",
    "   - **适用场景**：金融风控、传感器数据清洗、实验数据质量控制。\n",
    "\n",
    "2. **数据标准化**  \n",
    "   - 消除量纲差异，使不同量纲的特征可比（如身高 vs 体重）。  \n",
    "   - 机器学习模型（如 SVM、K-Means、线性回归）常需标准化输入数据。\n",
    "\n",
    "3. **概率计算**  \n",
    "   - 通过 Z-Score 查标准正态分布表，计算数据点的百分位排名。  \n",
    "   - **示例**：Z=1.96 对应 97.5% 的累积概率。\n",
    "\n",
    "---"
   ]
  },
  {
   "cell_type": "code",
   "execution_count": 7,
   "metadata": {},
   "outputs": [
    {
     "name": "stdout",
     "output_type": "stream",
     "text": [
      "异常值检测:\n",
      " (array([], dtype=int64),)\n",
      "================异常值检测================\n"
     ]
    }
   ],
   "source": [
    "\n",
    "# 使用 Z-Score 方法检测异常值（假设阈值为 3）\n",
    "z_score = (arr - np.mean(arr)) / np.std(arr)\n",
    "outliers = np.where(np.abs(z_score) > 3)\n",
    "print(\"异常值检测:\\n\", outliers)\n",
    "print(\"================异常值检测================\")\n"
   ]
  },
  {
   "cell_type": "code",
   "execution_count": 8,
   "metadata": {},
   "outputs": [
    {
     "name": "stdout",
     "output_type": "stream",
     "text": [
      "异常值替换:\n",
      " [1 2 2 3 3 3 4]\n",
      "================异常值替换================\n"
     ]
    }
   ],
   "source": [
    "\n",
    "# 将大于 100 的异常值替换为中位数\n",
    "arr[arr > 100] = np.median(arr)\n",
    "print(\"异常值替换:\\n\", arr)\n",
    "print(\"================异常值替换================\")\n"
   ]
  },
  {
   "cell_type": "code",
   "execution_count": 9,
   "metadata": {},
   "outputs": [
    {
     "name": "stdout",
     "output_type": "stream",
     "text": [
      "字符串处理（去除空格）:\n",
      " ['hello' 'world' 'numpy']\n",
      "================字符串处理================\n"
     ]
    }
   ],
   "source": [
    "\n",
    "# 处理字符串数组，去除空格\n",
    "str_arr = np.array([' hello ', 'world  ', '  numpy '])\n",
    "str_arr_cleaned = np.char.strip(str_arr)\n",
    "print(\"字符串处理（去除空格）:\\n\", str_arr_cleaned)\n",
    "print(\"================字符串处理================\")\n"
   ]
  },
  {
   "cell_type": "code",
   "execution_count": 10,
   "metadata": {},
   "outputs": [
    {
     "name": "stdout",
     "output_type": "stream",
     "text": [
      "数据类型转换:\n",
      " [1. 2. 2. 3. 3. 3. 4.]\n",
      "================数据类型转换================\n"
     ]
    }
   ],
   "source": [
    "# 将数组转换为 float 类型\n",
    "arr_float = arr.astype(float)\n",
    "print(\"数据类型转换:\\n\", arr_float)\n",
    "print(\"================数据类型转换================\")\n"
   ]
  }
 ],
 "metadata": {
  "kernelspec": {
   "display_name": "DL",
   "language": "python",
   "name": "python3"
  },
  "language_info": {
   "codemirror_mode": {
    "name": "ipython",
    "version": 3
   },
   "file_extension": ".py",
   "mimetype": "text/x-python",
   "name": "python",
   "nbconvert_exporter": "python",
   "pygments_lexer": "ipython3",
   "version": "3.12.9"
  }
 },
 "nbformat": 4,
 "nbformat_minor": 2
}
