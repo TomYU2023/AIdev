{
 "cells": [
  {
   "cell_type": "code",
   "execution_count": 1,
   "metadata": {},
   "outputs": [
    {
     "data": {
      "application/vnd.microsoft.datawrangler.viewer.v0+json": {
       "columns": [
        {
         "name": "index",
         "rawType": "int64",
         "type": "integer"
        },
        {
         "name": "sepal_length",
         "rawType": "float64",
         "type": "float"
        },
        {
         "name": "sepal_width",
         "rawType": "float64",
         "type": "float"
        },
        {
         "name": "petal_length",
         "rawType": "float64",
         "type": "float"
        },
        {
         "name": "petal_width",
         "rawType": "float64",
         "type": "float"
        },
        {
         "name": "class",
         "rawType": "object",
         "type": "string"
        }
       ],
       "conversionMethod": "pd.DataFrame",
       "ref": "f9de1bcd-5fd4-4fae-b716-39e0cacf407c",
       "rows": [
        [
         "0",
         "5.1",
         "3.5",
         "1.4",
         "0.2",
         "Iris-setosa"
        ],
        [
         "1",
         "4.9",
         "3.0",
         "1.4",
         "0.2",
         "Iris-setosa"
        ],
        [
         "2",
         "4.7",
         "3.2",
         "1.3",
         "0.2",
         "Iris-setosa"
        ],
        [
         "3",
         "4.6",
         "3.1",
         "1.5",
         "0.2",
         "Iris-setosa"
        ],
        [
         "4",
         "5.0",
         "3.6",
         "1.4",
         "0.2",
         "Iris-setosa"
        ],
        [
         "5",
         "5.4",
         "3.9",
         "1.7",
         "0.4",
         "Iris-setosa"
        ],
        [
         "6",
         "4.6",
         "3.4",
         "1.4",
         "0.3",
         "Iris-setosa"
        ],
        [
         "7",
         "5.0",
         "3.4",
         "1.5",
         "0.2",
         "Iris-setosa"
        ],
        [
         "8",
         "4.4",
         "2.9",
         "1.4",
         "0.2",
         "Iris-setosa"
        ],
        [
         "9",
         "4.9",
         "3.1",
         "1.5",
         "0.1",
         "Iris-setosa"
        ],
        [
         "10",
         "5.4",
         "3.7",
         "1.5",
         "0.2",
         "Iris-setosa"
        ],
        [
         "11",
         "4.8",
         "3.4",
         "1.6",
         "0.2",
         "Iris-setosa"
        ],
        [
         "12",
         "4.8",
         "3.0",
         "1.4",
         "0.1",
         "Iris-setosa"
        ],
        [
         "13",
         "4.3",
         "3.0",
         "1.1",
         "0.1",
         "Iris-setosa"
        ],
        [
         "14",
         "5.8",
         "4.0",
         "1.2",
         "0.2",
         "Iris-setosa"
        ],
        [
         "15",
         "5.7",
         "4.4",
         "1.5",
         "0.4",
         "Iris-setosa"
        ],
        [
         "16",
         "5.4",
         "3.9",
         "1.3",
         "0.4",
         "Iris-setosa"
        ],
        [
         "17",
         "5.1",
         "3.5",
         "1.4",
         "0.3",
         "Iris-setosa"
        ],
        [
         "18",
         "5.7",
         "3.8",
         "1.7",
         "0.3",
         "Iris-setosa"
        ],
        [
         "19",
         "5.1",
         "3.8",
         "1.5",
         "0.3",
         "Iris-setosa"
        ],
        [
         "20",
         "5.4",
         "3.4",
         "1.7",
         "0.2",
         "Iris-setosa"
        ],
        [
         "21",
         "5.1",
         "3.7",
         "1.5",
         "0.4",
         "Iris-setosa"
        ],
        [
         "22",
         "4.6",
         "3.6",
         "1.0",
         "0.2",
         "Iris-setosa"
        ],
        [
         "23",
         "5.1",
         "3.3",
         "1.7",
         "0.5",
         "Iris-setosa"
        ],
        [
         "24",
         "4.8",
         "3.4",
         "1.9",
         "0.2",
         "Iris-setosa"
        ],
        [
         "25",
         "5.0",
         "3.0",
         "1.6",
         "0.2",
         "Iris-setosa"
        ],
        [
         "26",
         "5.0",
         "3.4",
         "1.6",
         "0.4",
         "Iris-setosa"
        ],
        [
         "27",
         "5.2",
         "3.5",
         "1.5",
         "0.2",
         "Iris-setosa"
        ],
        [
         "28",
         "5.2",
         "3.4",
         "1.4",
         "0.2",
         "Iris-setosa"
        ],
        [
         "29",
         "4.7",
         "3.2",
         "1.6",
         "0.2",
         "Iris-setosa"
        ],
        [
         "30",
         "4.8",
         "3.1",
         "1.6",
         "0.2",
         "Iris-setosa"
        ],
        [
         "31",
         "5.4",
         "3.4",
         "1.5",
         "0.4",
         "Iris-setosa"
        ],
        [
         "32",
         "5.2",
         "4.1",
         "1.5",
         "0.1",
         "Iris-setosa"
        ],
        [
         "33",
         "5.5",
         "4.2",
         "1.4",
         "0.2",
         "Iris-setosa"
        ],
        [
         "34",
         "4.9",
         "3.1",
         "1.5",
         "0.1",
         "Iris-setosa"
        ],
        [
         "35",
         "5.0",
         "3.2",
         "1.2",
         "0.2",
         "Iris-setosa"
        ],
        [
         "36",
         "5.5",
         "3.5",
         "1.3",
         "0.2",
         "Iris-setosa"
        ],
        [
         "37",
         "4.9",
         "3.1",
         "1.5",
         "0.1",
         "Iris-setosa"
        ],
        [
         "38",
         "4.4",
         "3.0",
         "1.3",
         "0.2",
         "Iris-setosa"
        ],
        [
         "39",
         "5.1",
         "3.4",
         "1.5",
         "0.2",
         "Iris-setosa"
        ],
        [
         "40",
         "5.0",
         "3.5",
         "1.3",
         "0.3",
         "Iris-setosa"
        ],
        [
         "41",
         "4.5",
         "2.3",
         "1.3",
         "0.3",
         "Iris-setosa"
        ],
        [
         "42",
         "4.4",
         "3.2",
         "1.3",
         "0.2",
         "Iris-setosa"
        ],
        [
         "43",
         "5.0",
         "3.5",
         "1.6",
         "0.6",
         "Iris-setosa"
        ],
        [
         "44",
         "5.1",
         "3.8",
         "1.9",
         "0.4",
         "Iris-setosa"
        ],
        [
         "45",
         "4.8",
         "3.0",
         "1.4",
         "0.3",
         "Iris-setosa"
        ],
        [
         "46",
         "5.1",
         "3.8",
         "1.6",
         "0.2",
         "Iris-setosa"
        ],
        [
         "47",
         "4.6",
         "3.2",
         "1.4",
         "0.2",
         "Iris-setosa"
        ],
        [
         "48",
         "5.3",
         "3.7",
         "1.5",
         "0.2",
         "Iris-setosa"
        ],
        [
         "49",
         "5.0",
         "3.3",
         "1.4",
         "0.2",
         "Iris-setosa"
        ]
       ],
       "shape": {
        "columns": 5,
        "rows": 150
       }
      },
      "text/html": [
       "<div>\n",
       "<style scoped>\n",
       "    .dataframe tbody tr th:only-of-type {\n",
       "        vertical-align: middle;\n",
       "    }\n",
       "\n",
       "    .dataframe tbody tr th {\n",
       "        vertical-align: top;\n",
       "    }\n",
       "\n",
       "    .dataframe thead th {\n",
       "        text-align: right;\n",
       "    }\n",
       "</style>\n",
       "<table border=\"1\" class=\"dataframe\">\n",
       "  <thead>\n",
       "    <tr style=\"text-align: right;\">\n",
       "      <th></th>\n",
       "      <th>sepal_length</th>\n",
       "      <th>sepal_width</th>\n",
       "      <th>petal_length</th>\n",
       "      <th>petal_width</th>\n",
       "      <th>class</th>\n",
       "    </tr>\n",
       "  </thead>\n",
       "  <tbody>\n",
       "    <tr>\n",
       "      <th>0</th>\n",
       "      <td>5.1</td>\n",
       "      <td>3.5</td>\n",
       "      <td>1.4</td>\n",
       "      <td>0.2</td>\n",
       "      <td>Iris-setosa</td>\n",
       "    </tr>\n",
       "    <tr>\n",
       "      <th>1</th>\n",
       "      <td>4.9</td>\n",
       "      <td>3.0</td>\n",
       "      <td>1.4</td>\n",
       "      <td>0.2</td>\n",
       "      <td>Iris-setosa</td>\n",
       "    </tr>\n",
       "    <tr>\n",
       "      <th>2</th>\n",
       "      <td>4.7</td>\n",
       "      <td>3.2</td>\n",
       "      <td>1.3</td>\n",
       "      <td>0.2</td>\n",
       "      <td>Iris-setosa</td>\n",
       "    </tr>\n",
       "    <tr>\n",
       "      <th>3</th>\n",
       "      <td>4.6</td>\n",
       "      <td>3.1</td>\n",
       "      <td>1.5</td>\n",
       "      <td>0.2</td>\n",
       "      <td>Iris-setosa</td>\n",
       "    </tr>\n",
       "    <tr>\n",
       "      <th>4</th>\n",
       "      <td>5.0</td>\n",
       "      <td>3.6</td>\n",
       "      <td>1.4</td>\n",
       "      <td>0.2</td>\n",
       "      <td>Iris-setosa</td>\n",
       "    </tr>\n",
       "    <tr>\n",
       "      <th>...</th>\n",
       "      <td>...</td>\n",
       "      <td>...</td>\n",
       "      <td>...</td>\n",
       "      <td>...</td>\n",
       "      <td>...</td>\n",
       "    </tr>\n",
       "    <tr>\n",
       "      <th>145</th>\n",
       "      <td>6.7</td>\n",
       "      <td>3.0</td>\n",
       "      <td>5.2</td>\n",
       "      <td>2.3</td>\n",
       "      <td>Iris-virginica</td>\n",
       "    </tr>\n",
       "    <tr>\n",
       "      <th>146</th>\n",
       "      <td>6.3</td>\n",
       "      <td>2.5</td>\n",
       "      <td>5.0</td>\n",
       "      <td>1.9</td>\n",
       "      <td>Iris-virginica</td>\n",
       "    </tr>\n",
       "    <tr>\n",
       "      <th>147</th>\n",
       "      <td>6.5</td>\n",
       "      <td>3.0</td>\n",
       "      <td>5.2</td>\n",
       "      <td>2.0</td>\n",
       "      <td>Iris-virginica</td>\n",
       "    </tr>\n",
       "    <tr>\n",
       "      <th>148</th>\n",
       "      <td>6.2</td>\n",
       "      <td>3.4</td>\n",
       "      <td>5.4</td>\n",
       "      <td>2.3</td>\n",
       "      <td>Iris-virginica</td>\n",
       "    </tr>\n",
       "    <tr>\n",
       "      <th>149</th>\n",
       "      <td>5.9</td>\n",
       "      <td>3.0</td>\n",
       "      <td>5.1</td>\n",
       "      <td>1.8</td>\n",
       "      <td>Iris-virginica</td>\n",
       "    </tr>\n",
       "  </tbody>\n",
       "</table>\n",
       "<p>150 rows × 5 columns</p>\n",
       "</div>"
      ],
      "text/plain": [
       "     sepal_length  sepal_width  petal_length  petal_width           class\n",
       "0             5.1          3.5           1.4          0.2     Iris-setosa\n",
       "1             4.9          3.0           1.4          0.2     Iris-setosa\n",
       "2             4.7          3.2           1.3          0.2     Iris-setosa\n",
       "3             4.6          3.1           1.5          0.2     Iris-setosa\n",
       "4             5.0          3.6           1.4          0.2     Iris-setosa\n",
       "..            ...          ...           ...          ...             ...\n",
       "145           6.7          3.0           5.2          2.3  Iris-virginica\n",
       "146           6.3          2.5           5.0          1.9  Iris-virginica\n",
       "147           6.5          3.0           5.2          2.0  Iris-virginica\n",
       "148           6.2          3.4           5.4          2.3  Iris-virginica\n",
       "149           5.9          3.0           5.1          1.8  Iris-virginica\n",
       "\n",
       "[150 rows x 5 columns]"
      ]
     },
     "execution_count": 1,
     "metadata": {},
     "output_type": "execute_result"
    }
   ],
   "source": [
    "import numpy as np\n",
    "import pandas as pd\n",
    "\n",
    "# 读取数据\n",
    "path = r'../../Dataset/iris.data' # 路径\n",
    "headers = ['sepal_length', 'sepal_width', 'petal_length', 'petal_width', 'class'] # 设置表头\n",
    "df = pd.read_csv(path, header=None, names=headers) # 读取数据\n",
    "\n",
    "df # 查看数据"
   ]
  }
 ],
 "metadata": {
  "kernelspec": {
   "display_name": "AI",
   "language": "python",
   "name": "python3"
  },
  "language_info": {
   "codemirror_mode": {
    "name": "ipython",
    "version": 3
   },
   "file_extension": ".py",
   "mimetype": "text/x-python",
   "name": "python",
   "nbconvert_exporter": "python",
   "pygments_lexer": "ipython3",
   "version": "3.13.2"
  }
 },
 "nbformat": 4,
 "nbformat_minor": 2
}
