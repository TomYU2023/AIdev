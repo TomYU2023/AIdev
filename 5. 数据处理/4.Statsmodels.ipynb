{
 "cells": [
  {
   "cell_type": "markdown",
   "metadata": {},
   "source": [
    "## Statsmodels"
   ]
  },
  {
   "cell_type": "markdown",
   "metadata": {},
   "source": [
    "### 01. Statsmodels简介"
   ]
  },
  {
   "cell_type": "markdown",
   "metadata": {},
   "source": [
    "https://www.statsmodels.org/stable/index.html"
   ]
  },
  {
   "cell_type": "markdown",
   "metadata": {},
   "source": [
    "#### 1.Statsmodels简介"
   ]
  },
  {
   "cell_type": "markdown",
   "metadata": {},
   "source": [
    "statsmodels 是一个功能强大的 Python 库，主要用于统计建模和数据分析，能够执行多种统计方法和分析。以下是该库的主要功能：<br>\n",
    "1. 统计模型和回归分析：<br>\n",
    "  ○ 线性回归（OLS、WLS 等）<br>\n",
    "  ○ 离散选择模型（Logit、Probit）<br>\n",
    "  ○ 广义线性模型（GLM）<br>\n",
    "  ○ 纵向数据分析（混合效应模型）<br>\n",
    "  ○ GARCH 模型用于波动率分析<br>\n",
    "2. 时间序列分析：<br>\n",
    "  ○ ARIMA 和 SARIMA 模型<br>\n",
    "  ○ 状态空间模型（如 Kalman 滤波器）<br>\n",
    "  ○ 单独的 AR、MA 和 ARMA 模型<br>\n",
    "  ○ 时间序列诊断工具<br>\n",
    "  ○ 预测和模拟功能<br>\n",
    "3. 统计推断工具：<br>\n",
    "  ○ 假设检验（t 检验、卡方检验）<br>\n",
    "  ○ 置信区间计算<br>\n",
    "  ○ p 值计算<br>\n",
    "  ○ 统计分布函数<br>\n",
    "4. 数据可视化：<br><\n",
    "  ○ 绘制残差图<br>\n",
    "  ○ QQ 图<br>\n",
    "  ○ 预测图<br>\n",
    "  ○ 其他诊断图表<br>\n",
    "5. 与其他库集成：<br>\n",
    "  ○ 与 pandas 数据框无缝集成<br>\n",
    "  ○ 使用 matplotlib 绘制图形<br>\n",
    "6. 其他功能：<br>\n",
    "  ○ 线性代数函数<br>\n",
    "  ○ 统计密度和分布函数<br>\n",
    "  ○ 统计拟合度测试<br>"
   ]
  },
  {
   "cell_type": "markdown",
   "metadata": {},
   "source": [
    "##### 1.1.1.Statsmodels vs Scikit-learn 全功能对比表"
   ]
  },
  {
   "cell_type": "markdown",
   "metadata": {},
   "source": [
    "| 功能领域      | Statsmodels                                                                 | Scikit-learn                                                                 | 典型场景                                                                 |\n",
    "|---------------|-----------------------------------------------------------------------------|------------------------------------------------------------------------------|--------------------------------------------------------------------------|\n",
    "| **回归分析**  | • 完整统计推断（p值、置信区间）<br>• 支持OLS、GLM、Logit等<br>• 异方差/自相关诊断 | • 预测导向<br>• 支持正则化回归（Lasso/Ridge）<br>• 无统计检验                 | Statsmodels：经济学论文<br>Scikit-learn：用户评分预测                     |\n",
    "| **分类模型**  | • 逻辑回归（带统计检验）<br>• 有序/多项Logit                                 | • 丰富分类器（SVM、随机森林等）<br>• 支持多标签分类                           | Statsmodels：医学风险因素分析<br>Scikit-learn：图像识别                   |\n",
    "| **时间序列**  | • ARIMA/VAR/状态空间模型<br>• 单位根检验（ADF）<br>• 季节分解                 | • 仅基础工具（TimeSeriesSplit）<br>• 需搭配Prophet等库                       | Statsmodels：GDP预测<br>Scikit-learn：时序特征工程                        |\n",
    "| **降维技术**  | • 主成分分析（PCA）<br>• 因子分析（EFA）<br>• 带统计检验                     | • PCA/TSNE/UMAP等<br>• 集成特征选择<br>• 无统计检验                           | Statsmodels：心理学量表分析<br>Scikit-learn：高维数据可视化              |\n",
    "| **聚类分析**  | • 有限支持（如K-means）<br>• 侧重统计评估                                    | • 丰富算法（DBSCAN、谱聚类等）<br>• 支持大规模数据                            | Statsmodels：市场细分验证<br>Scikit-learn：用户分群                        |\n",
    "| **假设检验**  | • 完整检验体系（t检验、ANOVA、卡方等）<br>• 非参数检验（K-S、Wilcoxon）      | • 需依赖scipy.stats<br>• 无原生支持                                          | Statsmodels：A/B测试分析<br>Scikit-learn：需手动实现                       |\n",
    "| **生存分析**  | • Cox比例风险模型<br>• Kaplan-Meier曲线                                      | • 无原生支持                                                                 | Statsmodels：药物疗效研究                                                 |\n",
    "| **贝叶斯方法**| • 贝叶斯回归<br>• MCMC诊断工具                                              | • 仅基础贝叶斯岭回归                                                         | Statsmodels：不确定性量化                                                 |\n",
    "| **可解释性**  | • SHAP/LIME需额外库<br>• 依赖统计指标                                        | • 部分模型有feature_importances_<br>• 支持SHAP集成                            | 两者均需配合解释性工具                                                    |"
   ]
  },
  {
   "cell_type": "markdown",
   "metadata": {},
   "source": [
    "##### 1.1.三维选型指南"
   ]
  },
  {
   "cell_type": "markdown",
   "metadata": {},
   "source": [
    "##### 1.1.1.分析目标维度"
   ]
  },
  {
   "cell_type": "markdown",
   "metadata": {},
   "source": [
    "  ○ ▶️ 选Statsmodels：因果推断、假设验证、结构方程建模 <br>\n",
    "  ○ ▶️ 选Scikit-learn：预测准确率、模式识别、自动化ML<br>"
   ]
  },
  {
   "cell_type": "markdown",
   "metadata": {},
   "source": [
    "##### 1.1.2.数据类型维度"
   ]
  },
  {
   "cell_type": "markdown",
   "metadata": {},
   "source": [
    "![image.png](attachment:image.png)"
   ]
  },
  {
   "cell_type": "markdown",
   "metadata": {},
   "source": [
    "##### 1.1.3.行业场景维度  "
   ]
  },
  {
   "cell_type": "markdown",
   "metadata": {},
   "source": [
    "  ○ 社会科学/医学：优先Statsmodels（需p值报告）  <br>\n",
    "  ○ 互联网/工业：优先Scikit-learn（需Pipeline部署）  <br>\n",
    "  ○ 金融/量化：混合使用（Statsmodels做回测，Scikit-learn做因子组合）<br>"
   ]
  },
  {
   "cell_type": "markdown",
   "metadata": {},
   "source": [
    "##### 1.1.4.混合使用案例"
   ]
  },
  {
   "cell_type": "code",
   "execution_count": null,
   "metadata": {},
   "outputs": [],
   "source": [
    "# 案例：金融风控模型开发\n",
    "from statsmodels.api import Logit\n",
    "from sklearn.ensemble import GradientBoostingClassifier\n",
    "\n",
    "# 阶段1：用Statsmodels筛选显著变量\n",
    "sm_model = Logit(y, X).fit()\n",
    "significant_vars = X.columns[sm_model.pvalues < 0.05]\n",
    "\n",
    "# 阶段2：用Scikit-learn构建高性能预测模型\n",
    "gbdt = GradientBoostingClassifier().fit(X[significant_vars], y)\n",
    "\n",
    "# 阶段3：用SHAP解释模型（需额外库）\n",
    "import shap\n",
    "explainer = shap.TreeExplainer(gbdt)\n",
    "shap_values = explainer.shap_values(X[significant_vars])"
   ]
  },
  {
   "cell_type": "markdown",
   "metadata": {},
   "source": [
    "#### 2.使用手册"
   ]
  },
  {
   "cell_type": "markdown",
   "metadata": {},
   "source": [
    "https://www.statsmodels.org/stable/gettingstarted.html"
   ]
  },
  {
   "cell_type": "markdown",
   "metadata": {},
   "source": [
    "#### 3.安装"
   ]
  },
  {
   "cell_type": "markdown",
   "metadata": {},
   "source": [
    "pip install statsmodels"
   ]
  },
  {
   "cell_type": "markdown",
   "metadata": {},
   "source": [
    "#### 02.数据导入导出"
   ]
  },
  {
   "cell_type": "markdown",
   "metadata": {},
   "source": [
    "##### 1.Statsmodels 数据导入方法详解"
   ]
  },
  {
   "cell_type": "markdown",
   "metadata": {},
   "source": [
    "##### 1.1.与 Pandas/NumPy 的通用导入方式"
   ]
  },
  {
   "cell_type": "markdown",
   "metadata": {},
   "source": [
    "Statsmodels 没有独创的数据结构，但完美兼容主流数据容器："
   ]
  },
  {
   "cell_type": "code",
   "execution_count": null,
   "metadata": {},
   "outputs": [],
   "source": [
    "import pandas as pd\n",
    "import numpy as np\n",
    "import statsmodels.api as sm\n",
    "\n",
    "# 1. 从Pandas DataFrame导入（最常用）\n",
    "data = pd.read_csv('economic_data.csv')\n",
    "model = sm.OLS(data['GDP'], sm.add_constant(data[['CPI', 'Unemployment']]))\n",
    "\n",
    "# 2. 从NumPy数组导入\n",
    "X = np.array([[1, 2], [3, 4], [5, 6]])\n",
    "y = np.array([1, 3, 5])\n",
    "model = sm.OLS(y, sm.add_constant(X))"
   ]
  },
  {
   "cell_type": "markdown",
   "metadata": {},
   "source": [
    "##### 1.2.Statsmodels 独有的数据工具"
   ]
  },
  {
   "cell_type": "markdown",
   "metadata": {},
   "source": [
    "##### 1.2.1.`datasets` 模块（内置经典数据集）"
   ]
  },
  {
   "cell_type": "code",
   "execution_count": null,
   "metadata": {},
   "outputs": [],
   "source": [
    "# 加载内置数据集（无需额外下载）\n",
    "macrodata = sm.datasets.macrodata.load_pandas().data\n",
    "print(macrodata.head())  # 包含美国宏观经济数据\n",
    "\n",
    "# 其他著名数据集：\n",
    "# - sm.datasets.anes96       # 美国选举调查数据\n",
    "# - sm.datasets.copper        # 铜价时间序列\n",
    "# - sm.datasets.ccard        # 信用卡违约数据"
   ]
  },
  {
   "cell_type": "markdown",
   "metadata": {},
   "source": [
    "##### 1.2.2.时间序列专用处理（`tsa` 模块）"
   ]
  },
  {
   "cell_type": "code",
   "execution_count": null,
   "metadata": {},
   "outputs": [],
   "source": [
    "from statsmodels.tsa.arima_process import arma_generate_sample\n",
    "# 生成ARMA时序数据（statsmodels特有方法）\n",
    "ar_params = np.array([0.75, -0.25])\n",
    "ma_params = np.array([0.65, 0.35])\n",
    "y = arma_generate_sample(ar_params, ma_params, nsample=100)"
   ]
  },
  {
   "cell_type": "markdown",
   "metadata": {},
   "source": [
    "##### 1.2.3.结构化数据转换（`Stata` 风格公式）"
   ]
  },
  {
   "cell_type": "code",
   "execution_count": null,
   "metadata": {},
   "outputs": [],
   "source": [
    "# 使用公式API直接转换数据（类似R语言）\n",
    "from statsmodels.formula.api import ols\n",
    "model = ols('GDP ~ CPI + Unemployment', data=macrodata).fit()"
   ]
  },
  {
   "cell_type": "markdown",
   "metadata": {},
   "source": [
    "公式语法特性：<br>\n",
    "● 支持 C() 分类变量转换<br>\n",
    "● 支持 np.log() 等函数嵌套<br>\n",
    "● 自动添加截距项（可通过 -1 移除）<br>"
   ]
  },
  {
   "cell_type": "markdown",
   "metadata": {},
   "source": [
    "#### 2.特殊数据格式支持"
   ]
  },
  {
   "cell_type": "markdown",
   "metadata": {},
   "source": [
    "| 数据类型       | 导入方法                     | 示例                                      |\n",
    "|----------------|-----------------------------|------------------------------------------|\n",
    "| **Stata数据**  | `pd.read_stata()` + statsmodels | 兼容 .dta 文件                          |\n",
    "| **面板数据**   | PanelOLS 专用结构            | 需转换为 MultiIndex                     |\n",
    "| **生存分析数据** | Surv 对象                   | 需 duration 和 event 列                 |"
   ]
  },
  {
   "cell_type": "markdown",
   "metadata": {},
   "source": [
    "#### 3.最佳实践对比"
   ]
  },
  {
   "cell_type": "markdown",
   "metadata": {},
   "source": [
    "| 场景                     | 推荐方法                     | 原因                                      |\n",
    "|--------------------------|-----------------------------|------------------------------------------|\n",
    "| **常规结构化数据**       | Pandas DataFrame + 公式API  | 可读性强，支持复杂公式                    |\n",
    "| **计量经济学研究**       | 内置 datasets 数据          | 包含标准参考数据集                        |\n",
    "| **时间序列建模**         | tsa 模块生成/处理           | 提供专业时序数据结构                      |\n",
    "| **与其他统计软件交互**   | 通过 Pandas 中转            | 兼容 Stata/SAS/SPSS 格式                  |"
   ]
  },
  {
   "cell_type": "markdown",
   "metadata": {},
   "source": [
    "#### 4.一般流程"
   ]
  },
  {
   "cell_type": "markdown",
   "metadata": {},
   "source": [
    "![image.png](attachment:image.png)"
   ]
  },
  {
   "cell_type": "markdown",
   "metadata": {},
   "source": [
    "### 03.数据清洗"
   ]
  },
  {
   "cell_type": "markdown",
   "metadata": {},
   "source": [
    "#### 1.加载数据集与快速探索"
   ]
  },
  {
   "cell_type": "code",
   "execution_count": null,
   "metadata": {},
   "outputs": [],
   "source": [
    "import statsmodels.api as sm\n",
    "import pandas as pd\n",
    "import numpy as np\n",
    "import seaborn as sns\n",
    "\n",
    "# 加载多个内置数据集\n",
    "datasets = {\n",
    "    \"macro\": sm.datasets.macrodata.load_pandas().data,\n",
    "    \"anorexia\": sm.datasets.anorexia.load_pandas().data,\n",
    "    \"heart\": sm.datasets.heart.load_pandas().data\n",
    "}\n",
    "\n",
    "# 技巧1：批量查看数据结构\n",
    "for name, df in datasets.items():\n",
    "    print(f\"数据集 {name}:\")\n",
    "    display(df.head(2))\n",
    "    print(f\"缺失值统计:\\n{df.isna().sum()}\\n{'-'*50}\")"
   ]
  },
  {
   "cell_type": "markdown",
   "metadata": {},
   "source": [
    "#### 2.高级缺失值处理"
   ]
  },
  {
   "cell_type": "markdown",
   "metadata": {},
   "source": [
    "技巧2：分类型变量填充众数"
   ]
  },
  {
   "cell_type": "code",
   "execution_count": null,
   "metadata": {},
   "outputs": [],
   "source": [
    "# 在heart数据中人为添加缺失值\n",
    "df_heart = datasets[\"heart\"].copy()\n",
    "df_heart.loc[[10,20], \"age\"] = np.nan\n",
    "\n",
    "# 分类变量用众数填充\n",
    "df_heart[\"age\"] = df_heart[\"age\"].fillna(df_heart[\"age\"].mode()[0])"
   ]
  },
  {
   "cell_type": "markdown",
   "metadata": {},
   "source": [
    "技巧3：链式方法填充时间序列"
   ]
  },
  {
   "cell_type": "code",
   "execution_count": null,
   "metadata": {},
   "outputs": [],
   "source": [
    "df_macro = datasets[\"macro\"].copy()\n",
    "df_macro[\"infl\"] = (df_macro[\"infl\"]\n",
    "                   .fillna(method=\"ffill\")  # 前向填充\n",
    "                   .fillna(method=\"bfill\")) # 后向填充"
   ]
  },
  {
   "cell_type": "markdown",
   "metadata": {},
   "source": [
    "#### 3.异常值检测与处理"
   ]
  },
  {
   "cell_type": "markdown",
   "metadata": {},
   "source": [
    "技巧4：IQR方法检测异常值"
   ]
  },
  {
   "cell_type": "code",
   "execution_count": null,
   "metadata": {},
   "outputs": [],
   "source": [
    "# 在anorexia数据中检测体重异常值\n",
    "df_anorexia = datasets[\"anorexia\"].copy()\n",
    "q1 = df_anorexia[\"postwt\"].quantile(0.25)\n",
    "q3 = df_anorexia[\"postwt\"].quantile(0.75)\n",
    "iqr = q3 - q1\n",
    "\n",
    "# 标记异常值 (非删除)\n",
    "df_anorexia[\"is_outlier\"] = (df_anorexia[\"postwt\"] < (q1 - 1.5*iqr)) | (df_anorexia[\"postwt\"] > (q3 + 1.5*iqr))"
   ]
  },
  {
   "cell_type": "markdown",
   "metadata": {},
   "source": [
    "技巧5：可视化辅助决策"
   ]
  },
  {
   "cell_type": "code",
   "execution_count": null,
   "metadata": {},
   "outputs": [],
   "source": [
    "plt.figure(figsize=(10,4))\n",
    "sns.boxplot(x=\"Treat\", y=\"postwt\", data=df_anorexia)\n",
    "plt.title(\"不同治疗组的体重分布\")\n",
    "plt.show()"
   ]
  },
  {
   "cell_type": "markdown",
   "metadata": {},
   "source": [
    "#### 4.数据筛选高级技巧"
   ]
  },
  {
   "cell_type": "markdown",
   "metadata": {},
   "source": [
    "技巧6：多条件复合筛选"
   ]
  },
  {
   "cell_type": "code",
   "execution_count": null,
   "metadata": {},
   "outputs": [],
   "source": [
    "# 筛选macro数据中通胀>3且失业率<6的时期\n",
    "df_macro_filtered = df_macro.query(\"infl > 3 & unemp < 6\")\n",
    "\n",
    "# 技巧7：使用where保留原数据结构\n",
    "df_macro[\"realgdp_filtered\"] = df_macro[\"realgdp\"].where(df_macro[\"realgdp\"] > df_macro[\"realgdp\"].median())"
   ]
  },
  {
   "cell_type": "markdown",
   "metadata": {},
   "source": [
    "技巧8：按分组筛选"
   ]
  },
  {
   "cell_type": "code",
   "execution_count": null,
   "metadata": {},
   "outputs": [],
   "source": [
    "# 筛选每个治疗组中体重增长前2的患者\n",
    "df_top = df_anorexia.groupby(\"Treat\").apply(\n",
    "    lambda x: x.nlargest(2, \"postwt - prewt\")\n",
    ").reset_index(drop=True)"
   ]
  },
  {
   "cell_type": "markdown",
   "metadata": {},
   "source": [
    "#### 5.数据转换技巧"
   ]
  },
  {
   "cell_type": "markdown",
   "metadata": {},
   "source": [
    "技巧9：安全类型转换"
   ]
  },
  {
   "cell_type": "code",
   "execution_count": null,
   "metadata": {},
   "outputs": [],
   "source": [
    "# 避免转换错误的防御性编程\n",
    "def safe_convert(x):\n",
    "    try:\n",
    "        return float(x)\n",
    "    except (ValueError, TypeError):\n",
    "        return np.nan\n",
    "\n",
    "df_heart[\"age_float\"] = df_heart[\"age\"].apply(safe_convert)"
   ]
  },
  {
   "cell_type": "markdown",
   "metadata": {},
   "source": [
    "技巧10：分箱与离散化"
   ]
  },
  {
   "cell_type": "code",
   "execution_count": null,
   "metadata": {},
   "outputs": [],
   "source": [
    "# 将年龄分为青年/中年/老年\n",
    "df_heart[\"age_group\"] = pd.cut(\n",
    "    df_heart[\"age\"],\n",
    "    bins=[0, 40, 60, 100],\n",
    "    labels=[\"青年\", \"中年\", \"老年\"]\n",
    ")"
   ]
  },
  {
   "cell_type": "markdown",
   "metadata": {},
   "source": [
    "#### 6.完整清洗管道示例"
   ]
  },
  {
   "cell_type": "code",
   "execution_count": null,
   "metadata": {},
   "outputs": [],
   "source": [
    "# 构建完整处理管道\n",
    "def clean_data(df):\n",
    "    return (\n",
    "        df\n",
    "        .pipe(lambda x: x.dropna(how=\"all\"))  # 删除全空行\n",
    "        .assign(\n",
    "            infl = lambda x: x[\"infl\"].clip(lower=0),  # 处理负值\n",
    "            date = lambda x: pd.to_datetime(x[\"year\"].astype(str) + \"Q\" + x[\"quarter\"].astype(str))\n",
    "        )\n",
    "        .query(\"realgdp > 0\")  # 筛选有效GDP\n",
    "        .sort_values(\"date\")\n",
    "    )\n",
    "\n",
    "cleaned_macro = clean_data(df_macro.copy())"
   ]
  },
  {
   "cell_type": "markdown",
   "metadata": {},
   "source": [
    "#### 7.与statsmodels建模衔接"
   ]
  },
  {
   "cell_type": "code",
   "execution_count": null,
   "metadata": {},
   "outputs": [],
   "source": [
    "# 清洗后直接建模\n",
    "from statsmodels.formula.api import ols\n",
    "\n",
    "model = ols(\"realgdp ~ infl + unemp\", data=cleaned_macro).fit()\n",
    "print(model.summary())\n",
    "\n",
    "# 技巧11：用筛选后的数据重新建模\n",
    "significant_periods = cleaned_macro[cleaned_macro[\"infl\"] > cleaned_macro[\"infl\"].quantile(0.9)]\n",
    "model_high_infl = ols(\"realgdp ~ unemp\", data=significant_periods).fit()"
   ]
  },
  {
   "cell_type": "markdown",
   "metadata": {},
   "source": [
    "#### 8.可视化检查工具"
   ]
  },
  {
   "cell_type": "code",
   "execution_count": null,
   "metadata": {},
   "outputs": [],
   "source": [
    "# 技巧12：自动化诊断报告\n",
    "from pandas_profiling import ProfileReport\n",
    "profile = ProfileReport(cleaned_macro, title=\"清洗后数据报告\")\n",
    "profile.to_file(\"report.html\")"
   ]
  },
  {
   "cell_type": "markdown",
   "metadata": {},
   "source": [
    "### 04.统计建模"
   ]
  },
  {
   "cell_type": "markdown",
   "metadata": {},
   "source": [
    "#### 1.变量类型驱动建模全解"
   ]
  },
  {
   "cell_type": "markdown",
   "metadata": {},
   "source": [
    "##### 1.1.数据集生成代码"
   ]
  },
  {
   "cell_type": "code",
   "execution_count": null,
   "metadata": {},
   "outputs": [],
   "source": [
    "import pandas as pd\n",
    "import numpy as np\n",
    "import statsmodels.api as sm\n",
    "\n",
    "# 设置随机种子保证可复现\n",
    "np.random.seed(42)\n",
    "\n",
    "# 生成基础数据\n",
    "n_samples = 500\n",
    "data = pd.DataFrame({\n",
    "    # 自变量（连续）\n",
    "    'salary': np.round(np.random.normal(loc=10000, scale=3000, size=n_samples), 2),\n",
    "    # 自变量（类别）\n",
    "    'dept': np.random.choice(['销售', '技术', '人力'], size=n_samples),\n",
    "    # 控制变量（连续）\n",
    "    'tenure': np.random.randint(1, 11, size=n_samples),  # 工作年限1-10年\n",
    "    # 中介变量（连续）\n",
    "    'stress': np.random.normal(loc=3, scale=1, size=n_samples).clip(1, 5),  # 压力评分1-5\n",
    "    # 调节变量（类别）\n",
    "    'remote': np.random.choice([0, 1], size=n_samples, p=[0.7, 0.3]),  # 30%远程办公\n",
    "})\n",
    "\n",
    "# 生成因变量（受其他变量影响）\n",
    "logit = (-0.0003 * data['salary'] + \n",
    "         0.5 * (data['dept'] == '销售').astype(int) - \n",
    "         0.2 * data['tenure'] + \n",
    "         0.8 * data['stress'] + \n",
    "         0.5 * data['remote'] + \n",
    "         np.random.normal(0, 1, size=n_samples))\n",
    "data['turnover'] = (logit > 0.5).astype(int)  # 二分类因变量\n",
    "\n",
    "# 添加交互效应（调节效应）\n",
    "data.loc[data['remote'] == 1, 'stress'] += 1  # 远程员工压力+1分\n",
    "\n",
    "# 保存数据集\n",
    "data.to_csv('employee_turnover.csv', index=False)\n",
    "print(\"数据集已生成，前5行示例：\")\n",
    "print(data.head())"
   ]
  },
  {
   "cell_type": "markdown",
   "metadata": {},
   "source": [
    "##### 1.2.数据集字段说明"
   ]
  },
  {
   "cell_type": "markdown",
   "metadata": {},
   "source": [
    "| 变量名   | 类型     | 角色       | 模拟逻辑                  | 取值范围               |\n",
    "|----------|----------|------------|---------------------------|------------------------|\n",
    "| salary   | 连续     | 自变量     | 正态分布                  | 3000-20000美元         |\n",
    "| dept     | 类别     | 控制变量   | 三类均匀分布              | 销售/技术/人力         |\n",
    "| tenure   | 连续     | 控制变量   | 整数均匀分布              | 1-10年                |\n",
    "| stress   | 连续     | 中介变量   | 受salary和remote影响       | 1-5分                 |\n",
    "| remote   | 二分类   | 调节变量   | 30%概率为远程             | 0=坐班, 1=远程        |\n",
    "| turnover | 二分类   | 因变量     | 由其他变量加权生成         | 0=未离职, 1=离职      |"
   ]
  },
  {
   "cell_type": "markdown",
   "metadata": {},
   "source": [
    "##### 1.3.数据可视化检查"
   ]
  },
  {
   "cell_type": "code",
   "execution_count": null,
   "metadata": {},
   "outputs": [],
   "source": [
    "import matplotlib.pyplot as plt\n",
    "import seaborn as sns\n",
    "\n",
    "# 1. 变量分布检查\n",
    "plt.figure(figsize=(12, 4))\n",
    "plt.subplot(131)\n",
    "sns.histplot(data['salary'], bins=20, kde=True)\n",
    "plt.title('薪资分布')\n",
    "\n",
    "plt.subplot(132)\n",
    "sns.countplot(x='dept', data=data)\n",
    "plt.title('部门分布')\n",
    "\n",
    "plt.subplot(133)\n",
    "sns.countplot(x='turnover', data=data)\n",
    "plt.title('离职比例')\n",
    "plt.tight_layout()\n",
    "plt.show()\n",
    "\n",
    "# 2. 关键关系检查\n",
    "sns.lmplot(x='salary', y='stress', hue='remote', data=data, \n",
    "           markers=['o', 'x'], palette=['#1f77b4', '#ff7f0e'])\n",
    "plt.title('薪资与压力的关系（按远程办公分组）')\n",
    "plt.show()"
   ]
  },
  {
   "cell_type": "markdown",
   "metadata": {},
   "source": [
    "| 变量名   | 类型     | 角色          | 取值范围               |\n",
    "|----------|----------|---------------|------------------------|\n",
    "| turnover | 二分类   | 因变量(y)     | 0=未离职, 1=离职       |\n",
    "| salary   | 连续     | 自变量(X)     | 3000-20000美元         |\n",
    "| dept     | 类别     | 控制变量      | 销售/技术/人力         |\n",
    "| stress   | 连续     | 中介变量(M)   | 1-5分压力评分          |\n",
    "| remote   | 二分类   | 调节变量      | 0=坐班, 1=远程         |"
   ]
  },
  {
   "cell_type": "markdown",
   "metadata": {},
   "source": [
    "#### 2.基础模型选择"
   ]
  },
  {
   "cell_type": "markdown",
   "metadata": {},
   "source": [
    "##### 2.1.连续X → 连续y"
   ]
  },
  {
   "cell_type": "markdown",
   "metadata": {},
   "source": [
    "模型：OLS线性回归  "
   ]
  },
  {
   "cell_type": "code",
   "execution_count": null,
   "metadata": {},
   "outputs": [],
   "source": [
    "model = smf.ols('turnover ~ salary', data).fit()"
   ]
  },
  {
   "cell_type": "markdown",
   "metadata": {},
   "source": [
    "##### 2.2.连续X → 类别y"
   ]
  },
  {
   "cell_type": "markdown",
   "metadata": {},
   "source": [
    "模型：Logistic回归  "
   ]
  },
  {
   "cell_type": "code",
   "execution_count": null,
   "metadata": {},
   "outputs": [],
   "source": [
    "model = smf.logit('turnover ~ salary', data).fit()"
   ]
  },
  {
   "cell_type": "markdown",
   "metadata": {},
   "source": [
    "##### 2.3.类别X → 连续y"
   ]
  },
  {
   "cell_type": "markdown",
   "metadata": {},
   "source": [
    "模型：ANOVA方差分析  "
   ]
  },
  {
   "cell_type": "code",
   "execution_count": null,
   "metadata": {},
   "outputs": [],
   "source": [
    "model = smf.ols('stress ~ C(dept)', data).fit()"
   ]
  },
  {
   "cell_type": "markdown",
   "metadata": {},
   "source": [
    "##### 2.4.类别X → 类别y"
   ]
  },
  {
   "cell_type": "markdown",
   "metadata": {},
   "source": [
    "模型：卡方检验 "
   ]
  },
  {
   "cell_type": "code",
   "execution_count": null,
   "metadata": {},
   "outputs": [],
   "source": [
    "table = pd.crosstab(data['dept'], data['turnover'])\n",
    "chi2, p, _, _ = stats.chi2_contingency(table)"
   ]
  },
  {
   "cell_type": "markdown",
   "metadata": {},
   "source": [
    "#### 3.加入控制变量"
   ]
  },
  {
   "cell_type": "markdown",
   "metadata": {},
   "source": [
    "模型：多元回归（控制混杂因素）"
   ]
  },
  {
   "cell_type": "code",
   "execution_count": null,
   "metadata": {},
   "outputs": [],
   "source": [
    "model = smf.ols('turnover ~ salary + C(dept) + tenure', data).fit()"
   ]
  },
  {
   "cell_type": "markdown",
   "metadata": {},
   "source": [
    "#### 4.中介效应模型（X → M → y）"
   ]
  },
  {
   "cell_type": "markdown",
   "metadata": {},
   "source": [
    "##### 4.1.三步法检验："
   ]
  },
  {
   "cell_type": "code",
   "execution_count": null,
   "metadata": {},
   "outputs": [],
   "source": [
    "# 步骤1: X → y\n",
    "smf.ols('turnover ~ salary', data).fit()\n",
    "# 步骤2: X → M\n",
    "smf.ols('stress ~ salary', data).fit()\n",
    "# 步骤3: X + M → y\n",
    "smf.ols('turnover ~ salary + stress', data).fit()"
   ]
  },
  {
   "cell_type": "markdown",
   "metadata": {},
   "source": [
    "#### 5.调节效应模型（X*W → y）"
   ]
  },
  {
   "cell_type": "markdown",
   "metadata": {},
   "source": [
    "模型：含交互项的回归"
   ]
  },
  {
   "cell_type": "code",
   "execution_count": null,
   "metadata": {},
   "outputs": [],
   "source": [
    "model = smf.ols('turnover ~ salary * C(remote)', data).fit()"
   ]
  },
  {
   "cell_type": "markdown",
   "metadata": {},
   "source": [
    "#### 6.全模型整合"
   ]
  },
  {
   "cell_type": "markdown",
   "metadata": {},
   "source": [
    "综合所有变量类型："
   ]
  },
  {
   "cell_type": "code",
   "execution_count": null,
   "metadata": {},
   "outputs": [],
   "source": [
    "full_model = smf.ols(\n",
    "    'turnover ~ salary * C(remote) + stress + C(dept) + tenure',\n",
    "    data\n",
    ").fit()"
   ]
  },
  {
   "cell_type": "markdown",
   "metadata": {},
   "source": [
    "#### 7.关键总结表"
   ]
  },
  {
   "cell_type": "markdown",
   "metadata": {},
   "source": [
    "| 变量角色       | 数据类型要求       | 模型处理方法          | 代码符号              |\n",
    "|----------------|--------------------|-----------------------|-----------------------|\n",
    "| **因变量(y)**  | 连续/类别          | 选择OLS/Logit         | 左侧公式主体          |\n",
    "| **自变量(X)**  | 任意               | 直接放入公式          | + X                   |\n",
    "| **控制变量**   | 任意               | 与其他变量并列        | + C(类别X) 或 + X      |\n",
    "| **中介变量**   | 连续               | 三步法检验            | 作为因变量+M→y        |\n",
    "| **调节变量**   | 任意               | 添加交互项            | * W                   |"
   ]
  }
 ],
 "metadata": {
  "kernelspec": {
   "display_name": "Python 3",
   "language": "python",
   "name": "python3"
  },
  "language_info": {
   "name": "python",
   "version": "3.12.3"
  }
 },
 "nbformat": 4,
 "nbformat_minor": 2
}
