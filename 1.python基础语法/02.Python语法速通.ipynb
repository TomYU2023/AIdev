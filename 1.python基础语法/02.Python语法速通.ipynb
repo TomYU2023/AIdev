{
 "cells": [
  {
   "cell_type": "markdown",
   "metadata": {},
   "source": [
    "# 1. 注释"
   ]
  },
  {
   "cell_type": "code",
   "execution_count": 1,
   "metadata": {},
   "outputs": [
    {
     "name": "stdout",
     "output_type": "stream",
     "text": [
      "hello world\n"
     ]
    }
   ],
   "source": [
    "# 这是注释不运行\n",
    "\n",
    "'这是注释不运行'\n",
    "\n",
    "\"这是注释不运行\"\n",
    "\n",
    "'''\n",
    "这是注释不运行\n",
    "这是注释不运行\n",
    "这是注释不运行\n",
    "'''\n",
    "\n",
    "\"\"\"\n",
    "这是注释不运行\n",
    "这是注释不运行\n",
    "这是注释不运行\n",
    "\"\"\"\n",
    "\n",
    "\n",
    "print('hello world')"
   ]
  },
  {
   "cell_type": "markdown",
   "metadata": {},
   "source": [
    "# 2. 输入输出"
   ]
  },
  {
   "cell_type": "markdown",
   "metadata": {},
   "source": [
    "## 2.1 input函数"
   ]
  },
  {
   "cell_type": "markdown",
   "metadata": {},
   "source": [
    "input函数用于从标准输入（通常是键盘）读取用户输入。它的语法如下：  \n",
    "input([prompt]) # python语法中[]包裹的一般指可选参数，即\"可填，可不填\"  \n",
    "  \n",
    "● 参数：  \n",
    "  ○ prompt（可选）：一个字符串，作为提示信息显示给用户。如果没有提供，函数会直接等待用户输入，而不会显示任何提示。  \n",
    "● 返回值：  \n",
    "  ○ 返回用户输入的字符串，末尾的换行符会被去掉。  "
   ]
  },
  {
   "cell_type": "code",
   "execution_count": 2,
   "metadata": {},
   "outputs": [
    {
     "name": "stdout",
     "output_type": "stream",
     "text": [
      "你的名字是 tom ，年龄是 18\n"
     ]
    }
   ],
   "source": [
    "name = input(\"请输入你的名字：\")\n",
    "age = input(\"请输入你的年龄：\")\n",
    "age = int(age)  # 转换为整数\n",
    "\n",
    "print(\"你的名字是\", name, \"，年龄是\", age)"
   ]
  },
  {
   "cell_type": "code",
   "execution_count": 3,
   "metadata": {},
   "outputs": [
    {
     "name": "stdout",
     "output_type": "stream",
     "text": [
      "2\n",
      "11\n"
     ]
    }
   ],
   "source": [
    "print(1+1)\n",
    "print(\"1\"+\"1\")"
   ]
  },
  {
   "cell_type": "markdown",
   "metadata": {},
   "source": [
    "## 2.2 print 函数"
   ]
  },
  {
   "cell_type": "markdown",
   "metadata": {},
   "source": [
    "print函数用于将指定内容输出到标准输出（通常是屏幕）。它的语法如下：  \n",
    "print(object, [sep=' ', end='\\n', file=sys.stdout, flush=False])  \n",
    "● 参数：  \n",
    "  ○ object：要输出的对象，可以是字符串、数字等。支持多个对象，用逗号分隔。  \n",
    "  ○ sep（可选）：指定对象之间的分隔符，默认为空格。  \n",
    "  ○ end（可选）：指定输出的结束符，默认为换行符 \\n。  \n",
    "  ○ file（可选）：指定输出目标，默认为标准输出（屏幕）。  \n",
    "  ○ flush（可选）：指定是否立即刷新输出，默认为 False。  "
   ]
  },
  {
   "cell_type": "markdown",
   "metadata": {},
   "source": [
    "示例 1：单信息基本输出"
   ]
  },
  {
   "cell_type": "code",
   "execution_count": 4,
   "metadata": {},
   "outputs": [
    {
     "name": "stdout",
     "output_type": "stream",
     "text": [
      "Hello World\n"
     ]
    }
   ],
   "source": [
    "print(\"Hello World\")"
   ]
  },
  {
   "cell_type": "markdown",
   "metadata": {},
   "source": [
    "示例 2：多信息输出的分隔符"
   ]
  },
  {
   "cell_type": "code",
   "execution_count": 5,
   "metadata": {},
   "outputs": [
    {
     "name": "stdout",
     "output_type": "stream",
     "text": [
      "Hello!World!你好!I wanna master Python for working\n"
     ]
    }
   ],
   "source": [
    "print(\"Hello\", \"World\", '你好', 'I wanna master Python for working', sep='!')"
   ]
  },
  {
   "cell_type": "markdown",
   "metadata": {},
   "source": [
    "示例 3：改变结尾输出"
   ]
  },
  {
   "cell_type": "code",
   "execution_count": 6,
   "metadata": {},
   "outputs": [
    {
     "name": "stdout",
     "output_type": "stream",
     "text": [
      "hello Python\n",
      "hello Pythonhello Python？"
     ]
    }
   ],
   "source": [
    "print(\"hello Python\", end='\\n')\n",
    "print(\"hello Python\", end='')\n",
    "print(\"hello Python\", end='？')"
   ]
  },
  {
   "cell_type": "markdown",
   "metadata": {},
   "source": [
    "示例 4：输出到指定文件中"
   ]
  },
  {
   "cell_type": "code",
   "execution_count": 7,
   "metadata": {},
   "outputs": [],
   "source": [
    "with open('output.txt', 'w') as f:\n",
    "    print(\"Hello, World!\", file=f)"
   ]
  },
  {
   "cell_type": "markdown",
   "metadata": {},
   "source": [
    "示例 5：是否立即刷新"
   ]
  },
  {
   "cell_type": "code",
   "execution_count": 8,
   "metadata": {},
   "outputs": [
    {
     "name": "stdout",
     "output_type": "stream",
     "text": [
      "---RUNOOB EXAMPLE: Loading效果---\n",
      "Loading...100%"
     ]
    }
   ],
   "source": [
    "import time\n",
    "\n",
    "print('---RUNOOB EXAMPLE: Loading效果---')\n",
    "for i in range(1, 101):\n",
    "    print('\\rLoading...{0}%'.format(i), end='', flush=True)\n",
    "    time.sleep(0.1)"
   ]
  },
  {
   "cell_type": "markdown",
   "metadata": {},
   "source": [
    "## 2.3. 格式化输出"
   ]
  },
  {
   "cell_type": "markdown",
   "metadata": {},
   "source": [
    "### 2.3.1. format-string（格式化字符串字面值）  \n",
    "这是 Python 3.6 以后版本新增的功能，简单直观，性能高效。"
   ]
  },
  {
   "cell_type": "code",
   "execution_count": 9,
   "metadata": {},
   "outputs": [
    {
     "name": "stdout",
     "output_type": "stream",
     "text": [
      "Name: tom, Age: 30\n",
      "Score: 85.50\n",
      "Score: 85.50\n",
      "Next year, tom's age will be 31\n"
     ]
    }
   ],
   "source": [
    "name = \"tom\"\n",
    "age = 30\n",
    "score = 85.5\n",
    "# 基本用法\n",
    "print(f\"Name: {name}, Age: {age}\")\n",
    "# 格式化数字\n",
    "print(f\"Score: {score:.2f}\")  # 保留两位小数\n",
    "print(f\"Score: {score:0.2f}\") # 强制显示两位小数\n",
    "# 复杂表达式\n",
    "print(f\"Next year, {name}'s age will be {age + 1}\")"
   ]
  },
  {
   "cell_type": "markdown",
   "metadata": {},
   "source": [
    "### 2.3.2. format() 方法  \n",
    "format() 是 Python 中较早的格式化方法，兼容性好，功能强大。"
   ]
  },
  {
   "cell_type": "code",
   "execution_count": 10,
   "metadata": {},
   "outputs": [
    {
     "name": "stdout",
     "output_type": "stream",
     "text": [
      "Name: Alice, Age: 30\n",
      "Name: Alice, Age: 30\n",
      "Score: 85.50\n",
      "Name: Alice, Age: 30\n"
     ]
    }
   ],
   "source": [
    "name = \"Alice\"\n",
    "age = 30\n",
    "score = 85.5\n",
    "# 基本用法\n",
    "print(\"Name: {}, Age: {}\".format(name, age))\n",
    "# 指定位置\n",
    "print(\"Name: {0}, Age: {1}\".format(name, age))\n",
    "# 格式化数字\n",
    "print(\"Score: {:.2f}\".format(score))  # 保留两位小数\n",
    "# 使用键名\n",
    "person = {\"name\": \"Alice\", \"age\": 30}\n",
    "print(\"Name: {name}, Age: {age}\".format(**person))"
   ]
  },
  {
   "cell_type": "markdown",
   "metadata": {},
   "source": [
    "### 2.3.3. Printf 风格的格式化（% 运算符）  \n",
    "这是 Python 中最早的格式化方式，虽然功能强大，但语法略显复杂。"
   ]
  },
  {
   "cell_type": "code",
   "execution_count": 11,
   "metadata": {},
   "outputs": [
    {
     "name": "stdout",
     "output_type": "stream",
     "text": [
      "Name: Alice, Age: 30\n",
      "Score: 85.50\n",
      "Alice is 30 years old.\n"
     ]
    }
   ],
   "source": [
    "name = \"Alice\"\n",
    "age = 30\n",
    "score = 85.5\n",
    "# 基本用法\n",
    "print(\"Name: %s, Age: %d\" % (name, age))\n",
    "# 格式化数字\n",
    "print(\"Score: %.2f\" % score)  # 保留两位小数\n",
    "# 多个变量\n",
    "print(\"%s is %d years old.\" % (name, age))"
   ]
  },
  {
   "cell_type": "markdown",
   "metadata": {},
   "source": [
    "### 2.3.4. 字符串模板（Template Strings）  \n",
    "如果你需要更简单的字符串替换，可以使用 string 模块中的 Template 类。"
   ]
  },
  {
   "cell_type": "code",
   "execution_count": 12,
   "metadata": {},
   "outputs": [
    {
     "name": "stdout",
     "output_type": "stream",
     "text": [
      "Name: Alice, Age: 30\n"
     ]
    }
   ],
   "source": [
    "from string import Template\n",
    "name = \"Alice\"\n",
    "age = 30\n",
    "# 创建模板\n",
    "template = Template(\"Name: $name, Age: $age\")\n",
    "# 替换变量\n",
    "result = template.substitute(name=name, age=age)\n",
    "print(result)"
   ]
  },
  {
   "cell_type": "markdown",
   "metadata": {},
   "source": [
    "### 2.3.5. 高级格式化技巧  \n",
    "● 对齐和填充："
   ]
  },
  {
   "cell_type": "code",
   "execution_count": 13,
   "metadata": {},
   "outputs": [
    {
     "name": "stdout",
     "output_type": "stream",
     "text": [
      "----Center要写的内容-----\n",
      "Left要写的内容           \n",
      "          Right要写的内容\n"
     ]
    }
   ],
   "source": [
    "print(\"{:-^20}\".format(\"Center要写的内容\"))   # 居中对齐，宽度 20，用 '-' 填充\n",
    "print(\"{:<20}\".format(\"Left要写的内容\"))      # 左对齐\n",
    "print(\"{:>20}\".format(\"Right要写的内容\"))     # 右对齐"
   ]
  },
  {
   "cell_type": "markdown",
   "metadata": {},
   "source": [
    "格式化日期："
   ]
  },
  {
   "cell_type": "code",
   "execution_count": 14,
   "metadata": {},
   "outputs": [
    {
     "name": "stdout",
     "output_type": "stream",
     "text": [
      "Current date and time: 2025-03-29 10:05:22\n"
     ]
    }
   ],
   "source": [
    "from datetime import datetime\n",
    "now = datetime.now()\n",
    "print(\"Current date and time: {:%Y-%m-%d %H:%M:%S}\".format(now))"
   ]
  },
  {
   "cell_type": "markdown",
   "metadata": {},
   "source": [
    "循环格式化："
   ]
  },
  {
   "cell_type": "code",
   "execution_count": 15,
   "metadata": {},
   "outputs": [
    {
     "name": "stdout",
     "output_type": "stream",
     "text": [
      "Items: 1, 2, 3, 4\n"
     ]
    }
   ],
   "source": [
    "items = [1, 2, 3, 4]\n",
    "print(\"Items: {}\".format(\", \".join(map(str, items))))"
   ]
  },
  {
   "cell_type": "markdown",
   "metadata": {},
   "source": [
    "# 3. 函数与变量"
   ]
  },
  {
   "cell_type": "markdown",
   "metadata": {},
   "source": [
    "数学中，函数：一种映射关系，将每个输入值（自变量）唯一地对应到一个输出值（因变量）。  \n",
    "编程中，函数：一段可重复使用的代码块，用于执行特定任务，可以接收输入（参数）并返回输出（结果）。\n",
    "在编程中的函数，更好的理解应该是把它看成一种“功能”。"
   ]
  },
  {
   "cell_type": "markdown",
   "metadata": {},
   "source": [
    "## 3.1. 函数（函数体）"
   ]
  },
  {
   "cell_type": "markdown",
   "metadata": {},
   "source": [
    "### 3.1.1. 空函数（Empty Function）  \n",
    "● 数学形式：$f()$  \n",
    "● 编程实现："
   ]
  },
  {
   "cell_type": "code",
   "execution_count": 16,
   "metadata": {},
   "outputs": [],
   "source": [
    "def f():\n",
    "    # 这是一个空函数，暂时没有实现任何功能。\n",
    "    pass\n",
    "\n",
    "f()"
   ]
  },
  {
   "cell_type": "markdown",
   "metadata": {},
   "source": [
    "### 3.1.2. 一元函数（Univariate Function）  \n",
    "● 数学形式：$f(x)=x+1，假设x=1$  \n",
    "● 编程实现："
   ]
  },
  {
   "cell_type": "code",
   "execution_count": 17,
   "metadata": {},
   "outputs": [
    {
     "name": "stdout",
     "output_type": "stream",
     "text": [
      "2\n"
     ]
    },
    {
     "data": {
      "text/plain": [
       "2"
      ]
     },
     "execution_count": 17,
     "metadata": {},
     "output_type": "execute_result"
    }
   ],
   "source": [
    "x = 1\n",
    "def f(x):\n",
    "    return x + 1\n",
    "\n",
    "print(f(x))\n",
    "f(x)\n"
   ]
  },
  {
   "cell_type": "markdown",
   "metadata": {},
   "source": [
    "### 3.1.3. 多元函数（Multivariate Function）  \n",
    "● 数学形式：$f(x,y)=x+y，假设x=1，y=2$  \n",
    "● 编程实现："
   ]
  },
  {
   "cell_type": "code",
   "execution_count": 18,
   "metadata": {},
   "outputs": [
    {
     "data": {
      "text/plain": [
       "3"
      ]
     },
     "execution_count": 18,
     "metadata": {},
     "output_type": "execute_result"
    }
   ],
   "source": [
    "# x = 1\n",
    "# y = 2\n",
    "def f(x, y):\n",
    "    z = x + y # 换一种写法，赋值以后再返回也可以\n",
    "    return z\n",
    "\n",
    "f(1, 2) # 直接赋值也可以"
   ]
  },
  {
   "cell_type": "markdown",
   "metadata": {},
   "source": [
    "### 3.1.4. 复合函数（Composite Function）  \n",
    "● 数学形式：$f(g(x))，其中 g(x)=x+1，f(x)=x2，假设x=1$  \n",
    "● 编程实现："
   ]
  },
  {
   "cell_type": "code",
   "execution_count": 19,
   "metadata": {},
   "outputs": [
    {
     "name": "stdout",
     "output_type": "stream",
     "text": [
      "4\n"
     ]
    },
    {
     "data": {
      "text/plain": [
       "4"
      ]
     },
     "execution_count": 19,
     "metadata": {},
     "output_type": "execute_result"
    }
   ],
   "source": [
    "# 写法一：\n",
    "x = 1\n",
    "def g(x):\n",
    "    return x + 1\n",
    "\n",
    "def f(x):\n",
    "    return x ** 2\n",
    "\n",
    "def composite(x):\n",
    "    return f(g(x))\n",
    " \n",
    "print(composite(x)) # 用打印也行\n",
    "\n",
    "# 写法二：\n",
    "x = 1\n",
    "def g(x):\n",
    "    return x + 1\n",
    "\n",
    "def f(x):\n",
    "    return x ** 2\n",
    "\n",
    "f(g(x))"
   ]
  },
  {
   "cell_type": "markdown",
   "metadata": {},
   "source": [
    "### 3.1.5. 隐函数（Implicit Function）  \n",
    "● 数学形式：$x^2+y^2=1$  \n",
    "● 编程实现（以求解 y 为例）："
   ]
  },
  {
   "cell_type": "code",
   "execution_count": 20,
   "metadata": {},
   "outputs": [
    {
     "data": {
      "text/plain": [
       "9.798"
      ]
     },
     "execution_count": 20,
     "metadata": {},
     "output_type": "execute_result"
    }
   ],
   "source": [
    "import math\n",
    "\n",
    "def implicit(x):\n",
    "    y = math.sqrt(100 - x ** 2).__round__(3)\n",
    "    return y\n",
    "    \n",
    "implicit(2)"
   ]
  },
  {
   "cell_type": "markdown",
   "metadata": {},
   "source": [
    "### 3.1.6. 分段函数（Piecewise Function）  \n",
    "● 数学形式：$f(x) =   \n",
    "\\begin{cases} \n",
    "x + 1 & \\text{if } x < 0 \\\\\n",
    "x^2 & \\text{if } x \\geq 0 \n",
    "\\end{cases}$  \n",
    "● 编程实现："
   ]
  },
  {
   "cell_type": "code",
   "execution_count": 21,
   "metadata": {},
   "outputs": [
    {
     "data": {
      "text/plain": [
       "225"
      ]
     },
     "execution_count": 21,
     "metadata": {},
     "output_type": "execute_result"
    }
   ],
   "source": [
    "def piecewise(x):\n",
    "    if x < 0:\n",
    "        return x + 1\n",
    "    else:\n",
    "        return x ** 2\n",
    "\n",
    "x = int(input(\"请输入x：\"))\n",
    "piecewise(x)"
   ]
  },
  {
   "cell_type": "markdown",
   "metadata": {},
   "source": [
    "### 3.1.7. 匿名函数  \n",
    "● 数学形式：$f(x)=x2$  \n",
    "● 编程实现："
   ]
  },
  {
   "cell_type": "code",
   "execution_count": 22,
   "metadata": {},
   "outputs": [
    {
     "name": "stdout",
     "output_type": "stream",
     "text": [
      "25\n"
     ]
    }
   ],
   "source": [
    "z = lambda x: x ** 2\n",
    "\n",
    "print(z(5))  # 输出：25"
   ]
  },
  {
   "cell_type": "markdown",
   "metadata": {},
   "source": [
    "### 3.1.8. Python 内置函数"
   ]
  },
  {
   "cell_type": "code",
   "execution_count": 23,
   "metadata": {},
   "outputs": [
    {
     "name": "stdout",
     "output_type": "stream",
     "text": [
      "1\n",
      "10\n",
      "3\n",
      "1024\n",
      "2.35\n"
     ]
    }
   ],
   "source": [
    "num = int(1.8123)\n",
    "abs = abs(-10)\n",
    "print(num)\n",
    "print(abs)\n",
    "print(max(2,3))\n",
    "print(pow(2,10))\n",
    "print(round(2.3541561, 2)) "
   ]
  },
  {
   "cell_type": "markdown",
   "metadata": {},
   "source": [
    "## 3.2. 函数（函数参数）"
   ]
  },
  {
   "cell_type": "markdown",
   "metadata": {},
   "source": [
    "### 3.2.1. 默认参数  \n",
    "● 说明：为参数指定默认值，调用时可以不传递该参数。"
   ]
  },
  {
   "cell_type": "code",
   "execution_count": 24,
   "metadata": {},
   "outputs": [
    {
     "name": "stdout",
     "output_type": "stream",
     "text": [
      "Hello, Tom!\n",
      "Hello, Alice!\n"
     ]
    }
   ],
   "source": [
    "def greet(name=\"Tom\"):\n",
    "    return f\"Hello, {name}!\"\n",
    "\n",
    "print(greet())         # 输出：Hello, Tom!\n",
    "print(greet(\"Alice\"))  # 输出：Hello, Alice!"
   ]
  },
  {
   "cell_type": "markdown",
   "metadata": {},
   "source": [
    "### 3.2.2. 可变位置参数 (*args)\n",
    "● 说明：接收任意数量的位置参数，打包为元组。"
   ]
  },
  {
   "cell_type": "code",
   "execution_count": 25,
   "metadata": {},
   "outputs": [
    {
     "name": "stdout",
     "output_type": "stream",
     "text": [
      "86\n"
     ]
    }
   ],
   "source": [
    "def sum_numbers(*args):\n",
    "    return sum(args)\n",
    "\n",
    "print(sum_numbers(1, 2, 3, 10, 50, 20))  # 输出：6"
   ]
  },
  {
   "cell_type": "markdown",
   "metadata": {},
   "source": [
    "### 3.2.3. 可变关键字参数 (**kwargs)\n",
    "● 说明：接收任意数量的关键字参数，打包为字典。"
   ]
  },
  {
   "cell_type": "code",
   "execution_count": 26,
   "metadata": {},
   "outputs": [
    {
     "name": "stdout",
     "output_type": "stream",
     "text": [
      "name: Buddy\n",
      "animal: dog\n",
      "age: 3\n"
     ]
    }
   ],
   "source": [
    "def describe_pet(**kwargs):\n",
    "    for key, value in kwargs.items():\n",
    "        print(f\"{key}: {value}\")\n",
    "\n",
    "describe_pet(name=\"Buddy\", animal=\"dog\", age=3)\n",
    "# 输出：\n",
    "# name: Buddy\n",
    "# animal: dog\n",
    "# age: 3"
   ]
  },
  {
   "cell_type": "markdown",
   "metadata": {},
   "source": [
    "### 3.2.4. 位置参数与关键字参数\n",
    "● 说明：位置参数按顺序传递，关键字参数通过参数名传递。"
   ]
  },
  {
   "cell_type": "code",
   "execution_count": 27,
   "metadata": {},
   "outputs": [
    {
     "name": "stdout",
     "output_type": "stream",
     "text": [
      "I have a dog named Buddy.\n",
      "I have a cat named Whiskers.\n"
     ]
    }
   ],
   "source": [
    "def describe_pet(name, animal=\"dog\"):\n",
    "    return f\"I have a {animal} named {name}.\"\n",
    "\n",
    "print(describe_pet(\"Buddy\"))  # 位置参数\n",
    "print(describe_pet(animal=\"cat\", name=\"Whiskers\"))  # 关键字参数"
   ]
  },
  {
   "cell_type": "markdown",
   "metadata": {},
   "source": [
    "### 3.2.5. 混合使用 *args 和 **kwargs\n",
    "● 说明：同时接收任意数量的位置参数和关键字参数。"
   ]
  },
  {
   "cell_type": "code",
   "execution_count": 28,
   "metadata": {},
   "outputs": [
    {
     "name": "stdout",
     "output_type": "stream",
     "text": [
      "Positional arguments: (1, 2, 3)\n",
      "Keyword arguments: {'name': 'Alice', 'age': 25}\n"
     ]
    }
   ],
   "source": [
    "def mixed_args(*args, **kwargs):\n",
    "    print(\"Positional arguments:\", args)\n",
    "    print(\"Keyword arguments:\", kwargs)\n",
    "\n",
    "mixed_args(1, 2, 3, name=\"Alice\", age=25)\n",
    "# 输出：\n",
    "# Positional arguments: (1, 2, 3)\n",
    "# Keyword arguments: {'name': 'Alice', 'age': 25}"
   ]
  },
  {
   "cell_type": "markdown",
   "metadata": {},
   "source": [
    "### 3.2.6. 强制关键字参数\n",
    "● 说明：在 * 之后的参数必须作为关键字参数传递。"
   ]
  },
  {
   "cell_type": "code",
   "execution_count": 29,
   "metadata": {},
   "outputs": [
    {
     "name": "stdout",
     "output_type": "stream",
     "text": [
      "Alice is 25 years old.\n"
     ]
    }
   ],
   "source": [
    "def force_keyword(name, *, age):\n",
    "    return f\"{name} is {age} years old.\"\n",
    "\n",
    "print(force_keyword(\"Alice\", age=25))  # 正确\n",
    "# print(force_keyword(\"Alice\", 25))    # 错误：age 必须是关键字参数"
   ]
  },
  {
   "cell_type": "markdown",
   "metadata": {},
   "source": [
    "### 3.2.7. 解包参数\n",
    "● 说明：使用 * 解包元组，使用 ** 解包字典。"
   ]
  },
  {
   "cell_type": "code",
   "execution_count": 30,
   "metadata": {},
   "outputs": [
    {
     "name": "stdout",
     "output_type": "stream",
     "text": [
      "6\n",
      "6\n"
     ]
    }
   ],
   "source": [
    "def add(a, b, c):\n",
    "    return a + b + c\n",
    "\n",
    "numbers = (1, 2, 3)\n",
    "print(add(*numbers))  # 输出：6\n",
    "\n",
    "params = {\"a\": 1, \"b\": 2, \"c\": 3}\n",
    "print(add(**params))  # 输出：6"
   ]
  },
  {
   "cell_type": "markdown",
   "metadata": {},
   "source": [
    "### 3.2.8. 参数注解(注意不是注释)\n",
    "● 说明：为参数和返回值添加类型注解。"
   ]
  },
  {
   "cell_type": "code",
   "execution_count": 31,
   "metadata": {},
   "outputs": [
    {
     "name": "stdout",
     "output_type": "stream",
     "text": [
      "8\n"
     ]
    }
   ],
   "source": [
    "def add(a: int, b: int) -> int:\n",
    "    return a + b\n",
    "\n",
    "print(add(3, 5))  # 输出：8"
   ]
  },
  {
   "cell_type": "code",
   "execution_count": 32,
   "metadata": {},
   "outputs": [
    {
     "name": "stdout",
     "output_type": "stream",
     "text": [
      "8\n"
     ]
    }
   ],
   "source": [
    "def add(a, b):\n",
    "    return a + b\n",
    "\n",
    "print(add(3, 5))  # 输出：8"
   ]
  },
  {
   "cell_type": "markdown",
   "metadata": {},
   "source": [
    "## 3.3. 变量"
   ]
  },
  {
   "cell_type": "markdown",
   "metadata": {},
   "source": [
    "### 3.3.1. 变量的赋值与命名：\n",
    "  ○ 使用 = 为变量赋值。  \n",
    "  ○ 变量名可以是字母、数字和下划线的组合，但不能以数字开头。  \n",
    "  ○ 变量名区分大小写（如 age 和 Age 是不同的变量）。  \n",
    "  ○ 不能使用 Python 关键字（如 if、for、while 等）作为变量名。  \n"
   ]
  },
  {
   "cell_type": "code",
   "execution_count": 33,
   "metadata": {},
   "outputs": [
    {
     "data": {
      "text/plain": [
       "['False',\n",
       " 'None',\n",
       " 'True',\n",
       " 'and',\n",
       " 'as',\n",
       " 'assert',\n",
       " 'async',\n",
       " 'await',\n",
       " 'break',\n",
       " 'class',\n",
       " 'continue',\n",
       " 'def',\n",
       " 'del',\n",
       " 'elif',\n",
       " 'else',\n",
       " 'except',\n",
       " 'finally',\n",
       " 'for',\n",
       " 'from',\n",
       " 'global',\n",
       " 'if',\n",
       " 'import',\n",
       " 'in',\n",
       " 'is',\n",
       " 'lambda',\n",
       " 'nonlocal',\n",
       " 'not',\n",
       " 'or',\n",
       " 'pass',\n",
       " 'raise',\n",
       " 'return',\n",
       " 'try',\n",
       " 'while',\n",
       " 'with',\n",
       " 'yield']"
      ]
     },
     "execution_count": 33,
     "metadata": {},
     "output_type": "execute_result"
    }
   ],
   "source": [
    "import keyword\n",
    "keyword.kwlist"
   ]
  },
  {
   "cell_type": "markdown",
   "metadata": {},
   "source": [
    "  ○ 遵循 PEP 8 命名规范：  \n",
    "    ■ 变量名（可能改变的）使用小写字母，单词之间用下划线分隔（如 user_name）。  \n",
    "    ■ 常量名（写死不变的）使用大写字母（如 MAX_VALUE）。"
   ]
  },
  {
   "cell_type": "code",
   "execution_count": 34,
   "metadata": {},
   "outputs": [
    {
     "name": "stdout",
     "output_type": "stream",
     "text": [
      "10 Alice tom\n"
     ]
    }
   ],
   "source": [
    "x = 10\n",
    "name123 = \"Alice\"\n",
    "user_name = 'tom'\n",
    "\n",
    "print(x, name123, user_name)"
   ]
  },
  {
   "cell_type": "markdown",
   "metadata": {},
   "source": [
    "### 3.3.2. 变量的链式赋值与多重赋值（一般不推荐，可读性差）：\n",
    "  ○ 链式赋值：同时为多个变量赋相同的值。  \n",
    "  ○ 多重赋值：同时为多个变量赋不同的值。"
   ]
  },
  {
   "cell_type": "code",
   "execution_count": 35,
   "metadata": {},
   "outputs": [
    {
     "name": "stdout",
     "output_type": "stream",
     "text": [
      "10 10 10\n",
      "1 2 3\n"
     ]
    }
   ],
   "source": [
    "# 链式赋值\n",
    "a = b = c = 10\n",
    "print(a, b, c)\n",
    "\n",
    "# 多重赋值\n",
    "x, y, z = 1, 2, 3\n",
    "print(x, y, z)"
   ]
  },
  {
   "cell_type": "markdown",
   "metadata": {},
   "source": [
    "### 3.3.3. 变量的重新赋值：\n",
    "  ○ 变量可以重新赋值，类型也可以改变。"
   ]
  },
  {
   "cell_type": "code",
   "execution_count": 36,
   "metadata": {},
   "outputs": [
    {
     "name": "stdout",
     "output_type": "stream",
     "text": [
      "10\n",
      "Hello\n"
     ]
    }
   ],
   "source": [
    "x = 10\n",
    "print(x)\n",
    "\n",
    "x = \"Hello\"  # 变量类型从 int 变为 str\n",
    "print(x)"
   ]
  },
  {
   "cell_type": "markdown",
   "metadata": {},
   "source": [
    "### 3.3.4. 变量的类型注解（注意不是注释）：\n",
    "  ○ 为变量添加类型注解，提高代码可读性。"
   ]
  },
  {
   "cell_type": "code",
   "execution_count": 37,
   "metadata": {},
   "outputs": [
    {
     "name": "stdout",
     "output_type": "stream",
     "text": [
      "My name is Alice and I am 25 years old.\n"
     ]
    }
   ],
   "source": [
    "age: int = 25\n",
    "name: str = \"Alice\"\n",
    "print(f\"My name is {name} and I am {age} years old.\")"
   ]
  },
  {
   "cell_type": "markdown",
   "metadata": {},
   "source": [
    "### 3.3.5. 变量的类型：\n",
    "  ○ Python 是动态类型语言，变量的类型由赋值决定。  \n",
    "  ○ 常见类型：整数 (int)、浮点数 (float)、字符串 (str)、布尔值 (bool)、元组 (tuple)、列表 (list)、字典 (dict)、集合 (set) 等。"
   ]
  },
  {
   "cell_type": "code",
   "execution_count": 38,
   "metadata": {},
   "outputs": [
    {
     "name": "stdout",
     "output_type": "stream",
     "text": [
      "25 <class 'int'>\n",
      "1.75 <class 'float'>\n",
      "Alice <class 'str'>\n",
      "True <class 'bool'>\n",
      "None <class 'NoneType'>\n",
      "b'Hello' <class 'bytes'>\n",
      "(10, 20) <class 'tuple'>\n",
      "[1, 2, 3] <class 'list'>\n",
      "{'name': 'Alice', 'age': 25} <class 'dict'>\n",
      "{1, 2, 3} <class 'set'>\n"
     ]
    }
   ],
   "source": [
    "age = 25          # int\n",
    "print(age, type(age))  # 输出：25 <class 'int'>\n",
    "\n",
    "height = 1.75     # float\n",
    "print(height, type(height))  # 输出：1.75 <class 'float'>\n",
    "\n",
    "name = \"Alice\"    # str\n",
    "print(name, type(name))  # 输出：Alice <class 'str'>\n",
    "\n",
    "is_student = True # bool\n",
    "print(is_student, type(is_student))  # 输出：True <class 'bool'>\n",
    "\n",
    "result = None  # 空值\n",
    "print(result, type(result))  # 输出：None <class 'NoneType'>\n",
    "\n",
    "data = b\"Hello\"  # 字节\n",
    "print(data, type(data))  # 输出：b'Hello' <class 'bytes'>\n",
    "\n",
    "coordinates = (10, 20)  # 元组\n",
    "print(coordinates, type(coordinates))  # 输出：(10, 20) <class 'tuple'>\n",
    "\n",
    "numbers = [1, 2, 3]  # 列表\n",
    "print(numbers, type(numbers))  # 输出：[1, 2, 3] <class 'list'>\n",
    "\n",
    "person = {\"name\": \"Alice\", \"age\": 25}  # 字典,键值对应\n",
    "print(person, type(person))  # 输出：{'name': 'Alice', 'age': 25} <class 'dict'>\n",
    "\n",
    "unique_numbers = {1, 2, 3, 3}  # 集合，只有值\n",
    "print(unique_numbers, type(unique_numbers))  # 输出：{1, 2, 3} <class 'set'>"
   ]
  },
  {
   "cell_type": "markdown",
   "metadata": {},
   "source": [
    "### 3.3.6. 变量的作用域：\n",
    "  ○ 局部变量：在函数内部定义的变量，仅在函数内有效。  \n",
    "  ○ 全局变量：在函数外部定义的变量，全局有效。  \n",
    "  ○ 使用 global 关键字在函数内部修改全局变量。"
   ]
  },
  {
   "cell_type": "code",
   "execution_count": 39,
   "metadata": {},
   "outputs": [
    {
     "name": "stdout",
     "output_type": "stream",
     "text": [
      "10\n",
      "20\n"
     ]
    }
   ],
   "source": [
    "x = 10  # 全局变量\n",
    "print(x)\n",
    "\n",
    "def change_x():\n",
    "    global x\n",
    "    x = 20  # 修改全局变量\n",
    "    return x\n",
    "    \n",
    "print(change_x())"
   ]
  },
  {
   "cell_type": "markdown",
   "metadata": {},
   "source": [
    "### 3.3.7. 可变与不可变类型：\n",
    "  ○ 不可变类型：值不能被修改（如 int、float、str、tuple）。  \n",
    "  ○ 可变类型：值可以被修改（如 list、dict、set）。"
   ]
  },
  {
   "cell_type": "markdown",
   "metadata": {},
   "source": [
    "### 3.3.8. 变量的引用与拷贝：\n",
    "  ○ 变量是对象的引用，赋值操作是传递引用。  \n",
    "  ○ 使用 copy() 或 deepcopy() 创建对象的副本。"
   ]
  },
  {
   "cell_type": "code",
   "execution_count": 40,
   "metadata": {},
   "outputs": [
    {
     "name": "stdout",
     "output_type": "stream",
     "text": [
      "引用： [[1, 2, 99], [3, 4]]\n",
      "浅拷贝： [[1, 2, 99], [3, 4]]\n",
      "深拷贝： [[1, 2], [3, 4]]\n"
     ]
    }
   ],
   "source": [
    "import copy\n",
    "\n",
    "# 原始数据\n",
    "original = [[1, 2], [3, 4]]\n",
    "\n",
    "# 引用（默认浅拷贝）\n",
    "ref = original\n",
    "ref[0].append(99)\n",
    "print(\"引用：\", original)  # 输出：[[1, 2, 99], [3, 4]]\n",
    "\n",
    "# 浅拷贝\n",
    "original = [[1, 2], [3, 4]]\n",
    "shallow_copy = copy.copy(original)\n",
    "shallow_copy[0].append(99)\n",
    "print(\"浅拷贝：\", original)  # 输出：[[1, 2, 99], [3, 4]]\n",
    "\n",
    "# 深拷贝\n",
    "original = [[1, 2], [3, 4]]\n",
    "deep_copy = copy.deepcopy(original)\n",
    "deep_copy[0].append(99)\n",
    "print(\"深拷贝：\", original)  # 输出：[[1, 2], [3, 4]]"
   ]
  },
  {
   "cell_type": "markdown",
   "metadata": {},
   "source": [
    "# 4. 数据容器"
   ]
  },
  {
   "cell_type": "markdown",
   "metadata": {},
   "source": [
    "## 4.1. 数据"
   ]
  },
  {
   "cell_type": "markdown",
   "metadata": {},
   "source": [
    "以下是转换为Markdown表格的内容：\n",
    "\n",
    "| 转换目标类型     | 描述                                   | 示例                     | 转换函数  | 说明                                       | 示例                      |\n",
    "|------------------|----------------------------------------|--------------------------|-----------|--------------------------------------------|---------------------------|\n",
    "| 整数 (Integer)   | 代表整数数字                           | `a = 10`                 | `int()`   | 将其他数据类型转换为整数类型               | `int('10') -> 10`         |\n",
    "| 浮点数 (Float)   | 代表带小数点的数字                     | `b = 10.1`               | `float()` | 将其他数据类型转换为浮点类型               | `float('10.5') -> 10.5`   |\n",
    "| 字符串 (String)  | 代表文本，字符的序列                   | `c = 'hello'`            | `str()`   | 将其他数据类型转换为字符串类型             | `str(100) -> '100'`       |\n",
    "| 列表 (List)      | 有序且不可变的集合，元素不能修改       | `d = (1, 2, 3, 4, 5)`    | `list()`  | 将其他可迭代对象转换为列表                 | `list((1, 2, 3)) -> [1, 2, 3]` |\n",
    "| 元组 (Tuple)     | 有序且可变的集合，元素可以修改         | `e = [1, 2, 3, 4, 5]`    | `tuple()` | 将其他可迭代对象转换为元组                 | `tuple([1, 2, 3]) -> (1, 2, 3)` |\n",
    "| 字典 (Dictionary)| 键值对集合，每个键只能对应一个值       | `f = {'name': 'zhangsan', 'age': 18}` | `dict()` | 将可迭代的键值对转换为字典                 | `dict([(1, 'a'), (2, 'b')]) -> {1: 'a', 2: 'b'}` |\n",
    "| 集合 (Set)       | 无序且元素唯一的集合，不能包含重复元素 | `g = {1, 2, 3, 4, 5}`    | `set()`   | 将其他可迭代对象转换为集合                 | `set([1, 2, 3, 3]) -> {1, 2, 3}` |\n",
    "| 布尔值 (Bool)    | 只有两个可能的值：`True`或 `False`     | `h = True`               | `bool()`  | 将其他数据类型转换为布尔类型               | `bool(1) -> True`         |\n",
    "| None             | 代表没有值或空值                       | `i = None`               | `None()`  | 本身无转换函数，表示空值或无效值           | `None`                    |\n",
    "| 自动评估转换     |                                        |                          | `eval()`  | 将字符串表达式转换为对应的对象             | `eval('10 + 5') -> 15`    |\n",
    "\n"
   ]
  },
  {
   "cell_type": "markdown",
   "metadata": {},
   "source": [
    "### 4.1.2. 字符串、整数、浮点数的相互转换"
   ]
  },
  {
   "cell_type": "code",
   "execution_count": 41,
   "metadata": {},
   "outputs": [
    {
     "name": "stdout",
     "output_type": "stream",
     "text": [
      "123\n",
      "123.45\n",
      "123\n",
      "123.45\n",
      "123.0\n",
      "123\n"
     ]
    }
   ],
   "source": [
    "# 字符串转整数\n",
    "s = \"123\"\n",
    "i = int(s)\n",
    "print(i)  # 输出: 123\n",
    "\n",
    "# 字符串转浮点数\n",
    "s = \"123.45\"\n",
    "f = float(s)\n",
    "print(f)  # 输出: 123.45\n",
    "\n",
    "# 整数转字符串\n",
    "i = 123\n",
    "s = str(i)\n",
    "print(s)  # 输出: \"123\"\n",
    "\n",
    "# 浮点数转字符串\n",
    "f = 123.45\n",
    "s = str(f)\n",
    "print(s)  # 输出: \"123.45\"\n",
    "\n",
    "# 整数转浮点数\n",
    "i = 123\n",
    "f = float(i)\n",
    "print(f)  # 输出: 123.0\n",
    "\n",
    "# 浮点数转整数\n",
    "f = 123.45\n",
    "i = int(f)\n",
    "print(i)  # 输出: 123"
   ]
  },
  {
   "cell_type": "markdown",
   "metadata": {},
   "source": [
    "### 4.1.3. 字符串操作"
   ]
  },
  {
   "cell_type": "code",
   "execution_count": 42,
   "metadata": {},
   "outputs": [
    {
     "name": "stdout",
     "output_type": "stream",
     "text": [
      "Hello World\n",
      "Hello,World\n",
      "abcabcabc\n",
      "Hello\n",
      "HloWrd\n",
      "True\n",
      "6\n",
      "7\n",
      "6\n",
      "7\n",
      "Hello Python\n",
      "Hello World\n",
      "Hello\n",
      "Hello\n",
      "HELLO\n",
      "hello\n",
      "Hello\n",
      "Hello World\n",
      "Name: Alice, Age: 25\n",
      "Hello, World\n",
      "b'Hello'\n",
      "Hello\n",
      "True\n",
      "True\n",
      "True\n",
      "True\n",
      "True\n",
      "True\n",
      "True\n",
      "True\n",
      "5\n",
      "('Hello', ' ', 'World')\n",
      "['a', 'b', 'c']\n",
      "['a', 'b', 'c']\n",
      "['Hello', 'World', 'Python']\n"
     ]
    }
   ],
   "source": [
    "# 创建与连接\n",
    "s1 = 'Hello'\n",
    "s2 = 'World'\n",
    "s3 = s1 + ' ' + s2\n",
    "print(s3)  # 输出: 'Hello World'\n",
    "\n",
    "s4 = ','.join([s1, s2])\n",
    "print(s4)  # 输出: 'Hello World'\n",
    "\n",
    "# 重复\n",
    "s5 = 'abc' * 3\n",
    "print(s5)  # 输出: 'abcabcabc'\n",
    "\n",
    "# 切片\n",
    "s6 = 'Hello World'\n",
    "print(s6[0:5])  # 输出: 'Hello'\n",
    "print(s6[0::2])  # 输出: 'HloWrd'\n",
    "\n",
    "# 查询与查找\n",
    "print('World' in 'Hello World')  # 输出: True\n",
    "print('Hello World'.find('World'))  # 输出: 6\n",
    "print('Hello World'.rfind('o'))  # 输出: 7\n",
    "print('Hello World'.index('World'))  # 输出: 6\n",
    "print('Hello World'.rindex('o'))  # 输出: 7\n",
    "\n",
    "# 替换与删除\n",
    "s7 = 'Hello World'\n",
    "print(s7.replace('World', 'Python'))  # 输出: 'Hello Python'\n",
    "print(' Hello World '.strip())  # 输出: 'Hello World'\n",
    "print(' Hello'.lstrip())  # 输出: 'Hello'\n",
    "print('Hello '.rstrip())  # 输出: 'Hello'\n",
    "\n",
    "# 大小写操作\n",
    "s8 = 'hello'\n",
    "print(s8.upper())  # 输出: 'HELLO'\n",
    "print(s8.lower())  # 输出: 'hello'\n",
    "print(s8.capitalize())  # 输出: 'Hello'\n",
    "print('hello world'.title())  # 输出: 'Hello World'\n",
    "\n",
    "# 格式化\n",
    "name = 'Alice'\n",
    "age = 25\n",
    "print(f\"Name: {name}, Age: {age}\")  # 输出: 'Name: Alice, Age: 25'\n",
    "print('Hello, {}'.format('World'))  # 输出: 'Hello, World'\n",
    "\n",
    "# 编码与解码\n",
    "s9 = 'Hello'\n",
    "encoded = s9.encode('utf-8')\n",
    "print(encoded)  # 输出: b'Hello'\n",
    "decoded = encoded.decode('utf-8')\n",
    "print(decoded)  # 输出: 'Hello'\n",
    "\n",
    "# 检查\n",
    "print('Hello'.startswith('He'))  # 输出: True\n",
    "print('Hello'.endswith('lo'))  # 输出: True\n",
    "print('Hello123'.isalnum())  # 输出: True\n",
    "print('Hello'.isalpha())  # 输出: True\n",
    "print('123'.isdigit())  # 输出: True\n",
    "print(' '.isspace())  # 输出: True\n",
    "print('HELLO'.isupper())  # 输出: True\n",
    "print('hello'.islower())  # 输出: True\n",
    "\n",
    "# 字符串长度\n",
    "print(len('Hello'))  # 输出: 5\n",
    "\n",
    "# 其他操作\n",
    "print('Hello World'.partition(' '))  # 输出: ('Hello', ' ', 'World')\n",
    "print('a,b,c'.split(','))  # 输出: ['a', 'b', 'c']\n",
    "print('a,b,c'.rsplit(','))  # 输出: ['a', 'b', 'c']\n",
    "print('Hello\\nWorld\\nPython'.splitlines())  # 输出: ['Hello', 'World', 'Python']"
   ]
  },
  {
   "cell_type": "code",
   "execution_count": 43,
   "metadata": {},
   "outputs": [
    {
     "name": "stdout",
     "output_type": "stream",
     "text": [
      "Before function call: 10\n",
      "After function call: 20\n",
      "Global x after function call: 20\n"
     ]
    }
   ],
   "source": [
    "# 全局变量\n",
    "x = 10\n",
    "\n",
    "def modify_global():\n",
    "    global x  # 声明 x 是全局变量\n",
    "    x = 20    # 修改全局变量的值\n",
    "    return x\n",
    "\n",
    "print(\"Before function call:\", x)  # 输出: Before function call: 10\n",
    "print(\"After function call:\", modify_global())  # 输出: After function call: 20\n",
    "print(\"Global x after function call:\", x)  # 输出: Global x after function call: 20"
   ]
  },
  {
   "cell_type": "markdown",
   "metadata": {},
   "source": [
    "### 4.3.7 可变与不可变类型："
   ]
  },
  {
   "cell_type": "markdown",
   "metadata": {},
   "source": [
    "  ○ 不可变类型：内存地址不一样。值不能被修改（如 int、float、str、tuple）。"
   ]
  },
  {
   "cell_type": "markdown",
   "metadata": {},
   "source": [
    "  ○ 可变类型：内存地址一样。值可以被修改（如 list、dict、set）。"
   ]
  },
  {
   "cell_type": "code",
   "execution_count": 44,
   "metadata": {},
   "outputs": [
    {
     "name": "stdout",
     "output_type": "stream",
     "text": [
      "10\n",
      "id: 102647169580208\n",
      "20\n",
      "id: 102647169580528\n",
      "[1, 2, 3]\n",
      "id: 130592540118784\n",
      "[1, 2, 3, 4]\n",
      "id: 130592540118784\n"
     ]
    }
   ],
   "source": [
    "# 不可变类型：内存地址不一样\n",
    "x = 10\n",
    "print(x) # id: 140728978742480\n",
    "print(\"id:\", id(x))\n",
    "x = 20  # 重新赋值，实际上是创建了一个新对象,原来等于10的x不见了\n",
    "print(x)\n",
    "print(\"id:\", id(x)) # id: 140728978742800\n",
    "\n",
    "# 可变类型：内存地址一样\n",
    "lst = [1, 2, 3]\n",
    "print(lst)\n",
    "print(\"id:\", id(lst)) # id: 2561300503680\n",
    "lst.append(4)  # 修改原对象\n",
    "print(lst)\n",
    "print(\"id:\", id(lst)) # id: 2561300503680"
   ]
  },
  {
   "cell_type": "markdown",
   "metadata": {},
   "source": [
    "### 4.3.8变量的引用与拷贝：\n",
    "  ##### ○ 变量是对象的引用，赋值操作是传递引用。\n",
    "  ##### ○ 使用 copy() 或 deepcopy() 创建对象的副本。\n",
    "  ##### ○ 浅拷贝：修改影响原对象\n",
    "  ##### ○ 深拷贝：修改不影响原对象"
   ]
  },
  {
   "cell_type": "code",
   "execution_count": 45,
   "metadata": {},
   "outputs": [
    {
     "name": "stdout",
     "output_type": "stream",
     "text": [
      "引用： [[1, 2, 99], [3, 4]]\n",
      "浅拷贝： [[1, 2, 99], [3, 4]]\n",
      "深拷贝： [[1, 2], [3, 4]]\n"
     ]
    }
   ],
   "source": [
    "import copy\n",
    "\n",
    "# 原始数据\n",
    "original = [[1, 2], [3, 4]]\n",
    "\n",
    "# 引用（默认浅拷贝）\n",
    "ref = original\n",
    "ref[0].append(99)\n",
    "print(\"引用：\", original)  # 输出：[[1, 2, 99], [3, 4]]\n",
    "\n",
    "# 浅拷贝:修改影响原数据\n",
    "original = [[1, 2], [3, 4]]\n",
    "shallow_copy = copy.copy(original)\n",
    "shallow_copy[0].append(99)\n",
    "print(\"浅拷贝：\", original)  # 输出：[[1, 2, 99], [3, 4]]\n",
    "\n",
    "# 深拷贝:修改不影响原数据\n",
    "original = [[1, 2], [3, 4]]\n",
    "deep_copy = copy.deepcopy(original)\n",
    "deep_copy[0].append(99)\n",
    "print(\"深拷贝：\", original)  # 输出：[[1, 2], [3, 4]]"
   ]
  },
  {
   "cell_type": "markdown",
   "metadata": {},
   "source": [
    "# 5.面向对象编程"
   ]
  },
  {
   "cell_type": "markdown",
   "metadata": {},
   "source": [
    "类的三大特征：封装、继承和多态。"
   ]
  },
  {
   "cell_type": "markdown",
   "metadata": {},
   "source": [
    "## 5.1.类的定义与实例化（设计图纸与拼装乐高）"
   ]
  },
  {
   "cell_type": "markdown",
   "metadata": {},
   "source": [
    "| 操作             | 语法/示例                        | 说明                                   |\n",
    "|------------------|-----------------------------------|----------------------------------------|\n",
    "| 定义类           | `class ClassName:`               | 使用 `class` 定义类。                   |\n",
    "| 初始化方法（构造函数） | `def __init__(self, parameters):` | `__init__` 方法是类的构造函数，用于初始化对象。 |\n",
    "| 创建实例         | `obj = ClassName()`              | 使用类名创建类的实例。                 |\n",
    "| 访问属性和方法   | `obj.attribute` 和 `obj.method()` | 使用实例访问类的属性和方法。           |"
   ]
  },
  {
   "cell_type": "code",
   "execution_count": 46,
   "metadata": {},
   "outputs": [
    {
     "name": "stdout",
     "output_type": "stream",
     "text": [
      "Hello, my name is Alice and I am 30 years old.\n"
     ]
    }
   ],
   "source": [
    "class Person:\n",
    "    def __init__(self, name, age):\n",
    "        self.name = name\n",
    "        self.age = age\n",
    "    \n",
    "    def greet(self):\n",
    "        return f\"Hello, my name is {self.name} and I am {self.age} years old.\"\n",
    "\n",
    "# 创建实例\n",
    "person = Person(\"Alice\", 30)\n",
    "print(person.greet())  # 输出: Hello, my name is Alice and I am 30 years old."
   ]
  },
  {
   "cell_type": "markdown",
   "metadata": {},
   "source": [
    "## 5.2.类的封装"
   ]
  },
  {
   "cell_type": "code",
   "execution_count": 47,
   "metadata": {},
   "outputs": [],
   "source": [
    "class Person:\n",
    "    def __init__(self, name, age):\n",
    "        self.name = name\n",
    "        self.age = age\n",
    "    \n",
    "    def greet(self):\n",
    "        return f\"Hello, my name is {self.name} and I am {self.age} years old.\""
   ]
  },
  {
   "cell_type": "markdown",
   "metadata": {},
   "source": [
    "## 5.3.类的继承与多态"
   ]
  },
  {
   "cell_type": "markdown",
   "metadata": {},
   "source": [
    "类继承允许我们在已有类的基础上创建新类，新类会继承父类的属性和方法，也可以重写父类的方法，增强功能。"
   ]
  },
  {
   "cell_type": "markdown",
   "metadata": {},
   "source": [
    "| 操作   | 语法/示例                           | 说明                                       |\n",
    "|--------|-------------------------------------|--------------------------------------------|\n",
    "| 继承类 | `class ChildClass(ParentClass):`    | 子类继承父类的属性和方法。                   |\n",
    "| 方法重写 | `def method_name(self):`            | 子类重写父类的方法。                         |\n",
    "| 多态   | 通过父类引用子类对象来实现多态性（即动态绑定） | 多态是指方法可以根据调用的对象不同而产生不同的行为。 |"
   ]
  },
  {
   "cell_type": "code",
   "execution_count": 48,
   "metadata": {},
   "outputs": [
    {
     "name": "stdout",
     "output_type": "stream",
     "text": [
      "Woof\n",
      "Meow\n"
     ]
    }
   ],
   "source": [
    "class Animal:\n",
    "    def speak(self):\n",
    "        return \"Animal sound\"\n",
    "\n",
    "class Dog(Animal): # 继承\n",
    "    def speak(self): \n",
    "        return \"Woof\"\n",
    "\n",
    "class Cat(Animal):\n",
    "    def speak(self):\n",
    "        return \"Meow\"\n",
    "\n",
    "# 多态示例\n",
    "animals = [Dog(), Cat()]\n",
    "for animal in animals:\n",
    "    print(animal.speak())  # 输出: Woof  Meow"
   ]
  },
  {
   "cell_type": "markdown",
   "metadata": {},
   "source": [
    "## 5.4.类的属性和方法"
   ]
  },
  {
   "cell_type": "markdown",
   "metadata": {},
   "source": [
    "类可以包含实例属性、类属性和实例方法、类方法。"
   ]
  },
  {
   "cell_type": "markdown",
   "metadata": {},
   "source": [
    "#### 5.4.1实例属性"
   ]
  },
  {
   "cell_type": "markdown",
   "metadata": {},
   "source": [
    "实例属性是属于对象的，每个对象都有自己独立的属性。"
   ]
  },
  {
   "cell_type": "markdown",
   "metadata": {},
   "source": [
    "| 操作         | 语法/示例                  | 说明                           |\n",
    "|--------------|----------------------------|--------------------------------|\n",
    "| 定义实例属性 | `self.attribute = value`   | 在 `__init__` 方法中定义实例属性。 |"
   ]
  },
  {
   "cell_type": "markdown",
   "metadata": {},
   "source": [
    "#### 5.4.2类属性"
   ]
  },
  {
   "cell_type": "markdown",
   "metadata": {},
   "source": [
    "类属性是属于类的，不同的实例共享相同的类属性。"
   ]
  },
  {
   "cell_type": "markdown",
   "metadata": {},
   "source": [
    "| 操作         | 语法/示例                  | 说明                           |\n",
    "|--------------|----------------------------|--------------------------------|\n",
    "| 定义类属性 | `ClassName.attribute = value` | 直接在类中定义类属性。 |"
   ]
  },
  {
   "cell_type": "markdown",
   "metadata": {},
   "source": [
    "#### 5.4.3实例方法"
   ]
  },
  {
   "cell_type": "markdown",
   "metadata": {},
   "source": [
    "实例方法需要传入 `self `参数，表示当前对象的引用，可以访问实例属性和调用其他实例方法。"
   ]
  },
  {
   "cell_type": "markdown",
   "metadata": {},
   "source": [
    "| 操作         | 语法/示例                   | 说明                           |\n",
    "|--------------|----------------------------|--------------------------------|\n",
    "|定义实例方法   | `def method(self):`        | 定义实例方法，访问实例属性。 |"
   ]
  },
  {
   "cell_type": "markdown",
   "metadata": {},
   "source": [
    "#### 5.4.4类方法"
   ]
  },
  {
   "cell_type": "markdown",
   "metadata": {},
   "source": [
    "类方法使用 `@classmethod `装饰器定义，接收类本身作为第一个参数 `cls`。"
   ]
  },
  {
   "cell_type": "markdown",
   "metadata": {},
   "source": [
    "| 操作         | 语法/示例                   | 说明                           |\n",
    "|--------------|----------------------------|--------------------------------|\n",
    "|定义类方法   | `@classmethod def method(cls):`        | 使用 `@classmethod`装饰器定义类方法。 |"
   ]
  },
  {
   "cell_type": "markdown",
   "metadata": {},
   "source": [
    "#### 5.4.5静态方法"
   ]
  },
  {
   "cell_type": "markdown",
   "metadata": {},
   "source": [
    "静态方法不需要访问实例或类属性，用` @staticmethod` 装饰器定义。"
   ]
  },
  {
   "cell_type": "markdown",
   "metadata": {},
   "source": [
    "| 操作         | 语法/示例                   | 说明                           |\n",
    "|--------------|----------------------------|--------------------------------|\n",
    "|定义静态方法   | `@staticmethod def method():`        | 使用 `@staticmethod`装饰器定义静态方法 |"
   ]
  },
  {
   "cell_type": "code",
   "execution_count": 49,
   "metadata": {},
   "outputs": [
    {
     "name": "stdout",
     "output_type": "stream",
     "text": [
      "The Toyota is driving.\n",
      "All cars have 4 wheels.\n",
      "Beep beep!\n"
     ]
    }
   ],
   "source": [
    "class Car:\n",
    "    wheels = 4  # 类属性\n",
    "    \n",
    "    def __init__(self, model):\n",
    "        self.model = model  # 实例属性\n",
    "    \n",
    "    def drive(self):  # 实例方法\n",
    "        return f\"The {self.model} is driving.\"\n",
    "    \n",
    "    @classmethod\n",
    "    def wheel_count(cls):  # 类方法\n",
    "        return f\"All cars have {cls.wheels} wheels.\"\n",
    "    \n",
    "    @staticmethod\n",
    "    def honk():  # 静态方法\n",
    "        return \"Beep beep!\"\n",
    "    \n",
    "# 创建实例\n",
    "car = Car(\"Toyota\")\n",
    "print(car.drive())  # 实例方法调用\n",
    "print(Car.wheel_count())  # 类方法调用\n",
    "print(Car.honk())  # 静态方法调用"
   ]
  },
  {
   "cell_type": "markdown",
   "metadata": {},
   "source": [
    "#### 5.4.类的私有属性与方法"
   ]
  },
  {
   "cell_type": "markdown",
   "metadata": {},
   "source": [
    "Python 中没有真正的“私有”属性或方法，但我们可以通过前缀下划线来约定私有变量和方法。"
   ]
  },
  {
   "cell_type": "markdown",
   "metadata": {},
   "source": [
    "| 操作     | 语法/示例                  | 说明                                   |\n",
    "|----------|----------------------------|----------------------------------------|\n",
    "| 私有属性 | `_attribute` 或 `__attribute` | 通过单下划线 `_` 或双下划线 `__` 来表示私有属性。 |\n",
    "| 私有方法 | `_method()` 或 `__method()`  | 私有方法通常以 `_` 或 `__` 开头。         |"
   ]
  },
  {
   "cell_type": "code",
   "execution_count": 50,
   "metadata": {},
   "outputs": [
    {
     "name": "stdout",
     "output_type": "stream",
     "text": [
      "Secret Name\n",
      "This is a private method.\n"
     ]
    }
   ],
   "source": [
    "class Secret:\n",
    "    def __init__(self):\n",
    "        self._name = \"Secret Name\"  # 约定私有属性\n",
    "        self.__password = \"1234\"   # 双下划线表示更严格的私有属性\n",
    "\n",
    "    def _private_method(self):  # 约定私有方法\n",
    "        return \"This is a private method.\"\n",
    "\n",
    "    def __private_method(self):  # 更严格的私有方法\n",
    "        return \"This is a very private method.\"\n",
    "\n",
    "# 创建实例\n",
    "secret = Secret()\n",
    "print(secret._name)  # 可以访问，但不推荐\n",
    "print(secret._private_method())  # 可以访问，但不推荐\n",
    "# print(secret.__password)  # 会报错，因为 __password 被“名字改写”"
   ]
  },
  {
   "cell_type": "markdown",
   "metadata": {},
   "source": [
    "#### 5.4.类的私有属性与方法"
   ]
  },
  {
   "cell_type": "markdown",
   "metadata": {},
   "source": [
    "类的析构方法是 `__del__(self)`，它在对象销毁时自动调用。"
   ]
  },
  {
   "cell_type": "markdown",
   "metadata": {},
   "source": [
    "| 操作         | 语法/示例                   | 说明                           |\n",
    "|--------------|----------------------------|--------------------------------|\n",
    "|析构方法   | `def __del__(self):`        | 在对象销毁时自动调用。|"
   ]
  },
  {
   "cell_type": "code",
   "execution_count": 51,
   "metadata": {},
   "outputs": [
    {
     "name": "stdout",
     "output_type": "stream",
     "text": [
      "Alice has been created.\n",
      "Alice has been destroyed.\n"
     ]
    }
   ],
   "source": [
    "class Person:\n",
    "    def __init__(self, name):\n",
    "        self.name = name\n",
    "        print(f\"{self.name} has been created.\")\n",
    "\n",
    "    def __del__(self):\n",
    "        print(f\"{self.name} has been destroyed.\")\n",
    "        \n",
    "# 创建对象\n",
    "p = Person(\"Alice\")\n",
    "del p  # 删除对象，触发析构方法"
   ]
  },
  {
   "cell_type": "markdown",
   "metadata": {},
   "source": [
    "# 6.模块"
   ]
  },
  {
   "cell_type": "markdown",
   "metadata": {},
   "source": [
    "#### 6.1.魔术方法（Magic Methods）"
   ]
  },
  {
   "cell_type": "markdown",
   "metadata": {},
   "source": [
    "魔术方法是以双下划线（`__`）包围的方法，通常用于实现操作符重载、对象行为等特殊操作"
   ]
  },
  {
   "cell_type": "markdown",
   "metadata": {},
   "source": [
    "| 魔术方法       | 作用                             | 示例                                                                 |\n",
    "|----------------|----------------------------------|----------------------------------------------------------------------|\n",
    "| `__init__(self)` | 构造函数，用于初始化对象         | ```python<br>def __init__(self, name):<br>    self.name = name<br>``` |\n",
    "| `__str__(self)`  | 返回对象的字符串表示，用于 `print()` 和 `str()` 调用 | ```python<br>def __str__(self): return self.name<br>```            |\n",
    "| `__repr__(self)` | 返回对象的“官方”字符串表示       | ```python<br>def __repr__(self): return f'Person({self.name})'<br>``` |\n",
    "| `__len__(self)`  | 定义 `len()` 函数行为             | ```python<br>def __len__(self): return len(self.items)<br>```       |\n",
    "| `__add__(self, other)` | 实现 `+` 运算符重载         | ```python<br>def __add__(self, other): return self.value + other.value<br>``` |\n",
    "| `__eq__(self, other)` | 实现 `==` 运算符重载       | ```python<br>def __eq__(self, other): return self.name == other.name<br>``` |\n",
    "| `__getitem__(self, key)` | 定义对象通过索引访问元素的行为 | ```python<br>def __getitem__(self, key): return self.items[key]<br>``` |\n",
    "| `__setitem__(self, key, value)` | 定义通过索引赋值的行为 | ```python<br>def __setitem__(self, key, value): self.items[key] = value<br>``` |"
   ]
  },
  {
   "cell_type": "code",
   "execution_count": 52,
   "metadata": {},
   "outputs": [
    {
     "name": "stdout",
     "output_type": "stream",
     "text": [
      "True\n",
      "3\n",
      "banana\n",
      "grape\n",
      "Point(x=4, y=6)\n"
     ]
    }
   ],
   "source": [
    "class Person:\n",
    "    def __init__(self, name):\n",
    "        self.name = name\n",
    "\n",
    "    def __str__(self):\n",
    "        return f\"Person: {self.name}\"\n",
    "\n",
    "    def __repr__(self):\n",
    "        return f\"Person(name={self.name})\"\n",
    "\n",
    "    def __eq__(self, other):\n",
    "        return self.name == other.name\n",
    "\n",
    "class ShoppingCart:\n",
    "    def __init__(self, items):\n",
    "        self.items = items\n",
    "\n",
    "    def __len__(self):\n",
    "        return len(self.items)\n",
    "\n",
    "    def __getitem__(self, key):\n",
    "        return self.items[key]\n",
    "\n",
    "    def __setitem__(self, key, value):\n",
    "        self.items[key] = value\n",
    "\n",
    "class Point:\n",
    "    def __init__(self, x, y):\n",
    "        self.x = x\n",
    "        self.y = y\n",
    "\n",
    "    def __add__(self, other):\n",
    "        return Point(self.x + other.x, self.y + other.y)\n",
    "\n",
    "    def __repr__(self):\n",
    "        return f\"Point(x={self.x}, y={self.y})\"\n",
    "\n",
    "# 测试\n",
    "p1 = Person(\"Alice\")\n",
    "p2 = Person(\"Alice\")\n",
    "print(p1 == p2)  # True\n",
    "\n",
    "cart = ShoppingCart([\"apple\", \"banana\", \"orange\"])\n",
    "print(len(cart))  # 3\n",
    "print(cart[1])    # banana\n",
    "cart[1] = \"grape\"\n",
    "print(cart[1])    # grape\n",
    "\n",
    "p1 = Point(1, 2)\n",
    "p2 = Point(3, 4)\n",
    "print(p1 + p2)    # Point(x=4, y=6)"
   ]
  },
  {
   "cell_type": "markdown",
   "metadata": {},
   "source": [
    "#### 6.2.模块（Modules）"
   ]
  },
  {
   "cell_type": "markdown",
   "metadata": {},
   "source": [
    "模块是包含 Python 代码的文件，通常用于组织和复用代码模块可以包含函数、类、变量等"
   ]
  },
  {
   "cell_type": "markdown",
   "metadata": {},
   "source": [
    "##### 6.2.1导入模块"
   ]
  },
  {
   "cell_type": "markdown",
   "metadata": {},
   "source": [
    "| 操作         | 语法/示例                          | 说明                                   |\n",
    "|--------------|------------------------------------|----------------------------------------|\n",
    "| 导入整个模块 | `import module_name`               | 导入整个模块，使用 `module_name` 访问   |\n",
    "| 导入部分模块 | `from module_name import function_name` | 只导入模块中的某个函数或类               |\n",
    "| 重命名导入   | `import module_name as alias`      | 给模块起别名                           |"
   ]
  },
  {
   "cell_type": "markdown",
   "metadata": {},
   "source": [
    "##### 6.2.2创建自定义模块"
   ]
  },
  {
   "cell_type": "markdown",
   "metadata": {},
   "source": [
    " ● 将 Python 代码保存为 `.py `文件，如` my_module.py`"
   ]
  },
  {
   "cell_type": "markdown",
   "metadata": {},
   "source": [
    "● 在其他 Python 文件中使用 `import my_module `导入并使用模块中的内容"
   ]
  },
  {
   "cell_type": "markdown",
   "metadata": {},
   "source": [
    "`my_module.py:`"
   ]
  },
  {
   "cell_type": "code",
   "execution_count": 53,
   "metadata": {},
   "outputs": [
    {
     "name": "stdout",
     "output_type": "stream",
     "text": [
      "4.0\n",
      "3.141592653589793\n",
      "8.0\n"
     ]
    }
   ],
   "source": [
    "import math\n",
    "print(math.sqrt(16))  # 输出: 4.0\n",
    "\n",
    "from math import pi\n",
    "print(pi)  # 输出: 3.141592653589793\n",
    "\n",
    "import math as m\n",
    "print(m.pow(2, 3))  # 输出: 8.0"
   ]
  },
  {
   "cell_type": "markdown",
   "metadata": {},
   "source": [
    "`main.py:`"
   ]
  },
  {
   "cell_type": "code",
   "execution_count": 54,
   "metadata": {},
   "outputs": [
    {
     "ename": "ModuleNotFoundError",
     "evalue": "No module named 'my_module'",
     "output_type": "error",
     "traceback": [
      "\u001b[31m---------------------------------------------------------------------------\u001b[39m",
      "\u001b[31mModuleNotFoundError\u001b[39m                       Traceback (most recent call last)",
      "\u001b[36mCell\u001b[39m\u001b[36m \u001b[39m\u001b[32mIn[54]\u001b[39m\u001b[32m, line 1\u001b[39m\n\u001b[32m----> \u001b[39m\u001b[32m1\u001b[39m \u001b[38;5;28;01mimport\u001b[39;00m\u001b[38;5;250m \u001b[39m\u001b[34;01mmy_module\u001b[39;00m\n\u001b[32m      3\u001b[39m \u001b[38;5;28mprint\u001b[39m(my_module.greet(\u001b[33m\"\u001b[39m\u001b[33mAlice\u001b[39m\u001b[33m\"\u001b[39m))  \u001b[38;5;66;03m# 输出: Hello, Alice\u001b[39;00m\n\u001b[32m      4\u001b[39m \u001b[38;5;28mprint\u001b[39m(my_module.add(\u001b[32m3\u001b[39m, \u001b[32m4\u001b[39m))       \u001b[38;5;66;03m# 输出: 7\u001b[39;00m\n",
      "\u001b[31mModuleNotFoundError\u001b[39m: No module named 'my_module'"
     ]
    }
   ],
   "source": [
    "import my_module\n",
    "\n",
    "print(my_module.greet(\"Alice\"))  # 输出: Hello, Alice\n",
    "print(my_module.add(3, 4))       # 输出: 7"
   ]
  },
  {
   "cell_type": "markdown",
   "metadata": {},
   "source": [
    "##### 6.2.3模块的常见内置模块"
   ]
  },
  {
   "cell_type": "markdown",
   "metadata": {},
   "source": [
    "● math：提供数学运算功能 <br>\n",
    "● random：生成随机数 <br>\n",
    "● sys：与 Python 解释器相关的操作 <br>\n",
    "● os：与操作系统交互，如文件路径、环境变量等 <br>"
   ]
  },
  {
   "cell_type": "markdown",
   "metadata": {},
   "source": [
    "##### 6.2.4.查看模块中的内容"
   ]
  },
  {
   "cell_type": "markdown",
   "metadata": {},
   "source": [
    "可以使用` dir() `函数查看模块包含的函数和类"
   ]
  },
  {
   "cell_type": "code",
   "execution_count": null,
   "metadata": {},
   "outputs": [
    {
     "name": "stdout",
     "output_type": "stream",
     "text": [
      "['__doc__', '__loader__', '__name__', '__package__', '__spec__', 'acos', 'acosh', 'asin', 'asinh', 'atan', 'atan2', 'atanh', 'cbrt', 'ceil', 'comb', 'copysign', 'cos', 'cosh', 'degrees', 'dist', 'e', 'erf', 'erfc', 'exp', 'exp2', 'expm1', 'fabs', 'factorial', 'floor', 'fmod', 'frexp', 'fsum', 'gamma', 'gcd', 'hypot', 'inf', 'isclose', 'isfinite', 'isinf', 'isnan', 'isqrt', 'lcm', 'ldexp', 'lgamma', 'log', 'log10', 'log1p', 'log2', 'modf', 'nan', 'nextafter', 'perm', 'pi', 'pow', 'prod', 'radians', 'remainder', 'sin', 'sinh', 'sqrt', 'sumprod', 'tan', 'tanh', 'tau', 'trunc', 'ulp']\n"
     ]
    }
   ],
   "source": [
    "import math\n",
    "print(dir(math))  # 输出: math 模块中的所有方法和属性"
   ]
  },
  {
   "cell_type": "markdown",
   "metadata": {},
   "source": [
    "##### 6.2.5.内置函数与模块"
   ]
  },
  {
   "cell_type": "markdown",
   "metadata": {},
   "source": [
    "Python 还提供了很多内置函数和标准库，帮助简化编程工作"
   ]
  },
  {
   "cell_type": "markdown",
   "metadata": {},
   "source": [
    "##### 6.2.5.1.常见内置函数"
   ]
  },
  {
   "cell_type": "markdown",
   "metadata": {},
   "source": [
    "● abs()：返回绝对值 <br>\n",
    "● len()：返回对象的长度 <br>\n",
    "● max()：返回最大值 <br>\n",
    "● min()：返回最小值 <br>\n",
    "● sum()：返回数值的和 <br>"
   ]
  },
  {
   "cell_type": "markdown",
   "metadata": {},
   "source": [
    "##### 6.2.5.2常见标准库模块"
   ]
  },
  {
   "cell_type": "markdown",
   "metadata": {},
   "source": [
    "● datetime：处理日期和时间 <br>\n",
    "● os：操作系统接口 <br>\n",
    "● random：生成随机数 <br>\n",
    "● json：JSON 编码和解码 <br>\n",
    "● sys：系统相关操作 <br>"
   ]
  },
  {
   "cell_type": "code",
   "execution_count": null,
   "metadata": {},
   "outputs": [
    {
     "name": "stdout",
     "output_type": "stream",
     "text": [
      "4\n",
      "2025-03-28 19:52:38.552768\n"
     ]
    }
   ],
   "source": [
    "import random\n",
    "print(random.randint(1, 10))  # 输出: 随机整数，范围在 1 到 10 之间\n",
    "\n",
    "import datetime\n",
    "print(datetime.datetime.now())  # 输出: 当前日期和时间"
   ]
  },
  {
   "cell_type": "markdown",
   "metadata": {},
   "source": [
    "# 7.数据容器"
   ]
  },
  {
   "cell_type": "markdown",
   "metadata": {},
   "source": [
    "## 7.1.数据"
   ]
  },
  {
   "cell_type": "markdown",
   "metadata": {},
   "source": [
    "### 7.1.1.数据类型与转换汇总表"
   ]
  },
  {
   "cell_type": "markdown",
   "metadata": {},
   "source": [
    "| 转换目标类型 | 描述                             | 示例                          | 转换函数       | 说明                                   | 示例                          |\n",
    "|--------------|----------------------------------|-------------------------------|----------------|----------------------------------------|-------------------------------|\n",
    "| 整数 (Integer) | 代表整数数字                     | `a = 10`                      | `int()`        | 将其他数据类型转换为整数类型           | `int('10') -> 10`             |\n",
    "| 浮点数 (Float) | 代表带小数点的数字               | `b = 10.1`                    | `float()`      | 将其他数据类型转换为浮点类型           | `float('10.5') -> 10.5`       |\n",
    "| 字符串 (String) | 代表文本，字符的序列             | `c = 'hello'`                 | `str()`        | 将其他数据类型转换为字符串类型         | `str(100) -> '100'`           |\n",
    "| 列表 (List)    | 有序且可变的集合，元素可以修改   | `d = (1, 2, 3, 4, 5)`         | `list()`       | 将其他可迭代对象转换为列表             | `list((1, 2, 3)) -> [1, 2, 3]` |\n",
    "| 元组 (Tuple)   | 有序且不可变的集合，元素不能修改 | `e = [1, 2, 3, 4, 5]`          | `tuple()`      | 将其他可迭代对象转换为元组             | `tuple([1, 2, 3]) -> (1, 2, 3)`|\n",
    "| 字典 (Dictionary) | 键值对集合，每个键只能对应一个值 | `f = {'name': 'zhangsan', 'age': 18}` | `dict()` | 将可迭代的键值对转换为字典             | `dict([('1', 'a'), ('2', 'b')]) -> {1: 'a', 2: 'b'}` |\n",
    "| 集合 (Set)     | 无序且元素唯一的集合，不能包含重复元素 | `g = {1, 2, 3, 4, 5}`          | `set()`        | 将其他可迭代对象转换为集合             | `set([1, 2, 3, 3]) -> {1, 2, 3}`|\n",
    "| 布尔值 (Bool)  | 只有两个可能的值：True 或 False  | `h = True`                    | `bool()`       | 将其他数据类型转换为布尔类型           | `bool(1) -> True`             |\n",
    "| None          | 代表没有值或空值                 | `i = None`                    | `None()`       | 本身无转换函数，表示空值或无效值       | `None`                        |\n",
    "| 自动评估转换   |                                  |                               | `eval()`       | 将字符串表达式转换为对应的对象         | `eval('10 + 5') -> 15`         |"
   ]
  },
  {
   "cell_type": "markdown",
   "metadata": {},
   "source": [
    "##### 7.1.2字符串、整数、浮点数的相互转换"
   ]
  },
  {
   "cell_type": "code",
   "execution_count": null,
   "metadata": {},
   "outputs": [
    {
     "name": "stdout",
     "output_type": "stream",
     "text": [
      "123\n",
      "123.45\n",
      "123\n",
      "123.45\n",
      "123.0\n",
      "123\n"
     ]
    }
   ],
   "source": [
    "# 字符串转整数\n",
    "s = \"123\"\n",
    "i = int(s)\n",
    "print(i)  # 输出: 123\n",
    "\n",
    "# 字符串转浮点数\n",
    "s = \"123.45\"\n",
    "f = float(s)\n",
    "print(f)  # 输出: 123.45\n",
    "\n",
    "# 整数转字符串\n",
    "i = 123\n",
    "s = str(i)\n",
    "print(s)  # 输出: \"123\"\n",
    "\n",
    "# 浮点数转字符串\n",
    "f = 123.45\n",
    "s = str(f)\n",
    "print(s)  # 输出: \"123.45\"\n",
    "\n",
    "# 整数转浮点数\n",
    "i = 123\n",
    "f = float(i)\n",
    "print(f)  # 输出: 123.0\n",
    "\n",
    "# 浮点数转整数\n",
    "f = 123.45\n",
    "i = int(f)\n",
    "print(i)  # 输出: 123"
   ]
  },
  {
   "cell_type": "markdown",
   "metadata": {},
   "source": [
    "##### 7.1.3.字符串操作"
   ]
  },
  {
   "cell_type": "code",
   "execution_count": null,
   "metadata": {},
   "outputs": [
    {
     "name": "stdout",
     "output_type": "stream",
     "text": [
      "Hello World\n",
      "Hello World\n",
      "abcabcabc\n",
      "Hello\n",
      "HloWrd\n",
      "True\n",
      "6\n",
      "7\n",
      "6\n",
      "7\n",
      "Hello Python\n",
      "Hello World\n",
      "Hello\n",
      "Hello\n",
      "HELLO\n",
      "hello\n",
      "Hello\n",
      "Hello World\n",
      "Name: Alice, Age: 25\n",
      "Hello, World\n",
      "b'Hello'\n",
      "Hello\n",
      "True\n",
      "True\n",
      "True\n",
      "True\n",
      "True\n",
      "True\n",
      "True\n",
      "True\n",
      "5\n",
      "('Hello', ' ', 'World')\n",
      "['a', 'b', 'c']\n",
      "['a', 'b', 'c']\n",
      "['Hello', 'World', 'Python']\n"
     ]
    }
   ],
   "source": [
    "# 创建与连接\n",
    "s1 = 'Hello'\n",
    "s2 = 'World'\n",
    "s3 = s1 + ' ' + s2\n",
    "print(s3)  # 输出: 'Hello World'\n",
    "\n",
    "s4 = ' '.join([s1, s2])\n",
    "print(s4)  # 输出: 'Hello World'\n",
    "\n",
    "# 重复\n",
    "s5 = 'abc' * 3\n",
    "print(s5)  # 输出: 'abcabcabc'\n",
    "\n",
    "# 切片\n",
    "s6 = 'Hello World'\n",
    "print(s6[0:5])  # 输出: 'Hello'\n",
    "print(s6[::2])  # 输出: 'HloWrd'\n",
    "\n",
    "# 查询与查找\n",
    "print('World' in 'Hello World')  # 输出: True\n",
    "print('Hello World'.find('World'))  # 输出: 6\n",
    "print('Hello World'.rfind('o'))  # 输出: 7\n",
    "print('Hello World'.index('World'))  # 输出: 6\n",
    "print('Hello World'.rindex('o'))  # 输出: 7\n",
    "\n",
    "# 替换与删除\n",
    "s7 = 'Hello World'\n",
    "print(s7.replace('World', 'Python'))  # 输出: 'Hello Python'\n",
    "print(' Hello World '.strip())  # 输出: 'Hello World'\n",
    "print(' Hello'.lstrip())  # 输出: 'Hello'\n",
    "print('Hello '.rstrip())  # 输出: 'Hello'\n",
    "\n",
    "# 大小写操作\n",
    "s8 = 'hello'\n",
    "print(s8.upper())  # 输出: 'HELLO'\n",
    "print(s8.lower())  # 输出: 'hello'\n",
    "print(s8.capitalize())  # 输出: 'Hello'\n",
    "print('hello world'.title())  # 输出: 'Hello World'\n",
    "\n",
    "# 格式化\n",
    "name = 'Alice'\n",
    "age = 25\n",
    "print(f\"Name: {name}, Age: {age}\")  # 输出: 'Name: Alice, Age: 25'\n",
    "print('Hello, {}'.format('World'))  # 输出: 'Hello, World'\n",
    "\n",
    "# 编码与解码\n",
    "s9 = 'Hello'\n",
    "encoded = s9.encode('utf-8')\n",
    "print(encoded)  # 输出: b'Hello'\n",
    "decoded = encoded.decode('utf-8')\n",
    "print(decoded)  # 输出: 'Hello'\n",
    "\n",
    "# 检查\n",
    "print('Hello'.startswith('He'))  # 输出: True\n",
    "print('Hello'.endswith('lo'))  # 输出: True\n",
    "print('Hello123'.isalnum())  # 输出: True\n",
    "print('Hello'.isalpha())  # 输出: True\n",
    "print('123'.isdigit())  # 输出: True\n",
    "print(' '.isspace())  # 输出: True\n",
    "print('HELLO'.isupper())  # 输出: True\n",
    "print('hello'.islower())  # 输出: True\n",
    "\n",
    "# 字符串长度\n",
    "print(len('Hello'))  # 输出: 5\n",
    "\n",
    "# 其他操作\n",
    "print('Hello World'.partition(' '))  # 输出: ('Hello', ' ', 'World')\n",
    "print('a,b,c'.split(','))  # 输出: ['a', 'b', 'c']\n",
    "print('a,b,c'.rsplit(','))  # 输出: ['a', 'b', 'c']\n",
    "print('Hello\\nWorld\\nPython'.splitlines())  # 输出: ['Hello', 'World', 'Python']"
   ]
  },
  {
   "cell_type": "markdown",
   "metadata": {},
   "source": [
    "| 分类         | 操作       | 说明                                   | 示例代码                                      | 示例输出               |\n",
    "|--------------|------------|----------------------------------------|------------------------------------------------|------------------------|\n",
    "| 创建与连接   | + 连接     | 连接两个或多个字符串                     | `'Hello' + ' ' + 'World'`                       | `'Hello World'`        |\n",
    "|              | join()     | 将可迭代对象中的字符串连接成一个新字符串 | `' '.join(['Hello', 'World'])`                 | `'Hello World'`        |\n",
    "| 重复         | * 重复字符串 | 将字符串重复指定次数                     | `'abc' * 3`                                    | `'abcabcabc'`          |\n",
    "| 切片         | s[start:end] | 返回指定范围的子字符串（不包括 end 索引位置） | `'Hello World'[0:5]`                           | `'Hello'`              |\n",
    "|              | s[start:end:step] | 返回指定范围内，以步长 step 为间隔的子字符串 | `'Hello World'[::2]`                           | `'Hoo'`                |\n",
    "| 查询与查找   | in         | 检查子字符串是否存在于字符串中           | `'World' in 'Hello World'`                     | `True`                 |\n",
    "|              | find()     | 查找子字符串在原字符串中第一次出现的索引，未找到返回 -1 | `'Hello World'.find('World')`                  | `6`                    |\n",
    "|              | rfind()    | 从右侧开始查找子字符串，返回索引未找到返回 -1 | `'Hello World'.rfind('o')`                     | `7`                    |\n",
    "|              | index()    | 类似 find()，但如果未找到子字符串会抛出 ValueError 异常 | `'Hello World'.index('World')`                 | `6`                    |\n",
    "|              | rindex()   | 类似 rfind()，但如果未找到子字符串会抛出 ValueError 异常 | `'Hello World'.rindex('o')`                    | `7`                    |\n",
    "| 替换与删除   | replace()  | 替换子字符串为另一个字符串               | `'Hello World'.replace('World', 'Python')`     | `'Hello Python'`       |\n",
    "|              | strip()    | 去除字符串两端的空白字符（默认）或指定字符 | `' Hello World '.strip()`                       | `'Hello World'`        |\n",
    "|              | lstrip()   | 去除字符串左侧的空白字符或指定字符       | `' Hello '.lstrip()`                           | `'Hello '`             |\n",
    "|              | rstrip()   | 去除字符串右侧的空白字符或指定字符       | `' Hello '.rstrip()`                            | `' Hello'`             |\n",
    "| 大小写操作   | upper()    | 将字符串转换为全大写字母                 | `'hello'.upper()`                              | `'HELLO'`              |\n",
    "|              | lower()    | 将字符串转换为全小写字母                 | `'HELLO'.lower()`                              | `'hello'`              |\n",
    "|              | capitalize() | 将字符串的首字母转换为大写，其余字母转换为小写 | `'hello'.capitalize()`                         | `'Hello'`              |\n",
    "|              | title()    | 将字符串中每个单词的首字母转换为大写，其余字母为小写 | `'hello world'.title()`                       | `'Hello World'`        |\n",
    "|              | f-string   | 使用 {} 和 f\"\" 来格式化字符串           | `name = 'Alice'; age = 25; f\"Name: {name}, Age: {age}\"` | `'Name: Alice, Age: 25'` |\n",
    "|              | format()   | 使用 {} 占位符，使用 format() 方法填充占位符 | `'Hello, {}'.format('World')`                  | `'Hello, World'`       |\n",
    "| 编码与解码   | encode()   | 将字符串编码为字节串                     | `'Hello'.encode('utf-8')`                      | `b'Hello'`             |\n",
    "|              | decode()   | 将字节串解码为字符串                     | `b'Hello'.decode('utf-8')`                     | `'Hello'`              |\n",
    "|              | startswith() | 检查字符串是否以指定子字符串开始       | `'Hello'.startswith('He')`                     | `True`                 |\n",
    "|              | endswith()  | 检查字符串是否以指定子字符串结束         | `'Hello'.endswith('lo')`                       | `True`                 |\n",
    "|              | isalnum()  | 检查字符串是否只包含字母和数字           | `'Hello123'.isalnum()`                        | `True`                 |\n",
    "| 检查         | isalpha()  | 检查字符串是否只包含字母                 | `'Hello'.isalpha()`                           | `True`                 |\n",
    "|              | isdigit()  | 检查字符串是否只包含数字                 | `'123'.isdigit()`                             | `True`                 |\n",
    "|              | isspace()  | 检查字符串是否只包含空白字符             | `' '.isspace()`                               | `True`                 |\n",
    "|              | isupper()  | 检查字符串是否全为大写字母               | `'HELLO'.isupper()`                           | `True`                 |\n",
    "|              | islower()  | 检查字符串是否全为小写字母               | `'hello'.islower()`                           | `True`                 |\n",
    "| 字符串长度   | len()      | 返回字符串的长度（字符数）               | `len('Hello')`                                 | `5`                    |\n",
    "| 其他操作     | partition() | 将字符串分成三部分：分隔符前、分隔符和分隔符后 | `'Hello World'.partition(' ')`                | `('Hello', ' ', 'World')` |\n",
    "|              | split()    | 将字符串按指定分隔符分割为多个子字符串，返回一个列表 | `'a,b,c'.split(',')`                          | `['a', 'b', 'c']`       |\n",
    "|              | rsplit()   | 从右侧开始分割字符串，功能同 split()    | `'a,b,c'.rsplit(',', 1)`                      | `['a', 'b', 'c']`       |\n",
    "|              | splitlines() | 按行分割字符串，返回行列表             | `'Hello\\nWorld\\nPython'.splitlines()`          | `['Hello', 'World', 'Python']` |"
   ]
  },
  {
   "cell_type": "markdown",
   "metadata": {},
   "source": [
    "##### 7.1.4转义字符总结"
   ]
  },
  {
   "cell_type": "markdown",
   "metadata": {},
   "source": [
    "| 转义字符       | 说明                                   | 示例代码               | 输出                                   |\n",
    "|----------------|----------------------------------------|------------------------|----------------------------------------|\n",
    "| `\\\\`           | 反斜杠（\\）本身                         | `'\\\\'`                 | `\\`                                    |\n",
    "| `\\'`           | 单引号                                 | `\\'`                   | `'`                                    |\n",
    "| `\\\"`           | 双引号                                 | `\\\"`                   | `\"`                                    |\n",
    "| `\\n`           | 换行符（newline）                       | `'Hello\\nWorld'`        | Hello\\nWorld                           |\n",
    "| `\\r`           | 回车符（carriage return）               | `'Hello\\rWorld'`        | World（回车后会覆盖 Hello）            |\n",
    "| `\\t`           | 水平制表符（tab）                       | `'Hello\\tWorld'`        | Hello    World                         |\n",
    "| `\\b`           | 退格符（backspace）                     | `'Hello\\bWorld'`        | HelloWorld（退格删除一个字符）         |\n",
    "| `\\f`           | 换页符（form feed）                     | `'Hello\\fWorld'`        | Hello World（可能呈现为换页）          |\n",
    "| `\\v`           | 垂直制表符（vertical tab）               | `'Hello\\vWorld'`        | 视觉上表现为“垂直制表符”的空白         |\n",
    "| `\\a`           | 响铃符（bell）                          | `'Hello\\aWorld'`        | 发出“滴”的声音，取决于环境             |\n",
    "| `\\0`           | 空字符（null character）                | `'Hello\\0World'`        | 输出仅 Hello（后续为空）                |\n",
    "| `\\uxxxx`       | Unicode 字符（4 位十六进制）            | `'\\u0041'`             | A（表示 Unicode 编码点 U+0041）        |\n",
    "| `\\Uxxxxxxxx`   | Unicode 字符（8 位十六进制）            | `'\\U0001F600'`          | 😀（表示 Unicode 编码点 U+1F600）       |\n",
    "| `\\ooo`         | 八进制字符（3 位）                      | `'\\101'`               | A（对应八进制 101）                    |\n",
    "| `\\xhh`         | 十六进制字符（2 位）                    | `'\\x41'`               | A（对应十六进制 41）                   |"
   ]
  },
  {
   "cell_type": "code",
   "execution_count": null,
   "metadata": {},
   "outputs": [
    {
     "name": "stdout",
     "output_type": "stream",
     "text": [
      "转义字符示例：\n",
      "反斜杠: \\\n",
      "单引号: '\n",
      "双引号: \"\n",
      "换行符: Hello\n",
      "World\n",
      "WorldHello\n",
      "水平制表符: Hello\tWorld\n",
      "退格符: HellWorld\n",
      "换页符: Hello\fWorld\n",
      "垂直制表符: Hello\u000bWorld\n",
      "响铃符: Hello\u0007World\n",
      "空字符: Hello\u0000World\n",
      "Unicode 字符: A\n",
      "Unicode 字符: 😀\n",
      "八进制字符: A\n",
      "十六进制字符: A\n"
     ]
    }
   ],
   "source": [
    "print(\"转义字符示例：\")\n",
    "print(\"反斜杠: \\\\\")\n",
    "print(\"单引号: \\'\")\n",
    "print(\"双引号: \\\"\")\n",
    "print(\"换行符: Hello\\nWorld\")\n",
    "print(\"回车符: Hello\\rWorld\")\n",
    "print(\"水平制表符: Hello\\tWorld\")\n",
    "print(\"退格符: Hello\\bWorld\")\n",
    "print(\"换页符: Hello\\fWorld\")\n",
    "print(\"垂直制表符: Hello\\vWorld\")\n",
    "print(\"响铃符: Hello\\aWorld\")\n",
    "print(\"空字符: Hello\\0World\")\n",
    "print(\"Unicode 字符: \\u0041\")\n",
    "print(\"Unicode 字符: \\U0001F600\")\n",
    "print(\"八进制字符: \\101\")\n",
    "print(\"十六进制字符: \\x41\")"
   ]
  },
  {
   "cell_type": "markdown",
   "metadata": {},
   "source": [
    "#### 7.2.文件操作（File Operations）"
   ]
  },
  {
   "cell_type": "markdown",
   "metadata": {},
   "source": [
    "在 Python 中，文件操作包括对文件的打开、读取、写入、关闭等常见操作。Python 提供了丰富的内置函数来处理文件，让文件操作变得非常简单。"
   ]
  },
  {
   "cell_type": "markdown",
   "metadata": {},
   "source": [
    "##### 7.2.1打开文件：open()"
   ]
  },
  {
   "cell_type": "markdown",
   "metadata": {},
   "source": [
    "`open() `函数用于打开一个文件，返回一个文件对象。如果文件不存在，Python 会抛出错误。常用的文件打开模式有："
   ]
  },
  {
   "cell_type": "markdown",
   "metadata": {},
   "source": [
    "| 模式  | 描述                                       | 示例代码                        |\n",
    "|-------|--------------------------------------------|---------------------------------|\n",
    "| 'r'   | 只读模式（默认模式），文件必须存在         | `f = open('file.txt', 'r')`      |\n",
    "| 'w'   | 写入模式，如果文件不存在会创建文件，若文件存在会覆盖原内容 | `f = open('file.txt', 'w')`      |\n",
    "| 'a'   | 追加模式，文件不存在则创建文件，若文件存在内容会追加到文件末尾 | `f = open('file.txt', 'a')`      |\n",
    "| 'b'   | 二进制模式，用于处理非文本文件，如图片、音频等 | `f = open('file.jpg', 'rb')`     |\n",
    "| 't'   | 文本模式（默认模式）                       | `f = open('file.txt', 'rt')`     |\n",
    "| 'x'   | 独占创建，如果文件已存在则报错             | `f = open('file.txt', 'x')`      |\n",
    "| 'r+'  | 读写模式，文件必须存在                     | `f = open('file.txt', 'r+')`     |"
   ]
  },
  {
   "cell_type": "markdown",
   "metadata": {},
   "source": [
    "##### 7.2.3.写入文件："
   ]
  },
  {
   "cell_type": "markdown",
   "metadata": {},
   "source": [
    "写入文件的方法有 `write()` 和 `writelines()。`"
   ]
  },
  {
   "cell_type": "markdown",
   "metadata": {},
   "source": [
    "| 方法            | 描述                                                         | 示例代码                                      |\n",
    "|-----------------|--------------------------------------------------------------|------------------------------------------------|\n",
    "| write(string)   | 将指定的字符串写入文件，如果文件已存在会覆盖内容               | `f.write('Hello, world!\\n')`                    |\n",
    "| writelines(list)| 将字符串列表写入文件，每个元素都会成为一行                   | `f.writelines(['line1\\n', 'line2\\n'])`          |"
   ]
  },
  {
   "cell_type": "markdown",
   "metadata": {},
   "source": [
    "##### 7.2.4.文件操作（关闭文件、文件定位等）："
   ]
  },
  {
   "cell_type": "markdown",
   "metadata": {},
   "source": [
    "| 方法       | 描述                                   | 示例代码                  |\n",
    "|------------|----------------------------------------|---------------------------|\n",
    "| close()    | 关闭文件，释放资源                     | `f.close()`               |\n",
    "| seek(offset) | 文件指针移动到指定位置，offset 为偏移量 | `f.seek(0)`               |\n",
    "| tell()     | 获取当前文件指针的位置                 | `position = f.tell()`     |"
   ]
  },
  {
   "cell_type": "markdown",
   "metadata": {},
   "source": [
    "##### 7.2.5.上下文管理器（with 语句）"
   ]
  },
  {
   "cell_type": "markdown",
   "metadata": {},
   "source": [
    "为了确保文件在使用完毕后自动关闭，推荐使用 with 语句，文件在 with 语句块执行完毕后会自动关闭。"
   ]
  },
  {
   "cell_type": "code",
   "execution_count": null,
   "metadata": {},
   "outputs": [
    {
     "ename": "FileNotFoundError",
     "evalue": "[Errno 2] No such file or directory: 'file.txt'",
     "output_type": "error",
     "traceback": [
      "\u001b[31m---------------------------------------------------------------------------\u001b[39m",
      "\u001b[31mFileNotFoundError\u001b[39m                         Traceback (most recent call last)",
      "\u001b[36mCell\u001b[39m\u001b[36m \u001b[39m\u001b[32mIn[38]\u001b[39m\u001b[32m, line 2\u001b[39m\n\u001b[32m      1\u001b[39m \u001b[38;5;66;03m# 使用 with 打开文件，文件使用完后自动关闭\u001b[39;00m\n\u001b[32m----> \u001b[39m\u001b[32m2\u001b[39m \u001b[38;5;28;01mwith\u001b[39;00m \u001b[38;5;28;43mopen\u001b[39;49m\u001b[43m(\u001b[49m\u001b[33;43m'\u001b[39;49m\u001b[33;43mfile.txt\u001b[39;49m\u001b[33;43m'\u001b[39;49m\u001b[43m,\u001b[49m\u001b[43m \u001b[49m\u001b[33;43m'\u001b[39;49m\u001b[33;43mr\u001b[39;49m\u001b[33;43m'\u001b[39;49m\u001b[43m)\u001b[49m \u001b[38;5;28;01mas\u001b[39;00m file:\n\u001b[32m      3\u001b[39m     content = file.read()\n\u001b[32m      4\u001b[39m     \u001b[38;5;28mprint\u001b[39m(content)\n",
      "\u001b[36mFile \u001b[39m\u001b[32m~\\AppData\\Roaming\\Python\\Python312\\site-packages\\IPython\\core\\interactiveshell.py:325\u001b[39m, in \u001b[36m_modified_open\u001b[39m\u001b[34m(file, *args, **kwargs)\u001b[39m\n\u001b[32m    318\u001b[39m \u001b[38;5;28;01mif\u001b[39;00m file \u001b[38;5;129;01min\u001b[39;00m {\u001b[32m0\u001b[39m, \u001b[32m1\u001b[39m, \u001b[32m2\u001b[39m}:\n\u001b[32m    319\u001b[39m     \u001b[38;5;28;01mraise\u001b[39;00m \u001b[38;5;167;01mValueError\u001b[39;00m(\n\u001b[32m    320\u001b[39m         \u001b[33mf\u001b[39m\u001b[33m\"\u001b[39m\u001b[33mIPython won\u001b[39m\u001b[33m'\u001b[39m\u001b[33mt let you open fd=\u001b[39m\u001b[38;5;132;01m{\u001b[39;00mfile\u001b[38;5;132;01m}\u001b[39;00m\u001b[33m by default \u001b[39m\u001b[33m\"\u001b[39m\n\u001b[32m    321\u001b[39m         \u001b[33m\"\u001b[39m\u001b[33mas it is likely to crash IPython. If you know what you are doing, \u001b[39m\u001b[33m\"\u001b[39m\n\u001b[32m    322\u001b[39m         \u001b[33m\"\u001b[39m\u001b[33myou can use builtins\u001b[39m\u001b[33m'\u001b[39m\u001b[33m open.\u001b[39m\u001b[33m\"\u001b[39m\n\u001b[32m    323\u001b[39m     )\n\u001b[32m--> \u001b[39m\u001b[32m325\u001b[39m \u001b[38;5;28;01mreturn\u001b[39;00m \u001b[43mio_open\u001b[49m\u001b[43m(\u001b[49m\u001b[43mfile\u001b[49m\u001b[43m,\u001b[49m\u001b[43m \u001b[49m\u001b[43m*\u001b[49m\u001b[43margs\u001b[49m\u001b[43m,\u001b[49m\u001b[43m \u001b[49m\u001b[43m*\u001b[49m\u001b[43m*\u001b[49m\u001b[43mkwargs\u001b[49m\u001b[43m)\u001b[49m\n",
      "\u001b[31mFileNotFoundError\u001b[39m: [Errno 2] No such file or directory: 'file.txt'"
     ]
    }
   ],
   "source": [
    "# 使用 with 打开文件，文件使用完后自动关闭\n",
    "with open('file.txt', 'r') as file:\n",
    "    content = file.read()\n",
    "    print(content)\n",
    "# 这里不需要显式调用 file.close()，因为 with 会自动关闭文件"
   ]
  },
  {
   "cell_type": "markdown",
   "metadata": {},
   "source": [
    "##### 7.2.6.文件路径："
   ]
  },
  {
   "cell_type": "markdown",
   "metadata": {},
   "source": [
    "Python 中可以使用` os `模块来进行文件路径的处理，常用方法有："
   ]
  },
  {
   "cell_type": "markdown",
   "metadata": {},
   "source": [
    "| 方法                        | 描述                     | 示例代码                                |\n",
    "|-----------------------------|--------------------------|-----------------------------------------|\n",
    "| os.path.exists(path)        | 检查路径是否存在           | `os.path.exists('file.txt')`             |\n",
    "| os.path.isdir(path)         | 检查是否是一个目录         | `os.path.isdir('folder/')`               |\n",
    "| os.path.isfile(path)        | 检查是否是一个文件         | `os.path.isfile('file.txt')`             |\n",
    "| os.path.join(path, filename)| 合并路径和文件名           | `os.path.join('folder', 'file.txt')`     |"
   ]
  },
  {
   "cell_type": "markdown",
   "metadata": {},
   "source": [
    "##### 7.2.7.文件操作实例："
   ]
  },
  {
   "cell_type": "code",
   "execution_count": null,
   "metadata": {},
   "outputs": [],
   "source": [
    "# 打开并读取文件内容\n",
    "with open('file.txt', 'r') as file:\n",
    "    content = file.read()\n",
    "    print(content)\n",
    "\n",
    "# 写入内容到文件\n",
    "with open('file.txt', 'w') as file:\n",
    "    file.write(\"This is a new line.\\n\")\n",
    "    file.write(\"Appending some more data.\\n\")\n",
    "\n",
    "# 读取文件一行\n",
    "with open('file.txt', 'r') as file:\n",
    "    line = file.readline()\n",
    "    print(line)\n",
    "\n",
    "# 读取文件所有行\n",
    "with open('file.txt', 'r') as file:\n",
    "    lines = file.readlines()\n",
    "    for line in lines:\n",
    "        print(line.strip())  # 去除每行的换行符\n",
    "\n",
    "# 追加内容到文件\n",
    "with open('file.txt', 'a') as file:\n",
    "    file.write(\"Appending another line.\\n\")"
   ]
  },
  {
   "cell_type": "markdown",
   "metadata": {},
   "source": [
    "#### 7.3.数据容器"
   ]
  },
  {
   "cell_type": "code",
   "execution_count": null,
   "metadata": {},
   "outputs": [
    {
     "name": "stdout",
     "output_type": "stream",
     "text": [
      "\\\n",
      "'\n",
      "\"\n",
      "Hello\n",
      "World\n",
      "World\n",
      "Hello\tWorld\n",
      "HellWorld\n",
      "Hello\fWorld\n",
      "Hello\u000bWorld\n",
      "Hello\u0007World\n",
      "Hello\u0000World\n",
      "A\n",
      "😀\n",
      "A\n",
      "A\n"
     ]
    }
   ],
   "source": [
    "# 反斜杠（\\）本身\n",
    "print('\\\\')  # 输出: \\\n",
    "\n",
    "# 单引号\n",
    "print('\\'')  # 输出: '\n",
    "\n",
    "# 双引号\n",
    "print('\\\"')  # 输出: \"\n",
    "\n",
    "# 换行符（newline）\n",
    "print('Hello\\nWorld')\n",
    "# 输出:\n",
    "# Hello\n",
    "# World\n",
    "\n",
    "# 回车符（carriage return）\n",
    "print('Hello\\rWorld')\n",
    "# 输出: World（回车后会覆盖 Hello）\n",
    "\n",
    "# 水平制表符（tab）\n",
    "print('Hello\\tWorld')  # 输出: Hello    World\n",
    "\n",
    "# 退格符（backspace）\n",
    "print('Hello\\bWorld')  # 输出: HellWorld（退格删除一个字符）\n",
    "\n",
    "# 换页符（form feed）\n",
    "print('Hello\\fWorld')\n",
    "# 输出:\n",
    "# Hello\n",
    "# World（可能呈现为换页）\n",
    "\n",
    "# 垂直制表符（vertical tab）\n",
    "print('Hello\\vWorld')\n",
    "# 输出: Hello\n",
    "#       World（视觉上表现为“垂直制表符”的空白）\n",
    "\n",
    "# 响铃符（bell）\n",
    "print('Hello\\aWorld')  # 输出: HelloWorld（发出“滴”的声音，取决于环境）\n",
    "\n",
    "# 空字符（null character）\n",
    "print('Hello\\0World')  # 输出: Hello（后续为空）\n",
    "\n",
    "# Unicode 字符（4 位十六进制）\n",
    "print('\\u0041')  # 输出: A（表示 Unicode 编码点 U+0041）\n",
    "\n",
    "# Unicode 字符（8 位十六进制）\n",
    "print('\\U0001F600')  # 输出: 😀（表示 Unicode 编码点 U+1F600）\n",
    "\n",
    "# 八进制字符（3 位）\n",
    "print('\\101')  # 输出: A（对应八进制 101）\n",
    "\n",
    "# 十六进制字符（2 位）\n",
    "print('\\x41')  # 输出: A（对应十六进制 41）"
   ]
  },
  {
   "cell_type": "markdown",
   "metadata": {},
   "source": [
    "| 数据类型       | 增加元素                                                                 | 删除元素                                                                 | 修改元素                                                                 | 查询元素                                                                 | 切片操作                                                                 | 特殊说明               | 语法补充                                                                 |\n",
    "|----------------|--------------------------------------------------------------------------|--------------------------------------------------------------------------|--------------------------------------------------------------------------|--------------------------------------------------------------------------|--------------------------------------------------------------------------|----------------------|--------------------------------------------------------------------------|\n",
    "| 字符串 (str)    | `s + other`：字符串连接<br>`s.join(iterable)`：将字符串 `s` 插入到 `iterable` 中的每个元素之间 | 不支持                                                                   | 不支持                                                                   | `s[index]`：索引访问<br>`value in s`：值在？<br>`value not in s`：值不在？ | `str[start:stop:step]`：<br>`start`: 起始值0开始<br>`stop`: 终止值取不到<br>`step`: 步长 | 有序，不可变，可重复   | 无                                                                       |\n",
    "| 元组 (tuple)    | 不支持                                                                   | 不支持                                                                   | 不支持                                                                   | `tuple[index]`：索引访问<br>`value in t`：值在？<br>`value not in t`：值不在？ | `tuple[start:stop:step]`：<br>`start`: 起始值0开始<br>`stop`: 终止值取不到<br>`step`: 步长 | 有序，不可变，可重复   | 无                                                                       |\n",
    "| 列表 (list)     | `.append(obj)`：末尾添加一个元素<br>`.extend(iterable)`：末尾添加多个元素<br>`.insert(index, obj)`：指定位置插入元素 | `.remove(value)`：删除第一个出现的指定值<br>`.pop([index])`：删除指定索引的元素，默认为最后一个<br>`del list[index]`：删除指定索引的元素<br>`.clear()`：清空列表 | `list[index] = new_value`：修改指定索引位置的元素                           | `list[index]`：索引访问<br>`value in list`：值在？<br>`value not in list`：值不在？ | `list[start:stop:step]`：<br>`start`: 起始值0开始<br>`stop`: 终止值取不到<br>`step`: 步长 | 有序，可变，可重复     | 无                                                                       |\n",
    "| 字典 (dict)     | `dict[key] = value`：添加或更新键值对<br>`.update({key: value, ...})`：添加多个键值对 | `del dict[key]`：删除指定键的键值对<br>`.pop(key)`：删除指定键的键值对并返回值<br>`.popitem()`：随机删除一个键值对并返回<br>`.clear()`：清空字典 | `dict[key] = new_value`：修改指定键的值                                   | `dict[key]`：键访问<br>`key in dict`：键在？<br>`key not in dict`：键不在？<br>`.get(key, default)`：获取键的值，如果键不存在则返回默认值 | 不支持                                                                   | 无序，可变，键不可重复，值可重复 | `.items()`：提取对象<br>`.keys()`：提取键<br>`.values()`：提取值               |\n",
    "| 集合 (set)      | `.add(element)`：添加一个元素<br>`.update(iterable)`：添加多个元素         | `.remove(element)`：删除指定元素，如果元素不存在则抛出错误<br>`.discard(element)`：删除指定元素，如果元素不存在则不做任何操作<br>`.pop()`：随机删除并返回一个元素<br>`.clear()`：清空集合 | 不支持                                                                   | `element in set`：元素在？<br>`element not in set`：元素不在？             | 不支持                                                                   | 无序，可变，不可重复     | `.union(iterable)`：返回并集<br>`.intersection(iterable)`：返回交集<br>`.difference(iterable)`：返回差集<br>`.symmetric_difference(iterable)`：返回对称差集<br>`.issubset(iterable)`：检查是否为子集<br>`.issuperset(iterable)`：检查是否为超集 |"
   ]
  },
  {
   "cell_type": "markdown",
   "metadata": {},
   "source": [
    "##### 7.3.1.元组的增删改查"
   ]
  },
  {
   "cell_type": "code",
   "execution_count": null,
   "metadata": {},
   "outputs": [
    {
     "name": "stdout",
     "output_type": "stream",
     "text": [
      "(1, 2, 3)\n",
      "1\n",
      "(1, 2, 3, 4, 5)\n"
     ]
    }
   ],
   "source": [
    "# 创建元组\n",
    "t = (1, 2, 3)\n",
    "print(t)  # 输出: (1, 2, 3)\n",
    "\n",
    "# 访问元组元素\n",
    "print(t[0])  # 输出: 1\n",
    "\n",
    "# 元组不可修改，以下操作会报错\n",
    "# t[0] = 4  # TypeError: 'tuple' object does not support item assignment\n",
    "\n",
    "# 元组拼接\n",
    "t2 = (4, 5)\n",
    "t3 = t + t2\n",
    "print(t3)  # 输出: (1, 2, 3, 4, 5)"
   ]
  },
  {
   "cell_type": "markdown",
   "metadata": {},
   "source": [
    "##### 7.3.2.列表的增删改查"
   ]
  },
  {
   "cell_type": "code",
   "execution_count": null,
   "metadata": {},
   "outputs": [
    {
     "name": "stdout",
     "output_type": "stream",
     "text": [
      "[1, 2, 3]\n",
      "1\n",
      "[4, 2, 3]\n",
      "[4, 2, 3, 5]\n",
      "[4, 3, 5]\n",
      "[3, 5]\n"
     ]
    }
   ],
   "source": [
    "# 创建列表\n",
    "l = [1, 2, 3]\n",
    "print(l)  # 输出: [1, 2, 3]\n",
    "\n",
    "# 访问列表元素\n",
    "print(l[0])  # 输出: 1\n",
    "\n",
    "# 修改列表元素\n",
    "l[0] = 4\n",
    "print(l)  # 输出: [4, 2, 3]\n",
    "\n",
    "# 添加元素\n",
    "l.append(5)\n",
    "print(l)  # 输出: [4, 2, 3, 5]\n",
    "\n",
    "# 删除元素\n",
    "l.remove(2)\n",
    "print(l)  # 输出: [4, 3, 5]\n",
    "\n",
    "# 列表切片\n",
    "sub_list = l[1:3]\n",
    "print(sub_list)  # 输出: [3, 5]"
   ]
  },
  {
   "cell_type": "markdown",
   "metadata": {},
   "source": [
    "##### 7.3.3.字典的增删改查"
   ]
  },
  {
   "cell_type": "code",
   "execution_count": null,
   "metadata": {},
   "outputs": [
    {
     "name": "stdout",
     "output_type": "stream",
     "text": [
      "{'name': 'Alice', 'age': 25}\n",
      "Alice\n",
      "{'name': 'Alice', 'age': 26}\n",
      "{'name': 'Alice', 'age': 26, 'city': 'New York'}\n",
      "{'name': 'Alice', 'city': 'New York'}\n",
      "Name exists\n"
     ]
    }
   ],
   "source": [
    "# 创建字典\n",
    "d = {'name': 'Alice', 'age': 25}\n",
    "print(d)  # 输出: {'name': 'Alice', 'age': 25}\n",
    "\n",
    "# 访问字典元素\n",
    "print(d['name'])  # 输出: 'Alice'\n",
    "\n",
    "# 修改字典元素\n",
    "d['age'] = 26\n",
    "print(d)  # 输出: {'name': 'Alice', 'age': 26}\n",
    "\n",
    "# 添加元素\n",
    "d['city'] = 'New York'\n",
    "print(d)  # 输出: {'name': 'Alice', 'age': 26, 'city': 'New York'}\n",
    "\n",
    "# 删除元素\n",
    "del d['age']\n",
    "print(d)  # 输出: {'name': 'Alice', 'city': 'New York'}\n",
    "\n",
    "# 检查键是否存在\n",
    "if 'name' in d:\n",
    "    print(\"Name exists\")  # 输出: Name exists"
   ]
  },
  {
   "cell_type": "markdown",
   "metadata": {},
   "source": [
    "##### 7.3.4.集合的增删改查"
   ]
  },
  {
   "cell_type": "code",
   "execution_count": null,
   "metadata": {},
   "outputs": [
    {
     "name": "stdout",
     "output_type": "stream",
     "text": [
      "{1, 2, 3}\n",
      "{1, 2, 3, 4}\n",
      "{1, 3, 4}\n",
      "3 exists\n",
      "{1, 3, 4, 5}\n",
      "{3, 4}\n",
      "{1}\n"
     ]
    }
   ],
   "source": [
    "# 创建集合\n",
    "s = {1, 2, 3}\n",
    "print(s)  # 输出: {1, 2, 3}\n",
    "\n",
    "# 添加元素\n",
    "s.add(4)\n",
    "print(s)  # 输出: {1, 2, 3, 4}\n",
    "\n",
    "# 删除元素\n",
    "s.remove(2)\n",
    "print(s)  # 输出: {1, 3, 4}\n",
    "\n",
    "# 检查元素是否存在\n",
    "if 3 in s:\n",
    "    print(\"3 exists\")  # 输出: 3 exists\n",
    "\n",
    "# 集合运算\n",
    "s2 = {3, 4, 5}\n",
    "print(s.union(s2))  # 输出: {1, 3, 4, 5}\n",
    "print(s.intersection(s2))  # 输出: {3, 4}\n",
    "print(s.difference(s2))  # 输出: {1}"
   ]
  },
  {
   "cell_type": "markdown",
   "metadata": {},
   "source": [
    "#### 7.4.拆包（Unpacking）"
   ]
  },
  {
   "cell_type": "markdown",
   "metadata": {},
   "source": [
    "拆包是将可迭代对象（如列表、元组、字典）解包到多个变量中的过程。它使得你能够方便地访问集合中的单个元素。"
   ]
  },
  {
   "cell_type": "markdown",
   "metadata": {},
   "source": [
    "| 操作         | 语法/示例                          | 说明                                                         |\n",
    "|--------------|------------------------------------|--------------------------------------------------------------|\n",
    "| 列表拆包     | `a, b, c = [1, 2, 3]`             | 拆包列表，将每个元素赋给对应变量。                           |\n",
    "| 元组拆包     | `x, y = (10, 20)`                 | 拆包元组，将每个元素赋给对应变量。                           |\n",
    "| 字典拆包     | `key, value = my_dict.items()`    | 拆包字典，将键和值分别赋给变量。                             |\n",
    "| 带星号拆包   | `a, *b, c = [1, 2, 3, 4]`         | 使用 * 拆包剩余部分，b 会接收 [2, 3]。                       |\n",
    "| 字典拆包（解包） | `**kwargs`                     | 在函数调用中，使用 ** 解包字典为关键字参数。                 |"
   ]
  },
  {
   "cell_type": "code",
   "execution_count": null,
   "metadata": {},
   "outputs": [
    {
     "name": "stdout",
     "output_type": "stream",
     "text": [
      "1 2 3\n",
      "10 20\n",
      "1 [2, 3] 4\n"
     ]
    }
   ],
   "source": [
    "# 列表拆包\n",
    "a, b, c = [1, 2, 3]\n",
    "print(a, b, c)  # 输出: 1 2 3\n",
    "\n",
    "# 元组拆包\n",
    "x, y = (10, 20)\n",
    "print(x, y)  # 输出: 10 20\n",
    "\n",
    "# 带星号拆包\n",
    "a, *b, c = [1, 2, 3, 4]\n",
    "print(a, b, c)  # 输出: 1 [2, 3] 4"
   ]
  },
  {
   "cell_type": "markdown",
   "metadata": {},
   "source": [
    "# 8.运算符"
   ]
  },
  {
   "cell_type": "markdown",
   "metadata": {},
   "source": [
    "#### 8.1.算术运算符"
   ]
  },
  {
   "cell_type": "code",
   "execution_count": null,
   "metadata": {},
   "outputs": [],
   "source": [
    "# 加法\n",
    "x = 10\n",
    "y = 5\n",
    "print(x + y)  # 输出: 15\n",
    "\n",
    "# 减法\n",
    "print(x - y)  # 输出: 5\n",
    "\n",
    "# 乘法\n",
    "print(x * y)  # 输出: 50\n",
    "\n",
    "# 除法（浮点数除法）\n",
    "print(x / y)  # 输出: 2.0\n",
    "\n",
    "# 整除\n",
    "print(x // y)  # 输出: 2\n",
    "\n",
    "# 取余\n",
    "print(x % y)  # 输出: 0\n",
    "\n",
    "# 幂运算（x^y）\n",
    "print(x ** y)  # 输出: 100000"
   ]
  },
  {
   "cell_type": "markdown",
   "metadata": {},
   "source": [
    "#### 8.2.比较运算符"
   ]
  },
  {
   "cell_type": "code",
   "execution_count": null,
   "metadata": {},
   "outputs": [],
   "source": [
    "# 等于\n",
    "print(x == y)  # 输出: False\n",
    "\n",
    "# 不等于\n",
    "print(x != y)  # 输出: True\n",
    "\n",
    "# 大于\n",
    "print(x > y)  # 输出: True\n",
    "\n",
    "# 小于\n",
    "print(x < y)  # 输出: False\n",
    "\n",
    "# 大于或等于\n",
    "print(x >= y)  # 输出: True\n",
    "\n",
    "# 小于或等于\n",
    "print(x <= y)  # 输出: False"
   ]
  },
  {
   "cell_type": "markdown",
   "metadata": {},
   "source": [
    "#### 8.3.逻辑运算符"
   ]
  },
  {
   "cell_type": "code",
   "execution_count": null,
   "metadata": {},
   "outputs": [],
   "source": [
    "# and 运算符（两个条件都为True时，结果为True）\n",
    "print(x > 5 and y < 10)  # 输出: True\n",
    "\n",
    "# or 运算符（至少一个条件为True时，结果为True）\n",
    "print(x < 5 or y > 10)  # 输出: False\n",
    "\n",
    "# not 运算符（取反）\n",
    "print(not (x > 5 and y < 10))  # 输出: False"
   ]
  },
  {
   "cell_type": "markdown",
   "metadata": {},
   "source": [
    "#### 8.4.位运算符"
   ]
  },
  {
   "cell_type": "code",
   "execution_count": null,
   "metadata": {},
   "outputs": [
    {
     "name": "stdout",
     "output_type": "stream",
     "text": [
      "1\n",
      "7\n",
      "6\n",
      "-6\n",
      "20\n",
      "1\n"
     ]
    }
   ],
   "source": [
    "# 按位与（AND）\n",
    "a = 5  # 二进制: 0101\n",
    "b = 3  # 二进制: 0011\n",
    "print(a & b)  # 输出: 1（二进制: 0001）\n",
    "\n",
    "# 按位或（OR）\n",
    "print(a | b)  # 输出: 7（二进制: 0111）\n",
    "\n",
    "# 按位异或（XOR）\n",
    "print(a ^ b)  # 输出: 6（二进制: 0110）\n",
    "\n",
    "# 按位取反（NOT）\n",
    "print(~a)  # 输出: -6（二进制: 1010）\n",
    "\n",
    "# 左移\n",
    "print(a << 2)  # 输出: 20（二进制: 10100）\n",
    "\n",
    "# 右移\n",
    "print(a >> 2)  # 输出: 1（二进制: 0001）"
   ]
  },
  {
   "cell_type": "markdown",
   "metadata": {},
   "source": [
    "#### 8.5.赋值运算符"
   ]
  },
  {
   "cell_type": "code",
   "execution_count": null,
   "metadata": {},
   "outputs": [],
   "source": [
    "# 基本赋值\n",
    "x = 10\n",
    "y = 5\n",
    "\n",
    "# 加法赋值\n",
    "x += y  # x = x + y\n",
    "print(x)  # 输出: 15\n",
    "\n",
    "# 减法赋值\n",
    "x -= y  # x = x - y\n",
    "print(x)  # 输出: 10\n",
    "\n",
    "# 乘法赋值\n",
    "x *= y  # x = x * y\n",
    "print(x)  # 输出: 50\n",
    "\n",
    "# 除法赋值\n",
    "x /= y  # x = x / y\n",
    "print(x)  # 输出: 10.0\n",
    "\n",
    "# 整除赋值\n",
    "x //= y  # x = x // y\n",
    "print(x)  # 输出: 2.0\n",
    "\n",
    "# 取余赋值\n",
    "x %= y  # x = x % y\n",
    "print(x)  # 输出: 2.0\n",
    "\n",
    "# 幂运算赋值\n",
    "x **= y  # x = x ** y\n",
    "print(x)  # 输出: 32.0"
   ]
  },
  {
   "cell_type": "markdown",
   "metadata": {},
   "source": [
    "#### 8.6.成员运算符"
   ]
  },
  {
   "cell_type": "code",
   "execution_count": null,
   "metadata": {},
   "outputs": [],
   "source": [
    "# 检查元素是否在序列中\n",
    "list_example = [1, 2, 3, 4, 5]\n",
    "\n",
    "print(3 in list_example)  # 输出: True\n",
    "print(6 in list_example)  # 输出: False\n",
    "\n",
    "# 检查元素是否不在序列中\n",
    "print(3 not in list_example)  # 输出: False\n",
    "print(6 not in list_example)  # 输出: True"
   ]
  },
  {
   "cell_type": "markdown",
   "metadata": {},
   "source": [
    "#### 8.7.身份运算符"
   ]
  },
  {
   "cell_type": "code",
   "execution_count": null,
   "metadata": {},
   "outputs": [],
   "source": [
    "# 判断两个对象是否是同一个对象（内存地址相同）\n",
    "a = [1, 2, 3]\n",
    "b = [1, 2, 3]\n",
    "c = a\n",
    "\n",
    "print(a is b)  # 输出: False（a 和 b 是不同的对象，虽然内容相同）\n",
    "print(a is c)  # 输出: True（a 和 c 是同一个对象）\n",
    "\n",
    "# 判断两个对象是否不是同一个对象\n",
    "print(a is not b)  # 输出: True"
   ]
  },
  {
   "cell_type": "markdown",
   "metadata": {},
   "source": [
    "#### 8.8.运算符总结"
   ]
  },
  {
   "cell_type": "markdown",
   "metadata": {},
   "source": [
    "| 运算符类别       | 运算符 | 说明                                   | 示例                                      |\n",
    "|----------------|--------|----------------------------------------|-------------------------------------------|\n",
    "| 算术运算符       | +      | 加法                                   | 3 + 2 -> 5                                |\n",
    "|                | -      | 减法                                   | 5 - 3 -> 2                                |\n",
    "|                | *      | 乘法                                   | 4 * 3 -> 12                               |\n",
    "|                | /      | 除法（浮点数除法）                     | 10 / 2 -> 5.0                             |\n",
    "|                | //     | 整除（向下取整）                       | 10 // 3 -> 3                              |\n",
    "|                | %      | 取余                                   | 10 % 3 -> 1                               |\n",
    "|                | **     | 幂运算（乘方）                         | 2 ** 3 -> 8                               |\n",
    "| 比较运算符       | ==     | 等于                                   | 3 == 3 -> True                            |\n",
    "|                | !=     | 不等于                                 | 3 != 4 -> True                           |\n",
    "|                | >      | 大于                                   | 5 > 3 -> True                             |\n",
    "|                | <      | 小于                                   | 2 < 3 -> True                             |\n",
    "|                | >=     | 大于或等于                             | 5 >= 5 -> True                            |\n",
    "|                | <=     | 小于或等于                             | 2 <= 3 -> True                            |\n",
    "| 逻辑运算符       | and    | 与运算（所有条件都为真时结果为真）     | True and False -> False                    |\n",
    "|                | or     | 或运算（至少一个条件为真时结果为真）   | True or False -> True                      |\n",
    "|                | not    | 非运算（取反）                       | not True -> False                         |\n",
    "| 赋值运算符       | =      | 赋值                                   | x = 5                                    |\n",
    "|                | +=     | 加法赋值（x += y 等价于 x = x + y）    | x += 2 -> x = x + 2                      |\n",
    "|                | -=     | 减法赋值（x -= y 等价于 x = x - y）    | x -= 3 -> x = x - 3                      |\n",
    "|                | *=     | 乘法赋值（x *= y 等价于 x = x * y）    | x *= 4 -> x = x * 4                      |\n",
    "|                | /=     | 除法赋值（x /= y 等价于 x = x / y）    | x /= 2 -> x = x / 2                      |\n",
    "|                | //=    | 整除赋值（x //= y 等价于 x = x // y） | x //= 3 -> x = x // 3                    |\n",
    "|                | %=     | 取余赋值（x %= y 等价于 x = x % y）    | x %= 3 -> x = x % 3                      |\n",
    "|                | **=    | 幂运算赋值（x **= y 等价于 x = x ** y） | x **= 2 -> x = x ** 2                      |\n",
    "| 位运算符        | &      | 按位与                                 | 5 & 3 -> 1 (二进制：0101 & 0011 = 0001)       |\n",
    "|                | `      | 按位或                                 |                                          |\n",
    "|                | ^      | 按位异或                                | 5 ^ 3 -> 6 (二进制：0101 ^ 0011 = 0110)       |\n",
    "|                | ~      | 按位取反                                | ~5 -> -6 (二进制：~0101 = -0110)           |\n",
    "|                | <<     | 左移                                   | 3 << 2 -> 12 (二进制：0011 << 2 = 1100)     |\n",
    "|                | >>     | 右移                                   | 8 >> 2 -> 2 (二进制：1000 >> 2 = 0010)      |\n",
    "| 成员运算符       | in     | 判断元素是否在序列中                     | 'a' in ['a', 'b', 'c'] -> True             |\n",
    "|                | not in | 判断元素是否不在序列中                 | 'd' not in ['a', 'b', 'c'] -> True         |\n",
    "| 身份运算符       | is     | 判断对象是否相同（内存地址比较）         | x is y -> 判断 x 和 y 是否是同一对象       |\n",
    "|                | is not | 判断对象是否不同                       | x is not y -> 判断 x 和 y 是否是不同对象   |"
   ]
  },
  {
   "cell_type": "markdown",
   "metadata": {},
   "source": [
    "# 9.判断与循环"
   ]
  },
  {
   "cell_type": "markdown",
   "metadata": {},
   "source": [
    "#### 9.1.循环"
   ]
  },
  {
   "cell_type": "markdown",
   "metadata": {},
   "source": [
    "##### 9.1.1.for 循环"
   ]
  },
  {
   "cell_type": "code",
   "execution_count": null,
   "metadata": {},
   "outputs": [],
   "source": [
    "# 遍历 range 对象\n",
    "for i in range(5):\n",
    "    print(i)  # 输出: 0 1 2 3 4\n",
    "\n",
    "# 遍历列表\n",
    "fruits = ['apple', 'banana', 'cherry']\n",
    "for fruit in fruits:\n",
    "    print(fruit)  # 输出: apple banana cherry"
   ]
  },
  {
   "cell_type": "markdown",
   "metadata": {},
   "source": [
    "#### 9.1.2.while 循环"
   ]
  },
  {
   "cell_type": "code",
   "execution_count": null,
   "metadata": {},
   "outputs": [],
   "source": [
    "x = 0\n",
    "while x < 5:\n",
    "    print(x)  # 输出: 0 1 2 3 4\n",
    "    x += 1"
   ]
  },
  {
   "cell_type": "markdown",
   "metadata": {},
   "source": [
    "#### 9.1.3.break"
   ]
  },
  {
   "cell_type": "code",
   "execution_count": null,
   "metadata": {},
   "outputs": [],
   "source": [
    "for i in range(10):\n",
    "    if i == 5:\n",
    "        break\n",
    "    print(i)  # 输出: 0 1 2 3 4"
   ]
  },
  {
   "cell_type": "markdown",
   "metadata": {},
   "source": [
    "#### 9.1.4.continue"
   ]
  },
  {
   "cell_type": "code",
   "execution_count": null,
   "metadata": {},
   "outputs": [],
   "source": [
    "for i in range(5):\n",
    "    if i == 2:\n",
    "        continue\n",
    "    print(i)  # 输出: 0 1 3 4"
   ]
  },
  {
   "cell_type": "markdown",
   "metadata": {},
   "source": [
    "#### 9.2.判断"
   ]
  },
  {
   "cell_type": "markdown",
   "metadata": {},
   "source": [
    "##### 9.2.1.if 判断语句"
   ]
  },
  {
   "cell_type": "code",
   "execution_count": null,
   "metadata": {},
   "outputs": [],
   "source": [
    "x = 10\n",
    "if x > 5:\n",
    "    print(\"x 大于 5\")  # 输出: x 大于 5"
   ]
  },
  {
   "cell_type": "markdown",
   "metadata": {},
   "source": [
    "#### 9.2.2.elif (else if)"
   ]
  },
  {
   "cell_type": "code",
   "execution_count": null,
   "metadata": {},
   "outputs": [],
   "source": [
    "x = 5\n",
    "if x > 5:\n",
    "    print(\"x 大于 5\")\n",
    "elif x == 5:\n",
    "    print(\"x 等于 5\")  # 输出: x 等于 5"
   ]
  },
  {
   "cell_type": "markdown",
   "metadata": {},
   "source": [
    "#### 9.2.3.else"
   ]
  },
  {
   "cell_type": "code",
   "execution_count": null,
   "metadata": {},
   "outputs": [],
   "source": [
    "x = 3\n",
    "if x > 5:\n",
    "    print(\"x 大于 5\")\n",
    "else:\n",
    "    print(\"x 小于等于 5\")  # 输出: x 小于等于 5"
   ]
  },
  {
   "cell_type": "markdown",
   "metadata": {},
   "source": [
    "#### 9.2.4.三元运算符"
   ]
  },
  {
   "cell_type": "markdown",
   "metadata": {},
   "source": [
    "● Python 中的三元运算符是 值1 if 条件 else 值2。 <br>\n",
    "● 当条件为真时，返回 值1；否则返回 值2。  <br>"
   ]
  },
  {
   "cell_type": "code",
   "execution_count": null,
   "metadata": {},
   "outputs": [],
   "source": [
    "x = 10\n",
    "result = \"Positive\" if x > 0 else \"Negative\"\n",
    "print(result)  # 输出: Positive"
   ]
  },
  {
   "cell_type": "markdown",
   "metadata": {},
   "source": [
    "#### 9.3.控制流程"
   ]
  },
  {
   "cell_type": "markdown",
   "metadata": {},
   "source": [
    "##### 9.3.1pass"
   ]
  },
  {
   "cell_type": "code",
   "execution_count": null,
   "metadata": {},
   "outputs": [],
   "source": [
    "x = 10\n",
    "if x > 5:\n",
    "    pass  # 占位符，什么也不做"
   ]
  },
  {
   "cell_type": "markdown",
   "metadata": {},
   "source": [
    "##### 9.3.2.assert"
   ]
  },
  {
   "cell_type": "code",
   "execution_count": null,
   "metadata": {},
   "outputs": [],
   "source": [
    "x = 10\n",
    "assert x > 0, \"x 必须大于 0\"  # 如果 x <= 0，抛出 AssertionError"
   ]
  },
  {
   "cell_type": "markdown",
   "metadata": {},
   "source": [
    "##### 9.3.3.try...except"
   ]
  },
  {
   "cell_type": "code",
   "execution_count": null,
   "metadata": {},
   "outputs": [],
   "source": [
    "try:\n",
    "    x = 1 / 0\n",
    "except ZeroDivisionError:\n",
    "    print(\"不能除以零\")  # 输出: 不能除以零"
   ]
  },
  {
   "cell_type": "markdown",
   "metadata": {},
   "source": [
    "##### 9.3.4.finally"
   ]
  },
  {
   "cell_type": "code",
   "execution_count": null,
   "metadata": {},
   "outputs": [
    {
     "name": "stdout",
     "output_type": "stream",
     "text": [
      "结束\n"
     ]
    }
   ],
   "source": [
    "try:\n",
    "    x = 1 / 0\n",
    "except ZeroDivisionError:\n",
    "    pass\n",
    "finally:\n",
    "    print(\"结束\")  # 输出: 结束"
   ]
  },
  {
   "cell_type": "markdown",
   "metadata": {},
   "source": [
    "##### 9.3.5else (与异常捕获结合使用)"
   ]
  },
  {
   "cell_type": "code",
   "execution_count": null,
   "metadata": {},
   "outputs": [
    {
     "name": "stdout",
     "output_type": "stream",
     "text": [
      "无异常\n"
     ]
    }
   ],
   "source": [
    "try:\n",
    "    x = 5 / 1\n",
    "except ZeroDivisionError:\n",
    "    pass\n",
    "else:\n",
    "    print(\"无异常\")  # 输出: 无异常"
   ]
  },
  {
   "cell_type": "markdown",
   "metadata": {},
   "source": [
    "#### 9.4.循环与判断语法总结"
   ]
  },
  {
   "cell_type": "markdown",
   "metadata": {},
   "source": [
    "| 分类     | 语法                  | 说明                                       | 示例                                                                 |\n",
    "|----------|-----------------------|--------------------------------------------|----------------------------------------------------------------------|\n",
    "| 循环     | for 循环              | 用于遍历序列（如列表、元组、字典、字符串等）或其他可迭代对象 | `for i in range(5): print(i)`                                         |\n",
    "|          | while 循环           | 当条件为真时，执行循环体                     | `while x < 5: print(x); x += 1`                                      |\n",
    "|          | break               | 结束当前循环，并跳出循环体                   | `for i in range(10): if i == 5: break`                               |\n",
    "|          | continue             | 跳过当前循环的剩余部分，继续执行下一次循环       | `for i in range(5): if i == 2: continue; print(i)`                     |\n",
    "| 判断     | if 判断语句           | 根据条件表达式的值（True 或 False）来执行不同的代码块 | `if x > 5: print(\"x 大于 5\")`                                          |\n",
    "|          | elif (else if)       | 在 if判断语句后，可选的另一条件判断，若 if不满足，才会检查 elif条件 | `if x > 5: print(\"x 大于 5\"); elif x == 5: print(\"x 等于 5\")`     |\n",
    "|          | else                | 如果没有任何 if或 elif条件被满足，则执行 else部分 | `if x > 5: print(\"x 大于 5\"); else: print(\"x 小于等于 5\")`             |\n",
    "|          | x if condition else y | 简单的三元运算符，类似于其他语言中的 if-else表达式，可以在一行中完成条件判断和赋值操作 | `result = \"Positive\" if x > 0 else \"Negative\"`                     |\n",
    "| 控制流程 | pass                | 占位符语句，表示什么也不做，常用在代码框架中避免语法错误 | `if x > 5: pass # 尚未实现的部分`                                     |\n",
    "|          | assert               | 用于调试，判断条件表达式是否为真，若为假，抛出 AssertionError | `assert x > 0, \"x 必须大于 0\"`                                           |\n",
    "|          | try...except         | 捕获并处理异常，避免程序崩溃                 | `try: x = 1 / 0; except ZeroDivisionError: print(\"不能除以零\")`          |\n",
    "|          | finally             | 用于在 try代码块后无论是否发生异常都执行的代码 | `try: x = 1 / 0; except ZeroDivisionError: pass; finally: print(\"结束\")` |\n",
    "|          | else (与异常捕获结合使用) | 在没有异常时，执行 else部分                     | `try: x = 5 / 1; except ZeroDivisionError: pass; else: print(\"无异常\")`    |"
   ]
  },
  {
   "cell_type": "markdown",
   "metadata": {},
   "source": [
    "# 10.其他"
   ]
  },
  {
   "cell_type": "markdown",
   "metadata": {},
   "source": [
    "#### 10.1.装饰器（Decorator）"
   ]
  },
  {
   "cell_type": "markdown",
   "metadata": {},
   "source": [
    "装饰器是 Python 中的一种非常强大的功能，它允许你在不修改原有函数代码的前提下，增加函数的功能。装饰器本质上是一个返回函数的函数，可以在函数定义时被动态地加到现有函数上。"
   ]
  },
  {
   "cell_type": "markdown",
   "metadata": {},
   "source": [
    "##### 10.1.1.闭包（Closure"
   ]
  },
  {
   "cell_type": "markdown",
   "metadata": {},
   "source": [
    "闭包是指在函数内部定义的函数，返回的内部函数可以访问外部函数的局部变量，即使外部函数已经执行完毕。这种特性通常用来实现数据封装或保持某些状态。"
   ]
  },
  {
   "cell_type": "markdown",
   "metadata": {},
   "source": [
    "###### 10.1.1.1.闭包的特性："
   ]
  },
  {
   "cell_type": "markdown",
   "metadata": {},
   "source": [
    "● 闭包函数能“记住”外部函数的变量，即使外部函数已经返回。<br>\n",
    "● 通过闭包可以实现延迟执行、数据封装等。<br>"
   ]
  },
  {
   "cell_type": "markdown",
   "metadata": {},
   "source": [
    "###### 10.1.1.2.闭包的构成："
   ]
  },
  {
   "cell_type": "markdown",
   "metadata": {},
   "source": [
    "1. 外部函数<br>\n",
    "2. 内部函数<br>\n",
    "3. 内部函数引用了外部函数的变量<br>\n",
    "4. 外部函数返回内部函数<br>"
   ]
  },
  {
   "cell_type": "code",
   "execution_count": null,
   "metadata": {},
   "outputs": [
    {
     "name": "stdout",
     "output_type": "stream",
     "text": [
      "15\n"
     ]
    }
   ],
   "source": [
    "def outer(x):  # 外部函数\n",
    "    def inner(y):  # 内部函数\n",
    "        return x + y  # 内部函数引用了外部函数的变量 x\n",
    "    return inner  # 返回内部函数\n",
    "\n",
    "# 创建闭包\n",
    "closure_func = outer(10)\n",
    "print(closure_func(5))  # 输出: 15"
   ]
  },
  {
   "cell_type": "markdown",
   "metadata": {},
   "source": [
    "在这个例子中，`inner `是一个闭包，它记住了 `outer `函数中的 `x` 的值，因此即使外部函数 `outer `已经执行完毕，`closure_func` 仍然能够访问并使用` x`。"
   ]
  },
  {
   "cell_type": "markdown",
   "metadata": {},
   "source": [
    "#### 10.1.2装饰器的基本概念"
   ]
  },
  {
   "cell_type": "markdown",
   "metadata": {},
   "source": [
    "● 基本装饰器：装饰器是一个接受函数作为参数并返回一个函数的函数。<br>\n",
    "● 用途：装饰器常用于日志记录、权限验证、性能计时等任务。<br>"
   ]
  },
  {
   "cell_type": "markdown",
   "metadata": {},
   "source": [
    "#### 10.1.3.装饰器的语法"
   ]
  },
  {
   "cell_type": "markdown",
   "metadata": {},
   "source": [
    "装饰器的语法是通过 `@ `符号来应用装饰器函数。"
   ]
  },
  {
   "cell_type": "code",
   "execution_count": null,
   "metadata": {},
   "outputs": [
    {
     "name": "stdout",
     "output_type": "stream",
     "text": [
      "Before function execution\n",
      "Hello, World!\n",
      "After function execution\n"
     ]
    }
   ],
   "source": [
    "def decorator(func):\n",
    "    def wrapper():\n",
    "        print(\"Before function execution\")\n",
    "        func()\n",
    "        print(\"After function execution\")\n",
    "    return wrapper\n",
    "\n",
    "@decorator\n",
    "def say_hello():\n",
    "    print(\"Hello, World!\")\n",
    "\n",
    "say_hello()"
   ]
  },
  {
   "cell_type": "markdown",
   "metadata": {},
   "source": [
    "#### 10.1.4.使用 `@ `应用装饰器"
   ]
  },
  {
   "cell_type": "markdown",
   "metadata": {},
   "source": [
    "使用装饰器时，直接在函数定义上方加上` @decorator`，效果与 `say_hello = decorator(say_hello)` 相同。"
   ]
  },
  {
   "cell_type": "code",
   "execution_count": null,
   "metadata": {},
   "outputs": [],
   "source": [
    "@decorator\n",
    "def say_hello():\n",
    "    print(\"Hello, World!\")"
   ]
  },
  {
   "cell_type": "markdown",
   "metadata": {},
   "source": [
    "#### 10.1.5.带参数的装饰器"
   ]
  },
  {
   "cell_type": "markdown",
   "metadata": {},
   "source": [
    "装饰器可以接受参数，适应不同需求。例如，计时装饰器："
   ]
  },
  {
   "cell_type": "code",
   "execution_count": null,
   "metadata": {},
   "outputs": [],
   "source": [
    "import time\n",
    "\n",
    "def timing_decorator(func):\n",
    "    def wrapper(*args, **kwargs):\n",
    "        start_time = time.time()\n",
    "        result = func(*args, **kwargs)\n",
    "        print(f\"Execution time: {time.time() - start_time} seconds\")\n",
    "        return result\n",
    "    return wrapper\n",
    "\n",
    "@timing_decorator\n",
    "def long_function():\n",
    "    time.sleep(2)\n",
    "    print(\"Function executed\")\n",
    "\n",
    "long_function()"
   ]
  },
  {
   "cell_type": "markdown",
   "metadata": {},
   "source": [
    "#### 10.1.6.装饰器的返回值"
   ]
  },
  {
   "cell_type": "markdown",
   "metadata": {},
   "source": [
    "装饰器可以返回一个嵌套函数（wrapper），这个函数包裹了原始的函数，可以在调用原函数之前或之后添加额外的逻辑。"
   ]
  },
  {
   "cell_type": "markdown",
   "metadata": {},
   "source": [
    "### 10.2.迭代器（Iterator）"
   ]
  },
  {
   "cell_type": "markdown",
   "metadata": {},
   "source": [
    "迭代器是一个可以记住当前位置的对象，通过` next() `函数逐个返回元素。它是 Python 中用来遍历容器（如列表、元组、字典等）的一种方法。"
   ]
  },
  {
   "cell_type": "markdown",
   "metadata": {},
   "source": [
    "#### 10.2.1.迭代器协议"
   ]
  },
  {
   "cell_type": "markdown",
   "metadata": {},
   "source": [
    "迭代器协议要求对象实现以下两个方法：<br>\n",
    "● `__iter__()：`返回迭代器本身，常用于将对象转换为可迭代对象。<br>\n",
    "● `__next__()：`返回容器中的下一个元素。当没有更多元素时，抛出 `StopIteration` 异常。<br>"
   ]
  },
  {
   "cell_type": "markdown",
   "metadata": {},
   "source": [
    "#### 10.2.2.创建自定义迭代器"
   ]
  },
  {
   "cell_type": "code",
   "execution_count": null,
   "metadata": {},
   "outputs": [
    {
     "name": "stdout",
     "output_type": "stream",
     "text": [
      "1\n",
      "2\n",
      "3\n",
      "4\n"
     ]
    }
   ],
   "source": [
    "class MyIterator:\n",
    "    def __init__(self, start, end):\n",
    "        self.current = start\n",
    "        self.end = end\n",
    "\n",
    "    def __iter__(self):\n",
    "        return self\n",
    "\n",
    "    def __next__(self):\n",
    "        if self.current >= self.end:\n",
    "            raise StopIteration\n",
    "        self.current += 1\n",
    "        return self.current - 1\n",
    "\n",
    "# 使用自定义迭代器\n",
    "iterator = MyIterator(1, 5)\n",
    "for num in iterator:\n",
    "    print(num)"
   ]
  },
  {
   "cell_type": "markdown",
   "metadata": {},
   "source": [
    "#### 10.2.3.使用内置迭代器"
   ]
  },
  {
   "cell_type": "markdown",
   "metadata": {},
   "source": [
    "Python 中的容器（如列表、元组、字典等）自带迭代器。例如："
   ]
  },
  {
   "cell_type": "code",
   "execution_count": null,
   "metadata": {},
   "outputs": [],
   "source": [
    "numbers = [1, 2, 3, 4]\n",
    "iterator = iter(numbers)\n",
    "\n",
    "print(next(iterator))  # 1\n",
    "print(next(iterator))  # 2"
   ]
  },
  {
   "cell_type": "markdown",
   "metadata": {},
   "source": [
    "### 10.3.生成器（Generator）"
   ]
  },
  {
   "cell_type": "markdown",
   "metadata": {},
   "source": [
    "生成器是一种特殊的迭代器，它的执行是惰性（lazy）的，也就是说，只有在需要时才会计算下一个元素。"
   ]
  },
  {
   "cell_type": "markdown",
   "metadata": {},
   "source": [
    "#### 10.3.1.生成器的定义"
   ]
  },
  {
   "cell_type": "markdown",
   "metadata": {},
   "source": [
    "生成器通过函数 `yield `来生成返回值。每当执行到` yield `时，函数暂停，并返回该值；当` next() `被调用时，函数从上次暂停的地方继续执行。"
   ]
  },
  {
   "cell_type": "code",
   "execution_count": null,
   "metadata": {},
   "outputs": [],
   "source": [
    "def my_generator():\n",
    "    yield 1\n",
    "    yield 2\n",
    "    yield 3\n",
    "\n",
    "gen = my_generator()\n",
    "print(next(gen))  # 1\n",
    "print(next(gen))  # 2\n",
    "print(next(gen))  # 3"
   ]
  },
  {
   "cell_type": "markdown",
   "metadata": {},
   "source": [
    "#### 10.3.2.生成器表达式"
   ]
  },
  {
   "cell_type": "markdown",
   "metadata": {},
   "source": [
    "类似于列表推导式，生成器表达式返回的是一个生成器对象，直到调用` next() `才会计算出值。"
   ]
  },
  {
   "cell_type": "code",
   "execution_count": null,
   "metadata": {},
   "outputs": [],
   "source": [
    "gen = (x*x for x in range(3))\n",
    "print(next(gen))  # 0\n",
    "print(next(gen))  # 1\n",
    "print(next(gen))  # 4"
   ]
  },
  {
   "cell_type": "markdown",
   "metadata": {},
   "source": [
    "#### 10.3.3.使用 `yield` 和 `return `的区别"
   ]
  },
  {
   "cell_type": "markdown",
   "metadata": {},
   "source": [
    "● `yield `会暂停函数的执行，并返回当前的值，后续调用 `next()` 会从 `yield `处继续执行。<br>\n",
    "● `return `会结束函数的执行，并返回结果。<br>"
   ]
  },
  {
   "cell_type": "code",
   "execution_count": null,
   "metadata": {},
   "outputs": [],
   "source": [
    "def with_return():\n",
    "    return 1\n",
    "    return 2\n",
    "\n",
    "def with_yield():\n",
    "    yield 1\n",
    "    yield 2\n",
    "\n",
    "print(with_return())  # 1\n",
    "print(with_yield())   # <generator object with_yield at 0x7fdbcb2fe2b0>"
   ]
  },
  {
   "cell_type": "markdown",
   "metadata": {},
   "source": [
    "### 10.4.三器总结"
   ]
  },
  {
   "cell_type": "markdown",
   "metadata": {},
   "source": [
    "| 功能/特点 | 装饰器 | 迭代器 | 生成器 |\n",
    "|-----------|--------|--------|--------|\n",
    "| 定义      | 函数的包装器，用于扩展函数功能 | 实现了 `__iter__()` 和 `__next__()` 方法的对象 | 使用 `yield` 语句，生成元素的可迭代对象 |\n",
    "| 实现方式  | 通过嵌套函数定义，使用 `@` 语法 | 通过实现迭代器协议的类或对象 | 使用 `yield` 关键字的函数或生成器表达式 |\n",
    "| 应用场景  | 用于修改或扩展现有函数行为，常用于日志、权限验证等 | 用于遍历大数据或不可变数据容器 | 用于惰性计算、大量数据的按需生成 |\n",
    "| 返回类型  | 返回一个包装了原函数的函数 | 返回迭代器对象本身 | 返回一个生成器对象或生成器表达式 |\n",
    "| 示例代码  | `@decorator def func(): ...` | `iter_obj = iter(list)`<br>`next(iter_obj)` | `def gen(): yield 1` |\n",
    "| 效率      | 通常是同步的，可以影响原函数执行性能 | 适合需要按需遍历的数据容器 | 节省内存，按需生成元素，适合处理大数据 |"
   ]
  },
  {
   "cell_type": "markdown",
   "metadata": {},
   "source": [
    "### 10.5.打包（Packaging）"
   ]
  },
  {
   "cell_type": "markdown",
   "metadata": {},
   "source": [
    "打包是指将多个相关的代码文件、资源和依赖文件封装到一起，生成可以分发和安装的软件包的过程。Python 中的打包主要是为了生成可以被其他开发者使用的库或工具。"
   ]
  },
  {
   "cell_type": "markdown",
   "metadata": {},
   "source": [
    "| 操作             | 语法/示例                                      | 说明                                       |\n",
    "|------------------|-----------------------------------------------|--------------------------------------------|\n",
    "| 创建 setup.py     | `python setup.py install`                      | 用于安装和分发 Python 包的核心文件。           |\n",
    "| 创建虚拟环境     | `python -m venv myenv`                        | 用于创建独立的开发环境。                     |\n",
    "| 使用 setuptools   | `from setuptools import setup`                  | setuptools 是打包和分发 Python 包的常用工具。 |\n",
    "| 发布包到 PyPI     | `python setup.py sdist bdist_wheel`          | 使用 twine 发布包到 PyPI。                  |"
   ]
  },
  {
   "cell_type": "markdown",
   "metadata": {},
   "source": [
    "#### 10.5.1.常见的打包工具："
   ]
  },
  {
   "cell_type": "markdown",
   "metadata": {},
   "source": [
    "● `setuptools`：一个 Python 包和模块的打包工具，它支持创建、分发和安装 Python 包。<br>\n",
    "● `distutils`：与 setuptools 类似，虽然现在被 setuptools 取代，但它仍然存在。<br>\n",
    "● `wheel`：一种用于打包 Python 包的格式，提供比源代码分发更快的安装过程。<br>"
   ]
  },
  {
   "cell_type": "markdown",
   "metadata": {},
   "source": [
    "创建 `setup.py `文件并上传包到 PyPI："
   ]
  },
  {
   "cell_type": "code",
   "execution_count": null,
   "metadata": {},
   "outputs": [],
   "source": [
    "from setuptools import setup, find_packages\n",
    "\n",
    "setup(\n",
    "    name=\"mypackage\",\n",
    "    version=\"0.1\",\n",
    "    packages=find_packages(),\n",
    "    install_requires=[\n",
    "        'numpy',  # 依赖的第三方库\n",
    "    ],\n",
    ")"
   ]
  },
  {
   "cell_type": "markdown",
   "metadata": {},
   "source": [
    "上传包到 PyPI："
   ]
  },
  {
   "cell_type": "code",
   "execution_count": null,
   "metadata": {},
   "outputs": [],
   "source": [
    "python setup.py sdist bdist_wheel  # 生成分发文件\n",
    "twine upload dist/*  # 使用 twine 上传包到 PyPI"
   ]
  }
 ],
 "metadata": {
  "kernelspec": {
   "display_name": "AI",
   "language": "python",
   "name": "python3"
  },
  "language_info": {
   "codemirror_mode": {
    "name": "ipython",
    "version": 3
   },
   "file_extension": ".py",
   "mimetype": "text/x-python",
   "name": "python",
   "nbconvert_exporter": "python",
   "pygments_lexer": "ipython3",
   "version": "3.13.2"
  }
 },
 "nbformat": 4,
 "nbformat_minor": 2
}
